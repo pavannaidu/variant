{
 "cells": [
  {
   "cell_type": "code",
   "execution_count": 1,
   "id": "abd72d09",
   "metadata": {},
   "outputs": [
    {
     "name": "stdout",
     "output_type": "stream",
     "text": [
      "Requirement already satisfied: faker==23.0.0 in /opt/homebrew/anaconda3/lib/python3.12/site-packages (23.0.0)\n",
      "Requirement already satisfied: python-dateutil>=2.4 in /opt/homebrew/anaconda3/lib/python3.12/site-packages (from faker==23.0.0) (2.9.0.post0)\n",
      "Requirement already satisfied: six>=1.5 in /opt/homebrew/anaconda3/lib/python3.12/site-packages (from python-dateutil>=2.4->faker==23.0.0) (1.16.0)\n"
     ]
    }
   ],
   "source": [
    "! pip install faker==23.0.0"
   ]
  },
  {
   "cell_type": "code",
   "execution_count": 2,
   "id": "7a4c6d5a",
   "metadata": {},
   "outputs": [
    {
     "name": "stdout",
     "output_type": "stream",
     "text": [
      "✅ Spark session initialized\n"
     ]
    },
    {
     "data": {
      "application/vnd.jupyter.widget-view+json": {
       "model_id": "6ff3f224db964e79a983d5a9508fed20",
       "version_major": 2,
       "version_minor": 0
      },
      "text/plain": [
       "HBox(children=(IntProgress(value=0, bar_style='success'), Label(value='')))"
      ]
     },
     "metadata": {},
     "output_type": "display_data"
    },
    {
     "name": "stdout",
     "output_type": "stream",
     "text": [
      "Current catalog: pavan_naidu\n"
     ]
    },
    {
     "data": {
      "application/vnd.jupyter.widget-view+json": {
       "model_id": "d2ed7e21933f42abb6dbafcc52b563c7",
       "version_major": 2,
       "version_minor": 0
      },
      "text/plain": [
       "HBox(children=(IntProgress(value=0, bar_style='success'), Label(value='')))"
      ]
     },
     "metadata": {},
     "output_type": "display_data"
    },
    {
     "name": "stdout",
     "output_type": "stream",
     "text": [
      "Current schema: json\n",
      "Configuration: CATALOG=pavan_naidu, SCHEMA=json, VOLUME=raw_data\n"
     ]
    }
   ],
   "source": [
    "# VARIANT Data Type Exploration in Databricks\n",
    "# This notebook demonstrates various features and capabilities of the VARIANT data type\n",
    "\n",
    "from pyspark.sql import SparkSession\n",
    "from pyspark.sql.functions import *\n",
    "from pyspark.sql.types import *\n",
    "import json\n",
    "import random\n",
    "from datetime import datetime, timedelta\n",
    "from faker import Faker\n",
    "import os\n",
    "\n",
    "# =============================================================================\n",
    "# CONFIGURATION PARAMETERS\n",
    "# =============================================================================\n",
    "# Update these parameters to customize the notebook for your environment\n",
    "CATALOG = \"pavan_naidu\"                    # Unity Catalog name\n",
    "SCHEMA = \"json\"                            # Schema name within the catalog\n",
    "VOLUME = \"raw_data\"                        # Volume name for storing data\n",
    "# =============================================================================\n",
    "\n",
    "def get_spark() -> SparkSession:\n",
    "    try:\n",
    "        from databricks.connect import DatabricksSession\n",
    "        return DatabricksSession.builder.getOrCreate()\n",
    "    except Exception:\n",
    "        return SparkSession.builder.getOrCreate()\n",
    "\n",
    "spark = get_spark()\n",
    "fake = Faker()\n",
    "\n",
    "\n",
    "\n",
    "# Set catalog and schema using parameters\n",
    "spark.sql(f\"USE CATALOG {CATALOG}\")\n",
    "spark.sql(f\"USE SCHEMA {SCHEMA}\")\n",
    "\n",
    "print(\"✅ Spark session initialized\")\n",
    "print(f\"Current catalog: {spark.sql('SELECT current_catalog()').collect()[0][0]}\")\n",
    "print(f\"Current schema: {spark.sql('SELECT current_schema()').collect()[0][0]}\")\n",
    "print(f\"Configuration: CATALOG={CATALOG}, SCHEMA={SCHEMA}, VOLUME={VOLUME}\")"
   ]
  },
  {
   "cell_type": "markdown",
   "id": "33486a7c",
   "metadata": {},
   "source": [
    "## 1. Setup: Create UC Volume and Generate Fake JSON Data\n",
    "\n",
    "First, let's create a folder in Unity Catalog volume and generate diverse JSON data to showcase VARIANT functionality.\n"
   ]
  },
  {
   "cell_type": "code",
   "execution_count": 3,
   "id": "636affdd",
   "metadata": {},
   "outputs": [
    {
     "name": "stdout",
     "output_type": "stream",
     "text": [
      "✅ Volume 'raw_data' is ready\n",
      "Volume path: /Volumes/pavan_naidu/json/raw_data\n"
     ]
    }
   ],
   "source": [
    "# Create or verify volume exists\n",
    "try:\n",
    "    spark.sql(f\"CREATE VOLUME IF NOT EXISTS {CATALOG}.{SCHEMA}.{VOLUME}\")\n",
    "    print(f\"✅ Volume '{VOLUME}' is ready\")\n",
    "except Exception as e:\n",
    "    print(f\"Volume might already exist or error: {e}\")\n",
    "\n",
    "# Get the volume path\n",
    "volume_path = f\"/Volumes/{CATALOG}/{SCHEMA}/{VOLUME}\"\n",
    "print(f\"Volume path: {volume_path}\")\n"
   ]
  },
  {
   "cell_type": "code",
   "execution_count": 4,
   "id": "f2ce3c0f",
   "metadata": {},
   "outputs": [
    {
     "name": "stdout",
     "output_type": "stream",
     "text": [
      "Generating fake user data...\n",
      "✅ Generated 1000 user records with evolving schemas\n",
      "\n",
      "Sample user records showing schema evolution:\n",
      "\n",
      "1. Basic user (early schema):\n",
      "{\n",
      "  \"user_id\": \"1740eff5-bd8f-42a1-9bdf-3621cdf13b15\",\n",
      "  \"username\": \"troymiller\",\n",
      "  \"email\": \"jeffrey60@example.com\",\n",
      "  \"name\": \"Michael Chen\",\n",
      "  \"age\": 78,\n",
      "  \"created_at\": \"2022-11-04 15:16:08.258875\",\n",
      "  \"last_login\": \"2025-09-18 01:36:04.311718\",\n",
      "  \"profile\": {\n",
      "    \"bio\": \"Answer process school. Just clear certainly station down. Protect bit maybe or.\\nKid drop letter beat. Human listen woman door whom beyond.\",\n",
      "    \"occupation\": \"Designer, jewellery\",\n",
      "    \"company\": \"Oneill Ltd\",\n",
      "    \"interests\": [\n",
      "      \"ok\",\n",
      "      \"front\",\n",
      "      \"magazine\"\n",
      "    ],\n",
      "    \"skills\": [\n",
      "      \"Furniture designer...\n",
      "\n",
      "2. User with social media (mid evolution):\n",
      "{\n",
      "  \"user_id\": \"d350e4d7-b2f2-43a6-bbf1-81b29d0b9b45\",\n",
      "  \"username\": \"hamiltonanna\",\n",
      "  \"email\": \"lori33@example.net\",\n",
      "  \"name\": \"Christopher Scott\",\n",
      "  \"age\": 66,\n",
      "  \"created_at\": \"2022-07-25 13:50:25.890086\",\n",
      "  \"last_login\": \"2025-09-04 07:10:55.073149\",\n",
      "  \"profile\": {\n",
      "    \"bio\": \"West executive southern rule because. Stand attorney energy big fine. Field forward mother candidate.\",\n",
      "    \"occupation\": \"Financial controller\",\n",
      "    \"company\": \"Hill, Phillips and Martinez\",\n",
      "    \"interests\": [\n",
      "      \"agreement\"\n",
      "    ],\n",
      "    \"skills\": [\n",
      "      \"Theatre director\"\n",
      "    ]\n",
      "  },\n",
      "  \"address\": {\n",
      "    \"street\": \"0...\n",
      "\n",
      "3. User with full schema (latest):\n",
      "{\n",
      "  \"user_id\": \"f5c1383a-2286-44e1-94be-fc112536bf98\",\n",
      "  \"username\": \"melanie90\",\n",
      "  \"email\": \"amandacontreras@example.org\",\n",
      "  \"name\": \"Angela Lee\",\n",
      "  \"age\": 39,\n",
      "  \"created_at\": \"2025-02-04 06:38:42.340783\",\n",
      "  \"last_login\": \"2025-09-28 04:39:29.324448\",\n",
      "  \"profile\": {\n",
      "    \"bio\": \"Part five behavior easy before whose its. Force human dog many baby. Course year movement federal democratic speech. Consider else protect summer.\",\n",
      "    \"occupation\": \"Scientist, biomedical\",\n",
      "    \"company\": \"Jones-Waller\",\n",
      "    \"interests\": [\n",
      "      \"inside\",\n",
      "      \"space\",\n",
      "      \"goal\",\n",
      "      \"environment\",\n",
      "      \"inter...\n"
     ]
    }
   ],
   "source": [
    "# Generate fake user data to demonstrate VARIANT capabilities\n",
    "\n",
    "def generate_user_data(num_records=1000):\n",
    "    \"\"\"Generate user data with varying structures to simulate schema evolution\"\"\"\n",
    "    users = []\n",
    "    \n",
    "    for i in range(num_records):\n",
    "        # Basic user structure (all users have these fields)\n",
    "        user = {\n",
    "            \"user_id\": str(fake.uuid4()),\n",
    "            \"username\": fake.user_name(),\n",
    "            \"email\": fake.email(),\n",
    "            \"name\": fake.name(),\n",
    "            \"age\": random.randint(18, 80),\n",
    "            \"created_at\": str(fake.date_time_between(start_date='-5y', end_date='now')),\n",
    "            \"last_login\": str(fake.date_time_between(start_date='-30d', end_date='now'))\n",
    "        }\n",
    "        \n",
    "        # Profile information (nested structure)\n",
    "        user[\"profile\"] = {\n",
    "            \"bio\": fake.text(max_nb_chars=200),\n",
    "            \"occupation\": fake.job(),\n",
    "            \"company\": fake.company(),\n",
    "            \"interests\": [fake.word() for _ in range(random.randint(1, 5))],\n",
    "            \"skills\": [fake.job() for _ in range(random.randint(0, 3))]\n",
    "        }\n",
    "        \n",
    "        # Address information (nested with multiple levels)\n",
    "        user[\"address\"] = {\n",
    "            \"street\": fake.street_address(),\n",
    "            \"city\": fake.city(),\n",
    "            \"state\": fake.state(),\n",
    "            \"country\": fake.country(),\n",
    "            \"postal_code\": fake.postcode(),\n",
    "            \"coordinates\": {\n",
    "                \"latitude\": float(fake.latitude()),\n",
    "                \"longitude\": float(fake.longitude())\n",
    "            }\n",
    "        }\n",
    "        \n",
    "        # Preferences (nested boolean flags)\n",
    "        user[\"preferences\"] = {\n",
    "            \"newsletter\": bool(random.choice([True, False])),\n",
    "            \"notifications\": {\n",
    "                \"email\": bool(random.choice([True, False])),\n",
    "                \"sms\": bool(random.choice([True, False])),\n",
    "                \"push\": bool(random.choice([True, False])),\n",
    "                \"frequency\": random.choice([\"daily\", \"weekly\", \"monthly\", \"never\"])\n",
    "            },\n",
    "            \"privacy\": {\n",
    "                \"profile_visible\": bool(random.choice([True, False])),\n",
    "                \"show_email\": bool(random.choice([True, False])),\n",
    "                \"show_location\": bool(random.choice([True, False]))\n",
    "            }\n",
    "        }\n",
    "        \n",
    "        # Simulate schema evolution - newer users have additional fields\n",
    "        if i > num_records * 0.3:  # 70% of users have these newer fields\n",
    "            user[\"social_media\"] = {\n",
    "                \"twitter\": f\"@{fake.user_name()}\" if random.random() > 0.3 else None,\n",
    "                \"linkedin\": fake.url() if random.random() > 0.5 else None,\n",
    "                \"github\": f\"github.com/{fake.user_name()}\" if random.random() > 0.7 else None\n",
    "            }\n",
    "            \n",
    "        if i > num_records * 0.6:  # 40% of users have these newest fields\n",
    "            user[\"subscription\"] = {\n",
    "                \"tier\": random.choice([\"free\", \"basic\", \"premium\", \"enterprise\"]),\n",
    "                \"start_date\": str(fake.date_between(start_date='-2y', end_date='today')),\n",
    "                \"auto_renew\": bool(random.choice([True, False]))\n",
    "            }\n",
    "            user[\"metrics\"] = {\n",
    "                \"login_count\": random.randint(1, 1000),\n",
    "                \"posts_created\": random.randint(0, 500),\n",
    "                \"comments_made\": random.randint(0, 2000),\n",
    "                \"last_activity\": str(fake.date_time_between(start_date='-7d', end_date='now'))\n",
    "            }\n",
    "        \n",
    "        # Some users have optional fields (simulate sparse data)\n",
    "        if random.random() > 0.7:\n",
    "            user[\"phone\"] = fake.phone_number()\n",
    "        \n",
    "        if random.random() > 0.8:\n",
    "            user[\"referral_code\"] = fake.bothify(text='REF-####-????')\n",
    "            user[\"referred_by\"] = str(fake.uuid4()) if random.random() > 0.5 else None\n",
    "        \n",
    "        users.append(user)\n",
    "    \n",
    "    return users\n",
    "\n",
    "# Generate sample user data\n",
    "print(\"Generating fake user data...\")\n",
    "user_data = generate_user_data(1000)\n",
    "print(f\"✅ Generated {len(user_data)} user records with evolving schemas\")\n",
    "\n",
    "# Show sample records demonstrating schema evolution\n",
    "print(\"\\nSample user records showing schema evolution:\")\n",
    "print(\"\\n1. Basic user (early schema):\")\n",
    "print(json.dumps(user_data[100], indent=2)[:600] + \"...\")\n",
    "print(\"\\n2. User with social media (mid evolution):\")\n",
    "print(json.dumps(user_data[500], indent=2)[:600] + \"...\")\n",
    "print(\"\\n3. User with full schema (latest):\")\n",
    "print(json.dumps(user_data[900], indent=2)[:600] + \"...\")\n"
   ]
  },
  {
   "cell_type": "code",
   "execution_count": 5,
   "id": "6431e72c",
   "metadata": {},
   "outputs": [
    {
     "name": "stdout",
     "output_type": "stream",
     "text": [
      "✅ Created folder: /Volumes/pavan_naidu/json/raw_data/users\n",
      "✅ Saved JSON data to: /Volumes/pavan_naidu/json/raw_data/users/user_data.json\n",
      "✅ Saved JSONL data to: /Volumes/pavan_naidu/json/raw_data/users/user_data.jsonl\n",
      "\n",
      "📂 Folder structure created:\n"
     ]
    },
    {
     "data": {
      "text/plain": [
       "[FileInfo(path='/Volumes/pavan_naidu/json/raw_data/users/user_data.json', name='user_data.json', size=1158297, modificationTime=1759332338000),\n",
       " FileInfo(path='/Volumes/pavan_naidu/json/raw_data/users/user_data.jsonl', name='user_data.jsonl', size=1157296, modificationTime=1759332338000)]"
      ]
     },
     "metadata": {},
     "output_type": "display_data"
    }
   ],
   "source": [
    "# Create a users folder in the volume\n",
    "users_folder = f\"{volume_path}/users\"\n",
    "try:\n",
    "    dbutils.fs.mkdirs(users_folder)\n",
    "    print(f\"✅ Created folder: {users_folder}\")\n",
    "except Exception as e:\n",
    "    print(f\"Folder might already exist: {e}\")\n",
    "\n",
    "# Save JSON data to users folder\n",
    "json_file_path = f\"{users_folder}/user_data.json\"\n",
    "\n",
    "# Write JSON data to file\n",
    "dbutils.fs.put(json_file_path, json.dumps(user_data), overwrite=True)\n",
    "print(f\"✅ Saved JSON data to: {json_file_path}\")\n",
    "\n",
    "# Also save as individual JSON lines for easier processing\n",
    "jsonl_file_path = f\"{users_folder}/user_data.jsonl\"\n",
    "jsonl_content = \"\\n\".join([json.dumps(user) for user in user_data])\n",
    "dbutils.fs.put(jsonl_file_path, jsonl_content, overwrite=True)\n",
    "print(f\"✅ Saved JSONL data to: {jsonl_file_path}\")\n",
    "\n",
    "# # Optionally, save data partitioned by subscription tier for those who have it\n",
    "# print(\"\\n📁 Creating partitioned data by subscription tier...\")\n",
    "# for user in user_data:\n",
    "#     if \"subscription\" in user:\n",
    "#         tier = user.get(\"subscription\", {}).get(\"tier\", \"unknown\")\n",
    "#         tier_folder = f\"{users_folder}/by_tier/{tier}\"\n",
    "        \n",
    "#         # Create tier folder if it doesn't exist\n",
    "#         try:\n",
    "#             dbutils.fs.mkdirs(tier_folder)\n",
    "#         except:\n",
    "#             pass  # Folder exists\n",
    "        \n",
    "#         # Save user to appropriate tier folder\n",
    "#         user_file = f\"{tier_folder}/{user['user_id']}.json\"\n",
    "#         dbutils.fs.put(user_file, json.dumps(user), overwrite=True)\n",
    "\n",
    "# print(\"✅ Created partitioned user data by subscription tier\")\n",
    "\n",
    "# List the created structure\n",
    "print(\"\\n📂 Folder structure created:\")\n",
    "display(dbutils.fs.ls(users_folder))\n"
   ]
  },
  {
   "cell_type": "markdown",
   "id": "386a4093",
   "metadata": {},
   "source": [
    "## 2. Creating Tables with VARIANT Data Type\n",
    "\n",
    "Let's create tables to store our JSON data using the VARIANT type.\n"
   ]
  },
  {
   "cell_type": "code",
   "execution_count": 6,
   "id": "af3baff3",
   "metadata": {},
   "outputs": [
    {
     "name": "stdout",
     "output_type": "stream",
     "text": [
      "✅ Created table: users_variant with column defaults enabled\n",
      "✅ Created table: users_extracted\n",
      "\n",
      "Table Schemas:\n",
      "+-------------------+---------+-------+\n",
      "|           col_name|data_type|comment|\n",
      "+-------------------+---------+-------+\n",
      "|            user_id|   string|   NULL|\n",
      "|           username|   string|   NULL|\n",
      "|              email|   string|   NULL|\n",
      "|          user_data|  variant|   NULL|\n",
      "|ingestion_timestamp|timestamp|   NULL|\n",
      "+-------------------+---------+-------+\n",
      "\n",
      "+-------------------+---------+-------+\n",
      "|           col_name|data_type|comment|\n",
      "+-------------------+---------+-------+\n",
      "|            user_id|   string|   NULL|\n",
      "|           username|   string|   NULL|\n",
      "|              email|   string|   NULL|\n",
      "|               name|   string|   NULL|\n",
      "|                age|      int|   NULL|\n",
      "|               city|   string|   NULL|\n",
      "|            country|   string|   NULL|\n",
      "|  subscription_tier|   string|   NULL|\n",
      "|          user_data|  variant|   NULL|\n",
      "|ingestion_timestamp|timestamp|   NULL|\n",
      "+-------------------+---------+-------+\n",
      "\n"
     ]
    }
   ],
   "source": [
    "# Drop tables if they exist\n",
    "spark.sql(\"DROP TABLE IF EXISTS users_variant\")\n",
    "spark.sql(\"DROP TABLE IF EXISTS users_extracted\")\n",
    "\n",
    "# Create a table with VARIANT column for user data\n",
    "# Enable Delta feature for column defaults\n",
    "spark.sql(f\"\"\"\n",
    "    CREATE TABLE IF NOT EXISTS users_variant (\n",
    "        user_id STRING,\n",
    "        username STRING,\n",
    "        email STRING,\n",
    "        user_data VARIANT,\n",
    "        ingestion_timestamp TIMESTAMP DEFAULT CURRENT_TIMESTAMP()\n",
    "    )\n",
    "    USING DELTA\n",
    "    TBLPROPERTIES('delta.feature.allowColumnDefaults' = 'supported')\n",
    "    COMMENT 'Table storing user data in VARIANT column'\n",
    "\"\"\")\n",
    "\n",
    "print(\"✅ Created table: users_variant with column defaults enabled\")\n",
    "\n",
    "# Create another table with extracted fields for performance comparison\n",
    "spark.sql(f\"\"\"\n",
    "    CREATE TABLE IF NOT EXISTS users_extracted (\n",
    "        user_id STRING,\n",
    "        username STRING,\n",
    "        email STRING,\n",
    "        name STRING,\n",
    "        age INT,\n",
    "        city STRING,\n",
    "        country STRING,\n",
    "        subscription_tier STRING,\n",
    "        user_data VARIANT,\n",
    "        ingestion_timestamp TIMESTAMP DEFAULT CURRENT_TIMESTAMP()\n",
    "    )\n",
    "    USING DELTA\n",
    "    TBLPROPERTIES('delta.feature.allowColumnDefaults' = 'supported')\n",
    "    COMMENT 'Table with commonly accessed fields extracted from VARIANT'\n",
    "\"\"\")\n",
    "\n",
    "print(\"✅ Created table: users_extracted\")\n",
    "\n",
    "# Show table schemas\n",
    "print(\"\\nTable Schemas:\")\n",
    "spark.sql(\"DESCRIBE TABLE users_variant\").show()\n",
    "spark.sql(\"DESCRIBE TABLE users_extracted\").show()\n"
   ]
  },
  {
   "cell_type": "markdown",
   "id": "46f420ad",
   "metadata": {},
   "source": [
    "## 3. Loading Data into VARIANT Columns\n",
    "\n",
    "Now let's load our JSON data into the tables using different methods.\n"
   ]
  },
  {
   "cell_type": "code",
   "execution_count": 7,
   "id": "ce9e0c04",
   "metadata": {},
   "outputs": [
    {
     "data": {
      "application/vnd.jupyter.widget-view+json": {
       "model_id": "3ac07c25c7dd40b08e650c5f955858ca",
       "version_major": 2,
       "version_minor": 0
      },
      "text/plain": [
       "HBox(children=(IntProgress(value=0, bar_style='success'), Label(value='')))"
      ]
     },
     "metadata": {},
     "output_type": "display_data"
    },
    {
     "data": {
      "application/vnd.jupyter.widget-view+json": {
       "model_id": "bc38a505bcda4522b5f3647adfd27060",
       "version_major": 2,
       "version_minor": 0
      },
      "text/plain": [
       "HBox(children=(IntProgress(value=0, bar_style='success'), Label(value='')))"
      ]
     },
     "metadata": {},
     "output_type": "display_data"
    },
    {
     "name": "stdout",
     "output_type": "stream",
     "text": [
      "✅ Loaded 1000 records into users_variant using PARSE_JSON\n",
      "\n",
      "Sample data from users_variant:\n"
     ]
    },
    {
     "data": {
      "application/vnd.jupyter.widget-view+json": {
       "model_id": "e46c0b52381c43cf8d7c65019eaca4e2",
       "version_major": 2,
       "version_minor": 0
      },
      "text/plain": [
       "HBox(children=(IntProgress(value=0, bar_style='success'), Label(value='')))"
      ]
     },
     "metadata": {},
     "output_type": "display_data"
    },
    {
     "name": "stdout",
     "output_type": "stream",
     "text": [
      "+------------------------------------+------------+------------------------+------------------------------------------------------------------------------------------------------------------------------------------------------------------------------------------------------------------------------------------------------------------------------------------------------------------------------------------------------------------------------------------------------------------------------------------------------------------------------------------------------------------------------------------------------------------------------------------------------------------------------------------------------------------------------------------------------------------------------------------------------------------------------------------------------------------------------------------------------------------------------------------------------------------------------------------------------------------------+--------------------------+\n",
      "|user_id                             |username    |email                   |user_data                                                                                                                                                                                                                                                                                                                                                                                                                                                                                                                                                                                                                                                                                                                                                                                                                                                                                                                                                               |ingestion_timestamp       |\n",
      "+------------------------------------+------------+------------------------+------------------------------------------------------------------------------------------------------------------------------------------------------------------------------------------------------------------------------------------------------------------------------------------------------------------------------------------------------------------------------------------------------------------------------------------------------------------------------------------------------------------------------------------------------------------------------------------------------------------------------------------------------------------------------------------------------------------------------------------------------------------------------------------------------------------------------------------------------------------------------------------------------------------------------------------------------------------------+--------------------------+\n",
      "|60cabef2-6c60-43d6-aa55-df67edcee606|hcameron    |taylorann@example.org   |{\"address\":{\"city\":\"Butlerton\",\"coordinates\":{\"latitude\":-85.423289,\"longitude\":-93.814226},\"country\":\"Qatar\",\"postal_code\":\"81776\",\"state\":\"South Carolina\",\"street\":\"4518 Gonzalez Branch Apt. 009\"},\"age\":79,\"created_at\":\"2023-04-26 15:38:00.625201\",\"email\":\"taylorann@example.org\",\"last_login\":\"2025-09-25 21:52:26.681432\",\"name\":\"Melanie Gutierrez\",\"preferences\":{\"newsletter\":false,\"notifications\":{\"email\":true,\"frequency\":\"weekly\",\"push\":false,\"sms\":false},\"privacy\":{\"profile_visible\":false,\"show_email\":true,\"show_location\":true}},\"profile\":{\"bio\":\"Their when hundred war program field. Fast suddenly human wife room role.\\nBar defense way fill. Fine partner good short source a.\",\"company\":\"Johnson-Sloan\",\"interests\":[\"strong\",\"happy\",\"kind\",\"wonder\"],\"occupation\":\"Accountant, chartered management\",\"skills\":[]},\"user_id\":\"60cabef2-6c60-43d6-aa55-df67edcee606\",\"username\":\"hcameron\"}                                           |2025-10-01 15:25:44.901034|\n",
      "|7e8614cf-da0b-4580-89e3-dbb8880eb67c|renee03     |stephenrice@example.net |{\"address\":{\"city\":\"Port Diana\",\"coordinates\":{\"latitude\":-63.976141,\"longitude\":150.68181},\"country\":\"Greenland\",\"postal_code\":\"46826\",\"state\":\"Iowa\",\"street\":\"0363 Kevin Groves\"},\"age\":33,\"created_at\":\"2020-11-26 23:12:09.865649\",\"email\":\"stephenrice@example.net\",\"last_login\":\"2025-09-27 22:31:01.536357\",\"name\":\"Kelsey Welch\",\"preferences\":{\"newsletter\":true,\"notifications\":{\"email\":true,\"frequency\":\"weekly\",\"push\":true,\"sms\":false},\"privacy\":{\"profile_visible\":false,\"show_email\":true,\"show_location\":true}},\"profile\":{\"bio\":\"Stuff final safe fall attention. Agree seem mean amount generation interview stand. Guy defense population benefit market suddenly.\",\"company\":\"Hamilton, Hart and Johnson\",\"interests\":[\"notice\",\"lead\"],\"occupation\":\"Government social research officer\",\"skills\":[\"Engineer, site\",\"Architectural technologist\",\"Field trials officer\"]},\"user_id\":\"7e8614cf-da0b-4580-89e3-dbb8880eb67c\",\"username\":\"renee03\"}|2025-10-01 15:25:44.901034|\n",
      "|bc0268cb-3954-4f4b-99ab-03dff42621f3|liuamanda   |jamescarter@example.org |{\"address\":{\"city\":\"Port Haroldton\",\"coordinates\":{\"latitude\":-78.3614695,\"longitude\":145.178872},\"country\":\"Guadeloupe\",\"postal_code\":\"74511\",\"state\":\"Florida\",\"street\":\"01219 William Dale Suite 210\"},\"age\":38,\"created_at\":\"2024-06-26 07:18:44.448076\",\"email\":\"jamescarter@example.org\",\"last_login\":\"2025-09-27 19:08:38.427962\",\"name\":\"William Butler\",\"preferences\":{\"newsletter\":true,\"notifications\":{\"email\":true,\"frequency\":\"monthly\",\"push\":true,\"sms\":true},\"privacy\":{\"profile_visible\":true,\"show_email\":true,\"show_location\":false}},\"profile\":{\"bio\":\"Current bad reality Mr thus expect second. Agree debate human require voice specific lawyer. Hospital weight without drive.\",\"company\":\"Werner-Fuentes\",\"interests\":[\"strong\",\"culture\",\"book\",\"or\"],\"occupation\":\"Travel agency manager\",\"skills\":[]},\"user_id\":\"bc0268cb-3954-4f4b-99ab-03dff42621f3\",\"username\":\"liuamanda\"}                                                             |2025-10-01 15:25:44.901034|\n",
      "|5fd673b7-34cd-413f-8495-d3263e375133|michaelboyer|garciaterri@example.org |{\"address\":{\"city\":\"South Stephenville\",\"coordinates\":{\"latitude\":-82.229994,\"longitude\":84.126494},\"country\":\"Benin\",\"postal_code\":\"79255\",\"state\":\"Iowa\",\"street\":\"13884 Tracey Hill Suite 429\"},\"age\":23,\"created_at\":\"2025-08-05 18:41:44.167006\",\"email\":\"garciaterri@example.org\",\"last_login\":\"2025-09-21 15:57:54.109296\",\"name\":\"Kayla Hall\",\"phone\":\"819-579-1555x104\",\"preferences\":{\"newsletter\":true,\"notifications\":{\"email\":false,\"frequency\":\"never\",\"push\":false,\"sms\":false},\"privacy\":{\"profile_visible\":false,\"show_email\":true,\"show_location\":false}},\"profile\":{\"bio\":\"Describe now while say. Interview ready save cell character leave company. If front authority process mean ahead.\",\"company\":\"Aguirre-Johnson\",\"interests\":[\"year\",\"range\",\"sometimes\"],\"occupation\":\"Barrister\",\"skills\":[\"Patent examiner\"]},\"user_id\":\"5fd673b7-34cd-413f-8495-d3263e375133\",\"username\":\"michaelboyer\"}                                                |2025-10-01 15:25:44.901034|\n",
      "|3d2a259a-c14a-4ef6-a7e5-02bd95f532a8|johnbennett |wesleybarber@example.net|{\"address\":{\"city\":\"North Mackenzieview\",\"coordinates\":{\"latitude\":69.5552015,\"longitude\":125.717558},\"country\":\"Argentina\",\"postal_code\":\"85615\",\"state\":\"Louisiana\",\"street\":\"24229 King Highway\"},\"age\":62,\"created_at\":\"2024-12-12 19:18:35.318654\",\"email\":\"wesleybarber@example.net\",\"last_login\":\"2025-09-11 20:07:43.820864\",\"name\":\"Megan Moon\",\"preferences\":{\"newsletter\":true,\"notifications\":{\"email\":false,\"frequency\":\"weekly\",\"push\":false,\"sms\":true},\"privacy\":{\"profile_visible\":true,\"show_email\":false,\"show_location\":false}},\"profile\":{\"bio\":\"Sort stand suddenly.\\nSend table prepare garden think Democrat change. Bar cup successful anyone network you.\\nWatch always interview appear. Fund fill expect look peace house.\",\"company\":\"Smith-Kaiser\",\"interests\":[\"finish\"],\"occupation\":\"Make\",\"skills\":[\"Haematologist\",\"Film/video editor\"]},\"user_id\":\"3d2a259a-c14a-4ef6-a7e5-02bd95f532a8\",\"username\":\"johnbennett\"}                  |2025-10-01 15:25:44.901034|\n",
      "+------------------------------------+------------+------------------------+------------------------------------------------------------------------------------------------------------------------------------------------------------------------------------------------------------------------------------------------------------------------------------------------------------------------------------------------------------------------------------------------------------------------------------------------------------------------------------------------------------------------------------------------------------------------------------------------------------------------------------------------------------------------------------------------------------------------------------------------------------------------------------------------------------------------------------------------------------------------------------------------------------------------------------------------------------------------+--------------------------+\n",
      "\n"
     ]
    }
   ],
   "source": [
    "# Method 1: Load from JSON file using PARSE_JSON\n",
    "spark.sql(f\"\"\"\n",
    "    INSERT INTO users_variant (user_id, username, email, user_data)\n",
    "    SELECT \n",
    "        PARSE_JSON(value):user_id::String as user_id,\n",
    "        PARSE_JSON(value):username as username,\n",
    "        PARSE_JSON(value):email as email,\n",
    "        PARSE_JSON(value) as user_data\n",
    "    FROM (\n",
    "        SELECT value \n",
    "        FROM text.`{jsonl_file_path}`\n",
    "    )\n",
    "\"\"\")\n",
    "\n",
    "count = spark.sql(\"SELECT COUNT(*) FROM users_variant\").collect()[0][0]\n",
    "print(f\"✅ Loaded {count} records into users_variant using PARSE_JSON\")\n",
    "\n",
    "# Show sample data\n",
    "print(\"\\nSample data from users_variant:\")\n",
    "spark.sql(\"SELECT * FROM users_variant LIMIT 5\").show(truncate=False)\n"
   ]
  },
  {
   "cell_type": "code",
   "execution_count": 8,
   "id": "9f4dac47",
   "metadata": {},
   "outputs": [
    {
     "data": {
      "application/vnd.jupyter.widget-view+json": {
       "model_id": "d4947af1854f4b9ab8cff20a592269a9",
       "version_major": 2,
       "version_minor": 0
      },
      "text/plain": [
       "HBox(children=(IntProgress(value=0, bar_style='success'), Label(value='')))"
      ]
     },
     "metadata": {},
     "output_type": "display_data"
    },
    {
     "data": {
      "application/vnd.jupyter.widget-view+json": {
       "model_id": "1569f192ebda47d9ae75dfbdecbea6bb",
       "version_major": 2,
       "version_minor": 0
      },
      "text/plain": [
       "HBox(children=(IntProgress(value=0, bar_style='success'), Label(value='')))"
      ]
     },
     "metadata": {},
     "output_type": "display_data"
    },
    {
     "name": "stdout",
     "output_type": "stream",
     "text": [
      "✅ Loaded 1000 records into users_extracted with extracted fields\n",
      "\n",
      "Sample data from users_extracted (with extracted fields):\n"
     ]
    },
    {
     "data": {
      "application/vnd.jupyter.widget-view+json": {
       "model_id": "0a0db0347e8149c0b50f1f80f3ee2f02",
       "version_major": 2,
       "version_minor": 0
      },
      "text/plain": [
       "HBox(children=(IntProgress(value=0, bar_style='success'), Label(value='')))"
      ]
     },
     "metadata": {},
     "output_type": "display_data"
    },
    {
     "name": "stdout",
     "output_type": "stream",
     "text": [
      "+------------------------------------+-----------------+---+-------------------+-----------------+\n",
      "|user_id                             |name             |age|city               |subscription_tier|\n",
      "+------------------------------------+-----------------+---+-------------------+-----------------+\n",
      "|60cabef2-6c60-43d6-aa55-df67edcee606|Melanie Gutierrez|79 |Butlerton          |NULL             |\n",
      "|7e8614cf-da0b-4580-89e3-dbb8880eb67c|Kelsey Welch     |33 |Port Diana         |NULL             |\n",
      "|bc0268cb-3954-4f4b-99ab-03dff42621f3|William Butler   |38 |Port Haroldton     |NULL             |\n",
      "|5fd673b7-34cd-413f-8495-d3263e375133|Kayla Hall       |23 |South Stephenville |NULL             |\n",
      "|3d2a259a-c14a-4ef6-a7e5-02bd95f532a8|Megan Moon       |62 |North Mackenzieview|NULL             |\n",
      "+------------------------------------+-----------------+---+-------------------+-----------------+\n",
      "\n"
     ]
    }
   ],
   "source": [
    "# Method 2: Load data with extracted fields for optimized queries\n",
    "spark.sql(f\"\"\"\n",
    "    INSERT INTO users_extracted \n",
    "    SELECT \n",
    "        PARSE_JSON(value):user_id as user_id,\n",
    "        PARSE_JSON(value):username as username,\n",
    "        PARSE_JSON(value):email as email,\n",
    "        PARSE_JSON(value):name as name,\n",
    "        CAST(PARSE_JSON(value):age AS INT) as age,\n",
    "        PARSE_JSON(value):address.city as city,\n",
    "        PARSE_JSON(value):address.country as country,\n",
    "        PARSE_JSON(value):subscription.tier as subscription_tier,\n",
    "        PARSE_JSON(value) as user_data,\n",
    "        CURRENT_TIMESTAMP() as ingestion_timestamp\n",
    "    FROM (\n",
    "        SELECT value \n",
    "        FROM text.`{jsonl_file_path}`\n",
    "    )\n",
    "\"\"\")\n",
    "\n",
    "count = spark.sql(\"SELECT COUNT(*) FROM users_extracted\").collect()[0][0]\n",
    "print(f\"✅ Loaded {count} records into users_extracted with extracted fields\")\n",
    "\n",
    "# Show sample\n",
    "print(\"\\nSample data from users_extracted (with extracted fields):\")\n",
    "spark.sql(\"SELECT user_id, name, age, city, subscription_tier FROM users_extracted LIMIT 5\").show(truncate=False)\n"
   ]
  },
  {
   "cell_type": "markdown",
   "id": "0d16a82d",
   "metadata": {},
   "source": [
    "## VARIANT Query Notation Reference\n",
    "\n",
    "Before diving into examples, here's the correct notation for querying VARIANT data:\n",
    "\n",
    "### Basic Notation Rules:\n",
    "\n",
    "1. **Field Access**: Use `:` to access top-level fields\n",
    "   ```sql\n",
    "   column_name:field_name\n",
    "   ```\n",
    "\n",
    "2. **Subfield Access**: Use `.` to access nested fields\n",
    "   ```sql\n",
    "   column_name:field_name.subfield_name\n",
    "   ```\n",
    "\n",
    "3. **Array Element Access**: Use `[n]` to access array elements by index\n",
    "   ```sql\n",
    "   column_name:array_name[0]  -- First element (0-indexed)\n",
    "   column_name:array_name[1]  -- Second element\n",
    "   ```\n",
    "\n",
    "### Examples:\n",
    "\n",
    "```sql\n",
    "-- Correct VARIANT notation examples\n",
    "SELECT \n",
    "  user_data:name as name,                           -- Field access\n",
    "  user_data:age as age,                             -- Field access\n",
    "  user_data:profile.bio as bio,                     -- Subfield access\n",
    "  user_data:address.city as city,                   -- Nested subfield\n",
    "  user_data:address.coordinates.latitude as lat,    -- Deeply nested subfield\n",
    "  user_data:interests[0] as first_interest,         -- Array element access\n",
    "  user_data:profile.skills[1] as second_skill       -- Array element in nested object\n",
    "FROM users_variant;\n",
    "```\n"
   ]
  },
  {
   "cell_type": "markdown",
   "id": "c44139d9",
   "metadata": {},
   "source": [
    "## 4. Querying VARIANT Data - Basic Access Patterns\n",
    "\n",
    "Let's explore different ways to access and query data stored in VARIANT columns.\n"
   ]
  },
  {
   "cell_type": "code",
   "execution_count": 9,
   "id": "7240c5db",
   "metadata": {},
   "outputs": [
    {
     "name": "stdout",
     "output_type": "stream",
     "text": [
      "=== Accessing Nested Fields ===\n",
      "\n",
      "VARIANT Query Notation:\n",
      "- Field access: column_name:field_name\n",
      "- Subfield access: column_name:field_name.subfield_name\n",
      "- Array access: column_name:array_name[n]\n",
      "\n"
     ]
    },
    {
     "data": {
      "application/vnd.jupyter.widget-view+json": {
       "model_id": "a38ce3ebcdee42189249234422740e0d",
       "version_major": 2,
       "version_minor": 0
      },
      "text/plain": [
       "HBox(children=(IntProgress(value=0, bar_style='success'), Label(value='')))"
      ]
     },
     "metadata": {},
     "output_type": "display_data"
    },
    {
     "name": "stdout",
     "output_type": "stream",
     "text": [
      "+------------------------------------+-------------------+---+----------------------------------------------------------------------------------------------------------------------------------------------------------------------------------+------------------------------------+---------------------+-----------+----------+\n",
      "|user_id                             |name               |age|bio                                                                                                                                                                               |occupation                          |city                 |latitude   |longitude |\n",
      "+------------------------------------+-------------------+---+----------------------------------------------------------------------------------------------------------------------------------------------------------------------------------+------------------------------------+---------------------+-----------+----------+\n",
      "|60cabef2-6c60-43d6-aa55-df67edcee606|\"Melanie Gutierrez\"|79 |\"Their when hundred war program field. Fast suddenly human wife room role.\\nBar defense way fill. Fine partner good short source a.\"                                              |\"Accountant, chartered management\"  |\"Butlerton\"          |-85.423289 |-93.814226|\n",
      "|7e8614cf-da0b-4580-89e3-dbb8880eb67c|\"Kelsey Welch\"     |33 |\"Stuff final safe fall attention. Agree seem mean amount generation interview stand. Guy defense population benefit market suddenly.\"                                             |\"Government social research officer\"|\"Port Diana\"         |-63.976141 |150.68181 |\n",
      "|bc0268cb-3954-4f4b-99ab-03dff42621f3|\"William Butler\"   |38 |\"Current bad reality Mr thus expect second. Agree debate human require voice specific lawyer. Hospital weight without drive.\"                                                     |\"Travel agency manager\"             |\"Port Haroldton\"     |-78.3614695|145.178872|\n",
      "|5fd673b7-34cd-413f-8495-d3263e375133|\"Kayla Hall\"       |23 |\"Describe now while say. Interview ready save cell character leave company. If front authority process mean ahead.\"                                                               |\"Barrister\"                         |\"South Stephenville\" |-82.229994 |84.126494 |\n",
      "|3d2a259a-c14a-4ef6-a7e5-02bd95f532a8|\"Megan Moon\"       |62 |\"Sort stand suddenly.\\nSend table prepare garden think Democrat change. Bar cup successful anyone network you.\\nWatch always interview appear. Fund fill expect look peace house.\"|\"Make\"                              |\"North Mackenzieview\"|69.5552015 |125.717558|\n",
      "+------------------------------------+-------------------+---+----------------------------------------------------------------------------------------------------------------------------------------------------------------------------------+------------------------------------+---------------------+-----------+----------+\n",
      "\n"
     ]
    }
   ],
   "source": [
    "# Accessing nested fields using correct VARIANT notation\n",
    "print(\"=== Accessing Nested Fields ===\\n\")\n",
    "print(\"VARIANT Query Notation:\")\n",
    "print(\"- Field access: column_name:field_name\")\n",
    "print(\"- Subfield access: column_name:field_name.subfield_name\") \n",
    "print(\"- Array access: column_name:array_name[n]\")\n",
    "print()\n",
    "\n",
    "spark.sql(\"\"\"\n",
    "    SELECT \n",
    "        user_id,\n",
    "        user_data:name as name,\n",
    "        user_data:age as age,\n",
    "        user_data:profile.bio as bio,\n",
    "        user_data:profile.occupation as occupation,\n",
    "        user_data:address.city as city,\n",
    "        user_data:address.coordinates.latitude as latitude,\n",
    "        user_data:address.coordinates.longitude as longitude\n",
    "    FROM users_variant\n",
    "    LIMIT 5\n",
    "\"\"\").show(truncate=False)\n"
   ]
  },
  {
   "cell_type": "code",
   "execution_count": 10,
   "id": "b4e636f8",
   "metadata": {},
   "outputs": [
    {
     "name": "stdout",
     "output_type": "stream",
     "text": [
      "\n",
      "=== is_variant_null Function Examples ===\n",
      "\n",
      "Basic example - difference between is_variant_null() and IS NULL:\n"
     ]
    },
    {
     "data": {
      "application/vnd.jupyter.widget-view+json": {
       "model_id": "275b11a8d38549a6a3e1cd3d8bc32351",
       "version_major": 2,
       "version_minor": 0
      },
      "text/plain": [
       "HBox(children=(IntProgress(value=0, bar_style='success'), Label(value='')))"
      ]
     },
     "metadata": {},
     "output_type": "display_data"
    },
    {
     "name": "stdout",
     "output_type": "stream",
     "text": [
      "+--------------------+-------------------+-----------+\n",
      "|                data|age_is_variant_null|age_is_null|\n",
      "+--------------------+-------------------+-----------+\n",
      "|{\"age\":null,\"name...|               true|      false|\n",
      "+--------------------+-------------------+-----------+\n",
      "\n",
      "\n",
      "Filtering records where city is variant null:\n",
      "+------+----+\n",
      "|  name|city|\n",
      "+------+----+\n",
      "|\"John\"|null|\n",
      "| \"Bob\"|null|\n",
      "+------+----+\n",
      "\n",
      "\n",
      "✅ Simple examples of is_variant_null function!\n",
      "📚 Reference: https://docs.databricks.com/gcp/en/sql/language-manual/functions/is_variant_null\n"
     ]
    }
   ],
   "source": [
    "# Handling NULL values in VARIANT with is_variant_null function\n",
    "print(\"\\n=== is_variant_null Function Examples ===\\n\")\n",
    "\n",
    "# Simple example: is_variant_null vs IS NULL\n",
    "print(\"Basic example - difference between is_variant_null() and IS NULL:\")\n",
    "spark.sql(\"\"\"\n",
    "    SELECT \n",
    "        parse_json('{\"name\": \"John\", \"age\": null}') as data,\n",
    "        is_variant_null(parse_json('{\"name\": \"John\", \"age\": null}'):age) as age_is_variant_null,\n",
    "        parse_json('{\"name\": \"John\", \"age\": null}'):age IS NULL as age_is_null\n",
    "\"\"\").show()\n",
    "\n",
    "# Filtering with is_variant_null\n",
    "print(\"\\nFiltering records where city is variant null:\")\n",
    "spark.sql(\"\"\"\n",
    "    SELECT \n",
    "        data:name as name,\n",
    "        data:city as city\n",
    "    FROM VALUES\n",
    "        (parse_json('{\"name\": \"John\", \"city\": null}')),\n",
    "        (parse_json('{\"name\": \"Jane\", \"city\": \"NYC\"}')),\n",
    "        (parse_json('{\"name\": \"Bob\", \"city\": null}'))\n",
    "    AS T(data)\n",
    "    WHERE is_variant_null(data:city) = true\n",
    "\"\"\").show()\n",
    "\n",
    "print(\"\\n✅ Simple examples of is_variant_null function!\")\n",
    "print(\"📚 Reference: https://docs.databricks.com/gcp/en/sql/language-manual/functions/is_variant_null\")\n"
   ]
  },
  {
   "cell_type": "code",
   "execution_count": 11,
   "id": "c9d704fd",
   "metadata": {},
   "outputs": [
    {
     "name": "stdout",
     "output_type": "stream",
     "text": [
      "=== Accessing Array Elements in VARIANT ===\n",
      "\n"
     ]
    },
    {
     "data": {
      "application/vnd.jupyter.widget-view+json": {
       "model_id": "220593d486c74cc7a778eec2dd5559b5",
       "version_major": 2,
       "version_minor": 0
      },
      "text/plain": [
       "HBox(children=(IntProgress(value=0, bar_style='success'), Label(value='')))"
      ]
     },
     "metadata": {},
     "output_type": "display_data"
    },
    {
     "name": "stdout",
     "output_type": "stream",
     "text": [
      "+------------------------------------+------------+--------------+---------------+---------------+----------------------------------------------------------------------+\n",
      "|user_id                             |username    |first_interest|second_interest|total_interests|all_skills                                                            |\n",
      "+------------------------------------+------------+--------------+---------------+---------------+----------------------------------------------------------------------+\n",
      "|60cabef2-6c60-43d6-aa55-df67edcee606|hcameron    |\"strong\"      |\"happy\"        |4              |[]                                                                    |\n",
      "|7e8614cf-da0b-4580-89e3-dbb8880eb67c|renee03     |\"notice\"      |\"lead\"         |2              |[\"Engineer, site\",\"Architectural technologist\",\"Field trials officer\"]|\n",
      "|bc0268cb-3954-4f4b-99ab-03dff42621f3|liuamanda   |\"strong\"      |\"culture\"      |4              |[]                                                                    |\n",
      "|5fd673b7-34cd-413f-8495-d3263e375133|michaelboyer|\"year\"        |\"range\"        |3              |[\"Patent examiner\"]                                                   |\n",
      "|3d2a259a-c14a-4ef6-a7e5-02bd95f532a8|johnbennett |\"finish\"      |NULL           |1              |[\"Haematologist\",\"Film/video editor\"]                                 |\n",
      "+------------------------------------+------------+--------------+---------------+---------------+----------------------------------------------------------------------+\n",
      "\n",
      "\n",
      "=== Exploding Arrays from VARIANT ===\n",
      "\n"
     ]
    },
    {
     "data": {
      "application/vnd.jupyter.widget-view+json": {
       "model_id": "e24b3e66fb3148c7873e851f89121f89",
       "version_major": 2,
       "version_minor": 0
      },
      "text/plain": [
       "HBox(children=(IntProgress(value=0, bar_style='success'), Label(value='')))"
      ]
     },
     "metadata": {},
     "output_type": "display_data"
    },
    {
     "name": "stdout",
     "output_type": "stream",
     "text": [
      "+------------------------------------+---------+---------+\n",
      "|user_id                             |username |interest |\n",
      "+------------------------------------+---------+---------+\n",
      "|60cabef2-6c60-43d6-aa55-df67edcee606|hcameron |\"strong\" |\n",
      "|60cabef2-6c60-43d6-aa55-df67edcee606|hcameron |\"happy\"  |\n",
      "|60cabef2-6c60-43d6-aa55-df67edcee606|hcameron |\"kind\"   |\n",
      "|60cabef2-6c60-43d6-aa55-df67edcee606|hcameron |\"wonder\" |\n",
      "|7e8614cf-da0b-4580-89e3-dbb8880eb67c|renee03  |\"notice\" |\n",
      "|7e8614cf-da0b-4580-89e3-dbb8880eb67c|renee03  |\"lead\"   |\n",
      "|bc0268cb-3954-4f4b-99ab-03dff42621f3|liuamanda|\"strong\" |\n",
      "|bc0268cb-3954-4f4b-99ab-03dff42621f3|liuamanda|\"culture\"|\n",
      "|bc0268cb-3954-4f4b-99ab-03dff42621f3|liuamanda|\"book\"   |\n",
      "|bc0268cb-3954-4f4b-99ab-03dff42621f3|liuamanda|\"or\"     |\n",
      "+------------------------------------+---------+---------+\n",
      "\n"
     ]
    }
   ],
   "source": [
    "# Accessing array elements within VARIANT\n",
    "print(\"=== Accessing Array Elements in VARIANT ===\\n\")\n",
    "\n",
    "spark.sql(\"\"\"\n",
    "    SELECT \n",
    "        user_id,\n",
    "        username,\n",
    "        user_data:profile.interests[0] as first_interest,\n",
    "        user_data:profile.interests[1] as second_interest,\n",
    "        SIZE(CAST(user_data:profile.interests AS ARRAY<STRING>)) as total_interests,\n",
    "        user_data:profile.skills as all_skills\n",
    "    FROM users_variant\n",
    "    WHERE NOT IS_VARIANT_NULL(user_data:profile.interests)\n",
    "    LIMIT 5\n",
    "\"\"\").show(truncate=False)\n",
    "\n",
    "# Using VARIANT_EXPLODE with arrays in VARIANT\n",
    "print(\"\\n=== Exploding Arrays from VARIANT ===\\n\")\n",
    "\n",
    "spark.sql(\"\"\"\n",
    "    SELECT \n",
    "        user_id,\n",
    "        username,\n",
    "        value as interest\n",
    "    FROM users_variant,\n",
    "    LATERAL VARIANT_EXPLODE(user_data:profile.interests)\n",
    "    LIMIT 10\n",
    "\"\"\").show(truncate=False)\n"
   ]
  },
  {
   "cell_type": "markdown",
   "id": "0c78006e",
   "metadata": {},
   "source": [
    "## 5. Type Casting and Conversion with VARIANT\n",
    "\n",
    "VARIANT columns can be cast to specific types when needed.\n"
   ]
  },
  {
   "cell_type": "code",
   "execution_count": 12,
   "id": "330c3e37",
   "metadata": {},
   "outputs": [
    {
     "name": "stdout",
     "output_type": "stream",
     "text": [
      "=== Type Casting VARIANT Fields ===\n",
      "\n"
     ]
    },
    {
     "data": {
      "application/vnd.jupyter.widget-view+json": {
       "model_id": "24ef450ed04842e19e9e9a6cf1f0e6d7",
       "version_major": 2,
       "version_minor": 0
      },
      "text/plain": [
       "HBox(children=(IntProgress(value=0, bar_style='success'), Label(value='')))"
      ]
     },
     "metadata": {},
     "output_type": "display_data"
    },
    {
     "name": "stdout",
     "output_type": "stream",
     "text": [
      "+--------------------+-----------+-------+--------------------+---------------+---------------+\n",
      "|             user_id|age_variant|age_int|   created_timestamp|newsletter_bool|login_count_int|\n",
      "+--------------------+-----------+-------+--------------------+---------------+---------------+\n",
      "|60cabef2-6c60-43d...|         79|     79|2023-04-26 15:38:...|          false|           NULL|\n",
      "|7e8614cf-da0b-458...|         33|     33|2020-11-26 23:12:...|           true|           NULL|\n",
      "|bc0268cb-3954-4f4...|         38|     38|2024-06-26 07:18:...|           true|           NULL|\n",
      "|5fd673b7-34cd-413...|         23|     23|2025-08-05 18:41:...|           true|           NULL|\n",
      "|3d2a259a-c14a-4ef...|         62|     62|2024-12-12 19:18:...|           true|           NULL|\n",
      "+--------------------+-----------+-------+--------------------+---------------+---------------+\n",
      "\n",
      "\n",
      "=== Safe Casting with TRY_CAST ===\n",
      "\n"
     ]
    },
    {
     "data": {
      "application/vnd.jupyter.widget-view+json": {
       "model_id": "2b60e37cde9f4ac985ed1bb37eb8b393",
       "version_major": 2,
       "version_minor": 0
      },
      "text/plain": [
       "HBox(children=(IntProgress(value=0, bar_style='success'), Label(value='')))"
      ]
     },
     "metadata": {},
     "output_type": "display_data"
    },
    {
     "name": "stdout",
     "output_type": "stream",
     "text": [
      "+--------------------+---+-----------------+-----------+----------------+--------------------+\n",
      "|             user_id|age|subscription_date|posts_count|    phone_number|     last_login_time|\n",
      "+--------------------+---+-----------------+-----------+----------------+--------------------+\n",
      "|60cabef2-6c60-43d...| 79|             NULL|       NULL|            NULL|2025-09-25 21:52:...|\n",
      "|7e8614cf-da0b-458...| 33|             NULL|       NULL|            NULL|2025-09-27 22:31:...|\n",
      "|bc0268cb-3954-4f4...| 38|             NULL|       NULL|            NULL|2025-09-27 19:08:...|\n",
      "|5fd673b7-34cd-413...| 23|             NULL|       NULL|819-579-1555x104|2025-09-21 15:57:...|\n",
      "|3d2a259a-c14a-4ef...| 62|             NULL|       NULL|            NULL|2025-09-11 20:07:...|\n",
      "+--------------------+---+-----------------+-----------+----------------+--------------------+\n",
      "\n"
     ]
    }
   ],
   "source": [
    "# Type casting VARIANT fields\n",
    "print(\"=== Type Casting VARIANT Fields ===\\n\")\n",
    "\n",
    "spark.sql(\"\"\"\n",
    "    SELECT \n",
    "        user_id,\n",
    "        user_data:age as age_variant,\n",
    "        CAST(user_data:age AS INT) as age_int,\n",
    "        CAST(user_data:created_at AS TIMESTAMP) as created_timestamp,\n",
    "        CAST(user_data:preferences.newsletter AS BOOLEAN) as newsletter_bool,\n",
    "        CAST(user_data:metrics.login_count AS INT) as login_count_int\n",
    "    FROM users_variant\n",
    "    LIMIT 5\n",
    "\"\"\").show()\n",
    "\n",
    "# Using TRY_CAST for safe casting (handles nulls gracefully)\n",
    "print(\"\\n=== Safe Casting with TRY_CAST ===\\n\")\n",
    "\n",
    "spark.sql(\"\"\"\n",
    "    SELECT \n",
    "        user_id,\n",
    "        TRY_CAST(user_data:age AS INT) as age,\n",
    "        TRY_CAST(user_data:subscription.start_date AS DATE) as subscription_date,\n",
    "        TRY_CAST(user_data:metrics.posts_created AS INT) as posts_count,\n",
    "        TRY_CAST(user_data:phone AS STRING) as phone_number,\n",
    "        TRY_CAST(user_data:last_login AS TIMESTAMP) as last_login_time\n",
    "    FROM users_variant\n",
    "    LIMIT 5\n",
    "\"\"\").show()\n"
   ]
  },
  {
   "cell_type": "markdown",
   "id": "7b48d029",
   "metadata": {},
   "source": [
    "## 6. VARIANT Functions and Operations\n",
    "\n",
    "Databricks provides several functions specifically for working with VARIANT data.\n"
   ]
  },
  {
   "cell_type": "code",
   "execution_count": 13,
   "id": "097d7806",
   "metadata": {},
   "outputs": [
    {
     "name": "stdout",
     "output_type": "stream",
     "text": [
      "=== Using VARIANT_GET Function ===\n",
      "\n"
     ]
    },
    {
     "data": {
      "application/vnd.jupyter.widget-view+json": {
       "model_id": "fd60954b2eaf4d37a4b95d44d877f527",
       "version_major": 2,
       "version_minor": 0
      },
      "text/plain": [
       "HBox(children=(IntProgress(value=0, bar_style='success'), Label(value='')))"
      ]
     },
     "metadata": {},
     "output_type": "display_data"
    },
    {
     "name": "stdout",
     "output_type": "stream",
     "text": [
      "+------------------------------------+-----------------+---+-----------------------------+-------------+\n",
      "|user_id                             |name             |age|interests                    |missing_field|\n",
      "+------------------------------------+-----------------+---+-----------------------------+-------------+\n",
      "|60cabef2-6c60-43d6-aa55-df67edcee606|Melanie Gutierrez|79 |[strong, happy, kind, wonder]|NULL         |\n",
      "|7e8614cf-da0b-4580-89e3-dbb8880eb67c|Kelsey Welch     |33 |[notice, lead]               |NULL         |\n",
      "|bc0268cb-3954-4f4b-99ab-03dff42621f3|William Butler   |38 |[strong, culture, book, or]  |NULL         |\n",
      "+------------------------------------+-----------------+---+-----------------------------+-------------+\n",
      "\n"
     ]
    }
   ],
   "source": [
    "# VARIANT_GET function to safely extract values\n",
    "print(\"=== Using VARIANT_GET Function ===\\n\")\n",
    "\n",
    "spark.sql(\"\"\"\n",
    "    SELECT \n",
    "        user_id,\n",
    "        VARIANT_GET(user_data, '$.name', 'STRING') as name,\n",
    "        VARIANT_GET(user_data, '$.age', 'INT') as age,\n",
    "        VARIANT_GET(user_data, '$.profile.interests', 'ARRAY<STRING>') as interests,\n",
    "        VARIANT_GET(user_data, '$.non_existent_field', 'STRING') as missing_field\n",
    "    FROM users_variant\n",
    "    LIMIT 3\n",
    "\"\"\").show(truncate=False)\n"
   ]
  },
  {
   "cell_type": "code",
   "execution_count": 14,
   "id": "23a91cd5",
   "metadata": {},
   "outputs": [
    {
     "name": "stdout",
     "output_type": "stream",
     "text": [
      "=== Converting between VARIANT and JSON strings ===\n",
      "\n"
     ]
    },
    {
     "data": {
      "application/vnd.jupyter.widget-view+json": {
       "model_id": "e8d29b39945340069030d28ee8a64006",
       "version_major": 2,
       "version_minor": 0
      },
      "text/plain": [
       "HBox(children=(IntProgress(value=0, bar_style='success'), Label(value='')))"
      ]
     },
     "metadata": {},
     "output_type": "display_data"
    },
    {
     "name": "stdout",
     "output_type": "stream",
     "text": [
      "+------------------------------------+------------------------------------------------------------------------------------------------------------------------------------------------------------------------------------------------------------------------------------------------------------------------------------------------------------------------------------------------------------------------------------------------------------------------------------------------------------------------------------------------------------------------------------------------------------------------------------------------------------------------------------------------------------------------------------------------------------------------------------------------------------------------------------------------------------------------------------------------------------------------------------------------------------------------------------------------------------------------+-----------+-------------------------------------------------------------------------------------------------------------------------------------------------------------------------------------------+\n",
      "|user_id                             |json_string                                                                                                                                                                                                                                                                                                                                                                                                                                                                                                                                                                                                                                                                                                                                                                                                                                                                                                                                                             |json_length|address_variant                                                                                                                                                                            |\n",
      "+------------------------------------+------------------------------------------------------------------------------------------------------------------------------------------------------------------------------------------------------------------------------------------------------------------------------------------------------------------------------------------------------------------------------------------------------------------------------------------------------------------------------------------------------------------------------------------------------------------------------------------------------------------------------------------------------------------------------------------------------------------------------------------------------------------------------------------------------------------------------------------------------------------------------------------------------------------------------------------------------------------------+-----------+-------------------------------------------------------------------------------------------------------------------------------------------------------------------------------------------+\n",
      "|60cabef2-6c60-43d6-aa55-df67edcee606|{\"address\":{\"city\":\"Butlerton\",\"coordinates\":{\"latitude\":-85.423289,\"longitude\":-93.814226},\"country\":\"Qatar\",\"postal_code\":\"81776\",\"state\":\"South Carolina\",\"street\":\"4518 Gonzalez Branch Apt. 009\"},\"age\":79,\"created_at\":\"2023-04-26 15:38:00.625201\",\"email\":\"taylorann@example.org\",\"last_login\":\"2025-09-25 21:52:26.681432\",\"name\":\"Melanie Gutierrez\",\"preferences\":{\"newsletter\":false,\"notifications\":{\"email\":true,\"frequency\":\"weekly\",\"push\":false,\"sms\":false},\"privacy\":{\"profile_visible\":false,\"show_email\":true,\"show_location\":true}},\"profile\":{\"bio\":\"Their when hundred war program field. Fast suddenly human wife room role.\\nBar defense way fill. Fine partner good short source a.\",\"company\":\"Johnson-Sloan\",\"interests\":[\"strong\",\"happy\",\"kind\",\"wonder\"],\"occupation\":\"Accountant, chartered management\",\"skills\":[]},\"user_id\":\"60cabef2-6c60-43d6-aa55-df67edcee606\",\"username\":\"hcameron\"}                                           |893        |{\"city\":\"Butlerton\",\"coordinates\":{\"latitude\":-85.423289,\"longitude\":-93.814226},\"country\":\"Qatar\",\"postal_code\":\"81776\",\"state\":\"South Carolina\",\"street\":\"4518 Gonzalez Branch Apt. 009\"}|\n",
      "|7e8614cf-da0b-4580-89e3-dbb8880eb67c|{\"address\":{\"city\":\"Port Diana\",\"coordinates\":{\"latitude\":-63.976141,\"longitude\":150.68181},\"country\":\"Greenland\",\"postal_code\":\"46826\",\"state\":\"Iowa\",\"street\":\"0363 Kevin Groves\"},\"age\":33,\"created_at\":\"2020-11-26 23:12:09.865649\",\"email\":\"stephenrice@example.net\",\"last_login\":\"2025-09-27 22:31:01.536357\",\"name\":\"Kelsey Welch\",\"preferences\":{\"newsletter\":true,\"notifications\":{\"email\":true,\"frequency\":\"weekly\",\"push\":true,\"sms\":false},\"privacy\":{\"profile_visible\":false,\"show_email\":true,\"show_location\":true}},\"profile\":{\"bio\":\"Stuff final safe fall attention. Agree seem mean amount generation interview stand. Guy defense population benefit market suddenly.\",\"company\":\"Hamilton, Hart and Johnson\",\"interests\":[\"notice\",\"lead\"],\"occupation\":\"Government social research officer\",\"skills\":[\"Engineer, site\",\"Architectural technologist\",\"Field trials officer\"]},\"user_id\":\"7e8614cf-da0b-4580-89e3-dbb8880eb67c\",\"username\":\"renee03\"}|936        |{\"city\":\"Port Diana\",\"coordinates\":{\"latitude\":-63.976141,\"longitude\":150.68181},\"country\":\"Greenland\",\"postal_code\":\"46826\",\"state\":\"Iowa\",\"street\":\"0363 Kevin Groves\"}                  |\n",
      "+------------------------------------+------------------------------------------------------------------------------------------------------------------------------------------------------------------------------------------------------------------------------------------------------------------------------------------------------------------------------------------------------------------------------------------------------------------------------------------------------------------------------------------------------------------------------------------------------------------------------------------------------------------------------------------------------------------------------------------------------------------------------------------------------------------------------------------------------------------------------------------------------------------------------------------------------------------------------------------------------------------------+-----------+-------------------------------------------------------------------------------------------------------------------------------------------------------------------------------------------+\n",
      "\n",
      "\n",
      "=== Discovering Schema of VARIANT Data ===\n",
      "\n"
     ]
    },
    {
     "data": {
      "application/vnd.jupyter.widget-view+json": {
       "model_id": "edee31aa8f7e4f79aaf9e1b73d7bee30",
       "version_major": 2,
       "version_minor": 0
      },
      "text/plain": [
       "HBox(children=(IntProgress(value=0, bar_style='success'), Label(value='')))"
      ]
     },
     "metadata": {},
     "output_type": "display_data"
    },
    {
     "name": "stdout",
     "output_type": "stream",
     "text": [
      "+-------------------------------------------------------------------------------------------------------------------------------------------------------------------------------------------------------------------------------------------------------------------------------------------------------------------------------------------------------------------------------------------------------------------------------------------------------------------------------------------------------------------------------------------------------------------------------------------------------------------------------------------------------------------------------------------------------------------------+-----+\n",
      "|inferred_schema                                                                                                                                                                                                                                                                                                                                                                                                                                                                                                                                                                                                                                                                                                          |count|\n",
      "+-------------------------------------------------------------------------------------------------------------------------------------------------------------------------------------------------------------------------------------------------------------------------------------------------------------------------------------------------------------------------------------------------------------------------------------------------------------------------------------------------------------------------------------------------------------------------------------------------------------------------------------------------------------------------------------------------------------------------+-----+\n",
      "|OBJECT<address: OBJECT<city: STRING, coordinates: OBJECT<latitude: DECIMAL(8,6), longitude: DECIMAL(8,6)>, country: STRING, postal_code: STRING, state: STRING, street: STRING>, age: BIGINT, created_at: STRING, email: STRING, last_login: STRING, name: STRING, preferences: OBJECT<newsletter: BOOLEAN, notifications: OBJECT<email: BOOLEAN, frequency: STRING, push: BOOLEAN, sms: BOOLEAN>, privacy: OBJECT<profile_visible: BOOLEAN, show_email: BOOLEAN, show_location: BOOLEAN>>, profile: OBJECT<bio: STRING, company: STRING, interests: ARRAY<STRING>, occupation: STRING, skills: ARRAY<STRING>>, user_id: STRING, username: STRING>                                                                       |28   |\n",
      "|OBJECT<address: OBJECT<city: STRING, coordinates: OBJECT<latitude: DECIMAL(9,7), longitude: DECIMAL(9,6)>, country: STRING, postal_code: STRING, state: STRING, street: STRING>, age: BIGINT, created_at: STRING, email: STRING, last_login: STRING, name: STRING, preferences: OBJECT<newsletter: BOOLEAN, notifications: OBJECT<email: BOOLEAN, frequency: STRING, push: BOOLEAN, sms: BOOLEAN>, privacy: OBJECT<profile_visible: BOOLEAN, show_email: BOOLEAN, show_location: BOOLEAN>>, profile: OBJECT<bio: STRING, company: STRING, interests: ARRAY<STRING>, occupation: STRING, skills: ARRAY<STRING>>, user_id: STRING, username: STRING>                                                                       |28   |\n",
      "|OBJECT<address: OBJECT<city: STRING, coordinates: OBJECT<latitude: DECIMAL(9,7), longitude: DECIMAL(8,6)>, country: STRING, postal_code: STRING, state: STRING, street: STRING>, age: BIGINT, created_at: STRING, email: STRING, last_login: STRING, name: STRING, preferences: OBJECT<newsletter: BOOLEAN, notifications: OBJECT<email: BOOLEAN, frequency: STRING, push: BOOLEAN, sms: BOOLEAN>, privacy: OBJECT<profile_visible: BOOLEAN, show_email: BOOLEAN, show_location: BOOLEAN>>, profile: OBJECT<bio: STRING, company: STRING, interests: ARRAY<STRING>, occupation: STRING, skills: ARRAY<STRING>>, user_id: STRING, username: STRING>                                                                       |25   |\n",
      "|OBJECT<address: OBJECT<city: STRING, coordinates: OBJECT<latitude: DECIMAL(8,6), longitude: DECIMAL(9,6)>, country: STRING, postal_code: STRING, state: STRING, street: STRING>, age: BIGINT, created_at: STRING, email: STRING, last_login: STRING, name: STRING, preferences: OBJECT<newsletter: BOOLEAN, notifications: OBJECT<email: BOOLEAN, frequency: STRING, push: BOOLEAN, sms: BOOLEAN>, privacy: OBJECT<profile_visible: BOOLEAN, show_email: BOOLEAN, show_location: BOOLEAN>>, profile: OBJECT<bio: STRING, company: STRING, interests: ARRAY<STRING>, occupation: STRING, skills: ARRAY<STRING>>, user_id: STRING, username: STRING>                                                                       |20   |\n",
      "|OBJECT<address: OBJECT<city: STRING, coordinates: OBJECT<latitude: DECIMAL(9,7), longitude: DECIMAL(8,6)>, country: STRING, postal_code: STRING, state: STRING, street: STRING>, age: BIGINT, created_at: STRING, email: STRING, last_login: STRING, name: STRING, preferences: OBJECT<newsletter: BOOLEAN, notifications: OBJECT<email: BOOLEAN, frequency: STRING, push: BOOLEAN, sms: BOOLEAN>, privacy: OBJECT<profile_visible: BOOLEAN, show_email: BOOLEAN, show_location: BOOLEAN>>, profile: OBJECT<bio: STRING, company: STRING, interests: ARRAY<STRING>, occupation: STRING, skills: ARRAY<STRING>>, social_media: OBJECT<github: VOID, linkedin: STRING, twitter: STRING>, user_id: STRING, username: STRING>|14   |\n",
      "+-------------------------------------------------------------------------------------------------------------------------------------------------------------------------------------------------------------------------------------------------------------------------------------------------------------------------------------------------------------------------------------------------------------------------------------------------------------------------------------------------------------------------------------------------------------------------------------------------------------------------------------------------------------------------------------------------------------------------+-----+\n",
      "\n"
     ]
    }
   ],
   "source": [
    "# TO_JSON and PARSE_JSON functions\n",
    "print(\"=== Converting between VARIANT and JSON strings ===\\n\")\n",
    "\n",
    "spark.sql(\"\"\"\n",
    "    SELECT \n",
    "        user_id,\n",
    "        TO_JSON(user_data) as json_string,\n",
    "        LENGTH(TO_JSON(user_data)) as json_length,\n",
    "        PARSE_JSON(TO_JSON(user_data:address)) as address_variant\n",
    "    FROM users_variant\n",
    "    LIMIT 2\n",
    "\"\"\").show(truncate=False)\n",
    "\n",
    "# SCHEMA_OF_VARIANT to discover schema\n",
    "print(\"\\n=== Discovering Schema of VARIANT Data ===\\n\")\n",
    "\n",
    "spark.sql(\"\"\"\n",
    "    SELECT \n",
    "        SCHEMA_OF_VARIANT(user_data) as inferred_schema,\n",
    "        count(*) as count\n",
    "    FROM users_variant\n",
    "    GROUP BY SCHEMA_OF_VARIANT(user_data)\n",
    "    ORDER BY count(*) DESC\n",
    "    LIMIT 5\n",
    "\"\"\").show(truncate=False)\n"
   ]
  },
  {
   "cell_type": "code",
   "execution_count": 15,
   "id": "e7ff09c8",
   "metadata": {},
   "outputs": [
    {
     "name": "stdout",
     "output_type": "stream",
     "text": [
      "\n",
      "=== SCHEMA_OF_VARIANT_AGG Examples ===\n",
      "\n",
      "1. Combined schema of all VARIANT values:\n"
     ]
    },
    {
     "data": {
      "application/vnd.jupyter.widget-view+json": {
       "model_id": "c598b863ddaf4e0b8380167f4306fb94",
       "version_major": 2,
       "version_minor": 0
      },
      "text/plain": [
       "HBox(children=(IntProgress(value=0, bar_style='success'), Label(value='')))"
      ]
     },
     "metadata": {},
     "output_type": "display_data"
    },
    {
     "name": "stdout",
     "output_type": "stream",
     "text": [
      "+------------------------------------------------------------------------------------------------------------------------------------------------------------------------------------------------------------------------------------------------------------------------------------------------------------------------------------------------------------------------------------------------------------------------------------------------------------------------------------------------------------------------------------------------------------------------------------------------------------------------------------------------------------------------------------------------------------------------------------------------------------------------------------------------------------------------------------------------------------------------------------------------------------------------------------------------------------------------------+\n",
      "|as                                                                                                                                                                                                                                                                                                                                                                                                                                                                                                                                                                                                                                                                                                                                                                                                                                                                                                                                                                            |\n",
      "+------------------------------------------------------------------------------------------------------------------------------------------------------------------------------------------------------------------------------------------------------------------------------------------------------------------------------------------------------------------------------------------------------------------------------------------------------------------------------------------------------------------------------------------------------------------------------------------------------------------------------------------------------------------------------------------------------------------------------------------------------------------------------------------------------------------------------------------------------------------------------------------------------------------------------------------------------------------------------+\n",
      "|OBJECT<address: OBJECT<city: STRING, coordinates: OBJECT<latitude: DECIMAL(9,7), longitude: DECIMAL(9,6)>, country: STRING, postal_code: STRING, state: STRING, street: STRING>, age: BIGINT, created_at: STRING, email: STRING, last_login: STRING, metrics: OBJECT<comments_made: BIGINT, last_activity: STRING, login_count: BIGINT, posts_created: BIGINT>, name: STRING, phone: STRING, preferences: OBJECT<newsletter: BOOLEAN, notifications: OBJECT<email: BOOLEAN, frequency: STRING, push: BOOLEAN, sms: BOOLEAN>, privacy: OBJECT<profile_visible: BOOLEAN, show_email: BOOLEAN, show_location: BOOLEAN>>, profile: OBJECT<bio: STRING, company: STRING, interests: ARRAY<STRING>, occupation: STRING, skills: ARRAY<STRING>>, referral_code: STRING, referred_by: STRING, social_media: OBJECT<github: STRING, linkedin: STRING, twitter: STRING>, subscription: OBJECT<auto_renew: BOOLEAN, start_date: STRING, tier: STRING>, user_id: STRING, username: STRING>|\n",
      "+------------------------------------------------------------------------------------------------------------------------------------------------------------------------------------------------------------------------------------------------------------------------------------------------------------------------------------------------------------------------------------------------------------------------------------------------------------------------------------------------------------------------------------------------------------------------------------------------------------------------------------------------------------------------------------------------------------------------------------------------------------------------------------------------------------------------------------------------------------------------------------------------------------------------------------------------------------------------------+\n",
      "\n",
      "\n",
      "2. Schema grouped by subscription tier:\n"
     ]
    },
    {
     "data": {
      "application/vnd.jupyter.widget-view+json": {
       "model_id": "c8968e0d7663477d8a0f0c2901a96ce2",
       "version_major": 2,
       "version_minor": 0
      },
      "text/plain": [
       "HBox(children=(IntProgress(value=0, bar_style='success'), Label(value='')))"
      ]
     },
     "metadata": {},
     "output_type": "display_data"
    },
    {
     "name": "stdout",
     "output_type": "stream",
     "text": [
      "+-----------------+------------------------------------------------------------------------------------------------------------------------------------------------------------------------------------------------------------------------------------------------------------------------------------------------------------------------------------------------------------------------------------------------------------------------------------------------------------------------------------------------------------------------------------------------------------------------------------------------------------------------------------------------------------------------------------------------------------------------------------------------------------------------------------------------------------------------------------------------------------------------------------------------------------------------------------------------------------------------------+------------+\n",
      "|subscription_tier|tier_schema                                                                                                                                                                                                                                                                                                                                                                                                                                                                                                                                                                                                                                                                                                                                                                                                                                                                                                                                                                   |record_count|\n",
      "+-----------------+------------------------------------------------------------------------------------------------------------------------------------------------------------------------------------------------------------------------------------------------------------------------------------------------------------------------------------------------------------------------------------------------------------------------------------------------------------------------------------------------------------------------------------------------------------------------------------------------------------------------------------------------------------------------------------------------------------------------------------------------------------------------------------------------------------------------------------------------------------------------------------------------------------------------------------------------------------------------------+------------+\n",
      "|NULL             |OBJECT<address: OBJECT<city: STRING, coordinates: OBJECT<latitude: DECIMAL(9,7), longitude: DECIMAL(9,6)>, country: STRING, postal_code: STRING, state: STRING, street: STRING>, age: BIGINT, created_at: STRING, email: STRING, last_login: STRING, name: STRING, phone: STRING, preferences: OBJECT<newsletter: BOOLEAN, notifications: OBJECT<email: BOOLEAN, frequency: STRING, push: BOOLEAN, sms: BOOLEAN>, privacy: OBJECT<profile_visible: BOOLEAN, show_email: BOOLEAN, show_location: BOOLEAN>>, profile: OBJECT<bio: STRING, company: STRING, interests: ARRAY<STRING>, occupation: STRING, skills: ARRAY<STRING>>, referral_code: STRING, referred_by: STRING, social_media: OBJECT<github: STRING, linkedin: STRING, twitter: STRING>, user_id: STRING, username: STRING>                                                                                                                                                                                        |601         |\n",
      "|enterprise       |OBJECT<address: OBJECT<city: STRING, coordinates: OBJECT<latitude: DECIMAL(9,7), longitude: DECIMAL(9,6)>, country: STRING, postal_code: STRING, state: STRING, street: STRING>, age: BIGINT, created_at: STRING, email: STRING, last_login: STRING, metrics: OBJECT<comments_made: BIGINT, last_activity: STRING, login_count: BIGINT, posts_created: BIGINT>, name: STRING, phone: STRING, preferences: OBJECT<newsletter: BOOLEAN, notifications: OBJECT<email: BOOLEAN, frequency: STRING, push: BOOLEAN, sms: BOOLEAN>, privacy: OBJECT<profile_visible: BOOLEAN, show_email: BOOLEAN, show_location: BOOLEAN>>, profile: OBJECT<bio: STRING, company: STRING, interests: ARRAY<STRING>, occupation: STRING, skills: ARRAY<STRING>>, referral_code: STRING, referred_by: STRING, social_media: OBJECT<github: STRING, linkedin: STRING, twitter: STRING>, subscription: OBJECT<auto_renew: BOOLEAN, start_date: STRING, tier: STRING>, user_id: STRING, username: STRING>|107         |\n",
      "|basic            |OBJECT<address: OBJECT<city: STRING, coordinates: OBJECT<latitude: DECIMAL(9,7), longitude: DECIMAL(9,6)>, country: STRING, postal_code: STRING, state: STRING, street: STRING>, age: BIGINT, created_at: STRING, email: STRING, last_login: STRING, metrics: OBJECT<comments_made: BIGINT, last_activity: STRING, login_count: BIGINT, posts_created: BIGINT>, name: STRING, phone: STRING, preferences: OBJECT<newsletter: BOOLEAN, notifications: OBJECT<email: BOOLEAN, frequency: STRING, push: BOOLEAN, sms: BOOLEAN>, privacy: OBJECT<profile_visible: BOOLEAN, show_email: BOOLEAN, show_location: BOOLEAN>>, profile: OBJECT<bio: STRING, company: STRING, interests: ARRAY<STRING>, occupation: STRING, skills: ARRAY<STRING>>, referral_code: STRING, referred_by: STRING, social_media: OBJECT<github: STRING, linkedin: STRING, twitter: STRING>, subscription: OBJECT<auto_renew: BOOLEAN, start_date: STRING, tier: STRING>, user_id: STRING, username: STRING>|99          |\n",
      "|premium          |OBJECT<address: OBJECT<city: STRING, coordinates: OBJECT<latitude: DECIMAL(9,7), longitude: DECIMAL(9,6)>, country: STRING, postal_code: STRING, state: STRING, street: STRING>, age: BIGINT, created_at: STRING, email: STRING, last_login: STRING, metrics: OBJECT<comments_made: BIGINT, last_activity: STRING, login_count: BIGINT, posts_created: BIGINT>, name: STRING, phone: STRING, preferences: OBJECT<newsletter: BOOLEAN, notifications: OBJECT<email: BOOLEAN, frequency: STRING, push: BOOLEAN, sms: BOOLEAN>, privacy: OBJECT<profile_visible: BOOLEAN, show_email: BOOLEAN, show_location: BOOLEAN>>, profile: OBJECT<bio: STRING, company: STRING, interests: ARRAY<STRING>, occupation: STRING, skills: ARRAY<STRING>>, referral_code: STRING, referred_by: STRING, social_media: OBJECT<github: STRING, linkedin: STRING, twitter: STRING>, subscription: OBJECT<auto_renew: BOOLEAN, start_date: STRING, tier: STRING>, user_id: STRING, username: STRING>|98          |\n",
      "|free             |OBJECT<address: OBJECT<city: STRING, coordinates: OBJECT<latitude: DECIMAL(9,7), longitude: DECIMAL(9,6)>, country: STRING, postal_code: STRING, state: STRING, street: STRING>, age: BIGINT, created_at: STRING, email: STRING, last_login: STRING, metrics: OBJECT<comments_made: BIGINT, last_activity: STRING, login_count: BIGINT, posts_created: BIGINT>, name: STRING, phone: STRING, preferences: OBJECT<newsletter: BOOLEAN, notifications: OBJECT<email: BOOLEAN, frequency: STRING, push: BOOLEAN, sms: BOOLEAN>, privacy: OBJECT<profile_visible: BOOLEAN, show_email: BOOLEAN, show_location: BOOLEAN>>, profile: OBJECT<bio: STRING, company: STRING, interests: ARRAY<STRING>, occupation: STRING, skills: ARRAY<STRING>>, referral_code: STRING, referred_by: STRING, social_media: OBJECT<github: STRING, linkedin: STRING, twitter: STRING>, subscription: OBJECT<auto_renew: BOOLEAN, start_date: STRING, tier: STRING>, user_id: STRING, username: STRING>|95          |\n",
      "+-----------------+------------------------------------------------------------------------------------------------------------------------------------------------------------------------------------------------------------------------------------------------------------------------------------------------------------------------------------------------------------------------------------------------------------------------------------------------------------------------------------------------------------------------------------------------------------------------------------------------------------------------------------------------------------------------------------------------------------------------------------------------------------------------------------------------------------------------------------------------------------------------------------------------------------------------------------------------------------------------------+------------+\n",
      "\n"
     ]
    }
   ],
   "source": [
    "# SCHEMA_OF_VARIANT_AGG \n",
    "print(\"\\n=== SCHEMA_OF_VARIANT_AGG Examples ===\\n\")\n",
    "\n",
    "# Example 1: Get combined schema of all VARIANT values\n",
    "print(\"1. Combined schema of all VARIANT values:\")\n",
    "spark.sql(\"\"\"\n",
    "    SELECT SCHEMA_OF_VARIANT_AGG(user_data) as  \n",
    "    FROM users_variant\n",
    "\"\"\").show(truncate=False)\n",
    "\n",
    "# Example 2: Get schema grouped by subscription tier\n",
    "print(\"\\n2. Schema grouped by subscription tier:\")\n",
    "spark.sql(\"\"\"\n",
    "    SELECT \n",
    "        CAST(user_data:subscription.tier AS STRING) as subscription_tier,\n",
    "        SCHEMA_OF_VARIANT_AGG(user_data) as tier_schema,\n",
    "        COUNT(*) as record_count\n",
    "    FROM users_variant \n",
    "    WHERE NOT IS_VARIANT_NULL(user_data:subscription.tier)\n",
    "    GROUP BY CAST(user_data:subscription.tier AS STRING)\n",
    "    ORDER BY record_count DESC\n",
    "\"\"\").show(truncate=False)"
   ]
  },
  {
   "cell_type": "markdown",
   "id": "508a4019",
   "metadata": {},
   "source": [
    "## 7. Filtering and Conditional Logic with VARIANT\n",
    "\n",
    "Let's explore how to filter and apply conditions on VARIANT data.\n"
   ]
  },
  {
   "cell_type": "code",
   "execution_count": 16,
   "id": "440d7502",
   "metadata": {},
   "outputs": [
    {
     "name": "stdout",
     "output_type": "stream",
     "text": [
      "=== Filtering on VARIANT Fields ===\n",
      "\n"
     ]
    },
    {
     "data": {
      "application/vnd.jupyter.widget-view+json": {
       "model_id": "9c81a28dda564badbd0fea89471851b6",
       "version_major": 2,
       "version_minor": 0
      },
      "text/plain": [
       "HBox(children=(IntProgress(value=0, bar_style='success'), Label(value='')))"
      ]
     },
     "metadata": {},
     "output_type": "display_data"
    },
    {
     "name": "stdout",
     "output_type": "stream",
     "text": [
      "+--------------------+--------------------+---+-------------+\n",
      "|             user_id|                name|age|      country|\n",
      "+--------------------+--------------------+---+-------------+\n",
      "|7e8614cf-da0b-458...|      \"Kelsey Welch\"| 33|  \"Greenland\"|\n",
      "|bc0268cb-3954-4f4...|    \"William Butler\"| 38| \"Guadeloupe\"|\n",
      "|3d2a259a-c14a-4ef...|        \"Megan Moon\"| 62|  \"Argentina\"|\n",
      "|bfa77ec9-1930-463...|       \"Alex Butler\"| 55|\"New Zealand\"|\n",
      "|6a8246d6-9092-477...|\"Christopher Wilson\"| 67| \"Luxembourg\"|\n",
      "+--------------------+--------------------+---+-------------+\n",
      "\n",
      "\n",
      "=== Complex Filtering with Nested VARIANT Fields ===\n",
      "\n"
     ]
    },
    {
     "data": {
      "application/vnd.jupyter.widget-view+json": {
       "model_id": "d52f9894e57e4cbfb303e86996d8d7d6",
       "version_major": 2,
       "version_minor": 0
      },
      "text/plain": [
       "HBox(children=(IntProgress(value=0, bar_style='success'), Label(value='')))"
      ]
     },
     "metadata": {},
     "output_type": "display_data"
    },
    {
     "name": "stdout",
     "output_type": "stream",
     "text": [
      "+--------------------+----------------+---+-----------------+-----------+\n",
      "|             user_id|            name|age|subscription_tier|login_count|\n",
      "+--------------------+----------------+---+-----------------+-----------+\n",
      "|7b450bc2-2d49-45e...|   \"Tammy Bauer\"| 44|            basic|       1000|\n",
      "|f8cc59c4-e654-4e8...|     \"John Moon\"| 42|             free|        996|\n",
      "|7440daa1-42c7-473...|\"Robin Gallegos\"| 41|          premium|        995|\n",
      "|20fc3134-1ad6-40e...| \"Nicole Ortega\"| 38|             free|        992|\n",
      "|79148f8e-ea6e-475...|\"Jennifer Lucas\"| 45|          premium|        987|\n",
      "+--------------------+----------------+---+-----------------+-----------+\n",
      "\n"
     ]
    }
   ],
   "source": [
    "# Filtering based on VARIANT field values\n",
    "print(\"=== Filtering on VARIANT Fields ===\\n\")\n",
    "\n",
    "spark.sql(\"\"\"\n",
    "    SELECT \n",
    "        user_id,\n",
    "        user_data:name as name,\n",
    "        user_data:age as age,\n",
    "        user_data:address.country as country\n",
    "    FROM users_variant\n",
    "    WHERE CAST(user_data:age AS INT) > 30\n",
    "        AND CAST(user_data:preferences.newsletter AS BOOLEAN) = true\n",
    "        AND NOT IS_VARIANT_NULL(user_data:address.country)\n",
    "    LIMIT 5\n",
    "\"\"\").show()\n",
    "\n",
    "# Complex filtering with nested conditions\n",
    "print(\"\\n=== Complex Filtering with Nested VARIANT Fields ===\\n\")\n",
    "\n",
    "spark.sql(\"\"\"\n",
    "    SELECT \n",
    "        user_id,\n",
    "        user_data:name as name,\n",
    "        user_data:age as age,\n",
    "        CAST(user_data:subscription.tier AS STRING) as subscription_tier,\n",
    "        user_data:metrics.login_count as login_count\n",
    "    FROM users_variant\n",
    "    WHERE NOT IS_VARIANT_NULL(user_data:subscription.tier)\n",
    "        AND NOT IS_VARIANT_NULL(user_data:metrics.login_count)\n",
    "        AND CAST(user_data:age AS INT) BETWEEN 25 AND 60\n",
    "        AND CAST(user_data:metrics.login_count AS INT) > 10\n",
    "    ORDER BY CAST(user_data:metrics.login_count AS INT) DESC\n",
    "    LIMIT 5\n",
    "\"\"\").show()\n"
   ]
  },
  {
   "cell_type": "code",
   "execution_count": 17,
   "id": "992303e8",
   "metadata": {},
   "outputs": [
    {
     "name": "stdout",
     "output_type": "stream",
     "text": [
      "=== CASE Statements with VARIANT ===\n",
      "\n"
     ]
    },
    {
     "data": {
      "application/vnd.jupyter.widget-view+json": {
       "model_id": "133332552bda401c93a8c74528178ce7",
       "version_major": 2,
       "version_minor": 0
      },
      "text/plain": [
       "HBox(children=(IntProgress(value=0, bar_style='success'), Label(value='')))"
      ]
     },
     "metadata": {},
     "output_type": "display_data"
    },
    {
     "name": "stdout",
     "output_type": "stream",
     "text": [
      "+------------------------------------+--------------------+---+-----------------+---------+---------------+\n",
      "|user_id                             |name                |age|subscription_tier|age_group|user_category  |\n",
      "+------------------------------------+--------------------+---+-----------------+---------+---------------+\n",
      "|60cabef2-6c60-43d6-aa55-df67edcee606|\"Melanie Gutierrez\" |79 |NULL             |Senior   |No Subscription|\n",
      "|7e8614cf-da0b-4580-89e3-dbb8880eb67c|\"Kelsey Welch\"      |33 |NULL             |Adult    |No Subscription|\n",
      "|bc0268cb-3954-4f4b-99ab-03dff42621f3|\"William Butler\"    |38 |NULL             |Adult    |No Subscription|\n",
      "|5fd673b7-34cd-413f-8495-d3263e375133|\"Kayla Hall\"        |23 |NULL             |Young    |No Subscription|\n",
      "|3d2a259a-c14a-4ef6-a7e5-02bd95f532a8|\"Megan Moon\"        |62 |NULL             |Senior   |No Subscription|\n",
      "|ae87650d-4989-4f66-9601-2a93ec8f1006|\"Michelle Meyer\"    |41 |NULL             |Adult    |No Subscription|\n",
      "|5542230a-ba1e-40ad-9531-2f509a08e89d|\"Sydney Foster\"     |29 |NULL             |Adult    |No Subscription|\n",
      "|da606ec6-d344-48e9-b155-1197002e21af|\"Catherine Santos\"  |52 |NULL             |Senior   |No Subscription|\n",
      "|bfa77ec9-1930-463f-954b-6fb6ce4d8d6b|\"Alex Butler\"       |55 |NULL             |Senior   |No Subscription|\n",
      "|6a8246d6-9092-477b-a582-a8db2247f1d6|\"Christopher Wilson\"|67 |NULL             |Senior   |No Subscription|\n",
      "+------------------------------------+--------------------+---+-----------------+---------+---------------+\n",
      "\n"
     ]
    }
   ],
   "source": [
    "# Using CASE statements with VARIANT\n",
    "print(\"=== CASE Statements with VARIANT ===\\n\")\n",
    "\n",
    "spark.sql(\"\"\"\n",
    "    SELECT \n",
    "        user_id,\n",
    "        user_data:name as name,\n",
    "        user_data:age as age,\n",
    "        CAST(user_data:subscription.tier AS STRING) as subscription_tier,\n",
    "        CASE \n",
    "            WHEN CAST(user_data:age AS INT) < 25 THEN 'Young'\n",
    "            WHEN CAST(user_data:age AS INT) BETWEEN 25 AND 50 THEN 'Adult'\n",
    "            WHEN CAST(user_data:age AS INT) > 50 THEN 'Senior'\n",
    "            ELSE 'Unknown'\n",
    "        END as age_group,\n",
    "        CASE \n",
    "            WHEN CAST(user_data:subscription.tier AS STRING) = 'free' THEN 'Free User'\n",
    "            WHEN CAST(user_data:subscription.tier AS STRING) = 'basic' THEN 'Basic User'\n",
    "            WHEN CAST(user_data:subscription.tier AS STRING) = 'premium' THEN 'Premium User'\n",
    "            WHEN CAST(user_data:subscription.tier AS STRING) = 'enterprise' THEN 'Enterprise User'\n",
    "            ELSE 'No Subscription'\n",
    "        END as user_category\n",
    "    FROM users_variant\n",
    "    LIMIT 10\n",
    "\"\"\").show(truncate=False)\n"
   ]
  },
  {
   "cell_type": "markdown",
   "id": "bf45a4fa",
   "metadata": {},
   "source": [
    "## 8. Aggregations with VARIANT Data\n",
    "\n",
    "Performing aggregations on data stored in VARIANT columns.\n"
   ]
  },
  {
   "cell_type": "code",
   "execution_count": 18,
   "id": "143ffd8e",
   "metadata": {},
   "outputs": [
    {
     "name": "stdout",
     "output_type": "stream",
     "text": [
      "=== Aggregations on VARIANT Data ===\n",
      "\n"
     ]
    },
    {
     "data": {
      "application/vnd.jupyter.widget-view+json": {
       "model_id": "b04003e3ca5c4bd0b5097aaa0099823c",
       "version_major": 2,
       "version_minor": 0
      },
      "text/plain": [
       "HBox(children=(IntProgress(value=0, bar_style='success'), Label(value='')))"
      ]
     },
     "metadata": {},
     "output_type": "display_data"
    },
    {
     "name": "stdout",
     "output_type": "stream",
     "text": [
      "+----------+-------+-------+-------+\n",
      "|user_count|avg_age|min_age|max_age|\n",
      "+----------+-------+-------+-------+\n",
      "|      1000|  49.03|     18|     80|\n",
      "+----------+-------+-------+-------+\n",
      "\n",
      "\n",
      "=== Subscription Tier Aggregations ===\n",
      "\n"
     ]
    },
    {
     "data": {
      "application/vnd.jupyter.widget-view+json": {
       "model_id": "6c88b66a85064073ae8ec610537a8bd6",
       "version_major": 2,
       "version_minor": 0
      },
      "text/plain": [
       "HBox(children=(IntProgress(value=0, bar_style='success'), Label(value='')))"
      ]
     },
     "metadata": {},
     "output_type": "display_data"
    },
    {
     "name": "stdout",
     "output_type": "stream",
     "text": [
      "+-----------------+----------+------------------+------------------+------------------+\n",
      "|subscription_tier|user_count|           avg_age|   avg_login_count|         avg_posts|\n",
      "+-----------------+----------+------------------+------------------+------------------+\n",
      "|             NULL|       601|48.302828618968384|              NULL|              NULL|\n",
      "|       enterprise|       107|  47.6822429906542| 565.0841121495328| 253.6355140186916|\n",
      "|            basic|        99| 50.91919191919192|494.64646464646466|             252.0|\n",
      "|          premium|        98| 50.55102040816327| 503.3061224489796|236.87755102040816|\n",
      "|             free|        95| 51.61052631578947| 546.1578947368421|248.05263157894737|\n",
      "+-----------------+----------+------------------+------------------+------------------+\n",
      "\n"
     ]
    }
   ],
   "source": [
    "# Aggregating VARIANT data\n",
    "print(\"=== Aggregations on VARIANT Data ===\\n\")\n",
    "\n",
    "spark.sql(\"\"\"\n",
    "    SELECT \n",
    "        COUNT(*) as user_count,\n",
    "        AVG(CAST(user_data:age AS INT)) as avg_age,\n",
    "        MIN(CAST(user_data:age AS INT)) as min_age,\n",
    "        MAX(CAST(user_data:age AS INT)) as max_age\n",
    "    FROM users_variant\n",
    "\"\"\").show()\n",
    "\n",
    "# Aggregating by subscription tier\n",
    "print(\"\\n=== Subscription Tier Aggregations ===\\n\")\n",
    "\n",
    "spark.sql(\"\"\"\n",
    "    SELECT \n",
    "        CAST(user_data:subscription.tier AS STRING) as subscription_tier,\n",
    "        COUNT(*) as user_count,\n",
    "        AVG(CAST(user_data:age AS INT)) as avg_age,\n",
    "        AVG(CAST(user_data:metrics.login_count AS INT)) as avg_login_count,\n",
    "        AVG(CAST(user_data:metrics.posts_created AS INT)) as avg_posts\n",
    "    FROM users_variant\n",
    "    WHERE NOT IS_VARIANT_NULL(user_data:subscription.tier)\n",
    "    GROUP BY CAST(user_data:subscription.tier AS STRING)\n",
    "    ORDER BY user_count DESC\n",
    "\"\"\").show()\n"
   ]
  },
  {
   "cell_type": "code",
   "execution_count": 19,
   "id": "7b16bb97",
   "metadata": {},
   "outputs": [
    {
     "name": "stdout",
     "output_type": "stream",
     "text": [
      "=== Aggregating Array Data in VARIANT ===\n",
      "\n"
     ]
    },
    {
     "data": {
      "application/vnd.jupyter.widget-view+json": {
       "model_id": "d1b2b460fd7a41ff984127bc1be6e9d2",
       "version_major": 2,
       "version_minor": 0
      },
      "text/plain": [
       "HBox(children=(IntProgress(value=0, bar_style='success'), Label(value='')))"
      ]
     },
     "metadata": {},
     "output_type": "display_data"
    },
    {
     "name": "stdout",
     "output_type": "stream",
     "text": [
      "+----------------------+-------------+-------------+\n",
      "|avg_interests_per_user|max_interests|min_interests|\n",
      "+----------------------+-------------+-------------+\n",
      "|                 3.005|            5|            1|\n",
      "+----------------------+-------------+-------------+\n",
      "\n",
      "\n",
      "=== Skills Aggregation ===\n",
      "\n"
     ]
    },
    {
     "data": {
      "application/vnd.jupyter.widget-view+json": {
       "model_id": "357ed3af49fa424680feeadc2916378a",
       "version_major": 2,
       "version_minor": 0
      },
      "text/plain": [
       "HBox(children=(IntProgress(value=0, bar_style='success'), Label(value='')))"
      ]
     },
     "metadata": {},
     "output_type": "display_data"
    },
    {
     "name": "stdout",
     "output_type": "stream",
     "text": [
      "+-----------------+-------------------+----------+----------+\n",
      "|users_with_skills|avg_skills_per_user|max_skills|min_skills|\n",
      "+-----------------+-------------------+----------+----------+\n",
      "|             1000|              1.498|         3|         0|\n",
      "+-----------------+-------------------+----------+----------+\n",
      "\n"
     ]
    }
   ],
   "source": [
    "# Complex aggregations with array data\n",
    "print(\"=== Aggregating Array Data in VARIANT ===\\n\")\n",
    "\n",
    "spark.sql(\"\"\"\n",
    "    SELECT \n",
    "        AVG(SIZE(CAST(user_data:profile.interests AS ARRAY<STRING>))) as avg_interests_per_user,\n",
    "        MAX(SIZE(CAST(user_data:profile.interests AS ARRAY<STRING>))) as max_interests,\n",
    "        MIN(SIZE(CAST(user_data:profile.interests AS ARRAY<STRING>))) as min_interests\n",
    "    FROM users_variant\n",
    "    WHERE NOT IS_VARIANT_NULL(user_data:profile.interests)\n",
    "\"\"\").show()\n",
    "\n",
    "# Aggregating skills data\n",
    "print(\"\\n=== Skills Aggregation ===\\n\")\n",
    "\n",
    "spark.sql(\"\"\"\n",
    "    WITH user_skills AS (\n",
    "        SELECT \n",
    "            user_id,\n",
    "            user_data:name as name,\n",
    "            SIZE(CAST(user_data:profile.skills AS ARRAY<STRING>)) as skill_count,\n",
    "            user_data:profile.skills as skills\n",
    "        FROM users_variant\n",
    "        WHERE NOT IS_VARIANT_NULL(user_data:profile.skills)\n",
    "    )\n",
    "    SELECT \n",
    "        COUNT(*) as users_with_skills,\n",
    "        AVG(skill_count) as avg_skills_per_user,\n",
    "        MAX(skill_count) as max_skills,\n",
    "        MIN(skill_count) as min_skills\n",
    "    FROM user_skills\n",
    "\"\"\").show()\n"
   ]
  },
  {
   "cell_type": "markdown",
   "id": "c6682116",
   "metadata": {},
   "source": [
    "## 9. Window Functions with VARIANT\n",
    "\n",
    "Using window functions to analyze VARIANT data.\n"
   ]
  },
  {
   "cell_type": "code",
   "execution_count": 20,
   "id": "b1d6bcc5",
   "metadata": {},
   "outputs": [
    {
     "name": "stdout",
     "output_type": "stream",
     "text": [
      "=== Window Functions on VARIANT Data ===\n",
      "\n"
     ]
    },
    {
     "data": {
      "application/vnd.jupyter.widget-view+json": {
       "model_id": "692ed5ec125d4efc8bb86394953f76f3",
       "version_major": 2,
       "version_minor": 0
      },
      "text/plain": [
       "HBox(children=(IntProgress(value=0, bar_style='success'), Label(value='')))"
      ]
     },
     "metadata": {},
     "output_type": "display_data"
    },
    {
     "name": "stdout",
     "output_type": "stream",
     "text": [
      "+------------------------------------+-----------------+---+-----------+-----------+-------------------+----------+-----------------+\n",
      "|user_id                             |name             |age|country    |login_count|age_rank_in_country|login_rank|country_avg_age  |\n",
      "+------------------------------------+-----------------+---+-----------+-----------+-------------------+----------+-----------------+\n",
      "|19b9569b-dd19-430c-a7a2-e1de34ae175b|\"Dustin Jackson\" |58 |Afghanistan|NULL       |1                  |329       |34.0             |\n",
      "|b2a7fcab-e684-48ea-a1dc-2887dfd1d6fe|\"Amber King\"     |25 |Afghanistan|NULL       |2                  |329       |34.0             |\n",
      "|5f89b9e7-81dd-4ab7-9176-763792b129dc|\"Annette Harris\" |19 |Afghanistan|169        |3                  |277       |34.0             |\n",
      "|d9292b92-c781-44f7-8bca-90117e91b149|\"Penny Jimenez\"  |80 |Albania    |226        |1                  |262       |49.0             |\n",
      "|1abb10f4-8a3b-4c25-9296-e25e2ae025c0|\"Stacy Baker\"    |52 |Albania    |NULL       |2                  |329       |49.0             |\n",
      "|0d59db75-b1aa-4fc6-926c-719dfffee74e|\"Andrew Smith\"   |40 |Albania    |293        |3                  |243       |49.0             |\n",
      "|b95af54b-337d-479c-942e-33922b72872e|\"Louis Rogers\"   |38 |Albania    |NULL       |4                  |329       |49.0             |\n",
      "|d5a07b87-754c-4392-bcec-50e785886251|\"Brittany Drake\" |35 |Albania    |NULL       |5                  |329       |49.0             |\n",
      "|4ccec835-cb50-4c69-a765-cc46c0e99da3|\"Jeremy Hancock\" |73 |Algeria    |958        |1                  |12        |61.57142857142857|\n",
      "|d23afeb9-ed5d-4d4a-bc1e-4dfcaee23ef3|\"Jorge Griffin\"  |70 |Algeria    |NULL       |2                  |329       |61.57142857142857|\n",
      "|58c5bb93-89a2-4152-85a9-f8d6f08ead6d|\"Jennifer Garcia\"|69 |Algeria    |51         |3                  |312       |61.57142857142857|\n",
      "|accb41b5-dfa2-42bf-9388-bcbf36cb0956|\"Robert Beck\"    |66 |Algeria    |440        |4                  |188       |61.57142857142857|\n",
      "|7f3b8361-0f42-497f-aad6-a6f446edef8f|\"Charles Fox\"    |53 |Algeria    |NULL       |5                  |329       |61.57142857142857|\n",
      "|7158fb97-80ed-44b3-a13f-9b85f5e9c256|\"Judith Smith\"   |50 |Algeria    |982        |6                  |7         |61.57142857142857|\n",
      "|33053115-842a-4010-8175-6a44225faa35|\"Monica Jennings\"|50 |Algeria    |290        |6                  |245       |61.57142857142857|\n",
      "+------------------------------------+-----------------+---+-----------+-----------+-------------------+----------+-----------------+\n",
      "\n",
      "\n",
      "=== Cumulative Statistics with VARIANT ===\n",
      "\n"
     ]
    },
    {
     "data": {
      "application/vnd.jupyter.widget-view+json": {
       "model_id": "4d9aedc4de0e4f57b1567427b62f8e62",
       "version_major": 2,
       "version_minor": 0
      },
      "text/plain": [
       "HBox(children=(IntProgress(value=0, bar_style='success'), Label(value='')))"
      ]
     },
     "metadata": {},
     "output_type": "display_data"
    },
    {
     "name": "stdout",
     "output_type": "stream",
     "text": [
      "+------------------------------------+---------------------+--------------------------+-----------+-------------+-----------------+-----------------+\n",
      "|user_id                             |name                 |created_time              |login_count|posts_created|moving_avg_logins|max_logins_so_far|\n",
      "+------------------------------------+---------------------+--------------------------+-----------+-------------+-----------------+-----------------+\n",
      "|5e246fcf-48e2-4d6e-9c92-aa67f74730f1|\"Christopher Spencer\"|2020-10-03 01:15:23.399003|NULL       |NULL         |NULL             |NULL             |\n",
      "|a31d8dc6-3dfd-4fe4-97ad-af1fdd601873|\"Michael Hawkins\"    |2020-10-04 13:54:58.831194|NULL       |NULL         |NULL             |NULL             |\n",
      "|7eeb0388-8a61-49db-ad3c-fa128d592af9|\"Rachel Moore\"       |2020-10-05 05:43:50.972837|NULL       |NULL         |NULL             |NULL             |\n",
      "|5f691341-d14d-457b-8177-9d6b0d61f277|\"Jeffrey Gonzalez\"   |2020-10-05 10:17:28.872737|154        |157          |154.0            |154              |\n",
      "|056a528d-e0fb-4861-9ced-31bc21410412|\"Kimberly Anderson\"  |2020-10-05 22:00:03.555017|NULL       |NULL         |154.0            |154              |\n",
      "|967f840f-d607-46d3-94db-e2fe0a531627|\"Mary Price\"         |2020-10-08 22:41:24.590544|473        |190          |313.5            |473              |\n",
      "|9ee609d5-434c-46c2-ac43-c1ee52a40d76|\"Steven Sanchez\"     |2020-10-09 03:34:03.721862|NULL       |NULL         |473.0            |473              |\n",
      "|7167a282-66be-434b-84a7-c969184ce931|\"Brian Price\"        |2020-10-10 13:08:31.955244|NULL       |NULL         |473.0            |473              |\n",
      "|3f50ee44-747b-4f81-9713-dcf130010434|\"Denise Barry\"       |2020-10-12 02:36:54.713789|NULL       |NULL         |NULL             |473              |\n",
      "|485940f3-b823-40fe-90ca-c403291f37eb|\"Richard Sullivan\"   |2020-10-17 23:14:08.789795|NULL       |NULL         |NULL             |473              |\n",
      "+------------------------------------+---------------------+--------------------------+-----------+-------------+-----------------+-----------------+\n",
      "\n"
     ]
    }
   ],
   "source": [
    "# Window functions with VARIANT data\n",
    "print(\"=== Window Functions on VARIANT Data ===\\n\")\n",
    "\n",
    "spark.sql(\"\"\"\n",
    "    SELECT \n",
    "        user_id,\n",
    "        user_data:name as name,\n",
    "        user_data:age as age,\n",
    "        CAST(user_data:address.country AS STRING) as country,\n",
    "        CAST(user_data:metrics.login_count AS INT) as login_count,\n",
    "        RANK() OVER (PARTITION BY CAST(user_data:address.country AS STRING) ORDER BY CAST(user_data:age AS INT) DESC) as age_rank_in_country,\n",
    "        DENSE_RANK() OVER (ORDER BY CAST(user_data:metrics.login_count AS INT) DESC) as login_rank,\n",
    "        AVG(CAST(user_data:age AS INT)) OVER (PARTITION BY CAST(user_data:address.country AS STRING)) as country_avg_age\n",
    "    FROM users_variant\n",
    "    WHERE NOT IS_VARIANT_NULL(user_data:metrics.login_count)\n",
    "        AND NOT IS_VARIANT_NULL(user_data:address.country)\n",
    "    ORDER BY country, age_rank_in_country\n",
    "    LIMIT 15\n",
    "\"\"\").show(truncate=False)\n",
    "\n",
    "# Running totals and cumulative stats\n",
    "print(\"\\n=== Cumulative Statistics with VARIANT ===\\n\")\n",
    "\n",
    "spark.sql(\"\"\"\n",
    "    WITH user_activity AS (\n",
    "        SELECT \n",
    "            user_id,\n",
    "            user_data:name as name,\n",
    "            CAST(user_data:created_at AS TIMESTAMP) as created_time,\n",
    "            CAST(user_data:metrics.login_count AS INT) as login_count,\n",
    "            CAST(user_data:metrics.posts_created AS INT) as posts_created\n",
    "        FROM users_variant\n",
    "        WHERE NOT IS_VARIANT_NULL(user_data:metrics.login_count)\n",
    "            AND NOT IS_VARIANT_NULL(user_data:created_at)\n",
    "    )\n",
    "    SELECT \n",
    "        user_id,\n",
    "        name,\n",
    "        created_time,\n",
    "        login_count,\n",
    "        posts_created,\n",
    "        AVG(login_count) OVER (\n",
    "            ORDER BY created_time \n",
    "            ROWS BETWEEN 2 PRECEDING AND CURRENT ROW\n",
    "        ) as moving_avg_logins,\n",
    "        MAX(login_count) OVER (\n",
    "            ORDER BY created_time\n",
    "        ) as max_logins_so_far\n",
    "    FROM user_activity\n",
    "    ORDER BY created_time\n",
    "    LIMIT 10\n",
    "\"\"\").show(truncate=False)\n"
   ]
  },
  {
   "cell_type": "markdown",
   "id": "d57b5872",
   "metadata": {},
   "source": [
    "## 10. JOINs with VARIANT Data\n",
    "\n",
    "Demonstrating how to join tables containing VARIANT columns.\n"
   ]
  },
  {
   "cell_type": "code",
   "execution_count": 21,
   "id": "92a69c12",
   "metadata": {},
   "outputs": [
    {
     "name": "stdout",
     "output_type": "stream",
     "text": [
      "=== Self-Join on VARIANT Data ===\n",
      "\n"
     ]
    },
    {
     "data": {
      "application/vnd.jupyter.widget-view+json": {
       "model_id": "297a1672fb0f4760b497c3fd4e5fc22e",
       "version_major": 2,
       "version_minor": 0
      },
      "text/plain": [
       "HBox(children=(IntProgress(value=0, bar_style='success'), Label(value='')))"
      ]
     },
     "metadata": {},
     "output_type": "display_data"
    },
    {
     "name": "stdout",
     "output_type": "stream",
     "text": [
      "+------------------------------------+-----------------+--------------+------------------------------------+-------------------+--------------+\n",
      "|user1_id                            |user1_name       |user1_city    |user2_id                            |user2_name         |user2_city    |\n",
      "+------------------------------------+-----------------+--------------+------------------------------------+-------------------+--------------+\n",
      "|8fe88a32-0792-40b8-8ec8-9f77fd002dc5|\"Sara Ferguson\"  |Garrisontown  |e79f67b6-1592-4651-80fc-14e26f022b98|\"Yesenia Luna\"     |Garrisontown  |\n",
      "|a4d44be2-4326-40cc-aec7-9b55915fdb86|\"Derrick Freeman\"|Lake James    |ad6c3c33-7e70-412f-85d5-e52ca141bdcf|\"Emily Pacheco\"    |Lake James    |\n",
      "|d9f6f0c6-46cc-4d29-bca1-f0fc2ef2c22c|\"Andrew Costa\"   |Jonesmouth    |f45377ef-0c36-489f-9fe8-5f445ce16502|\"Victoria Leon\"    |Jonesmouth    |\n",
      "|69dd65b0-b70b-44fd-9421-087db40d5b05|\"Kevin Luna\"     |Davidhaven    |d9b48fd7-7d28-42e4-b81b-340d96e1ef02|\"Carl Payne\"       |Davidhaven    |\n",
      "|1713c405-aedb-4131-a5e0-cd2bd222998c|\"Caleb Martin\"   |Port Elizabeth|54c37ff9-fbd9-469d-acfd-d6f4eba0c6d4|\"Jennifer Hayes\"   |Port Elizabeth|\n",
      "|0818c333-9726-463b-9372-e977667faa60|\"Samantha Bailey\"|North Robert  |6c142d69-904f-470f-ac84-17a484ece491|\"Christopher Berry\"|North Robert  |\n",
      "|5e23a638-ee80-48f6-b548-35465a995126|\"Michael Jenkins\"|Johnfurt      |f280122a-20d7-4572-aa89-4ae6b656405d|\"Lori Wilson\"      |Johnfurt      |\n",
      "|2d7e4763-3330-4db2-bb27-0367959cd1e0|\"Dana Brown\"     |Jasonhaven    |5f74a353-1dbd-408d-958b-a52514c5db49|\"James Allen\"      |Jasonhaven    |\n",
      "|7386408f-22ce-4820-8f2c-e2faddc0c9d3|\"Ross Brown\"     |West Craig    |95d17baf-ca10-41ad-8f7f-493cfa88db3b|\"Cynthia Calderon\" |West Craig    |\n",
      "|0940eaf2-d3eb-4792-9f0e-d02feffafacd|\"Ricky Evans\"    |East Ryan     |1abb10f4-8a3b-4c25-9296-e25e2ae025c0|\"Stacy Baker\"      |East Ryan     |\n",
      "+------------------------------------+-----------------+--------------+------------------------------------+-------------------+--------------+\n",
      "\n",
      "\n",
      "=== Join with Extracted Table for Performance ===\n",
      "\n"
     ]
    },
    {
     "data": {
      "application/vnd.jupyter.widget-view+json": {
       "model_id": "d4df99e9418e4ad6bfe0f940ea199600",
       "version_major": 2,
       "version_minor": 0
      },
      "text/plain": [
       "HBox(children=(IntProgress(value=0, bar_style='success'), Label(value='')))"
      ]
     },
     "metadata": {},
     "output_type": "display_data"
    },
    {
     "name": "stdout",
     "output_type": "stream",
     "text": [
      "+------------------------------------+-------------------+---+-------------------+-----------------+-----------------+-------------+-------------------+\n",
      "|user_id                             |name               |age|city               |subscription_tier|extracted_name   |extracted_age|extracted_city     |\n",
      "+------------------------------------+-------------------+---+-------------------+-----------------+-----------------+-------------+-------------------+\n",
      "|60cabef2-6c60-43d6-aa55-df67edcee606|\"Melanie Gutierrez\"|79 |Butlerton          |NULL             |Melanie Gutierrez|79           |Butlerton          |\n",
      "|7e8614cf-da0b-4580-89e3-dbb8880eb67c|\"Kelsey Welch\"     |33 |Port Diana         |NULL             |Kelsey Welch     |33           |Port Diana         |\n",
      "|bc0268cb-3954-4f4b-99ab-03dff42621f3|\"William Butler\"   |38 |Port Haroldton     |NULL             |William Butler   |38           |Port Haroldton     |\n",
      "|5fd673b7-34cd-413f-8495-d3263e375133|\"Kayla Hall\"       |23 |South Stephenville |NULL             |Kayla Hall       |23           |South Stephenville |\n",
      "|3d2a259a-c14a-4ef6-a7e5-02bd95f532a8|\"Megan Moon\"       |62 |North Mackenzieview|NULL             |Megan Moon       |62           |North Mackenzieview|\n",
      "+------------------------------------+-------------------+---+-------------------+-----------------+-----------------+-------------+-------------------+\n",
      "\n"
     ]
    }
   ],
   "source": [
    "# Self-join on VARIANT data\n",
    "print(\"=== Self-Join on VARIANT Data ===\\n\")\n",
    "\n",
    "spark.sql(\"\"\"\n",
    "    SELECT \n",
    "        u1.user_id as user1_id,\n",
    "        u1.user_data:name as user1_name,\n",
    "        CAST(u1.user_data:address.city AS STRING) as user1_city,\n",
    "        u2.user_id as user2_id,\n",
    "        u2.user_data:name as user2_name,\n",
    "        CAST(u2.user_data:address.city AS STRING) as user2_city\n",
    "    FROM users_variant u1\n",
    "    JOIN users_variant u2\n",
    "        ON CAST(u1.user_data:address.city AS STRING) = CAST(u2.user_data:address.city AS STRING)\n",
    "        AND u1.user_id < u2.user_id\n",
    "    WHERE NOT IS_VARIANT_NULL(u1.user_data:address.city)\n",
    "    LIMIT 10\n",
    "\"\"\").show(truncate=False)\n",
    "\n",
    "# Join with extracted table for performance\n",
    "print(\"\\n=== Join with Extracted Table for Performance ===\\n\")\n",
    "\n",
    "spark.sql(\"\"\"\n",
    "    WITH user_analysis AS (\n",
    "        SELECT \n",
    "            v.user_id,\n",
    "            v.user_data:name as name,\n",
    "            v.user_data:age as age,\n",
    "            CAST(v.user_data:address.city AS STRING) as city,\n",
    "            CAST(v.user_data:subscription.tier AS STRING) as subscription_tier,\n",
    "            e.name as extracted_name,\n",
    "            e.age as extracted_age,\n",
    "            e.city as extracted_city\n",
    "        FROM users_variant v\n",
    "        LEFT JOIN users_extracted e\n",
    "            ON v.user_id = e.user_id\n",
    "        WHERE NOT IS_VARIANT_NULL(v.user_data:subscription.tier)\n",
    "    )\n",
    "    SELECT * FROM user_analysis\n",
    "    WHERE name IS NOT NULL\n",
    "    LIMIT 5\n",
    "\"\"\").show(truncate=False)\n"
   ]
  },
  {
   "cell_type": "markdown",
   "id": "d63a189d",
   "metadata": {},
   "source": [
    "## 11. Advanced VARIANT Use Cases\n",
    "\n",
    "Let's explore some advanced use cases and patterns.\n"
   ]
  },
  {
   "cell_type": "code",
   "execution_count": 22,
   "id": "aaacd05c",
   "metadata": {},
   "outputs": [
    {
     "name": "stdout",
     "output_type": "stream",
     "text": [
      "=== Demonstrating Schema Evolution with VARIANT ===\n",
      "\n",
      "Schema Evolution in our user data:\n",
      "- First 30% of users: Basic schema\n",
      "- Next 30% of users: Added social_media fields\n",
      "- Last 40% of users: Added subscription and metrics fields\n",
      "\n"
     ]
    },
    {
     "data": {
      "application/vnd.jupyter.widget-view+json": {
       "model_id": "803fa770f67e4b609b65618ecb8796f1",
       "version_major": 2,
       "version_minor": 0
      },
      "text/plain": [
       "HBox(children=(IntProgress(value=0, bar_style='success'), Label(value='')))"
      ]
     },
     "metadata": {},
     "output_type": "display_data"
    },
    {
     "name": "stdout",
     "output_type": "stream",
     "text": [
      "+------------------------------------+-------------------+-----------------------------+-----+----------------+-----------------+-----------+\n",
      "|user_id                             |name               |email                        |phone|twitter         |subscription_tier|login_count|\n",
      "+------------------------------------+-------------------+-----------------------------+-----+----------------+-----------------+-----------+\n",
      "|1740eff5-bd8f-42a1-9bdf-3621cdf13b15|\"Michael Chen\"     |\"jeffrey60@example.com\"      |NULL |NULL            |NULL             |NULL       |\n",
      "|d350e4d7-b2f2-43a6-bbf1-81b29d0b9b45|\"Christopher Scott\"|\"lori33@example.net\"         |NULL |null            |NULL             |NULL       |\n",
      "|f5c1383a-2286-44e1-94be-fc112536bf98|\"Angela Lee\"       |\"amandacontreras@example.org\"|NULL |\"@melindaharris\"|\"basic\"          |30         |\n",
      "+------------------------------------+-------------------+-----------------------------+-----+----------------+-----------------+-----------+\n",
      "\n",
      "\n",
      "✅ VARIANT seamlessly handles schema evolution - old and new fields coexist!\n"
     ]
    }
   ],
   "source": [
    "# Dynamic schema evolution handling\n",
    "print(\"=== Demonstrating Schema Evolution with VARIANT ===\\n\")\n",
    "\n",
    "# The data we generated already simulates schema evolution\n",
    "# Let's query to show how VARIANT handles different schema versions seamlessly\n",
    "\n",
    "print(\"Schema Evolution in our user data:\")\n",
    "print(\"- First 30% of users: Basic schema\")\n",
    "print(\"- Next 30% of users: Added social_media fields\")\n",
    "print(\"- Last 40% of users: Added subscription and metrics fields\\n\")\n",
    "\n",
    "# Query showing all schema versions work together\n",
    "spark.sql(\"\"\"\n",
    "    SELECT \n",
    "        user_id,\n",
    "        user_data:name as name,\n",
    "        user_data:email as email,\n",
    "        user_data:phone as phone,  -- Optional field\n",
    "        user_data:social_media.twitter as twitter,  -- Added in v2\n",
    "        user_data:subscription.tier as subscription_tier,  -- Added in v3\n",
    "        user_data:metrics.login_count as login_count  -- Added in v3\n",
    "    FROM users_variant\n",
    "    WHERE user_id IN (\n",
    "        (SELECT user_id FROM users_variant LIMIT 1 OFFSET 100)\n",
    "        UNION ALL\n",
    "        (SELECT user_id FROM users_variant LIMIT 1 OFFSET 500)\n",
    "        UNION ALL\n",
    "        (SELECT user_id FROM users_variant LIMIT 1 OFFSET 900)\n",
    "    )\n",
    "\"\"\").show(truncate=False)\n",
    "\n",
    "print(\"\\n✅ VARIANT seamlessly handles schema evolution - old and new fields coexist!\")\n"
   ]
  },
  {
   "cell_type": "code",
   "execution_count": 23,
   "id": "ae497cfe",
   "metadata": {},
   "outputs": [
    {
     "name": "stdout",
     "output_type": "stream",
     "text": [
      "=== Pivoting VARIANT Data ===\n",
      "\n"
     ]
    },
    {
     "data": {
      "application/vnd.jupyter.widget-view+json": {
       "model_id": "d81a79a3f6684a2d92eaf5865085db61",
       "version_major": 2,
       "version_minor": 0
      },
      "text/plain": [
       "HBox(children=(IntProgress(value=0, bar_style='success'), Label(value='')))"
      ]
     },
     "metadata": {},
     "output_type": "display_data"
    },
    {
     "name": "stdout",
     "output_type": "stream",
     "text": [
      "+--------------------+----+-----+-------+----------+\n",
      "|             country|free|basic|premium|enterprise|\n",
      "+--------------------+----+-----+-------+----------+\n",
      "|         Afghanistan|NULL|    1|   NULL|      NULL|\n",
      "|             Albania|   2| NULL|   NULL|      NULL|\n",
      "|             Algeria|NULL|    3|      1|         1|\n",
      "|      American Samoa|NULL| NULL|   NULL|         2|\n",
      "|             Andorra|NULL| NULL|   NULL|      NULL|\n",
      "|              Angola|NULL|    1|   NULL|      NULL|\n",
      "|            Anguilla|NULL| NULL|   NULL|         1|\n",
      "|Antarctica (the t...|NULL|    1|   NULL|      NULL|\n",
      "| Antigua and Barbuda|   1|    2|   NULL|         3|\n",
      "|           Argentina|   1|    3|      1|      NULL|\n",
      "+--------------------+----+-----+-------+----------+\n",
      "\n",
      "\n",
      "=== Creating Structured View from VARIANT ===\n",
      "\n",
      "✅ Created structured view from VARIANT data\n"
     ]
    },
    {
     "data": {
      "application/vnd.jupyter.widget-view+json": {
       "model_id": "a2fda867e0974de6be11d8f6a709634c",
       "version_major": 2,
       "version_minor": 0
      },
      "text/plain": [
       "HBox(children=(IntProgress(value=0, bar_style='success'), Label(value='')))"
      ]
     },
     "metadata": {},
     "output_type": "display_data"
    },
    {
     "name": "stdout",
     "output_type": "stream",
     "text": [
      "+--------------------+-----------------+--------------------+---+-------------------+----------+-----------------+--------------------+--------------+\n",
      "|             user_id|             name|               email|age|               city|   country|newsletter_opt_in|        created_date|interest_count|\n",
      "+--------------------+-----------------+--------------------+---+-------------------+----------+-----------------+--------------------+--------------+\n",
      "|60cabef2-6c60-43d...|Melanie Gutierrez|taylorann@example...| 79|          Butlerton|     Qatar|            false|2023-04-26 15:38:...|             4|\n",
      "|7e8614cf-da0b-458...|     Kelsey Welch|stephenrice@examp...| 33|         Port Diana| Greenland|             true|2020-11-26 23:12:...|             2|\n",
      "|bc0268cb-3954-4f4...|   William Butler|jamescarter@examp...| 38|     Port Haroldton|Guadeloupe|             true|2024-06-26 07:18:...|             4|\n",
      "|5fd673b7-34cd-413...|       Kayla Hall|garciaterri@examp...| 23| South Stephenville|     Benin|             true|2025-08-05 18:41:...|             3|\n",
      "|3d2a259a-c14a-4ef...|       Megan Moon|wesleybarber@exam...| 62|North Mackenzieview| Argentina|             true|2024-12-12 19:18:...|             1|\n",
      "+--------------------+-----------------+--------------------+---+-------------------+----------+-----------------+--------------------+--------------+\n",
      "\n"
     ]
    }
   ],
   "source": [
    "# Pivoting VARIANT data\n",
    "print(\"=== Pivoting VARIANT Data ===\\n\")\n",
    "\n",
    "spark.sql(\"\"\"\n",
    "    WITH subscription_counts AS (\n",
    "        SELECT \n",
    "            CAST(user_data:address.country AS STRING) as country,\n",
    "            CAST(user_data:subscription.tier AS STRING) as subscription_tier,\n",
    "            COUNT(*) as user_count\n",
    "        FROM users_variant\n",
    "        WHERE NOT IS_VARIANT_NULL(user_data:subscription.tier)\n",
    "            AND NOT IS_VARIANT_NULL(user_data:address.country)\n",
    "        GROUP BY country, subscription_tier\n",
    "    )\n",
    "    SELECT * FROM subscription_counts\n",
    "    PIVOT (\n",
    "        SUM(user_count)\n",
    "        FOR subscription_tier IN ('free', 'basic', 'premium', 'enterprise')\n",
    "    )\n",
    "    ORDER BY country\n",
    "    LIMIT 10\n",
    "\"\"\").show()\n",
    "\n",
    "# Creating materialized views from VARIANT data\n",
    "print(\"\\n=== Creating Structured View from VARIANT ===\\n\")\n",
    "\n",
    "spark.sql(\"\"\"\n",
    "    CREATE OR REPLACE TEMPORARY VIEW user_details AS\n",
    "    SELECT \n",
    "        user_id,\n",
    "        CAST(user_data:name AS STRING) as name,\n",
    "        CAST(user_data:email AS STRING) as email,\n",
    "        CAST(user_data:age AS INT) as age,\n",
    "        CAST(user_data:address.city AS STRING) as city,\n",
    "        CAST(user_data:address.country AS STRING) as country,\n",
    "        CAST(user_data:preferences.newsletter AS BOOLEAN) as newsletter_opt_in,\n",
    "        CAST(user_data:created_at AS TIMESTAMP) as created_date,\n",
    "        SIZE(CAST(user_data:profile.interests AS ARRAY<STRING>)) as interest_count\n",
    "    FROM users_variant\n",
    "\"\"\")\n",
    "\n",
    "print(\"✅ Created structured view from VARIANT data\")\n",
    "\n",
    "spark.sql(\"SELECT * FROM user_details LIMIT 5\").show()\n"
   ]
  },
  {
   "cell_type": "markdown",
   "id": "3f02f207",
   "metadata": {},
   "source": [
    "## 12. Cleanup Script\n",
    "\n",
    "This section provides a comprehensive cleanup script to remove all resources created during this exploration.\n"
   ]
  },
  {
   "cell_type": "code",
   "execution_count": 24,
   "id": "39dcdac8",
   "metadata": {},
   "outputs": [
    {
     "name": "stdout",
     "output_type": "stream",
     "text": [
      "🧹 Cleaning up VARIANT exploration resources...\n",
      "✅ Dropped table: users_variant\n",
      "✅ Dropped table: users_extracted\n",
      "✅ Dropped table: variant_optimized\n",
      "✅ Dropped view: user_details\n",
      "✅ Cleaned volume files\n",
      "✅ Reset to main catalog, default schema\n",
      "\n",
      "🎉 Cleanup complete!\n"
     ]
    }
   ],
   "source": [
    "# Cleanup Script - Removes all resources created during VARIANT exploration\n",
    "\n",
    "def cleanup():\n",
    "    \"\"\"Simple cleanup function to remove all created resources\"\"\"\n",
    "    print(\"🧹 Cleaning up VARIANT exploration resources...\")\n",
    "    \n",
    "    # Drop tables\n",
    "    tables = ['users_variant', 'users_extracted', 'variant_optimized']\n",
    "    for table in tables:\n",
    "        spark.sql(f\"DROP TABLE IF EXISTS {table}\")\n",
    "        print(f\"✅ Dropped table: {table}\")\n",
    "    \n",
    "    # Drop views\n",
    "    spark.sql(\"DROP VIEW IF EXISTS user_details\")\n",
    "    print(\"✅ Dropped view: user_details\")\n",
    "    \n",
    "    # Clean volume files\n",
    "    users_folder = f\"/Volumes/{CATALOG}/{SCHEMA}/{VOLUME}/users\"\n",
    "    try:\n",
    "        dbutils.fs.rm(users_folder, recurse=True)\n",
    "        print(\"✅ Cleaned volume files\")\n",
    "    except:\n",
    "        print(\"⚠️  Volume files may not exist\")\n",
    "    \n",
    "    # Reset to default catalog/schema\n",
    "    spark.sql(\"USE CATALOG main\")\n",
    "    spark.sql(\"USE SCHEMA default\")\n",
    "    print(\"✅ Reset to main catalog, default schema\")\n",
    "    \n",
    "    print(\"\\n🎉 Cleanup complete!\")\n",
    "\n",
    "# Run cleanup\n",
    "cleanup()\n"
   ]
  },
  {
   "cell_type": "code",
   "execution_count": 25,
   "id": "49e7acf8",
   "metadata": {},
   "outputs": [],
   "source": [
    "# Optional: Individual cleanup functions\n",
    "\n",
    "# def drop_tables_only():\n",
    "#     \"\"\"Drop only the tables\"\"\"\n",
    "#     tables = ['users_variant', 'users_extracted', 'variant_optimized']\n",
    "#     for table in tables:\n",
    "#         spark.sql(f\"DROP TABLE IF EXISTS {table}\")\n",
    "#         print(f\"✅ Dropped {table}\")\n",
    "\n",
    "# def clean_volume_only():\n",
    "#     \"\"\"Clean only the volume files\"\"\"\n",
    "#     dbutils.fs.rm(f\"/Volumes/{CATALOG}/{SCHEMA}/{VOLUME}/users\", recurse=True)\n",
    "#     print(\"✅ Cleaned volume files\")\n",
    "\n",
    "# Usage:\n",
    "# cleanup()           # Full cleanup (already run above)\n",
    "# drop_tables_only()  # Drop only tables\n",
    "# clean_volume_only() # Clean only volume files\n"
   ]
  }
 ],
 "metadata": {
  "kernelspec": {
   "display_name": "base",
   "language": "python",
   "name": "python3"
  },
  "language_info": {
   "codemirror_mode": {
    "name": "ipython",
    "version": 3
   },
   "file_extension": ".py",
   "mimetype": "text/x-python",
   "name": "python",
   "nbconvert_exporter": "python",
   "pygments_lexer": "ipython3",
   "version": "3.12.7"
  }
 },
 "nbformat": 4,
 "nbformat_minor": 5
}
