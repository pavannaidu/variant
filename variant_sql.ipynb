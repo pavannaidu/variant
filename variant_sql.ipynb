{
 "cells": [
  {
   "cell_type": "code",
   "execution_count": 1,
   "id": "abd72d09",
   "metadata": {},
   "outputs": [
    {
     "name": "stdout",
     "output_type": "stream",
     "text": [
      "Requirement already satisfied: faker==23.0.0 in /opt/homebrew/anaconda3/lib/python3.12/site-packages (23.0.0)\n",
      "Requirement already satisfied: python-dateutil>=2.4 in /opt/homebrew/anaconda3/lib/python3.12/site-packages (from faker==23.0.0) (2.9.0.post0)\n",
      "Requirement already satisfied: six>=1.5 in /opt/homebrew/anaconda3/lib/python3.12/site-packages (from python-dateutil>=2.4->faker==23.0.0) (1.16.0)\n"
     ]
    }
   ],
   "source": [
    "! pip install faker==23.0.0"
   ]
  },
  {
   "cell_type": "code",
   "execution_count": 2,
   "id": "7a4c6d5a",
   "metadata": {},
   "outputs": [
    {
     "name": "stdout",
     "output_type": "stream",
     "text": [
      "✅ Spark session initialized\n",
      "Current catalog: pavan_naidu\n"
     ]
    },
    {
     "data": {
      "application/vnd.jupyter.widget-view+json": {
       "model_id": "ea7f1a0fd4d847f0be115d4a8a17b310",
       "version_major": 2,
       "version_minor": 0
      },
      "text/plain": [
       "HBox(children=(IntProgress(value=0, bar_style='success'), Label(value='')))"
      ]
     },
     "metadata": {},
     "output_type": "display_data"
    },
    {
     "name": "stdout",
     "output_type": "stream",
     "text": [
      "Current schema: json\n",
      "Configuration: CATALOG=pavan_naidu, SCHEMA=json, VOLUME=raw_data\n"
     ]
    }
   ],
   "source": [
    "# VARIANT Data Type Exploration in Databricks\n",
    "# This notebook demonstrates various features and capabilities of the VARIANT data type\n",
    "\n",
    "from pyspark.sql import SparkSession\n",
    "from pyspark.sql.functions import *\n",
    "from pyspark.sql.types import *\n",
    "import json\n",
    "import random\n",
    "from datetime import datetime, timedelta\n",
    "from faker import Faker\n",
    "import os\n",
    "\n",
    "# =============================================================================\n",
    "# CONFIGURATION PARAMETERS\n",
    "# =============================================================================\n",
    "# Update these parameters to customize the notebook for your environment\n",
    "CATALOG = \"pavan_naidu\"                    # Unity Catalog name\n",
    "SCHEMA = \"json\"                            # Schema name within the catalog\n",
    "VOLUME = \"raw_data\"                        # Volume name for storing data\n",
    "# =============================================================================\n",
    "\n",
    "def get_spark() -> SparkSession:\n",
    "    try:\n",
    "        from databricks.connect import DatabricksSession\n",
    "        return DatabricksSession.builder.getOrCreate()\n",
    "    except Exception:\n",
    "        return SparkSession.builder.getOrCreate()\n",
    "\n",
    "spark = get_spark()\n",
    "fake = Faker()\n",
    "\n",
    "\n",
    "\n",
    "# Set catalog and schema using parameters\n",
    "spark.sql(f\"USE CATALOG {CATALOG}\")\n",
    "spark.sql(f\"USE SCHEMA {SCHEMA}\")\n",
    "\n",
    "print(\"✅ Spark session initialized\")\n",
    "print(f\"Current catalog: {spark.sql('SELECT current_catalog()').collect()[0][0]}\")\n",
    "print(f\"Current schema: {spark.sql('SELECT current_schema()').collect()[0][0]}\")\n",
    "print(f\"Configuration: CATALOG={CATALOG}, SCHEMA={SCHEMA}, VOLUME={VOLUME}\")"
   ]
  },
  {
   "cell_type": "markdown",
   "id": "33486a7c",
   "metadata": {},
   "source": [
    "## 1. Setup: Create UC Volume and Generate Fake JSON Data\n",
    "\n",
    "First, let's create a folder in Unity Catalog volume and generate diverse JSON data to showcase VARIANT functionality.\n"
   ]
  },
  {
   "cell_type": "code",
   "execution_count": 3,
   "id": "636affdd",
   "metadata": {},
   "outputs": [
    {
     "name": "stdout",
     "output_type": "stream",
     "text": [
      "✅ Volume 'raw_data' is ready\n",
      "Volume path: /Volumes/pavan_naidu/json/raw_data\n"
     ]
    }
   ],
   "source": [
    "# Create or verify volume exists\n",
    "try:\n",
    "    spark.sql(f\"CREATE VOLUME IF NOT EXISTS {CATALOG}.{SCHEMA}.{VOLUME}\")\n",
    "    print(f\"✅ Volume '{VOLUME}' is ready\")\n",
    "except Exception as e:\n",
    "    print(f\"Volume might already exist or error: {e}\")\n",
    "\n",
    "# Get the volume path\n",
    "volume_path = f\"/Volumes/{CATALOG}/{SCHEMA}/{VOLUME}\"\n",
    "print(f\"Volume path: {volume_path}\")\n"
   ]
  },
  {
   "cell_type": "code",
   "execution_count": 4,
   "id": "f2ce3c0f",
   "metadata": {},
   "outputs": [
    {
     "name": "stdout",
     "output_type": "stream",
     "text": [
      "Generating fake user data...\n",
      "✅ Generated 1000 user records with evolving schemas\n",
      "\n",
      "Sample user records showing schema evolution:\n",
      "\n",
      "1. Basic user (early schema):\n",
      "{\n",
      "  \"user_id\": \"a3e1fcff-fefb-453d-9998-25c55b9793df\",\n",
      "  \"username\": \"brookealexander\",\n",
      "  \"email\": \"ian91@example.com\",\n",
      "  \"name\": \"Jeffrey Stanton\",\n",
      "  \"age\": 74,\n",
      "  \"created_at\": \"2020-11-07 06:59:47.142594\",\n",
      "  \"last_login\": \"2025-09-08 02:42:23.896633\",\n",
      "  \"profile\": {\n",
      "    \"bio\": \"Reflect while benefit. Page man know meeting. Research movie subject throw the trial close. Per role leg east.\\nToward give deal possible. Where society while.\",\n",
      "    \"occupation\": \"Child psychotherapist\",\n",
      "    \"company\": \"Newton-Haynes\",\n",
      "    \"interests\": [\n",
      "      \"cold\"\n",
      "    ],\n",
      "    \"skills\": [\n",
      "      \"Chartered public fin...\n",
      "\n",
      "2. User with social media (mid evolution):\n",
      "{\n",
      "  \"user_id\": \"99a18293-1cfc-489f-8b05-c1cc2f31a31d\",\n",
      "  \"username\": \"howardchristine\",\n",
      "  \"email\": \"robertallen@example.org\",\n",
      "  \"name\": \"Rhonda Mann\",\n",
      "  \"age\": 70,\n",
      "  \"created_at\": \"2024-06-03 00:04:02.878088\",\n",
      "  \"last_login\": \"2025-09-04 19:06:23.075031\",\n",
      "  \"profile\": {\n",
      "    \"bio\": \"Guy this coach authority first consumer ok. Claim war agency design. Property information bring most want point top realize.\",\n",
      "    \"occupation\": \"Contracting civil engineer\",\n",
      "    \"company\": \"Pace PLC\",\n",
      "    \"interests\": [\n",
      "      \"century\"\n",
      "    ],\n",
      "    \"skills\": [\n",
      "      \"Sports development officer\",\n",
      "      \"Equities trade...\n",
      "\n",
      "3. User with full schema (latest):\n",
      "{\n",
      "  \"user_id\": \"a46a29a7-4162-41fb-95dc-256efe77f8d1\",\n",
      "  \"username\": \"scarney\",\n",
      "  \"email\": \"jason70@example.com\",\n",
      "  \"name\": \"Michael Freeman\",\n",
      "  \"age\": 67,\n",
      "  \"created_at\": \"2021-02-12 04:37:11.509686\",\n",
      "  \"last_login\": \"2025-09-20 09:11:03.094265\",\n",
      "  \"profile\": {\n",
      "    \"bio\": \"Short recent time evidence at could subject. Paper different describe already month.\\nMaybe ago kind training boy. Tree war Mrs better hundred. Dinner bank son whether source rather travel.\",\n",
      "    \"occupation\": \"Communications engineer\",\n",
      "    \"company\": \"Harris LLC\",\n",
      "    \"interests\": [\n",
      "      \"discussion\",\n",
      "      \"black\",\n",
      "     ...\n"
     ]
    }
   ],
   "source": [
    "# Generate fake user data to demonstrate VARIANT capabilities\n",
    "\n",
    "def generate_user_data(num_records=1000):\n",
    "    \"\"\"Generate user data with varying structures to simulate schema evolution\"\"\"\n",
    "    users = []\n",
    "    \n",
    "    for i in range(num_records):\n",
    "        # Basic user structure (all users have these fields)\n",
    "        user = {\n",
    "            \"user_id\": str(fake.uuid4()),\n",
    "            \"username\": fake.user_name(),\n",
    "            \"email\": fake.email(),\n",
    "            \"name\": fake.name(),\n",
    "            \"age\": random.randint(18, 80),\n",
    "            \"created_at\": str(fake.date_time_between(start_date='-5y', end_date='now')),\n",
    "            \"last_login\": str(fake.date_time_between(start_date='-30d', end_date='now'))\n",
    "        }\n",
    "        \n",
    "        # Profile information (nested structure)\n",
    "        user[\"profile\"] = {\n",
    "            \"bio\": fake.text(max_nb_chars=200),\n",
    "            \"occupation\": fake.job(),\n",
    "            \"company\": fake.company(),\n",
    "            \"interests\": [fake.word() for _ in range(random.randint(1, 5))],\n",
    "            \"skills\": [fake.job() for _ in range(random.randint(0, 3))]\n",
    "        }\n",
    "        \n",
    "        # Address information (nested with multiple levels)\n",
    "        user[\"address\"] = {\n",
    "            \"street\": fake.street_address(),\n",
    "            \"city\": fake.city(),\n",
    "            \"state\": fake.state(),\n",
    "            \"country\": fake.country(),\n",
    "            \"postal_code\": fake.postcode(),\n",
    "            \"coordinates\": {\n",
    "                \"latitude\": float(fake.latitude()),\n",
    "                \"longitude\": float(fake.longitude())\n",
    "            }\n",
    "        }\n",
    "        \n",
    "        # Preferences (nested boolean flags)\n",
    "        user[\"preferences\"] = {\n",
    "            \"newsletter\": bool(random.choice([True, False])),\n",
    "            \"notifications\": {\n",
    "                \"email\": bool(random.choice([True, False])),\n",
    "                \"sms\": bool(random.choice([True, False])),\n",
    "                \"push\": bool(random.choice([True, False])),\n",
    "                \"frequency\": random.choice([\"daily\", \"weekly\", \"monthly\", \"never\"])\n",
    "            },\n",
    "            \"privacy\": {\n",
    "                \"profile_visible\": bool(random.choice([True, False])),\n",
    "                \"show_email\": bool(random.choice([True, False])),\n",
    "                \"show_location\": bool(random.choice([True, False]))\n",
    "            }\n",
    "        }\n",
    "        \n",
    "        # Simulate schema evolution - newer users have additional fields\n",
    "        if i > num_records * 0.3:  # 70% of users have these newer fields\n",
    "            user[\"social_media\"] = {\n",
    "                \"twitter\": f\"@{fake.user_name()}\" if random.random() > 0.3 else None,\n",
    "                \"linkedin\": fake.url() if random.random() > 0.5 else None,\n",
    "                \"github\": f\"github.com/{fake.user_name()}\" if random.random() > 0.7 else None\n",
    "            }\n",
    "            \n",
    "        if i > num_records * 0.6:  # 40% of users have these newest fields\n",
    "            user[\"subscription\"] = {\n",
    "                \"tier\": random.choice([\"free\", \"basic\", \"premium\", \"enterprise\"]),\n",
    "                \"start_date\": str(fake.date_between(start_date='-2y', end_date='today')),\n",
    "                \"auto_renew\": bool(random.choice([True, False]))\n",
    "            }\n",
    "            user[\"metrics\"] = {\n",
    "                \"login_count\": random.randint(1, 1000),\n",
    "                \"posts_created\": random.randint(0, 500),\n",
    "                \"comments_made\": random.randint(0, 2000),\n",
    "                \"last_activity\": str(fake.date_time_between(start_date='-7d', end_date='now'))\n",
    "            }\n",
    "        \n",
    "        # Some users have optional fields (simulate sparse data)\n",
    "        if random.random() > 0.7:\n",
    "            user[\"phone\"] = fake.phone_number()\n",
    "        \n",
    "        if random.random() > 0.8:\n",
    "            user[\"referral_code\"] = fake.bothify(text='REF-####-????')\n",
    "            user[\"referred_by\"] = str(fake.uuid4()) if random.random() > 0.5 else None\n",
    "        \n",
    "        users.append(user)\n",
    "    \n",
    "    return users\n",
    "\n",
    "# Generate sample user data\n",
    "print(\"Generating fake user data...\")\n",
    "user_data = generate_user_data(1000)\n",
    "print(f\"✅ Generated {len(user_data)} user records with evolving schemas\")\n",
    "\n",
    "# Show sample records demonstrating schema evolution\n",
    "print(\"\\nSample user records showing schema evolution:\")\n",
    "print(\"\\n1. Basic user (early schema):\")\n",
    "print(json.dumps(user_data[100], indent=2)[:600] + \"...\")\n",
    "print(\"\\n2. User with social media (mid evolution):\")\n",
    "print(json.dumps(user_data[500], indent=2)[:600] + \"...\")\n",
    "print(\"\\n3. User with full schema (latest):\")\n",
    "print(json.dumps(user_data[900], indent=2)[:600] + \"...\")\n"
   ]
  },
  {
   "cell_type": "code",
   "execution_count": 5,
   "id": "6431e72c",
   "metadata": {},
   "outputs": [
    {
     "name": "stdout",
     "output_type": "stream",
     "text": [
      "✅ Created folder: /Volumes/pavan_naidu/json/raw_data/users\n",
      "✅ Saved JSON data to: /Volumes/pavan_naidu/json/raw_data/users/user_data.json\n",
      "✅ Saved JSONL data to: /Volumes/pavan_naidu/json/raw_data/users/user_data.jsonl\n",
      "\n",
      "📂 Folder structure created:\n"
     ]
    },
    {
     "data": {
      "text/plain": [
       "[FileInfo(path='/Volumes/pavan_naidu/json/raw_data/users/user_data.json', name='user_data.json', size=1159692, modificationTime=1759511889000),\n",
       " FileInfo(path='/Volumes/pavan_naidu/json/raw_data/users/user_data.jsonl', name='user_data.jsonl', size=1158691, modificationTime=1759511890000)]"
      ]
     },
     "metadata": {},
     "output_type": "display_data"
    }
   ],
   "source": [
    "# Create a users folder in the volume\n",
    "users_folder = f\"{volume_path}/users\"\n",
    "try:\n",
    "    dbutils.fs.mkdirs(users_folder)\n",
    "    print(f\"✅ Created folder: {users_folder}\")\n",
    "except Exception as e:\n",
    "    print(f\"Folder might already exist: {e}\")\n",
    "\n",
    "# Save JSON data to users folder\n",
    "json_file_path = f\"{users_folder}/user_data.json\"\n",
    "\n",
    "# Write JSON data to file\n",
    "dbutils.fs.put(json_file_path, json.dumps(user_data), overwrite=True)\n",
    "print(f\"✅ Saved JSON data to: {json_file_path}\")\n",
    "\n",
    "# Also save as individual JSON lines for easier processing\n",
    "jsonl_file_path = f\"{users_folder}/user_data.jsonl\"\n",
    "jsonl_content = \"\\n\".join([json.dumps(user) for user in user_data])\n",
    "dbutils.fs.put(jsonl_file_path, jsonl_content, overwrite=True)\n",
    "print(f\"✅ Saved JSONL data to: {jsonl_file_path}\")\n",
    "\n",
    "# # Optionally, save data partitioned by subscription tier for those who have it\n",
    "# print(\"\\n📁 Creating partitioned data by subscription tier...\")\n",
    "# for user in user_data:\n",
    "#     if \"subscription\" in user:\n",
    "#         tier = user.get(\"subscription\", {}).get(\"tier\", \"unknown\")\n",
    "#         tier_folder = f\"{users_folder}/by_tier/{tier}\"\n",
    "        \n",
    "#         # Create tier folder if it doesn't exist\n",
    "#         try:\n",
    "#             dbutils.fs.mkdirs(tier_folder)\n",
    "#         except:\n",
    "#             pass  # Folder exists\n",
    "        \n",
    "#         # Save user to appropriate tier folder\n",
    "#         user_file = f\"{tier_folder}/{user['user_id']}.json\"\n",
    "#         dbutils.fs.put(user_file, json.dumps(user), overwrite=True)\n",
    "\n",
    "# print(\"✅ Created partitioned user data by subscription tier\")\n",
    "\n",
    "# List the created structure\n",
    "print(\"\\n📂 Folder structure created:\")\n",
    "display(dbutils.fs.ls(users_folder))\n"
   ]
  },
  {
   "cell_type": "markdown",
   "id": "386a4093",
   "metadata": {},
   "source": [
    "## 2. Creating Tables with VARIANT Data Type\n",
    "\n",
    "Let's create tables to store our JSON data using the VARIANT type.\n"
   ]
  },
  {
   "cell_type": "code",
   "execution_count": 6,
   "id": "af3baff3",
   "metadata": {},
   "outputs": [
    {
     "name": "stdout",
     "output_type": "stream",
     "text": [
      "✅ Created table: users_variant with column defaults enabled\n",
      "✅ Created table: users_extracted\n",
      "\n",
      "Table Schemas:\n",
      "+-------------------+---------+-------+\n",
      "|           col_name|data_type|comment|\n",
      "+-------------------+---------+-------+\n",
      "|            user_id|   string|   NULL|\n",
      "|           username|   string|   NULL|\n",
      "|              email|   string|   NULL|\n",
      "|          user_data|  variant|   NULL|\n",
      "|ingestion_timestamp|timestamp|   NULL|\n",
      "+-------------------+---------+-------+\n",
      "\n",
      "+-------------------+---------+-------+\n",
      "|           col_name|data_type|comment|\n",
      "+-------------------+---------+-------+\n",
      "|            user_id|   string|   NULL|\n",
      "|           username|   string|   NULL|\n",
      "|              email|   string|   NULL|\n",
      "|               name|   string|   NULL|\n",
      "|                age|      int|   NULL|\n",
      "|               city|   string|   NULL|\n",
      "|            country|   string|   NULL|\n",
      "|  subscription_tier|   string|   NULL|\n",
      "|          user_data|  variant|   NULL|\n",
      "|ingestion_timestamp|timestamp|   NULL|\n",
      "+-------------------+---------+-------+\n",
      "\n"
     ]
    }
   ],
   "source": [
    "# Drop tables if they exist\n",
    "spark.sql(\"DROP TABLE IF EXISTS users_variant\")\n",
    "spark.sql(\"DROP TABLE IF EXISTS users_extracted\")\n",
    "\n",
    "# Create a table with VARIANT column for user data\n",
    "# Enable Delta feature for column defaults\n",
    "spark.sql(f\"\"\"\n",
    "    CREATE TABLE IF NOT EXISTS users_variant (\n",
    "        user_id STRING,\n",
    "        username STRING,\n",
    "        email STRING,\n",
    "        user_data VARIANT,\n",
    "        ingestion_timestamp TIMESTAMP DEFAULT CURRENT_TIMESTAMP()\n",
    "    )\n",
    "    USING DELTA\n",
    "    TBLPROPERTIES('delta.feature.allowColumnDefaults' = 'supported')\n",
    "    COMMENT 'Table storing user data in VARIANT column'\n",
    "\"\"\")\n",
    "\n",
    "print(\"✅ Created table: users_variant with column defaults enabled\")\n",
    "\n",
    "# Create another table with extracted fields for performance comparison\n",
    "spark.sql(f\"\"\"\n",
    "    CREATE TABLE IF NOT EXISTS users_extracted (\n",
    "        user_id STRING,\n",
    "        username STRING,\n",
    "        email STRING,\n",
    "        name STRING,\n",
    "        age INT,\n",
    "        city STRING,\n",
    "        country STRING,\n",
    "        subscription_tier STRING,\n",
    "        user_data VARIANT,\n",
    "        ingestion_timestamp TIMESTAMP DEFAULT CURRENT_TIMESTAMP()\n",
    "    )\n",
    "    USING DELTA\n",
    "    TBLPROPERTIES('delta.feature.allowColumnDefaults' = 'supported')\n",
    "    COMMENT 'Table with commonly accessed fields extracted from VARIANT'\n",
    "\"\"\")\n",
    "\n",
    "print(\"✅ Created table: users_extracted\")\n",
    "\n",
    "# Show table schemas\n",
    "print(\"\\nTable Schemas:\")\n",
    "spark.sql(\"DESCRIBE TABLE users_variant\").show()\n",
    "spark.sql(\"DESCRIBE TABLE users_extracted\").show()\n"
   ]
  },
  {
   "cell_type": "markdown",
   "id": "46f420ad",
   "metadata": {},
   "source": [
    "## 3. Loading Data into VARIANT Columns\n",
    "\n",
    "Now let's load our JSON data into the tables using different methods.\n"
   ]
  },
  {
   "cell_type": "code",
   "execution_count": null,
   "id": "ce9e0c04",
   "metadata": {},
   "outputs": [
    {
     "data": {
      "application/vnd.jupyter.widget-view+json": {
       "model_id": "a097ae0ad4b4454cad0de780140bfedc",
       "version_major": 2,
       "version_minor": 0
      },
      "text/plain": [
       "HBox(children=(IntProgress(value=0, bar_style='success'), Label(value='')))"
      ]
     },
     "metadata": {},
     "output_type": "display_data"
    },
    {
     "data": {
      "application/vnd.jupyter.widget-view+json": {
       "model_id": "afa9ee0b96e743818c444c4b6087a5e4",
       "version_major": 2,
       "version_minor": 0
      },
      "text/plain": [
       "HBox(children=(IntProgress(value=0, bar_style='success'), Label(value='')))"
      ]
     },
     "metadata": {},
     "output_type": "display_data"
    },
    {
     "name": "stdout",
     "output_type": "stream",
     "text": [
      "✅ Loaded 1000 records into users_variant using PARSE_JSON\n",
      "\n",
      "Sample data from users_variant:\n"
     ]
    },
    {
     "data": {
      "application/vnd.jupyter.widget-view+json": {
       "model_id": "bdc5819b38bc448d8002c8c44b0d8e8a",
       "version_major": 2,
       "version_minor": 0
      },
      "text/plain": [
       "HBox(children=(IntProgress(value=0, bar_style='success'), Label(value='')))"
      ]
     },
     "metadata": {},
     "output_type": "display_data"
    },
    {
     "name": "stdout",
     "output_type": "stream",
     "text": [
      "+------------------------------------+---------------+---------------------+--------------------------------------------------------------------------------------------------------------------------------------------------------------------------------------------------------------------------------------------------------------------------------------------------------------------------------------------------------------------------------------------------------------------------------------------------------------------------------------------------------------------------------------------------------------------------------------------------------------------------------------------------------------------------------------------------------------------------------------------------------------------------------------------------------------------------------------------------------------------------------------------------------------------------------------------------------------------------------------+--------------------------+\n",
      "|user_id                             |username       |email                |user_data                                                                                                                                                                                                                                                                                                                                                                                                                                                                                                                                                                                                                                                                                                                                                                                                                                                                                                                                                                             |ingestion_timestamp       |\n",
      "+------------------------------------+---------------+---------------------+--------------------------------------------------------------------------------------------------------------------------------------------------------------------------------------------------------------------------------------------------------------------------------------------------------------------------------------------------------------------------------------------------------------------------------------------------------------------------------------------------------------------------------------------------------------------------------------------------------------------------------------------------------------------------------------------------------------------------------------------------------------------------------------------------------------------------------------------------------------------------------------------------------------------------------------------------------------------------------------+--------------------------+\n",
      "|f2c26ef9-faf9-4763-acda-69b58428dd3d|coryjohnston   |smartinez@example.com|{\"address\":{\"city\":\"Maldonadoside\",\"coordinates\":{\"latitude\":80.897585,\"longitude\":148.713913},\"country\":\"Norfolk Island\",\"postal_code\":\"15508\",\"state\":\"Iowa\",\"street\":\"357 Carter Crossing Suite 740\"},\"age\":54,\"created_at\":\"2021-09-25 11:54:16.150673\",\"email\":\"smartinez@example.com\",\"last_login\":\"2025-09-22 14:07:29.996581\",\"name\":\"Jesse Jones\",\"preferences\":{\"newsletter\":false,\"notifications\":{\"email\":true,\"frequency\":\"weekly\",\"push\":true,\"sms\":true},\"privacy\":{\"profile_visible\":false,\"show_email\":false,\"show_location\":false}},\"profile\":{\"bio\":\"Several operation employee step road. Tend officer everyone large American debate data.\",\"company\":\"Rogers and Sons\",\"interests\":[\"ball\",\"security\",\"if\",\"Mr\",\"center\"],\"occupation\":\"Contractor\",\"skills\":[\"IT sales professional\",\"Diplomatic Services operational officer\"]},\"referral_code\":\"REF-4625-ONZk\",\"referred_by\":null,\"user_id\":\"f2c26ef9-faf9-4763-acda-69b58428dd3d\",\"username\":\"coryjohnston\"}|2025-10-03 17:19:23.189129|\n",
      "|f13c3beb-db94-4219-91b3-805766b189e9|jonathanskinner|lsoto@example.com    |{\"address\":{\"city\":\"Veronicabury\",\"coordinates\":{\"latitude\":7.9301675,\"longitude\":153.800439},\"country\":\"Uganda\",\"postal_code\":\"81636\",\"state\":\"Arkansas\",\"street\":\"399 Hernandez Streets Suite 451\"},\"age\":79,\"created_at\":\"2022-06-09 22:19:27.545010\",\"email\":\"lsoto@example.com\",\"last_login\":\"2025-10-03 01:56:57.127124\",\"name\":\"Susan Murphy\",\"preferences\":{\"newsletter\":true,\"notifications\":{\"email\":true,\"frequency\":\"daily\",\"push\":false,\"sms\":false},\"privacy\":{\"profile_visible\":false,\"show_email\":true,\"show_location\":false}},\"profile\":{\"bio\":\"Owner simply animal stage television perhaps.\\nIn else able. Central body successful many answer message difficult.\",\"company\":\"Lewis-Sanchez\",\"interests\":[\"sound\",\"family\",\"international\",\"report\",\"why\"],\"occupation\":\"Engineer, petroleum\",\"skills\":[]},\"user_id\":\"f13c3beb-db94-4219-91b3-805766b189e9\",\"username\":\"jonathanskinner\"}                                                                          |2025-10-03 17:19:23.189129|\n",
      "|d1d84a7b-f575-424a-ba45-e668353378ba|baileyryan     |greg66@example.org   |{\"address\":{\"city\":\"South Kimberly\",\"coordinates\":{\"latitude\":14.470828,\"longitude\":161.458697},\"country\":\"Burundi\",\"postal_code\":\"02958\",\"state\":\"Alabama\",\"street\":\"616 Richard Landing Suite 875\"},\"age\":75,\"created_at\":\"2022-05-14 16:59:33.933958\",\"email\":\"greg66@example.org\",\"last_login\":\"2025-09-19 10:36:27.888654\",\"name\":\"Ana Elliott\",\"preferences\":{\"newsletter\":false,\"notifications\":{\"email\":true,\"frequency\":\"monthly\",\"push\":true,\"sms\":false},\"privacy\":{\"profile_visible\":true,\"show_email\":false,\"show_location\":true}},\"profile\":{\"bio\":\"Industry represent wait debate manager country your. Describe well card education although involve law bad. Itself be service.\\nSafe whole new even. For around forward environmental finally job.\",\"company\":\"Rivera-Avery\",\"interests\":[\"language\"],\"occupation\":\"Colour technologist\",\"skills\":[]},\"user_id\":\"d1d84a7b-f575-424a-ba45-e668353378ba\",\"username\":\"baileyryan\"}                                     |2025-10-03 17:19:23.189129|\n",
      "|2bc39a74-8c7c-49c7-b569-cef7996cb906|shelly98       |vwilson@example.com  |{\"address\":{\"city\":\"Terriville\",\"coordinates\":{\"latitude\":79.325749,\"longitude\":122.129595},\"country\":\"Falkland Islands (Malvinas)\",\"postal_code\":\"38003\",\"state\":\"Indiana\",\"street\":\"4021 Ortiz Forges\"},\"age\":57,\"created_at\":\"2023-10-30 12:32:30.297131\",\"email\":\"vwilson@example.com\",\"last_login\":\"2025-09-12 19:57:14.492500\",\"name\":\"Amanda Santiago\",\"preferences\":{\"newsletter\":true,\"notifications\":{\"email\":true,\"frequency\":\"never\",\"push\":true,\"sms\":true},\"privacy\":{\"profile_visible\":true,\"show_email\":true,\"show_location\":false}},\"profile\":{\"bio\":\"Stock tax Congress available.\\nForce determine process think enjoy. Trade its risk civil really list degree. Statement though where house.\",\"company\":\"Bartlett, Watson and Wilson\",\"interests\":[\"significant\",\"now\",\"memory\",\"yet\",\"against\"],\"occupation\":\"Horticulturist, commercial\",\"skills\":[]},\"user_id\":\"2bc39a74-8c7c-49c7-b569-cef7996cb906\",\"username\":\"shelly98\"}                                  |2025-10-03 17:19:23.189129|\n",
      "|c11c7617-3e4e-4a97-9d06-c40ec67191c7|villarrealdylan|joseburke@example.org|{\"address\":{\"city\":\"New Stephanieport\",\"coordinates\":{\"latitude\":18.0903375,\"longitude\":31.522856},\"country\":\"Czech Republic\",\"postal_code\":\"62540\",\"state\":\"Vermont\",\"street\":\"008 Alexander Way Apt. 443\"},\"age\":21,\"created_at\":\"2023-01-21 20:43:01.786441\",\"email\":\"joseburke@example.org\",\"last_login\":\"2025-09-19 20:38:05.509859\",\"name\":\"Matthew Campbell\",\"phone\":\"826.822.1304x0299\",\"preferences\":{\"newsletter\":false,\"notifications\":{\"email\":false,\"frequency\":\"weekly\",\"push\":true,\"sms\":false},\"privacy\":{\"profile_visible\":false,\"show_email\":true,\"show_location\":false}},\"profile\":{\"bio\":\"Produce analysis along whatever easy over. New foreign indicate system letter think. Agency happy yard expert method see or.\",\"company\":\"Smith PLC\",\"interests\":[\"skill\",\"action\",\"get\",\"store\",\"firm\"],\"occupation\":\"Agricultural consultant\",\"skills\":[]},\"user_id\":\"c11c7617-3e4e-4a97-9d06-c40ec67191c7\",\"username\":\"villarrealdylan\"}                              |2025-10-03 17:19:23.189129|\n",
      "+------------------------------------+---------------+---------------------+--------------------------------------------------------------------------------------------------------------------------------------------------------------------------------------------------------------------------------------------------------------------------------------------------------------------------------------------------------------------------------------------------------------------------------------------------------------------------------------------------------------------------------------------------------------------------------------------------------------------------------------------------------------------------------------------------------------------------------------------------------------------------------------------------------------------------------------------------------------------------------------------------------------------------------------------------------------------------------------+--------------------------+\n",
      "\n"
     ]
    }
   ],
   "source": [
    "# Method 1: Load from JSON file using PARSE_JSON\n",
    "spark.sql(f\"\"\"\n",
    "    INSERT INTO users_variant (user_id, username, email, user_data)\n",
    "    SELECT \n",
    "        PARSE_JSON(value):user_id::String as user_id,\n",
    "        PARSE_JSON(value):username as username,\n",
    "        PARSE_JSON(value):email as email,\n",
    "        PARSE_JSON(value) as user_data\n",
    "    FROM (\n",
    "        SELECT value \n",
    "        FROM text.`{jsonl_file_path}`\n",
    "    )\n",
    "\"\"\")\n",
    "\n",
    "count = spark.sql(\"SELECT COUNT(*) FROM users_variant\").collect()[0][0]\n",
    "print(f\"✅ Loaded {count} records into users_variant using PARSE_JSON\")\n",
    "\n",
    "# Show sample data\n",
    "print(\"\\nSample data from users_variant:\")\n",
    "spark.sql(\"SELECT * FROM users_variant LIMIT 5\").show(truncate=False)\n"
   ]
  },
  {
   "cell_type": "code",
   "execution_count": 8,
   "id": "9f4dac47",
   "metadata": {},
   "outputs": [
    {
     "data": {
      "application/vnd.jupyter.widget-view+json": {
       "model_id": "30814e86affe42ceac5d1b196f424dda",
       "version_major": 2,
       "version_minor": 0
      },
      "text/plain": [
       "HBox(children=(IntProgress(value=0, bar_style='success'), Label(value='')))"
      ]
     },
     "metadata": {},
     "output_type": "display_data"
    },
    {
     "data": {
      "application/vnd.jupyter.widget-view+json": {
       "model_id": "ab23ba043904465da1a1d60d1798fbdd",
       "version_major": 2,
       "version_minor": 0
      },
      "text/plain": [
       "HBox(children=(IntProgress(value=0, bar_style='success'), Label(value='')))"
      ]
     },
     "metadata": {},
     "output_type": "display_data"
    },
    {
     "name": "stdout",
     "output_type": "stream",
     "text": [
      "✅ Loaded 1000 records into users_extracted with extracted fields\n",
      "\n",
      "Sample data from users_extracted (with extracted fields):\n"
     ]
    },
    {
     "data": {
      "application/vnd.jupyter.widget-view+json": {
       "model_id": "e4412258f04a44a9a4a7cf36fbbc44c4",
       "version_major": 2,
       "version_minor": 0
      },
      "text/plain": [
       "HBox(children=(IntProgress(value=0, bar_style='success'), Label(value='')))"
      ]
     },
     "metadata": {},
     "output_type": "display_data"
    },
    {
     "name": "stdout",
     "output_type": "stream",
     "text": [
      "+------------------------------------+----------------+---+-----------------+-----------------+\n",
      "|user_id                             |name            |age|city             |subscription_tier|\n",
      "+------------------------------------+----------------+---+-----------------+-----------------+\n",
      "|f2c26ef9-faf9-4763-acda-69b58428dd3d|Jesse Jones     |54 |Maldonadoside    |NULL             |\n",
      "|f13c3beb-db94-4219-91b3-805766b189e9|Susan Murphy    |79 |Veronicabury     |NULL             |\n",
      "|d1d84a7b-f575-424a-ba45-e668353378ba|Ana Elliott     |75 |South Kimberly   |NULL             |\n",
      "|2bc39a74-8c7c-49c7-b569-cef7996cb906|Amanda Santiago |57 |Terriville       |NULL             |\n",
      "|c11c7617-3e4e-4a97-9d06-c40ec67191c7|Matthew Campbell|21 |New Stephanieport|NULL             |\n",
      "+------------------------------------+----------------+---+-----------------+-----------------+\n",
      "\n"
     ]
    }
   ],
   "source": [
    "# Method 2: Load data with extracted fields for optimized queries\n",
    "spark.sql(f\"\"\"\n",
    "    INSERT INTO users_extracted \n",
    "    SELECT \n",
    "        PARSE_JSON(value):user_id as user_id,\n",
    "        PARSE_JSON(value):username as username,\n",
    "        PARSE_JSON(value):email as email,\n",
    "        PARSE_JSON(value):name as name,\n",
    "        CAST(PARSE_JSON(value):age AS INT) as age,\n",
    "        PARSE_JSON(value):address.city as city,\n",
    "        PARSE_JSON(value):address.country as country,\n",
    "        PARSE_JSON(value):subscription.tier as subscription_tier,\n",
    "        PARSE_JSON(value) as user_data,\n",
    "        CURRENT_TIMESTAMP() as ingestion_timestamp\n",
    "    FROM (\n",
    "        SELECT value \n",
    "        FROM text.`{jsonl_file_path}`\n",
    "    )\n",
    "\"\"\")\n",
    "\n",
    "count = spark.sql(\"SELECT COUNT(*) FROM users_extracted\").collect()[0][0]\n",
    "print(f\"✅ Loaded {count} records into users_extracted with extracted fields\")\n",
    "\n",
    "# Show sample\n",
    "print(\"\\nSample data from users_extracted (with extracted fields):\")\n",
    "spark.sql(\"SELECT user_id, name, age, city, subscription_tier FROM users_extracted LIMIT 5\").show(truncate=False)\n"
   ]
  },
  {
   "cell_type": "markdown",
   "id": "0d16a82d",
   "metadata": {},
   "source": [
    "## VARIANT Query Notation Reference\n",
    "\n",
    "Before diving into examples, here's the correct notation for querying VARIANT data:\n",
    "\n",
    "### Basic Notation Rules:\n",
    "\n",
    "1. **Field Access**: Use `:` to access top-level fields\n",
    "   ```sql\n",
    "   column_name:field_name\n",
    "   ```\n",
    "\n",
    "2. **Subfield Access**: Use `.` to access nested fields\n",
    "   ```sql\n",
    "   column_name:field_name.subfield_name\n",
    "   ```\n",
    "\n",
    "3. **Array Element Access**: Use `[n]` to access array elements by index\n",
    "   ```sql\n",
    "   column_name:array_name[0]  -- First element (0-indexed)\n",
    "   column_name:array_name[1]  -- Second element\n",
    "   ```\n",
    "\n",
    "### Examples:\n",
    "\n",
    "```sql\n",
    "-- Correct VARIANT notation examples\n",
    "SELECT \n",
    "  user_data:name as name,                           -- Field access\n",
    "  user_data:age as age,                             -- Field access\n",
    "  user_data:profile.bio as bio,                     -- Subfield access\n",
    "  user_data:address.city as city,                   -- Nested subfield\n",
    "  user_data:address.coordinates.latitude as lat,    -- Deeply nested subfield\n",
    "  user_data:interests[0] as first_interest,         -- Array element access\n",
    "  user_data:profile.skills[1] as second_skill       -- Array element in nested object\n",
    "FROM users_variant;\n",
    "```\n"
   ]
  },
  {
   "cell_type": "markdown",
   "id": "c44139d9",
   "metadata": {},
   "source": [
    "## 4. Querying VARIANT Data - Basic Access Patterns\n",
    "\n",
    "Let's explore different ways to access and query data stored in VARIANT columns.\n"
   ]
  },
  {
   "cell_type": "code",
   "execution_count": 9,
   "id": "7240c5db",
   "metadata": {},
   "outputs": [
    {
     "name": "stdout",
     "output_type": "stream",
     "text": [
      "=== Accessing Nested Fields ===\n",
      "\n",
      "VARIANT Query Notation:\n",
      "- Field access: column_name:field_name\n",
      "- Subfield access: column_name:field_name.subfield_name\n",
      "- Array access: column_name:array_name[n]\n",
      "\n"
     ]
    },
    {
     "data": {
      "application/vnd.jupyter.widget-view+json": {
       "model_id": "906c5574d1ef4ddb9c4592b92a8133a1",
       "version_major": 2,
       "version_minor": 0
      },
      "text/plain": [
       "HBox(children=(IntProgress(value=0, bar_style='success'), Label(value='')))"
      ]
     },
     "metadata": {},
     "output_type": "display_data"
    },
    {
     "name": "stdout",
     "output_type": "stream",
     "text": [
      "+------------------------------------+-------------------+---+----------------------------------------------------------------------------------------------------------------------------------------------------------------------------------------+-------------------------------+-----------------+-----------+-----------+\n",
      "|user_id                             |name               |age|bio                                                                                                                                                                                     |occupation                     |city             |latitude   |longitude  |\n",
      "+------------------------------------+-------------------+---+----------------------------------------------------------------------------------------------------------------------------------------------------------------------------------------+-------------------------------+-----------------+-----------+-----------+\n",
      "|dda976ab-46ff-4451-8c48-9ceb4a053df9|\"Elizabeth Miller\" |40 |\"Right sense step garden since. Total like example read. Those avoid agree that term become stuff.\\nRace approach fall election. Our read long gas blood.\"                              |\"Risk analyst\"                 |\"West Jessemouth\"|-55.8210805|41.39566   |\n",
      "|2fb91262-8498-42ac-86ce-668470dde27f|\"Michael Singleton\"|49 |\"Several prepare point stand parent.\\nVarious describe week life. Water state factor rest pass here marriage.\"                                                                          |\"Immunologist\"                 |\"Williamtown\"    |-13.530003 |-114.994128|\n",
      "|c118750b-97ac-431a-aded-10175fee65e4|\"Joseph Underwood\" |25 |\"Sign morning worker hear media. Hotel want artist customer.\\nOrganization foreign small commercial would natural side. Test machine move bank stop.\"                                   |\"Industrial/product designer\"  |\"Kellyport\"      |-14.9737595|-143.331446|\n",
      "|4957a6b8-c394-4de8-80ec-20f71d2fcd46|\"Shane Martin\"     |38 |\"Fact town be finish deal yourself. Control personal whether level person. Court pattern five high science several.\\nGround western adult wait. None price evening particular low near.\"|\"Designer, television/film set\"|\"New Kristin\"    |-27.11294  |-174.629929|\n",
      "|a1be48af-8fe6-485b-9898-f6973d954735|\"Kelsey Fritz\"     |45 |\"Husband realize sell edge near debate. Special analysis leader factor voice information.\\nList alone seem. Positive research thousand wear board.\"                                     |\"Hospital pharmacist\"          |\"New Dianaview\"  |44.8780905 |-179.063903|\n",
      "+------------------------------------+-------------------+---+----------------------------------------------------------------------------------------------------------------------------------------------------------------------------------------+-------------------------------+-----------------+-----------+-----------+\n",
      "\n"
     ]
    }
   ],
   "source": [
    "# Accessing nested fields using correct VARIANT notation\n",
    "print(\"=== Accessing Nested Fields ===\\n\")\n",
    "print(\"VARIANT Query Notation:\")\n",
    "print(\"- Field access: column_name:field_name\")\n",
    "print(\"- Subfield access: column_name:field_name.subfield_name\") \n",
    "print(\"- Array access: column_name:array_name[n]\")\n",
    "print()\n",
    "\n",
    "spark.sql(\"\"\"\n",
    "    SELECT \n",
    "        user_id,\n",
    "        user_data:name as name,\n",
    "        user_data:age as age,\n",
    "        user_data:profile.bio as bio,\n",
    "        user_data:profile.occupation as occupation,\n",
    "        user_data:address.city as city,\n",
    "        user_data:address.coordinates.latitude as latitude,\n",
    "        user_data:address.coordinates.longitude as longitude\n",
    "    FROM users_variant\n",
    "    LIMIT 5\n",
    "\"\"\").show(truncate=False)\n"
   ]
  },
  {
   "cell_type": "code",
   "execution_count": 10,
   "id": "b4e636f8",
   "metadata": {},
   "outputs": [
    {
     "name": "stdout",
     "output_type": "stream",
     "text": [
      "\n",
      "=== is_variant_null Function Examples ===\n",
      "\n",
      "Basic example - difference between is_variant_null() and IS NULL:\n"
     ]
    },
    {
     "data": {
      "application/vnd.jupyter.widget-view+json": {
       "model_id": "0d958f06e7b148d7a2b3a199796c30ef",
       "version_major": 2,
       "version_minor": 0
      },
      "text/plain": [
       "HBox(children=(IntProgress(value=0, bar_style='success'), Label(value='')))"
      ]
     },
     "metadata": {},
     "output_type": "display_data"
    },
    {
     "name": "stdout",
     "output_type": "stream",
     "text": [
      "+--------------------+-------------------+-----------+\n",
      "|                data|age_is_variant_null|age_is_null|\n",
      "+--------------------+-------------------+-----------+\n",
      "|{\"age\":null,\"name...|               true|      false|\n",
      "+--------------------+-------------------+-----------+\n",
      "\n",
      "\n",
      "Filtering records where city is variant null:\n",
      "+------+----+\n",
      "|  name|city|\n",
      "+------+----+\n",
      "|\"John\"|null|\n",
      "| \"Bob\"|null|\n",
      "+------+----+\n",
      "\n",
      "\n",
      "✅ Simple examples of is_variant_null function!\n",
      "📚 Reference: https://docs.databricks.com/gcp/en/sql/language-manual/functions/is_variant_null\n"
     ]
    }
   ],
   "source": [
    "# Handling NULL values in VARIANT with is_variant_null function\n",
    "print(\"\\n=== is_variant_null Function Examples ===\\n\")\n",
    "\n",
    "# Simple example: is_variant_null vs IS NULL\n",
    "print(\"Basic example - difference between is_variant_null() and IS NULL:\")\n",
    "spark.sql(\"\"\"\n",
    "    SELECT \n",
    "        parse_json('{\"name\": \"John\", \"age\": null}') as data,\n",
    "        is_variant_null(parse_json('{\"name\": \"John\", \"age\": null}'):age) as age_is_variant_null,\n",
    "        parse_json('{\"name\": \"John\", \"age\": null}'):age IS NULL as age_is_null\n",
    "\"\"\").show()\n",
    "\n",
    "# Filtering with is_variant_null\n",
    "print(\"\\nFiltering records where city is variant null:\")\n",
    "spark.sql(\"\"\"\n",
    "    SELECT \n",
    "        data:name as name,\n",
    "        data:city as city\n",
    "    FROM VALUES\n",
    "        (parse_json('{\"name\": \"John\", \"city\": null}')),\n",
    "        (parse_json('{\"name\": \"Jane\", \"city\": \"NYC\"}')),\n",
    "        (parse_json('{\"name\": \"Bob\", \"city\": null}'))\n",
    "    AS T(data)\n",
    "    WHERE is_variant_null(data:city) = true\n",
    "\"\"\").show()\n",
    "\n",
    "print(\"\\n✅ Simple examples of is_variant_null function!\")\n",
    "print(\"📚 Reference: https://docs.databricks.com/gcp/en/sql/language-manual/functions/is_variant_null\")\n"
   ]
  },
  {
   "cell_type": "code",
   "execution_count": 10,
   "id": "c9d704fd",
   "metadata": {},
   "outputs": [
    {
     "name": "stdout",
     "output_type": "stream",
     "text": [
      "=== Accessing Array Elements in VARIANT ===\n",
      "\n"
     ]
    },
    {
     "data": {
      "application/vnd.jupyter.widget-view+json": {
       "model_id": "1f6fcb0b9de146e0988f3c006d275aac",
       "version_major": 2,
       "version_minor": 0
      },
      "text/plain": [
       "HBox(children=(IntProgress(value=0, bar_style='success'), Label(value='')))"
      ]
     },
     "metadata": {},
     "output_type": "display_data"
    },
    {
     "name": "stdout",
     "output_type": "stream",
     "text": [
      "+------------------------------------+---------------+-------------------------------------------------+------------------+--------------+---------------+---------------+-------------------------------------------------------------------+\n",
      "|user_id                             |username       |interests                                        |first_interest_len|first_interest|second_interest|total_interests|all_skills                                                         |\n",
      "+------------------------------------+---------------+-------------------------------------------------+------------------+--------------+---------------+---------------+-------------------------------------------------------------------+\n",
      "|f2c26ef9-faf9-4763-acda-69b58428dd3d|coryjohnston   |[\"ball\",\"security\",\"if\",\"Mr\",\"center\"]           |4                 |\"ball\"        |\"security\"     |5              |[\"IT sales professional\",\"Diplomatic Services operational officer\"]|\n",
      "|f13c3beb-db94-4219-91b3-805766b189e9|jonathanskinner|[\"sound\",\"family\",\"international\",\"report\",\"why\"]|5                 |\"sound\"       |\"family\"       |5              |[]                                                                 |\n",
      "|d1d84a7b-f575-424a-ba45-e668353378ba|baileyryan     |[\"language\"]                                     |8                 |\"language\"    |NULL           |1              |[]                                                                 |\n",
      "|2bc39a74-8c7c-49c7-b569-cef7996cb906|shelly98       |[\"significant\",\"now\",\"memory\",\"yet\",\"against\"]   |11                |\"significant\" |\"now\"          |5              |[]                                                                 |\n",
      "|c11c7617-3e4e-4a97-9d06-c40ec67191c7|villarrealdylan|[\"skill\",\"action\",\"get\",\"store\",\"firm\"]          |5                 |\"skill\"       |\"action\"       |5              |[]                                                                 |\n",
      "+------------------------------------+---------------+-------------------------------------------------+------------------+--------------+---------------+---------------+-------------------------------------------------------------------+\n",
      "\n",
      "\n",
      "=== Exploding Arrays from VARIANT ===\n",
      "\n"
     ]
    },
    {
     "data": {
      "application/vnd.jupyter.widget-view+json": {
       "model_id": "7ef4f547fbc54bebacec996c1c2ce171",
       "version_major": 2,
       "version_minor": 0
      },
      "text/plain": [
       "HBox(children=(IntProgress(value=0, bar_style='success'), Label(value='')))"
      ]
     },
     "metadata": {},
     "output_type": "display_data"
    },
    {
     "name": "stdout",
     "output_type": "stream",
     "text": [
      "+------------------------------------+---------------+---------------+\n",
      "|user_id                             |username       |interest       |\n",
      "+------------------------------------+---------------+---------------+\n",
      "|f2c26ef9-faf9-4763-acda-69b58428dd3d|coryjohnston   |\"ball\"         |\n",
      "|f2c26ef9-faf9-4763-acda-69b58428dd3d|coryjohnston   |\"security\"     |\n",
      "|f2c26ef9-faf9-4763-acda-69b58428dd3d|coryjohnston   |\"if\"           |\n",
      "|f2c26ef9-faf9-4763-acda-69b58428dd3d|coryjohnston   |\"Mr\"           |\n",
      "|f2c26ef9-faf9-4763-acda-69b58428dd3d|coryjohnston   |\"center\"       |\n",
      "|f13c3beb-db94-4219-91b3-805766b189e9|jonathanskinner|\"sound\"        |\n",
      "|f13c3beb-db94-4219-91b3-805766b189e9|jonathanskinner|\"family\"       |\n",
      "|f13c3beb-db94-4219-91b3-805766b189e9|jonathanskinner|\"international\"|\n",
      "|f13c3beb-db94-4219-91b3-805766b189e9|jonathanskinner|\"report\"       |\n",
      "|f13c3beb-db94-4219-91b3-805766b189e9|jonathanskinner|\"why\"          |\n",
      "+------------------------------------+---------------+---------------+\n",
      "\n"
     ]
    }
   ],
   "source": [
    "# Accessing array elements within VARIANT\n",
    "print(\"=== Accessing Array Elements in VARIANT ===\\n\")\n",
    "\n",
    "spark.sql(\"\"\"\n",
    "    SELECT \n",
    "        user_id,\n",
    "        username,\n",
    "        user_data:profile.interests as interests,\n",
    "        LEN(user_data:profile.interests[0]) as first_interest_len,\n",
    "        user_data:profile.interests[0] as first_interest,\n",
    "        user_data:profile.interests[1] as second_interest,\n",
    "        SIZE(CAST(user_data:profile.interests AS ARRAY<STRING>)) as total_interests,\n",
    "        user_data:profile.skills as all_skills\n",
    "    FROM users_variant\n",
    "    WHERE NOT IS_VARIANT_NULL(user_data:profile.interests)\n",
    "    LIMIT 5\n",
    "\"\"\").show(truncate=False)\n",
    "\n",
    "# Using VARIANT_EXPLODE with arrays in VARIANT\n",
    "print(\"\\n=== Exploding Arrays from VARIANT ===\\n\")\n",
    "\n",
    "spark.sql(\"\"\"\n",
    "    SELECT \n",
    "        user_id,\n",
    "        username,\n",
    "        value as interest\n",
    "    FROM users_variant,\n",
    "    LATERAL VARIANT_EXPLODE(user_data:profile.interests)\n",
    "    LIMIT 10\n",
    "\"\"\").show(truncate=False)\n"
   ]
  },
  {
   "cell_type": "markdown",
   "id": "0c78006e",
   "metadata": {},
   "source": [
    "## 5. Type Casting and Conversion with VARIANT\n",
    "\n",
    "VARIANT columns can be cast to specific types when needed.\n"
   ]
  },
  {
   "cell_type": "code",
   "execution_count": 12,
   "id": "330c3e37",
   "metadata": {},
   "outputs": [
    {
     "name": "stdout",
     "output_type": "stream",
     "text": [
      "=== Type Casting VARIANT Fields ===\n",
      "\n"
     ]
    },
    {
     "data": {
      "application/vnd.jupyter.widget-view+json": {
       "model_id": "78adfe564d9e4889baca725ce4258b0b",
       "version_major": 2,
       "version_minor": 0
      },
      "text/plain": [
       "HBox(children=(IntProgress(value=0, bar_style='success'), Label(value='')))"
      ]
     },
     "metadata": {},
     "output_type": "display_data"
    },
    {
     "name": "stdout",
     "output_type": "stream",
     "text": [
      "+--------------------+-----------+-------+--------------------+---------------+---------------+\n",
      "|             user_id|age_variant|age_int|   created_timestamp|newsletter_bool|login_count_int|\n",
      "+--------------------+-----------+-------+--------------------+---------------+---------------+\n",
      "|dda976ab-46ff-445...|         40|     40|2020-11-04 05:22:...|          false|           NULL|\n",
      "|2fb91262-8498-42a...|         49|     49|2022-08-31 06:35:...|          false|           NULL|\n",
      "|c118750b-97ac-431...|         25|     25|2024-01-30 03:39:...|           true|           NULL|\n",
      "|4957a6b8-c394-4de...|         38|     38|2025-08-18 01:05:...|          false|           NULL|\n",
      "|a1be48af-8fe6-485...|         45|     45|2021-06-16 10:36:...|           true|           NULL|\n",
      "+--------------------+-----------+-------+--------------------+---------------+---------------+\n",
      "\n",
      "\n",
      "=== Safe Casting with TRY_CAST ===\n",
      "\n"
     ]
    },
    {
     "data": {
      "application/vnd.jupyter.widget-view+json": {
       "model_id": "99de4e90cb6a44d3b5cdaeeb843b8d06",
       "version_major": 2,
       "version_minor": 0
      },
      "text/plain": [
       "HBox(children=(IntProgress(value=0, bar_style='success'), Label(value='')))"
      ]
     },
     "metadata": {},
     "output_type": "display_data"
    },
    {
     "name": "stdout",
     "output_type": "stream",
     "text": [
      "+--------------------+---+-----------------+-----------+-------------------+--------------------+\n",
      "|             user_id|age|subscription_date|posts_count|       phone_number|     last_login_time|\n",
      "+--------------------+---+-----------------+-----------+-------------------+--------------------+\n",
      "|dda976ab-46ff-445...| 40|             NULL|       NULL|               NULL|2025-09-13 06:54:...|\n",
      "|2fb91262-8498-42a...| 49|             NULL|       NULL|+1-881-382-9613x465|2025-09-13 18:01:...|\n",
      "|c118750b-97ac-431...| 25|             NULL|       NULL| 332-791-8450x06374|2025-09-23 20:31:...|\n",
      "|4957a6b8-c394-4de...| 38|             NULL|       NULL|               NULL|2025-09-16 04:05:...|\n",
      "|a1be48af-8fe6-485...| 45|             NULL|       NULL|               NULL|2025-09-05 07:38:...|\n",
      "+--------------------+---+-----------------+-----------+-------------------+--------------------+\n",
      "\n"
     ]
    }
   ],
   "source": [
    "# Type casting VARIANT fields\n",
    "print(\"=== Type Casting VARIANT Fields ===\\n\")\n",
    "\n",
    "spark.sql(\"\"\"\n",
    "    SELECT \n",
    "        user_id,\n",
    "        user_data:age as age_variant,\n",
    "        CAST(user_data:age AS INT) as age_int,\n",
    "        CAST(user_data:created_at AS TIMESTAMP) as created_timestamp,\n",
    "        CAST(user_data:preferences.newsletter AS BOOLEAN) as newsletter_bool,\n",
    "        CAST(user_data:metrics.login_count AS INT) as login_count_int\n",
    "    FROM users_variant\n",
    "    LIMIT 5\n",
    "\"\"\").show()\n",
    "\n",
    "# Using TRY_CAST for safe casting (handles nulls gracefully)\n",
    "print(\"\\n=== Safe Casting with TRY_CAST ===\\n\")\n",
    "\n",
    "spark.sql(\"\"\"\n",
    "    SELECT \n",
    "        user_id,\n",
    "        TRY_CAST(user_data:age AS INT) as age,\n",
    "        TRY_CAST(user_data:subscription.start_date AS DATE) as subscription_date,\n",
    "        TRY_CAST(user_data:metrics.posts_created AS INT) as posts_count,\n",
    "        TRY_CAST(user_data:phone AS STRING) as phone_number,\n",
    "        TRY_CAST(user_data:last_login AS TIMESTAMP) as last_login_time\n",
    "    FROM users_variant\n",
    "    LIMIT 5\n",
    "\"\"\").show()\n"
   ]
  },
  {
   "cell_type": "markdown",
   "id": "7b48d029",
   "metadata": {},
   "source": [
    "## 6. VARIANT Functions and Operations\n",
    "\n",
    "Databricks provides several functions specifically for working with VARIANT data.\n"
   ]
  },
  {
   "cell_type": "code",
   "execution_count": 13,
   "id": "097d7806",
   "metadata": {},
   "outputs": [
    {
     "name": "stdout",
     "output_type": "stream",
     "text": [
      "=== Using VARIANT_GET Function ===\n",
      "\n"
     ]
    },
    {
     "data": {
      "application/vnd.jupyter.widget-view+json": {
       "model_id": "6942f582bf6e4f4dba230865a9001e74",
       "version_major": 2,
       "version_minor": 0
      },
      "text/plain": [
       "HBox(children=(IntProgress(value=0, bar_style='success'), Label(value='')))"
      ]
     },
     "metadata": {},
     "output_type": "display_data"
    },
    {
     "name": "stdout",
     "output_type": "stream",
     "text": [
      "+------------------------------------+-----------------+---+-----------------------------------------+-------------+\n",
      "|user_id                             |name             |age|interests                                |missing_field|\n",
      "+------------------------------------+-----------------+---+-----------------------------------------+-------------+\n",
      "|dda976ab-46ff-4451-8c48-9ceb4a053df9|Elizabeth Miller |40 |[decade]                                 |NULL         |\n",
      "|2fb91262-8498-42ac-86ce-668470dde27f|Michael Singleton|49 |[eye]                                    |NULL         |\n",
      "|c118750b-97ac-431a-aded-10175fee65e4|Joseph Underwood |25 |[future, soldier, alone, around, produce]|NULL         |\n",
      "+------------------------------------+-----------------+---+-----------------------------------------+-------------+\n",
      "\n"
     ]
    }
   ],
   "source": [
    "# VARIANT_GET function to safely extract values\n",
    "print(\"=== Using VARIANT_GET Function ===\\n\")\n",
    "\n",
    "spark.sql(\"\"\"\n",
    "    SELECT \n",
    "        user_id,\n",
    "        VARIANT_GET(user_data, '$.name', 'STRING') as name,\n",
    "        VARIANT_GET(user_data, '$.age', 'INT') as age,\n",
    "        VARIANT_GET(user_data, '$.profile.interests', 'ARRAY<STRING>') as interests,\n",
    "        VARIANT_GET(user_data, '$.non_existent_field', 'STRING') as missing_field\n",
    "    FROM users_variant\n",
    "    LIMIT 3\n",
    "\"\"\").show(truncate=False)\n"
   ]
  },
  {
   "cell_type": "code",
   "execution_count": 14,
   "id": "23a91cd5",
   "metadata": {},
   "outputs": [
    {
     "name": "stdout",
     "output_type": "stream",
     "text": [
      "=== Converting between VARIANT and JSON strings ===\n",
      "\n"
     ]
    },
    {
     "data": {
      "application/vnd.jupyter.widget-view+json": {
       "model_id": "0662b8983d5b483587eafcd6c5c9ed37",
       "version_major": 2,
       "version_minor": 0
      },
      "text/plain": [
       "HBox(children=(IntProgress(value=0, bar_style='success'), Label(value='')))"
      ]
     },
     "metadata": {},
     "output_type": "display_data"
    },
    {
     "name": "stdout",
     "output_type": "stream",
     "text": [
      "+------------------------------------+------------------------------------------------------------------------------------------------------------------------------------------------------------------------------------------------------------------------------------------------------------------------------------------------------------------------------------------------------------------------------------------------------------------------------------------------------------------------------------------------------------------------------------------------------------------------------------------------------------------------------------------------------------------------------------------------------------------------------------------------------------------------------------------------------------------------------------------------------------------------------------------------------------------------------------------------------------------------------------------------------------------------------+-----------+---------------------------------------------------------------------------------------------------------------------------------------------------------------------------------------------------------+\n",
      "|user_id                             |json_string                                                                                                                                                                                                                                                                                                                                                                                                                                                                                                                                                                                                                                                                                                                                                                                                                                                                                                                                                                                                                   |json_length|address_variant                                                                                                                                                                                          |\n",
      "+------------------------------------+------------------------------------------------------------------------------------------------------------------------------------------------------------------------------------------------------------------------------------------------------------------------------------------------------------------------------------------------------------------------------------------------------------------------------------------------------------------------------------------------------------------------------------------------------------------------------------------------------------------------------------------------------------------------------------------------------------------------------------------------------------------------------------------------------------------------------------------------------------------------------------------------------------------------------------------------------------------------------------------------------------------------------+-----------+---------------------------------------------------------------------------------------------------------------------------------------------------------------------------------------------------------+\n",
      "|dda976ab-46ff-4451-8c48-9ceb4a053df9|{\"address\":{\"city\":\"West Jessemouth\",\"coordinates\":{\"latitude\":-55.8210805,\"longitude\":41.39566},\"country\":\"Bermuda\",\"postal_code\":\"10341\",\"state\":\"Oregon\",\"street\":\"645 Bowen Rapids Apt. 359\"},\"age\":40,\"created_at\":\"2020-11-04 05:22:50.610647\",\"email\":\"michaeloconnell@example.net\",\"last_login\":\"2025-09-13 06:54:37.852868\",\"name\":\"Elizabeth Miller\",\"preferences\":{\"newsletter\":false,\"notifications\":{\"email\":false,\"frequency\":\"never\",\"push\":true,\"sms\":false},\"privacy\":{\"profile_visible\":false,\"show_email\":false,\"show_location\":false}},\"profile\":{\"bio\":\"Right sense step garden since. Total like example read. Those avoid agree that term become stuff.\\nRace approach fall election. Our read long gas blood.\",\"company\":\"Fletcher Group\",\"interests\":[\"decade\"],\"occupation\":\"Risk analyst\",\"skills\":[\"Further education lecturer\",\"Embryologist, clinical\",\"Midwife\"]},\"referral_code\":\"REF-5146-wBSl\",\"referred_by\":null,\"user_id\":\"dda976ab-46ff-4451-8c48-9ceb4a053df9\",\"username\":\"katherine44\"}|990        |{\"city\":\"West Jessemouth\",\"coordinates\":{\"latitude\":-55.8210805,\"longitude\":41.39566},\"country\":\"Bermuda\",\"postal_code\":\"10341\",\"state\":\"Oregon\",\"street\":\"645 Bowen Rapids Apt. 359\"}                   |\n",
      "|2fb91262-8498-42ac-86ce-668470dde27f|{\"address\":{\"city\":\"Williamtown\",\"coordinates\":{\"latitude\":-13.530003,\"longitude\":-114.994128},\"country\":\"Heard Island and McDonald Islands\",\"postal_code\":\"37976\",\"state\":\"Michigan\",\"street\":\"87277 Myers Drives\"},\"age\":49,\"created_at\":\"2022-08-31 06:35:11.957212\",\"email\":\"browndean@example.com\",\"last_login\":\"2025-09-13 18:01:15.104240\",\"name\":\"Michael Singleton\",\"phone\":\"+1-881-382-9613x465\",\"preferences\":{\"newsletter\":false,\"notifications\":{\"email\":false,\"frequency\":\"monthly\",\"push\":false,\"sms\":true},\"privacy\":{\"profile_visible\":false,\"show_email\":false,\"show_location\":false}},\"profile\":{\"bio\":\"Several prepare point stand parent.\\nVarious describe week life. Water state factor rest pass here marriage.\",\"company\":\"Dickerson and Sons\",\"interests\":[\"eye\"],\"occupation\":\"Immunologist\",\"skills\":[\"Commercial/residential surveyor\"]},\"user_id\":\"2fb91262-8498-42ac-86ce-668470dde27f\",\"username\":\"phillipsanne\"}                                                                             |913        |{\"city\":\"Williamtown\",\"coordinates\":{\"latitude\":-13.530003,\"longitude\":-114.994128},\"country\":\"Heard Island and McDonald Islands\",\"postal_code\":\"37976\",\"state\":\"Michigan\",\"street\":\"87277 Myers Drives\"}|\n",
      "+------------------------------------+------------------------------------------------------------------------------------------------------------------------------------------------------------------------------------------------------------------------------------------------------------------------------------------------------------------------------------------------------------------------------------------------------------------------------------------------------------------------------------------------------------------------------------------------------------------------------------------------------------------------------------------------------------------------------------------------------------------------------------------------------------------------------------------------------------------------------------------------------------------------------------------------------------------------------------------------------------------------------------------------------------------------------+-----------+---------------------------------------------------------------------------------------------------------------------------------------------------------------------------------------------------------+\n",
      "\n",
      "\n",
      "=== Discovering Schema of VARIANT Data ===\n",
      "\n"
     ]
    },
    {
     "data": {
      "application/vnd.jupyter.widget-view+json": {
       "model_id": "c767e9f937c042a291266f1c2b830d84",
       "version_major": 2,
       "version_minor": 0
      },
      "text/plain": [
       "HBox(children=(IntProgress(value=0, bar_style='success'), Label(value='')))"
      ]
     },
     "metadata": {},
     "output_type": "display_data"
    },
    {
     "name": "stdout",
     "output_type": "stream",
     "text": [
      "+-----------------------------------------------------------------------------------------------------------------------------------------------------------------------------------------------------------------------------------------------------------------------------------------------------------------------------------------------------------------------------------------------------------------------------------------------------------------------------------------------------------------------------------------------------------------------------------------------------------------------------------------------------------------+-----+\n",
      "|inferred_schema                                                                                                                                                                                                                                                                                                                                                                                                                                                                                                                                                                                                                                                  |count|\n",
      "+-----------------------------------------------------------------------------------------------------------------------------------------------------------------------------------------------------------------------------------------------------------------------------------------------------------------------------------------------------------------------------------------------------------------------------------------------------------------------------------------------------------------------------------------------------------------------------------------------------------------------------------------------------------------+-----+\n",
      "|OBJECT<address: OBJECT<city: STRING, coordinates: OBJECT<latitude: DECIMAL(9,7), longitude: DECIMAL(9,6)>, country: STRING, postal_code: STRING, state: STRING, street: STRING>, age: BIGINT, created_at: STRING, email: STRING, last_login: STRING, name: STRING, preferences: OBJECT<newsletter: BOOLEAN, notifications: OBJECT<email: BOOLEAN, frequency: STRING, push: BOOLEAN, sms: BOOLEAN>, privacy: OBJECT<profile_visible: BOOLEAN, show_email: BOOLEAN, show_location: BOOLEAN>>, profile: OBJECT<bio: STRING, company: STRING, interests: ARRAY<STRING>, occupation: STRING, skills: ARRAY<STRING>>, user_id: STRING, username: STRING>               |28   |\n",
      "|OBJECT<address: OBJECT<city: STRING, coordinates: OBJECT<latitude: DECIMAL(8,6), longitude: DECIMAL(9,6)>, country: STRING, postal_code: STRING, state: STRING, street: STRING>, age: BIGINT, created_at: STRING, email: STRING, last_login: STRING, name: STRING, preferences: OBJECT<newsletter: BOOLEAN, notifications: OBJECT<email: BOOLEAN, frequency: STRING, push: BOOLEAN, sms: BOOLEAN>, privacy: OBJECT<profile_visible: BOOLEAN, show_email: BOOLEAN, show_location: BOOLEAN>>, profile: OBJECT<bio: STRING, company: STRING, interests: ARRAY<STRING>, occupation: STRING, skills: ARRAY<STRING>>, user_id: STRING, username: STRING>               |28   |\n",
      "|OBJECT<address: OBJECT<city: STRING, coordinates: OBJECT<latitude: DECIMAL(8,6), longitude: DECIMAL(8,6)>, country: STRING, postal_code: STRING, state: STRING, street: STRING>, age: BIGINT, created_at: STRING, email: STRING, last_login: STRING, name: STRING, preferences: OBJECT<newsletter: BOOLEAN, notifications: OBJECT<email: BOOLEAN, frequency: STRING, push: BOOLEAN, sms: BOOLEAN>, privacy: OBJECT<profile_visible: BOOLEAN, show_email: BOOLEAN, show_location: BOOLEAN>>, profile: OBJECT<bio: STRING, company: STRING, interests: ARRAY<STRING>, occupation: STRING, skills: ARRAY<STRING>>, user_id: STRING, username: STRING>               |20   |\n",
      "|OBJECT<address: OBJECT<city: STRING, coordinates: OBJECT<latitude: DECIMAL(9,7), longitude: DECIMAL(8,6)>, country: STRING, postal_code: STRING, state: STRING, street: STRING>, age: BIGINT, created_at: STRING, email: STRING, last_login: STRING, name: STRING, preferences: OBJECT<newsletter: BOOLEAN, notifications: OBJECT<email: BOOLEAN, frequency: STRING, push: BOOLEAN, sms: BOOLEAN>, privacy: OBJECT<profile_visible: BOOLEAN, show_email: BOOLEAN, show_location: BOOLEAN>>, profile: OBJECT<bio: STRING, company: STRING, interests: ARRAY<STRING>, occupation: STRING, skills: ARRAY<STRING>>, user_id: STRING, username: STRING>               |18   |\n",
      "|OBJECT<address: OBJECT<city: STRING, coordinates: OBJECT<latitude: DECIMAL(9,7), longitude: DECIMAL(9,6)>, country: STRING, postal_code: STRING, state: STRING, street: STRING>, age: BIGINT, created_at: STRING, email: STRING, last_login: STRING, name: STRING, phone: STRING, preferences: OBJECT<newsletter: BOOLEAN, notifications: OBJECT<email: BOOLEAN, frequency: STRING, push: BOOLEAN, sms: BOOLEAN>, privacy: OBJECT<profile_visible: BOOLEAN, show_email: BOOLEAN, show_location: BOOLEAN>>, profile: OBJECT<bio: STRING, company: STRING, interests: ARRAY<STRING>, occupation: STRING, skills: ARRAY<STRING>>, user_id: STRING, username: STRING>|12   |\n",
      "+-----------------------------------------------------------------------------------------------------------------------------------------------------------------------------------------------------------------------------------------------------------------------------------------------------------------------------------------------------------------------------------------------------------------------------------------------------------------------------------------------------------------------------------------------------------------------------------------------------------------------------------------------------------------+-----+\n",
      "\n"
     ]
    }
   ],
   "source": [
    "# TO_JSON and PARSE_JSON functions\n",
    "print(\"=== Converting between VARIANT and JSON strings ===\\n\")\n",
    "\n",
    "spark.sql(\"\"\"\n",
    "    SELECT \n",
    "        user_id,\n",
    "        TO_JSON(user_data) as json_string,\n",
    "        LENGTH(TO_JSON(user_data)) as json_length,\n",
    "        PARSE_JSON(TO_JSON(user_data:address)) as address_variant\n",
    "    FROM users_variant\n",
    "    LIMIT 2\n",
    "\"\"\").show(truncate=False)\n",
    "\n",
    "# SCHEMA_OF_VARIANT to discover schema\n",
    "print(\"\\n=== Discovering Schema of VARIANT Data ===\\n\")\n",
    "\n",
    "spark.sql(\"\"\"\n",
    "    SELECT \n",
    "        SCHEMA_OF_VARIANT(user_data) as inferred_schema,\n",
    "        count(*) as count\n",
    "    FROM users_variant\n",
    "    GROUP BY SCHEMA_OF_VARIANT(user_data)\n",
    "    ORDER BY count(*) DESC\n",
    "    LIMIT 5\n",
    "\"\"\").show(truncate=False)\n"
   ]
  },
  {
   "cell_type": "code",
   "execution_count": 15,
   "id": "e7ff09c8",
   "metadata": {},
   "outputs": [
    {
     "name": "stdout",
     "output_type": "stream",
     "text": [
      "\n",
      "=== SCHEMA_OF_VARIANT_AGG Examples ===\n",
      "\n",
      "1. Combined schema of all VARIANT values:\n"
     ]
    },
    {
     "data": {
      "application/vnd.jupyter.widget-view+json": {
       "model_id": "0491558ee28a4a85919fe9b21a47a448",
       "version_major": 2,
       "version_minor": 0
      },
      "text/plain": [
       "HBox(children=(IntProgress(value=0, bar_style='success'), Label(value='')))"
      ]
     },
     "metadata": {},
     "output_type": "display_data"
    },
    {
     "name": "stdout",
     "output_type": "stream",
     "text": [
      "+------------------------------------------------------------------------------------------------------------------------------------------------------------------------------------------------------------------------------------------------------------------------------------------------------------------------------------------------------------------------------------------------------------------------------------------------------------------------------------------------------------------------------------------------------------------------------------------------------------------------------------------------------------------------------------------------------------------------------------------------------------------------------------------------------------------------------------------------------------------------------------------------------------------------------------------------------------------------------+\n",
      "|as                                                                                                                                                                                                                                                                                                                                                                                                                                                                                                                                                                                                                                                                                                                                                                                                                                                                                                                                                                            |\n",
      "+------------------------------------------------------------------------------------------------------------------------------------------------------------------------------------------------------------------------------------------------------------------------------------------------------------------------------------------------------------------------------------------------------------------------------------------------------------------------------------------------------------------------------------------------------------------------------------------------------------------------------------------------------------------------------------------------------------------------------------------------------------------------------------------------------------------------------------------------------------------------------------------------------------------------------------------------------------------------------+\n",
      "|OBJECT<address: OBJECT<city: STRING, coordinates: OBJECT<latitude: DECIMAL(9,7), longitude: DECIMAL(9,6)>, country: STRING, postal_code: STRING, state: STRING, street: STRING>, age: BIGINT, created_at: STRING, email: STRING, last_login: STRING, metrics: OBJECT<comments_made: BIGINT, last_activity: STRING, login_count: BIGINT, posts_created: BIGINT>, name: STRING, phone: STRING, preferences: OBJECT<newsletter: BOOLEAN, notifications: OBJECT<email: BOOLEAN, frequency: STRING, push: BOOLEAN, sms: BOOLEAN>, privacy: OBJECT<profile_visible: BOOLEAN, show_email: BOOLEAN, show_location: BOOLEAN>>, profile: OBJECT<bio: STRING, company: STRING, interests: ARRAY<STRING>, occupation: STRING, skills: ARRAY<STRING>>, referral_code: STRING, referred_by: STRING, social_media: OBJECT<github: STRING, linkedin: STRING, twitter: STRING>, subscription: OBJECT<auto_renew: BOOLEAN, start_date: STRING, tier: STRING>, user_id: STRING, username: STRING>|\n",
      "+------------------------------------------------------------------------------------------------------------------------------------------------------------------------------------------------------------------------------------------------------------------------------------------------------------------------------------------------------------------------------------------------------------------------------------------------------------------------------------------------------------------------------------------------------------------------------------------------------------------------------------------------------------------------------------------------------------------------------------------------------------------------------------------------------------------------------------------------------------------------------------------------------------------------------------------------------------------------------+\n",
      "\n",
      "\n",
      "2. Schema grouped by subscription tier:\n"
     ]
    },
    {
     "data": {
      "application/vnd.jupyter.widget-view+json": {
       "model_id": "8448f133ad5645adae57c6ad2c426823",
       "version_major": 2,
       "version_minor": 0
      },
      "text/plain": [
       "HBox(children=(IntProgress(value=0, bar_style='success'), Label(value='')))"
      ]
     },
     "metadata": {},
     "output_type": "display_data"
    },
    {
     "name": "stdout",
     "output_type": "stream",
     "text": [
      "+-----------------+------------------------------------------------------------------------------------------------------------------------------------------------------------------------------------------------------------------------------------------------------------------------------------------------------------------------------------------------------------------------------------------------------------------------------------------------------------------------------------------------------------------------------------------------------------------------------------------------------------------------------------------------------------------------------------------------------------------------------------------------------------------------------------------------------------------------------------------------------------------------------------------------------------------------------------------------------------------------------+------------+\n",
      "|subscription_tier|tier_schema                                                                                                                                                                                                                                                                                                                                                                                                                                                                                                                                                                                                                                                                                                                                                                                                                                                                                                                                                                   |record_count|\n",
      "+-----------------+------------------------------------------------------------------------------------------------------------------------------------------------------------------------------------------------------------------------------------------------------------------------------------------------------------------------------------------------------------------------------------------------------------------------------------------------------------------------------------------------------------------------------------------------------------------------------------------------------------------------------------------------------------------------------------------------------------------------------------------------------------------------------------------------------------------------------------------------------------------------------------------------------------------------------------------------------------------------------+------------+\n",
      "|NULL             |OBJECT<address: OBJECT<city: STRING, coordinates: OBJECT<latitude: DECIMAL(9,7), longitude: DECIMAL(9,6)>, country: STRING, postal_code: STRING, state: STRING, street: STRING>, age: BIGINT, created_at: STRING, email: STRING, last_login: STRING, name: STRING, phone: STRING, preferences: OBJECT<newsletter: BOOLEAN, notifications: OBJECT<email: BOOLEAN, frequency: STRING, push: BOOLEAN, sms: BOOLEAN>, privacy: OBJECT<profile_visible: BOOLEAN, show_email: BOOLEAN, show_location: BOOLEAN>>, profile: OBJECT<bio: STRING, company: STRING, interests: ARRAY<STRING>, occupation: STRING, skills: ARRAY<STRING>>, referral_code: STRING, referred_by: STRING, social_media: OBJECT<github: STRING, linkedin: STRING, twitter: STRING>, user_id: STRING, username: STRING>                                                                                                                                                                                        |601         |\n",
      "|free             |OBJECT<address: OBJECT<city: STRING, coordinates: OBJECT<latitude: DECIMAL(9,7), longitude: DECIMAL(9,6)>, country: STRING, postal_code: STRING, state: STRING, street: STRING>, age: BIGINT, created_at: STRING, email: STRING, last_login: STRING, metrics: OBJECT<comments_made: BIGINT, last_activity: STRING, login_count: BIGINT, posts_created: BIGINT>, name: STRING, phone: STRING, preferences: OBJECT<newsletter: BOOLEAN, notifications: OBJECT<email: BOOLEAN, frequency: STRING, push: BOOLEAN, sms: BOOLEAN>, privacy: OBJECT<profile_visible: BOOLEAN, show_email: BOOLEAN, show_location: BOOLEAN>>, profile: OBJECT<bio: STRING, company: STRING, interests: ARRAY<STRING>, occupation: STRING, skills: ARRAY<STRING>>, referral_code: STRING, referred_by: STRING, social_media: OBJECT<github: STRING, linkedin: STRING, twitter: STRING>, subscription: OBJECT<auto_renew: BOOLEAN, start_date: STRING, tier: STRING>, user_id: STRING, username: STRING>|103         |\n",
      "|premium          |OBJECT<address: OBJECT<city: STRING, coordinates: OBJECT<latitude: DECIMAL(9,7), longitude: DECIMAL(9,6)>, country: STRING, postal_code: STRING, state: STRING, street: STRING>, age: BIGINT, created_at: STRING, email: STRING, last_login: STRING, metrics: OBJECT<comments_made: BIGINT, last_activity: STRING, login_count: BIGINT, posts_created: BIGINT>, name: STRING, phone: STRING, preferences: OBJECT<newsletter: BOOLEAN, notifications: OBJECT<email: BOOLEAN, frequency: STRING, push: BOOLEAN, sms: BOOLEAN>, privacy: OBJECT<profile_visible: BOOLEAN, show_email: BOOLEAN, show_location: BOOLEAN>>, profile: OBJECT<bio: STRING, company: STRING, interests: ARRAY<STRING>, occupation: STRING, skills: ARRAY<STRING>>, referral_code: STRING, referred_by: STRING, social_media: OBJECT<github: STRING, linkedin: STRING, twitter: STRING>, subscription: OBJECT<auto_renew: BOOLEAN, start_date: STRING, tier: STRING>, user_id: STRING, username: STRING>|103         |\n",
      "|basic            |OBJECT<address: OBJECT<city: STRING, coordinates: OBJECT<latitude: DECIMAL(9,7), longitude: DECIMAL(9,6)>, country: STRING, postal_code: STRING, state: STRING, street: STRING>, age: BIGINT, created_at: STRING, email: STRING, last_login: STRING, metrics: OBJECT<comments_made: BIGINT, last_activity: STRING, login_count: BIGINT, posts_created: BIGINT>, name: STRING, phone: STRING, preferences: OBJECT<newsletter: BOOLEAN, notifications: OBJECT<email: BOOLEAN, frequency: STRING, push: BOOLEAN, sms: BOOLEAN>, privacy: OBJECT<profile_visible: BOOLEAN, show_email: BOOLEAN, show_location: BOOLEAN>>, profile: OBJECT<bio: STRING, company: STRING, interests: ARRAY<STRING>, occupation: STRING, skills: ARRAY<STRING>>, referral_code: STRING, referred_by: STRING, social_media: OBJECT<github: STRING, linkedin: STRING, twitter: STRING>, subscription: OBJECT<auto_renew: BOOLEAN, start_date: STRING, tier: STRING>, user_id: STRING, username: STRING>|102         |\n",
      "|enterprise       |OBJECT<address: OBJECT<city: STRING, coordinates: OBJECT<latitude: DECIMAL(9,7), longitude: DECIMAL(9,6)>, country: STRING, postal_code: STRING, state: STRING, street: STRING>, age: BIGINT, created_at: STRING, email: STRING, last_login: STRING, metrics: OBJECT<comments_made: BIGINT, last_activity: STRING, login_count: BIGINT, posts_created: BIGINT>, name: STRING, phone: STRING, preferences: OBJECT<newsletter: BOOLEAN, notifications: OBJECT<email: BOOLEAN, frequency: STRING, push: BOOLEAN, sms: BOOLEAN>, privacy: OBJECT<profile_visible: BOOLEAN, show_email: BOOLEAN, show_location: BOOLEAN>>, profile: OBJECT<bio: STRING, company: STRING, interests: ARRAY<STRING>, occupation: STRING, skills: ARRAY<STRING>>, referral_code: STRING, referred_by: STRING, social_media: OBJECT<github: STRING, linkedin: STRING, twitter: STRING>, subscription: OBJECT<auto_renew: BOOLEAN, start_date: STRING, tier: STRING>, user_id: STRING, username: STRING>|91          |\n",
      "+-----------------+------------------------------------------------------------------------------------------------------------------------------------------------------------------------------------------------------------------------------------------------------------------------------------------------------------------------------------------------------------------------------------------------------------------------------------------------------------------------------------------------------------------------------------------------------------------------------------------------------------------------------------------------------------------------------------------------------------------------------------------------------------------------------------------------------------------------------------------------------------------------------------------------------------------------------------------------------------------------------+------------+\n",
      "\n"
     ]
    }
   ],
   "source": [
    "# SCHEMA_OF_VARIANT_AGG \n",
    "print(\"\\n=== SCHEMA_OF_VARIANT_AGG Examples ===\\n\")\n",
    "\n",
    "# Example 1: Get combined schema of all VARIANT values\n",
    "print(\"1. Combined schema of all VARIANT values:\")\n",
    "spark.sql(\"\"\"\n",
    "    SELECT SCHEMA_OF_VARIANT_AGG(user_data) as  \n",
    "    FROM users_variant\n",
    "\"\"\").show(truncate=False)\n",
    "\n",
    "# Example 2: Get schema grouped by subscription tier\n",
    "print(\"\\n2. Schema grouped by subscription tier:\")\n",
    "spark.sql(\"\"\"\n",
    "    SELECT \n",
    "        CAST(user_data:subscription.tier AS STRING) as subscription_tier,\n",
    "        SCHEMA_OF_VARIANT_AGG(user_data) as tier_schema,\n",
    "        COUNT(*) as record_count\n",
    "    FROM users_variant \n",
    "    WHERE NOT IS_VARIANT_NULL(user_data:subscription.tier)\n",
    "    GROUP BY CAST(user_data:subscription.tier AS STRING)\n",
    "    ORDER BY record_count DESC\n",
    "\"\"\").show(truncate=False)"
   ]
  },
  {
   "cell_type": "markdown",
   "id": "508a4019",
   "metadata": {},
   "source": [
    "## 7. Filtering and Conditional Logic with VARIANT\n",
    "\n",
    "Let's explore how to filter and apply conditions on VARIANT data.\n"
   ]
  },
  {
   "cell_type": "code",
   "execution_count": 16,
   "id": "440d7502",
   "metadata": {},
   "outputs": [
    {
     "name": "stdout",
     "output_type": "stream",
     "text": [
      "=== Filtering on VARIANT Fields ===\n",
      "\n"
     ]
    },
    {
     "data": {
      "application/vnd.jupyter.widget-view+json": {
       "model_id": "b278938d16d949c09401adb4e4e87e43",
       "version_major": 2,
       "version_minor": 0
      },
      "text/plain": [
       "HBox(children=(IntProgress(value=0, bar_style='success'), Label(value='')))"
      ]
     },
     "metadata": {},
     "output_type": "display_data"
    },
    {
     "name": "stdout",
     "output_type": "stream",
     "text": [
      "+--------------------+-----------------+---+--------------------+\n",
      "|             user_id|             name|age|             country|\n",
      "+--------------------+-----------------+---+--------------------+\n",
      "|a1be48af-8fe6-485...|   \"Kelsey Fritz\"| 45|            \"Israel\"|\n",
      "|38984e9c-75e7-4b6...|\"Kristen Bennett\"| 64|             \"Ghana\"|\n",
      "|cb5d0482-3120-4fb...|\"Kristin Coleman\"| 77|        \"Azerbaijan\"|\n",
      "|3109a2d2-bb8f-414...|\"Aaron Hernandez\"| 68|\"Sao Tome and Pri...|\n",
      "|29693c49-b321-4a7...|  \"Bradley Flynn\"| 74|            \"Brazil\"|\n",
      "+--------------------+-----------------+---+--------------------+\n",
      "\n",
      "\n",
      "=== Complex Filtering with Nested VARIANT Fields ===\n",
      "\n"
     ]
    },
    {
     "data": {
      "application/vnd.jupyter.widget-view+json": {
       "model_id": "00c30363924e4da4b041a5e2fc993b30",
       "version_major": 2,
       "version_minor": 0
      },
      "text/plain": [
       "HBox(children=(IntProgress(value=0, bar_style='success'), Label(value='')))"
      ]
     },
     "metadata": {},
     "output_type": "display_data"
    },
    {
     "name": "stdout",
     "output_type": "stream",
     "text": [
      "+--------------------+-------------------+---+-----------------+-----------+\n",
      "|             user_id|               name|age|subscription_tier|login_count|\n",
      "+--------------------+-------------------+---+-----------------+-----------+\n",
      "|71887374-a3f5-471...|    \"Steven Bailey\"| 34|            basic|        999|\n",
      "|022c7f93-09e0-4c4...| \"Jennifer Johnson\"| 38|          premium|        993|\n",
      "|5f84e528-7261-4c5...|  \"Christina Jones\"| 31|             free|        992|\n",
      "|e3ef9236-b331-4b1...|\"Christina Alvarez\"| 29|       enterprise|        990|\n",
      "|34320c72-decf-42f...|        \"Lisa Hill\"| 44|             free|        989|\n",
      "+--------------------+-------------------+---+-----------------+-----------+\n",
      "\n"
     ]
    }
   ],
   "source": [
    "# Filtering based on VARIANT field values\n",
    "print(\"=== Filtering on VARIANT Fields ===\\n\")\n",
    "\n",
    "spark.sql(\"\"\"\n",
    "    SELECT \n",
    "        user_id,\n",
    "        user_data:name as name,\n",
    "        user_data:age as age,\n",
    "        user_data:address.country as country\n",
    "    FROM users_variant\n",
    "    WHERE CAST(user_data:age AS INT) > 30\n",
    "        AND CAST(user_data:preferences.newsletter AS BOOLEAN) = true\n",
    "        AND NOT IS_VARIANT_NULL(user_data:address.country)\n",
    "    LIMIT 5\n",
    "\"\"\").show()\n",
    "\n",
    "# Complex filtering with nested conditions\n",
    "print(\"\\n=== Complex Filtering with Nested VARIANT Fields ===\\n\")\n",
    "\n",
    "spark.sql(\"\"\"\n",
    "    SELECT \n",
    "        user_id,\n",
    "        user_data:name as name,\n",
    "        user_data:age as age,\n",
    "        CAST(user_data:subscription.tier AS STRING) as subscription_tier,\n",
    "        user_data:metrics.login_count as login_count\n",
    "    FROM users_variant\n",
    "    WHERE NOT IS_VARIANT_NULL(user_data:subscription.tier)\n",
    "        AND NOT IS_VARIANT_NULL(user_data:metrics.login_count)\n",
    "        AND CAST(user_data:age AS INT) BETWEEN 25 AND 60\n",
    "        AND CAST(user_data:metrics.login_count AS INT) > 10\n",
    "    ORDER BY CAST(user_data:metrics.login_count AS INT) DESC\n",
    "    LIMIT 5\n",
    "\"\"\").show()\n"
   ]
  },
  {
   "cell_type": "code",
   "execution_count": 17,
   "id": "992303e8",
   "metadata": {},
   "outputs": [
    {
     "name": "stdout",
     "output_type": "stream",
     "text": [
      "=== CASE Statements with VARIANT ===\n",
      "\n"
     ]
    },
    {
     "data": {
      "application/vnd.jupyter.widget-view+json": {
       "model_id": "601bac6757c84af5a6a934bfdbb274f5",
       "version_major": 2,
       "version_minor": 0
      },
      "text/plain": [
       "HBox(children=(IntProgress(value=0, bar_style='success'), Label(value='')))"
      ]
     },
     "metadata": {},
     "output_type": "display_data"
    },
    {
     "name": "stdout",
     "output_type": "stream",
     "text": [
      "+------------------------------------+-------------------+---+-----------------+---------+---------------+\n",
      "|user_id                             |name               |age|subscription_tier|age_group|user_category  |\n",
      "+------------------------------------+-------------------+---+-----------------+---------+---------------+\n",
      "|dda976ab-46ff-4451-8c48-9ceb4a053df9|\"Elizabeth Miller\" |40 |NULL             |Adult    |No Subscription|\n",
      "|2fb91262-8498-42ac-86ce-668470dde27f|\"Michael Singleton\"|49 |NULL             |Adult    |No Subscription|\n",
      "|c118750b-97ac-431a-aded-10175fee65e4|\"Joseph Underwood\" |25 |NULL             |Adult    |No Subscription|\n",
      "|4957a6b8-c394-4de8-80ec-20f71d2fcd46|\"Shane Martin\"     |38 |NULL             |Adult    |No Subscription|\n",
      "|a1be48af-8fe6-485b-9898-f6973d954735|\"Kelsey Fritz\"     |45 |NULL             |Adult    |No Subscription|\n",
      "|faaaf4a9-730c-4085-abb8-e38e229fccb8|\"Kayla Rodriguez\"  |76 |NULL             |Senior   |No Subscription|\n",
      "|7574b91d-86e7-44be-9b31-39583ebc78ab|\"Brandi Erickson\"  |76 |NULL             |Senior   |No Subscription|\n",
      "|fca97ed6-5b28-4858-a583-4bf9bcee65e0|\"Stephanie Weaver\" |27 |NULL             |Adult    |No Subscription|\n",
      "|0af6499d-f03c-4624-b2e3-4adf2e4f8fa7|\"Samantha Baker\"   |38 |NULL             |Adult    |No Subscription|\n",
      "|38984e9c-75e7-4b62-b373-ce4e95571335|\"Kristen Bennett\"  |64 |NULL             |Senior   |No Subscription|\n",
      "+------------------------------------+-------------------+---+-----------------+---------+---------------+\n",
      "\n"
     ]
    }
   ],
   "source": [
    "# Using CASE statements with VARIANT\n",
    "print(\"=== CASE Statements with VARIANT ===\\n\")\n",
    "\n",
    "spark.sql(\"\"\"\n",
    "    SELECT \n",
    "        user_id,\n",
    "        user_data:name as name,\n",
    "        user_data:age as age,\n",
    "        CAST(user_data:subscription.tier AS STRING) as subscription_tier,\n",
    "        CASE \n",
    "            WHEN CAST(user_data:age AS INT) < 25 THEN 'Young'\n",
    "            WHEN CAST(user_data:age AS INT) BETWEEN 25 AND 50 THEN 'Adult'\n",
    "            WHEN CAST(user_data:age AS INT) > 50 THEN 'Senior'\n",
    "            ELSE 'Unknown'\n",
    "        END as age_group,\n",
    "        CASE \n",
    "            WHEN CAST(user_data:subscription.tier AS STRING) = 'free' THEN 'Free User'\n",
    "            WHEN CAST(user_data:subscription.tier AS STRING) = 'basic' THEN 'Basic User'\n",
    "            WHEN CAST(user_data:subscription.tier AS STRING) = 'premium' THEN 'Premium User'\n",
    "            WHEN CAST(user_data:subscription.tier AS STRING) = 'enterprise' THEN 'Enterprise User'\n",
    "            ELSE 'No Subscription'\n",
    "        END as user_category\n",
    "    FROM users_variant\n",
    "    LIMIT 10\n",
    "\"\"\").show(truncate=False)\n"
   ]
  },
  {
   "cell_type": "markdown",
   "id": "bf45a4fa",
   "metadata": {},
   "source": [
    "## 8. Aggregations with VARIANT Data\n",
    "\n",
    "Performing aggregations on data stored in VARIANT columns.\n"
   ]
  },
  {
   "cell_type": "code",
   "execution_count": 18,
   "id": "143ffd8e",
   "metadata": {},
   "outputs": [
    {
     "name": "stdout",
     "output_type": "stream",
     "text": [
      "=== Aggregations on VARIANT Data ===\n",
      "\n"
     ]
    },
    {
     "data": {
      "application/vnd.jupyter.widget-view+json": {
       "model_id": "5709103e649d4c759baebc8e95cdb1e2",
       "version_major": 2,
       "version_minor": 0
      },
      "text/plain": [
       "HBox(children=(IntProgress(value=0, bar_style='success'), Label(value='')))"
      ]
     },
     "metadata": {},
     "output_type": "display_data"
    },
    {
     "name": "stdout",
     "output_type": "stream",
     "text": [
      "+----------+-------+-------+-------+\n",
      "|user_count|avg_age|min_age|max_age|\n",
      "+----------+-------+-------+-------+\n",
      "|      1000| 48.593|     18|     80|\n",
      "+----------+-------+-------+-------+\n",
      "\n",
      "\n",
      "=== Subscription Tier Aggregations ===\n",
      "\n"
     ]
    },
    {
     "data": {
      "application/vnd.jupyter.widget-view+json": {
       "model_id": "6584ecada1fe40b2861f3d21ed996b5f",
       "version_major": 2,
       "version_minor": 0
      },
      "text/plain": [
       "HBox(children=(IntProgress(value=0, bar_style='success'), Label(value='')))"
      ]
     },
     "metadata": {},
     "output_type": "display_data"
    },
    {
     "name": "stdout",
     "output_type": "stream",
     "text": [
      "+-----------------+----------+-----------------+------------------+------------------+\n",
      "|subscription_tier|user_count|          avg_age|   avg_login_count|         avg_posts|\n",
      "+-----------------+----------+-----------------+------------------+------------------+\n",
      "|             NULL|       601|49.12479201331115|              NULL|              NULL|\n",
      "|             free|       103|47.05825242718446|509.97087378640776|256.43689320388347|\n",
      "|          premium|       103|49.79611650485437|487.40776699029124|244.58252427184465|\n",
      "|            basic|       102|44.07843137254902| 482.4117647058824| 238.9313725490196|\n",
      "|       enterprise|        91|50.51648351648352| 531.4395604395604| 257.4175824175824|\n",
      "+-----------------+----------+-----------------+------------------+------------------+\n",
      "\n"
     ]
    }
   ],
   "source": [
    "# Aggregating VARIANT data\n",
    "print(\"=== Aggregations on VARIANT Data ===\\n\")\n",
    "\n",
    "spark.sql(\"\"\"\n",
    "    SELECT \n",
    "        COUNT(*) as user_count,\n",
    "        AVG(CAST(user_data:age AS INT)) as avg_age,\n",
    "        MIN(CAST(user_data:age AS INT)) as min_age,\n",
    "        MAX(CAST(user_data:age AS INT)) as max_age\n",
    "    FROM users_variant\n",
    "\"\"\").show()\n",
    "\n",
    "# Aggregating by subscription tier\n",
    "print(\"\\n=== Subscription Tier Aggregations ===\\n\")\n",
    "\n",
    "spark.sql(\"\"\"\n",
    "    SELECT \n",
    "        CAST(user_data:subscription.tier AS STRING) as subscription_tier,\n",
    "        COUNT(*) as user_count,\n",
    "        AVG(CAST(user_data:age AS INT)) as avg_age,\n",
    "        AVG(CAST(user_data:metrics.login_count AS INT)) as avg_login_count,\n",
    "        AVG(CAST(user_data:metrics.posts_created AS INT)) as avg_posts\n",
    "    FROM users_variant\n",
    "    WHERE NOT IS_VARIANT_NULL(user_data:subscription.tier)\n",
    "    GROUP BY CAST(user_data:subscription.tier AS STRING)\n",
    "    ORDER BY user_count DESC\n",
    "\"\"\").show()\n"
   ]
  },
  {
   "cell_type": "code",
   "execution_count": 19,
   "id": "7b16bb97",
   "metadata": {},
   "outputs": [
    {
     "name": "stdout",
     "output_type": "stream",
     "text": [
      "=== Aggregating Array Data in VARIANT ===\n",
      "\n"
     ]
    },
    {
     "data": {
      "application/vnd.jupyter.widget-view+json": {
       "model_id": "3e0a30363f25402b9a325924b9e246aa",
       "version_major": 2,
       "version_minor": 0
      },
      "text/plain": [
       "HBox(children=(IntProgress(value=0, bar_style='success'), Label(value='')))"
      ]
     },
     "metadata": {},
     "output_type": "display_data"
    },
    {
     "name": "stdout",
     "output_type": "stream",
     "text": [
      "+----------------------+-------------+-------------+\n",
      "|avg_interests_per_user|max_interests|min_interests|\n",
      "+----------------------+-------------+-------------+\n",
      "|                 3.104|            5|            1|\n",
      "+----------------------+-------------+-------------+\n",
      "\n",
      "\n",
      "=== Skills Aggregation ===\n",
      "\n"
     ]
    },
    {
     "data": {
      "application/vnd.jupyter.widget-view+json": {
       "model_id": "ee0b161aeeb34d4aa90f3bd3538fa2f9",
       "version_major": 2,
       "version_minor": 0
      },
      "text/plain": [
       "HBox(children=(IntProgress(value=0, bar_style='success'), Label(value='')))"
      ]
     },
     "metadata": {},
     "output_type": "display_data"
    },
    {
     "name": "stdout",
     "output_type": "stream",
     "text": [
      "+-----------------+-------------------+----------+----------+\n",
      "|users_with_skills|avg_skills_per_user|max_skills|min_skills|\n",
      "+-----------------+-------------------+----------+----------+\n",
      "|             1000|              1.502|         3|         0|\n",
      "+-----------------+-------------------+----------+----------+\n",
      "\n"
     ]
    }
   ],
   "source": [
    "# Complex aggregations with array data\n",
    "print(\"=== Aggregating Array Data in VARIANT ===\\n\")\n",
    "\n",
    "spark.sql(\"\"\"\n",
    "    SELECT \n",
    "        AVG(SIZE(CAST(user_data:profile.interests AS ARRAY<STRING>))) as avg_interests_per_user,\n",
    "        MAX(SIZE(CAST(user_data:profile.interests AS ARRAY<STRING>))) as max_interests,\n",
    "        MIN(SIZE(CAST(user_data:profile.interests AS ARRAY<STRING>))) as min_interests\n",
    "    FROM users_variant\n",
    "    WHERE NOT IS_VARIANT_NULL(user_data:profile.interests)\n",
    "\"\"\").show()\n",
    "\n",
    "# Aggregating skills data\n",
    "print(\"\\n=== Skills Aggregation ===\\n\")\n",
    "\n",
    "spark.sql(\"\"\"\n",
    "    WITH user_skills AS (\n",
    "        SELECT \n",
    "            user_id,\n",
    "            user_data:name as name,\n",
    "            SIZE(CAST(user_data:profile.skills AS ARRAY<STRING>)) as skill_count,\n",
    "            user_data:profile.skills as skills\n",
    "        FROM users_variant\n",
    "        WHERE NOT IS_VARIANT_NULL(user_data:profile.skills)\n",
    "    )\n",
    "    SELECT \n",
    "        COUNT(*) as users_with_skills,\n",
    "        AVG(skill_count) as avg_skills_per_user,\n",
    "        MAX(skill_count) as max_skills,\n",
    "        MIN(skill_count) as min_skills\n",
    "    FROM user_skills\n",
    "\"\"\").show()\n"
   ]
  },
  {
   "cell_type": "markdown",
   "id": "c6682116",
   "metadata": {},
   "source": [
    "## 9. Window Functions with VARIANT\n",
    "\n",
    "Using window functions to analyze VARIANT data.\n"
   ]
  },
  {
   "cell_type": "code",
   "execution_count": 20,
   "id": "b1d6bcc5",
   "metadata": {},
   "outputs": [
    {
     "name": "stdout",
     "output_type": "stream",
     "text": [
      "=== Window Functions on VARIANT Data ===\n",
      "\n"
     ]
    },
    {
     "data": {
      "application/vnd.jupyter.widget-view+json": {
       "model_id": "9e36181df21646b7840b1ede13a119e3",
       "version_major": 2,
       "version_minor": 0
      },
      "text/plain": [
       "HBox(children=(IntProgress(value=0, bar_style='success'), Label(value='')))"
      ]
     },
     "metadata": {},
     "output_type": "display_data"
    },
    {
     "name": "stdout",
     "output_type": "stream",
     "text": [
      "+------------------------------------+-------------------+---+-----------+-----------+-------------------+----------+------------------+\n",
      "|user_id                             |name               |age|country    |login_count|age_rank_in_country|login_rank|country_avg_age   |\n",
      "+------------------------------------+-------------------+---+-----------+-----------+-------------------+----------+------------------+\n",
      "|5ebd9182-94c1-4480-b392-637e4ecba063|\"Dennis Edwards\"   |62 |Afghanistan|NULL       |1                  |329       |42.666666666666664|\n",
      "|6b5e7b46-eb10-4bbe-a265-5a54e986f360|\"Shannon Rangel\"   |40 |Afghanistan|NULL       |2                  |329       |42.666666666666664|\n",
      "|7bdfd4be-da0e-4690-993a-b95d37151427|\"Jill Hill\"        |26 |Afghanistan|568        |3                  |142       |42.666666666666664|\n",
      "|276493bd-5880-43b0-95fa-3cf87af710aa|\"Vanessa Hernandez\"|67 |Albania    |15         |1                  |326       |44.6              |\n",
      "|8450c006-1e99-4319-92cd-4f29972e6558|\"Mark Carr\"        |60 |Albania    |NULL       |2                  |329       |44.6              |\n",
      "|160d9028-2613-46b0-a372-8f64322c28b7|\"Amy Johnson\"      |43 |Albania    |735        |3                  |93        |44.6              |\n",
      "|171965f5-88f5-466e-9036-ceb278a866cb|\"Michael Harris\"   |30 |Albania    |NULL       |4                  |329       |44.6              |\n",
      "|5dc98867-3610-498b-a134-1158ca61b2ed|\"Megan Thomas\"     |23 |Albania    |NULL       |5                  |329       |44.6              |\n",
      "|be6c32f6-b975-4f56-8760-9173e743fc79|\"Emily Walker\"     |79 |Algeria    |393        |1                  |198       |49.375            |\n",
      "|deb37ea2-0d6f-4efb-a9e9-6b02ce149aaf|\"Susan Jacobs\"     |79 |Algeria    |NULL       |1                  |329       |49.375            |\n",
      "|162e2841-ebc4-49a9-90d7-9c57e2b88678|\"Heather Taylor\"   |57 |Algeria    |NULL       |3                  |329       |49.375            |\n",
      "|a11f871e-2f3f-4621-b13a-2ec728456134|\"John Dunn\"        |49 |Algeria    |NULL       |4                  |329       |49.375            |\n",
      "|44f8582c-686b-4980-aed7-69575cac386e|\"Derek Young\"      |42 |Algeria    |NULL       |5                  |329       |49.375            |\n",
      "|4784d3e6-fec5-43b7-bc33-a9e5269fb574|\"Jessica Sanchez\"  |37 |Algeria    |NULL       |6                  |329       |49.375            |\n",
      "|1b62f7fd-3b41-4c9c-8328-f66337bf023a|\"Kristin Diaz\"     |29 |Algeria    |437        |7                  |181       |49.375            |\n",
      "+------------------------------------+-------------------+---+-----------+-----------+-------------------+----------+------------------+\n",
      "\n",
      "\n",
      "=== Cumulative Statistics with VARIANT ===\n",
      "\n"
     ]
    },
    {
     "data": {
      "application/vnd.jupyter.widget-view+json": {
       "model_id": "2f025a51f6a547778fcaa58df3e77a97",
       "version_major": 2,
       "version_minor": 0
      },
      "text/plain": [
       "HBox(children=(IntProgress(value=0, bar_style='success'), Label(value='')))"
      ]
     },
     "metadata": {},
     "output_type": "display_data"
    },
    {
     "name": "stdout",
     "output_type": "stream",
     "text": [
      "+------------------------------------+------------------+--------------------------+-----------+-------------+-----------------+-----------------+\n",
      "|user_id                             |name              |created_time              |login_count|posts_created|moving_avg_logins|max_logins_so_far|\n",
      "+------------------------------------+------------------+--------------------------+-----------+-------------+-----------------+-----------------+\n",
      "|0332709b-96c8-43cc-9b23-83f7ae6c31b1|\"Isaiah Shaffer\"  |2020-10-03 16:54:58.795535|NULL       |NULL         |NULL             |NULL             |\n",
      "|c94527bb-95fb-419e-94d4-67e4fba3340c|\"Jeff Santos\"     |2020-10-06 19:48:22.886347|215        |315          |215.0            |215              |\n",
      "|8d3f3dad-1da2-4a9d-b787-bf25141717a0|\"Laura Anderson\"  |2020-10-12 04:09:05.654245|NULL       |NULL         |215.0            |215              |\n",
      "|3ef5f08b-42f6-48ee-b2b9-caeccffc9729|\"Mary Wheeler\"    |2020-10-17 13:08:30.872262|908        |496          |561.5            |908              |\n",
      "|ce0a02a5-1958-48f2-98a1-4fad7b7d46be|\"Mary Davis\"      |2020-10-18 06:27:37.026291|NULL       |NULL         |908.0            |908              |\n",
      "|4ee68484-2613-4dae-849e-6ffbb93d611e|\"Kathleen Henry\"  |2020-10-22 12:10:36.010886|828        |79           |868.0            |908              |\n",
      "|6486c0c9-f68d-44da-b9f1-077119de3c2b|\"Justin Jones\"    |2020-10-23 07:16:43.621997|781        |353          |804.5            |908              |\n",
      "|ee15b9dd-cd6d-4488-a898-89561da931b3|\"Kim Medina\"      |2020-10-23 11:21:52.982538|526        |285          |711.6666666666666|908              |\n",
      "|e8f1c680-02c5-4585-b57f-ac0f759792ad|\"Sabrina Simmons\" |2020-10-23 11:54:36.487263|NULL       |NULL         |653.5            |908              |\n",
      "|4cb7fa61-f08b-4ac0-a7ab-1ac017cf61e2|\"Patricia Spencer\"|2020-10-25 06:07:13.097837|594        |464          |560.0            |908              |\n",
      "+------------------------------------+------------------+--------------------------+-----------+-------------+-----------------+-----------------+\n",
      "\n"
     ]
    }
   ],
   "source": [
    "# Window functions with VARIANT data\n",
    "print(\"=== Window Functions on VARIANT Data ===\\n\")\n",
    "\n",
    "spark.sql(\"\"\"\n",
    "    SELECT \n",
    "        user_id,\n",
    "        user_data:name as name,\n",
    "        user_data:age as age,\n",
    "        CAST(user_data:address.country AS STRING) as country,\n",
    "        CAST(user_data:metrics.login_count AS INT) as login_count,\n",
    "        RANK() OVER (PARTITION BY CAST(user_data:address.country AS STRING) ORDER BY CAST(user_data:age AS INT) DESC) as age_rank_in_country,\n",
    "        DENSE_RANK() OVER (ORDER BY CAST(user_data:metrics.login_count AS INT) DESC) as login_rank,\n",
    "        AVG(CAST(user_data:age AS INT)) OVER (PARTITION BY CAST(user_data:address.country AS STRING)) as country_avg_age\n",
    "    FROM users_variant\n",
    "    WHERE NOT IS_VARIANT_NULL(user_data:metrics.login_count)\n",
    "        AND NOT IS_VARIANT_NULL(user_data:address.country)\n",
    "    ORDER BY country, age_rank_in_country\n",
    "    LIMIT 15\n",
    "\"\"\").show(truncate=False)\n",
    "\n",
    "# Running totals and cumulative stats\n",
    "print(\"\\n=== Cumulative Statistics with VARIANT ===\\n\")\n",
    "\n",
    "spark.sql(\"\"\"\n",
    "    WITH user_activity AS (\n",
    "        SELECT \n",
    "            user_id,\n",
    "            user_data:name as name,\n",
    "            CAST(user_data:created_at AS TIMESTAMP) as created_time,\n",
    "            CAST(user_data:metrics.login_count AS INT) as login_count,\n",
    "            CAST(user_data:metrics.posts_created AS INT) as posts_created\n",
    "        FROM users_variant\n",
    "        WHERE NOT IS_VARIANT_NULL(user_data:metrics.login_count)\n",
    "            AND NOT IS_VARIANT_NULL(user_data:created_at)\n",
    "    )\n",
    "    SELECT \n",
    "        user_id,\n",
    "        name,\n",
    "        created_time,\n",
    "        login_count,\n",
    "        posts_created,\n",
    "        AVG(login_count) OVER (\n",
    "            ORDER BY created_time \n",
    "            ROWS BETWEEN 2 PRECEDING AND CURRENT ROW\n",
    "        ) as moving_avg_logins,\n",
    "        MAX(login_count) OVER (\n",
    "            ORDER BY created_time\n",
    "        ) as max_logins_so_far\n",
    "    FROM user_activity\n",
    "    ORDER BY created_time\n",
    "    LIMIT 10\n",
    "\"\"\").show(truncate=False)\n"
   ]
  },
  {
   "cell_type": "markdown",
   "id": "d57b5872",
   "metadata": {},
   "source": [
    "## 10. JOINs with VARIANT Data\n",
    "\n",
    "Demonstrating how to join tables containing VARIANT columns.\n"
   ]
  },
  {
   "cell_type": "code",
   "execution_count": 21,
   "id": "92a69c12",
   "metadata": {},
   "outputs": [
    {
     "name": "stdout",
     "output_type": "stream",
     "text": [
      "=== Self-Join on VARIANT Data ===\n",
      "\n"
     ]
    },
    {
     "data": {
      "application/vnd.jupyter.widget-view+json": {
       "model_id": "6be154acbe614c2a84221638a84dca1a",
       "version_major": 2,
       "version_minor": 0
      },
      "text/plain": [
       "HBox(children=(IntProgress(value=0, bar_style='success'), Label(value='')))"
      ]
     },
     "metadata": {},
     "output_type": "display_data"
    },
    {
     "name": "stdout",
     "output_type": "stream",
     "text": [
      "+------------------------------------+------------------+-------------+------------------------------------+------------------+-------------+\n",
      "|user1_id                            |user1_name        |user1_city   |user2_id                            |user2_name        |user2_city   |\n",
      "+------------------------------------+------------------+-------------+------------------------------------+------------------+-------------+\n",
      "|7f5529f6-7329-413b-8774-48095b31ea52|\"Joann Salazar\"   |North Michael|bbe0c0fe-1a1b-44e4-a5e8-96ef58489432|\"Jason Price\"     |North Michael|\n",
      "|84d3d2b6-c1ee-45d4-be97-ebe12298452d|\"Lisa Walker\"     |Williamsmouth|f167b694-3728-47e3-b2ac-1801376df5fd|\"Michael Porter\"  |Williamsmouth|\n",
      "|1c5d266f-bbd5-4c63-a686-b2c910ef8796|\"Heather Higgins\" |Robbinsview  |9419e367-f729-44b7-9042-50bc6efd265a|\"Anthony Taylor\"  |Robbinsview  |\n",
      "|17a70d52-91d6-42c6-8fa2-d308001d1fe9|\"Danielle Brooks\" |Davistown    |a21b0e84-3105-4b1c-b35b-c9cd74fcf5b4|\"Amy Morris\"      |Davistown    |\n",
      "|c9da232c-a390-484e-81ba-72b8fa986bdc|\"Robert Wood\"     |Lisachester  |ca0aee32-66af-4699-8a31-b9d3551d4382|\"Rachel Mason\"    |Lisachester  |\n",
      "|119012f3-9227-4e9e-a66f-4e9e18f44dfa|\"Nicholas Sanchez\"|North Angela |78fbf367-1e59-4f43-9250-5ec1f791eebe|\"Julia Webb\"      |North Angela |\n",
      "|73fc6dc2-f26c-459c-92a7-f3b12b2da555|\"Curtis Day\"      |Sanchezmouth |9f5d63af-a665-41e2-8bd0-f6df0792994c|\"Miranda Woods\"   |Sanchezmouth |\n",
      "|21988a62-87a1-4765-ab09-53c28e7d4493|\"Michael Torres\"  |Smithside    |add5cf58-0018-4d99-b50d-0fee65ac8bc9|\"Bryan Johnson\"   |Smithside    |\n",
      "|44efc260-9456-4175-bf79-54483c9c8ea1|\"Chad Gonzales\"   |West Jennifer|df09ca29-6447-4ef1-9c76-3127be0b7a90|\"Brooke Velazquez\"|West Jennifer|\n",
      "|44efc260-9456-4175-bf79-54483c9c8ea1|\"Chad Gonzales\"   |West Jennifer|83d149c8-ef77-4000-8535-8b575a211afb|\"Elizabeth Ross\"  |West Jennifer|\n",
      "+------------------------------------+------------------+-------------+------------------------------------+------------------+-------------+\n",
      "\n",
      "\n",
      "=== Join with Extracted Table for Performance ===\n",
      "\n"
     ]
    },
    {
     "data": {
      "application/vnd.jupyter.widget-view+json": {
       "model_id": "e26b9912fc8b43c9998ac5e91f4e3450",
       "version_major": 2,
       "version_minor": 0
      },
      "text/plain": [
       "HBox(children=(IntProgress(value=0, bar_style='success'), Label(value='')))"
      ]
     },
     "metadata": {},
     "output_type": "display_data"
    },
    {
     "name": "stdout",
     "output_type": "stream",
     "text": [
      "+------------------------------------+-------------------+---+---------------+-----------------+-----------------+-------------+---------------+\n",
      "|user_id                             |name               |age|city           |subscription_tier|extracted_name   |extracted_age|extracted_city |\n",
      "+------------------------------------+-------------------+---+---------------+-----------------+-----------------+-------------+---------------+\n",
      "|dda976ab-46ff-4451-8c48-9ceb4a053df9|\"Elizabeth Miller\" |40 |West Jessemouth|NULL             |Elizabeth Miller |40           |West Jessemouth|\n",
      "|2fb91262-8498-42ac-86ce-668470dde27f|\"Michael Singleton\"|49 |Williamtown    |NULL             |Michael Singleton|49           |Williamtown    |\n",
      "|c118750b-97ac-431a-aded-10175fee65e4|\"Joseph Underwood\" |25 |Kellyport      |NULL             |Joseph Underwood |25           |Kellyport      |\n",
      "|4957a6b8-c394-4de8-80ec-20f71d2fcd46|\"Shane Martin\"     |38 |New Kristin    |NULL             |Shane Martin     |38           |New Kristin    |\n",
      "|a1be48af-8fe6-485b-9898-f6973d954735|\"Kelsey Fritz\"     |45 |New Dianaview  |NULL             |Kelsey Fritz     |45           |New Dianaview  |\n",
      "+------------------------------------+-------------------+---+---------------+-----------------+-----------------+-------------+---------------+\n",
      "\n"
     ]
    }
   ],
   "source": [
    "# Self-join on VARIANT data\n",
    "print(\"=== Self-Join on VARIANT Data ===\\n\")\n",
    "\n",
    "spark.sql(\"\"\"\n",
    "    SELECT \n",
    "        u1.user_id as user1_id,\n",
    "        u1.user_data:name as user1_name,\n",
    "        CAST(u1.user_data:address.city AS STRING) as user1_city,\n",
    "        u2.user_id as user2_id,\n",
    "        u2.user_data:name as user2_name,\n",
    "        CAST(u2.user_data:address.city AS STRING) as user2_city\n",
    "    FROM users_variant u1\n",
    "    JOIN users_variant u2\n",
    "        ON CAST(u1.user_data:address.city AS STRING) = CAST(u2.user_data:address.city AS STRING)\n",
    "        AND u1.user_id < u2.user_id\n",
    "    WHERE NOT IS_VARIANT_NULL(u1.user_data:address.city)\n",
    "    LIMIT 10\n",
    "\"\"\").show(truncate=False)\n",
    "\n",
    "# Join with extracted table for performance\n",
    "print(\"\\n=== Join with Extracted Table for Performance ===\\n\")\n",
    "\n",
    "spark.sql(\"\"\"\n",
    "    WITH user_analysis AS (\n",
    "        SELECT \n",
    "            v.user_id,\n",
    "            v.user_data:name as name,\n",
    "            v.user_data:age as age,\n",
    "            CAST(v.user_data:address.city AS STRING) as city,\n",
    "            CAST(v.user_data:subscription.tier AS STRING) as subscription_tier,\n",
    "            e.name as extracted_name,\n",
    "            e.age as extracted_age,\n",
    "            e.city as extracted_city\n",
    "        FROM users_variant v\n",
    "        LEFT JOIN users_extracted e\n",
    "            ON v.user_id = e.user_id\n",
    "        WHERE NOT IS_VARIANT_NULL(v.user_data:subscription.tier)\n",
    "    )\n",
    "    SELECT * FROM user_analysis\n",
    "    WHERE name IS NOT NULL\n",
    "    LIMIT 5\n",
    "\"\"\").show(truncate=False)\n"
   ]
  },
  {
   "cell_type": "markdown",
   "id": "d63a189d",
   "metadata": {},
   "source": [
    "## 11. Advanced VARIANT Use Cases\n",
    "\n",
    "Let's explore some advanced use cases and patterns.\n"
   ]
  },
  {
   "cell_type": "code",
   "execution_count": 22,
   "id": "aaacd05c",
   "metadata": {},
   "outputs": [
    {
     "name": "stdout",
     "output_type": "stream",
     "text": [
      "=== Demonstrating Schema Evolution with VARIANT ===\n",
      "\n",
      "Schema Evolution in our user data:\n",
      "- First 30% of users: Basic schema\n",
      "- Next 30% of users: Added social_media fields\n",
      "- Last 40% of users: Added subscription and metrics fields\n",
      "\n"
     ]
    },
    {
     "data": {
      "application/vnd.jupyter.widget-view+json": {
       "model_id": "72c8fab1f0b84689802c1ddcd46cb45b",
       "version_major": 2,
       "version_minor": 0
      },
      "text/plain": [
       "HBox(children=(IntProgress(value=0, bar_style='success'), Label(value='')))"
      ]
     },
     "metadata": {},
     "output_type": "display_data"
    },
    {
     "name": "stdout",
     "output_type": "stream",
     "text": [
      "+------------------------------------+----------------+-------------------------+--------------------+----------------+-----------------+-----------+\n",
      "|user_id                             |name            |email                    |phone               |twitter         |subscription_tier|login_count|\n",
      "+------------------------------------+----------------+-------------------------+--------------------+----------------+-----------------+-----------+\n",
      "|043f5d39-702f-4d91-8fc6-6fb9473211b7|\"Cindy Powell\"  |\"ujones@example.com\"     |NULL                |NULL            |NULL             |NULL       |\n",
      "|4d7a7d93-93ea-4f56-bd5a-09425ecf201a|\"Denise Conner\" |\"uwolf@example.com\"      |\"(765)725-0630x8242\"|\"@chaneydouglas\"|NULL             |NULL       |\n",
      "|ea9c29fe-a40f-49c5-85dc-4709298fa8d9|\"Debra Roberson\"|\"duartejulia@example.org\"|NULL                |\"@samuel89\"     |\"premium\"        |152        |\n",
      "+------------------------------------+----------------+-------------------------+--------------------+----------------+-----------------+-----------+\n",
      "\n",
      "\n",
      "✅ VARIANT seamlessly handles schema evolution - old and new fields coexist!\n"
     ]
    }
   ],
   "source": [
    "# Dynamic schema evolution handling\n",
    "print(\"=== Demonstrating Schema Evolution with VARIANT ===\\n\")\n",
    "\n",
    "# The data we generated already simulates schema evolution\n",
    "# Let's query to show how VARIANT handles different schema versions seamlessly\n",
    "\n",
    "print(\"Schema Evolution in our user data:\")\n",
    "print(\"- First 30% of users: Basic schema\")\n",
    "print(\"- Next 30% of users: Added social_media fields\")\n",
    "print(\"- Last 40% of users: Added subscription and metrics fields\\n\")\n",
    "\n",
    "# Query showing all schema versions work together\n",
    "spark.sql(\"\"\"\n",
    "    SELECT \n",
    "        user_id,\n",
    "        user_data:name as name,\n",
    "        user_data:email as email,\n",
    "        user_data:phone as phone,  -- Optional field\n",
    "        user_data:social_media.twitter as twitter,  -- Added in v2\n",
    "        user_data:subscription.tier as subscription_tier,  -- Added in v3\n",
    "        user_data:metrics.login_count as login_count  -- Added in v3\n",
    "    FROM users_variant\n",
    "    WHERE user_id IN (\n",
    "        (SELECT user_id FROM users_variant LIMIT 1 OFFSET 100)\n",
    "        UNION ALL\n",
    "        (SELECT user_id FROM users_variant LIMIT 1 OFFSET 500)\n",
    "        UNION ALL\n",
    "        (SELECT user_id FROM users_variant LIMIT 1 OFFSET 900)\n",
    "    )\n",
    "\"\"\").show(truncate=False)\n",
    "\n",
    "print(\"\\n✅ VARIANT seamlessly handles schema evolution - old and new fields coexist!\")\n"
   ]
  },
  {
   "cell_type": "code",
   "execution_count": 23,
   "id": "ae497cfe",
   "metadata": {},
   "outputs": [
    {
     "name": "stdout",
     "output_type": "stream",
     "text": [
      "=== Pivoting VARIANT Data ===\n",
      "\n"
     ]
    },
    {
     "data": {
      "application/vnd.jupyter.widget-view+json": {
       "model_id": "43f7e38040594ac6a2bd1e218d3fb96b",
       "version_major": 2,
       "version_minor": 0
      },
      "text/plain": [
       "HBox(children=(IntProgress(value=0, bar_style='success'), Label(value='')))"
      ]
     },
     "metadata": {},
     "output_type": "display_data"
    },
    {
     "name": "stdout",
     "output_type": "stream",
     "text": [
      "+--------------------+----+-----+-------+----------+\n",
      "|             country|free|basic|premium|enterprise|\n",
      "+--------------------+----+-----+-------+----------+\n",
      "|         Afghanistan|   1| NULL|   NULL|      NULL|\n",
      "|             Albania|   1| NULL|   NULL|         1|\n",
      "|             Algeria|NULL| NULL|   NULL|         2|\n",
      "|      American Samoa|NULL| NULL|      1|      NULL|\n",
      "|             Andorra|   1| NULL|   NULL|      NULL|\n",
      "|              Angola|NULL| NULL|      1|      NULL|\n",
      "|            Anguilla|NULL|    1|      1|         1|\n",
      "|Antarctica (the t...|NULL| NULL|   NULL|      NULL|\n",
      "| Antigua and Barbuda|NULL|    1|      2|      NULL|\n",
      "|           Argentina|NULL| NULL|   NULL|         1|\n",
      "+--------------------+----+-----+-------+----------+\n",
      "\n",
      "\n",
      "=== Creating Structured View from VARIANT ===\n",
      "\n",
      "✅ Created structured view from VARIANT data\n"
     ]
    },
    {
     "data": {
      "application/vnd.jupyter.widget-view+json": {
       "model_id": "0e70199d8fb64b9ab0f28026bae43083",
       "version_major": 2,
       "version_minor": 0
      },
      "text/plain": [
       "HBox(children=(IntProgress(value=0, bar_style='success'), Label(value='')))"
      ]
     },
     "metadata": {},
     "output_type": "display_data"
    },
    {
     "name": "stdout",
     "output_type": "stream",
     "text": [
      "+--------------------+-----------------+--------------------+---+---------------+--------------------+-----------------+--------------------+--------------+\n",
      "|             user_id|             name|               email|age|           city|             country|newsletter_opt_in|        created_date|interest_count|\n",
      "+--------------------+-----------------+--------------------+---+---------------+--------------------+-----------------+--------------------+--------------+\n",
      "|dda976ab-46ff-445...| Elizabeth Miller|michaeloconnell@e...| 40|West Jessemouth|             Bermuda|            false|2020-11-04 05:22:...|             1|\n",
      "|2fb91262-8498-42a...|Michael Singleton|browndean@example...| 49|    Williamtown|Heard Island and ...|            false|2022-08-31 06:35:...|             1|\n",
      "|c118750b-97ac-431...| Joseph Underwood|pauldavis@example...| 25|      Kellyport|               Egypt|             true|2024-01-30 03:39:...|             5|\n",
      "|4957a6b8-c394-4de...|     Shane Martin|courtneyfields@ex...| 38|    New Kristin|             Tokelau|            false|2025-08-18 01:05:...|             4|\n",
      "|a1be48af-8fe6-485...|     Kelsey Fritz|garciadarin@examp...| 45|  New Dianaview|              Israel|             true|2021-06-16 10:36:...|             1|\n",
      "+--------------------+-----------------+--------------------+---+---------------+--------------------+-----------------+--------------------+--------------+\n",
      "\n"
     ]
    }
   ],
   "source": [
    "# Pivoting VARIANT data\n",
    "print(\"=== Pivoting VARIANT Data ===\\n\")\n",
    "\n",
    "spark.sql(\"\"\"\n",
    "    WITH subscription_counts AS (\n",
    "        SELECT \n",
    "            CAST(user_data:address.country AS STRING) as country,\n",
    "            CAST(user_data:subscription.tier AS STRING) as subscription_tier,\n",
    "            COUNT(*) as user_count\n",
    "        FROM users_variant\n",
    "        WHERE NOT IS_VARIANT_NULL(user_data:subscription.tier)\n",
    "            AND NOT IS_VARIANT_NULL(user_data:address.country)\n",
    "        GROUP BY country, subscription_tier\n",
    "    )\n",
    "    SELECT * FROM subscription_counts\n",
    "    PIVOT (\n",
    "        SUM(user_count)\n",
    "        FOR subscription_tier IN ('free', 'basic', 'premium', 'enterprise')\n",
    "    )\n",
    "    ORDER BY country\n",
    "    LIMIT 10\n",
    "\"\"\").show()\n",
    "\n",
    "# Creating materialized views from VARIANT data\n",
    "print(\"\\n=== Creating Structured View from VARIANT ===\\n\")\n",
    "\n",
    "spark.sql(\"\"\"\n",
    "    CREATE OR REPLACE TEMPORARY VIEW user_details AS\n",
    "    SELECT \n",
    "        user_id,\n",
    "        CAST(user_data:name AS STRING) as name,\n",
    "        CAST(user_data:email AS STRING) as email,\n",
    "        CAST(user_data:age AS INT) as age,\n",
    "        CAST(user_data:address.city AS STRING) as city,\n",
    "        CAST(user_data:address.country AS STRING) as country,\n",
    "        CAST(user_data:preferences.newsletter AS BOOLEAN) as newsletter_opt_in,\n",
    "        CAST(user_data:created_at AS TIMESTAMP) as created_date,\n",
    "        SIZE(CAST(user_data:profile.interests AS ARRAY<STRING>)) as interest_count\n",
    "    FROM users_variant\n",
    "\"\"\")\n",
    "\n",
    "print(\"✅ Created structured view from VARIANT data\")\n",
    "\n",
    "spark.sql(\"SELECT * FROM user_details LIMIT 5\").show()\n"
   ]
  },
  {
   "cell_type": "markdown",
   "id": "3f02f207",
   "metadata": {},
   "source": [
    "## 12. Cleanup Script\n",
    "\n",
    "This section provides a comprehensive cleanup script to remove all resources created during this exploration.\n"
   ]
  },
  {
   "cell_type": "code",
   "execution_count": 24,
   "id": "39dcdac8",
   "metadata": {},
   "outputs": [
    {
     "name": "stdout",
     "output_type": "stream",
     "text": [
      "🧹 Cleaning up VARIANT exploration resources...\n",
      "✅ Dropped table: users_variant\n",
      "✅ Dropped table: users_extracted\n",
      "✅ Dropped table: variant_optimized\n",
      "✅ Dropped view: user_details\n",
      "✅ Cleaned volume files\n",
      "✅ Reset to main catalog, default schema\n",
      "\n",
      "🎉 Cleanup complete!\n"
     ]
    }
   ],
   "source": [
    "# Cleanup Script - Removes all resources created during VARIANT exploration\n",
    "\n",
    "def cleanup():\n",
    "    \"\"\"Simple cleanup function to remove all created resources\"\"\"\n",
    "    print(\"🧹 Cleaning up VARIANT exploration resources...\")\n",
    "    \n",
    "    # Drop tables\n",
    "    tables = ['users_variant', 'users_extracted', 'variant_optimized']\n",
    "    for table in tables:\n",
    "        spark.sql(f\"DROP TABLE IF EXISTS {table}\")\n",
    "        print(f\"✅ Dropped table: {table}\")\n",
    "    \n",
    "    # Drop views\n",
    "    spark.sql(\"DROP VIEW IF EXISTS user_details\")\n",
    "    print(\"✅ Dropped view: user_details\")\n",
    "    \n",
    "    # Clean volume files\n",
    "    users_folder = f\"/Volumes/{CATALOG}/{SCHEMA}/{VOLUME}/users\"\n",
    "    try:\n",
    "        dbutils.fs.rm(users_folder, recurse=True)\n",
    "        print(\"✅ Cleaned volume files\")\n",
    "    except:\n",
    "        print(\"⚠️  Volume files may not exist\")\n",
    "    \n",
    "    # Reset to default catalog/schema\n",
    "    spark.sql(\"USE CATALOG main\")\n",
    "    spark.sql(\"USE SCHEMA default\")\n",
    "    print(\"✅ Reset to main catalog, default schema\")\n",
    "    \n",
    "    print(\"\\n🎉 Cleanup complete!\")\n",
    "\n",
    "# Run cleanup\n",
    "cleanup()\n"
   ]
  },
  {
   "cell_type": "code",
   "execution_count": 25,
   "id": "49e7acf8",
   "metadata": {},
   "outputs": [],
   "source": [
    "# Optional: Individual cleanup functions\n",
    "\n",
    "# def drop_tables_only():\n",
    "#     \"\"\"Drop only the tables\"\"\"\n",
    "#     tables = ['users_variant', 'users_extracted', 'variant_optimized']\n",
    "#     for table in tables:\n",
    "#         spark.sql(f\"DROP TABLE IF EXISTS {table}\")\n",
    "#         print(f\"✅ Dropped {table}\")\n",
    "\n",
    "# def clean_volume_only():\n",
    "#     \"\"\"Clean only the volume files\"\"\"\n",
    "#     dbutils.fs.rm(f\"/Volumes/{CATALOG}/{SCHEMA}/{VOLUME}/users\", recurse=True)\n",
    "#     print(\"✅ Cleaned volume files\")\n",
    "\n",
    "# Usage:\n",
    "# cleanup()           # Full cleanup (already run above)\n",
    "# drop_tables_only()  # Drop only tables\n",
    "# clean_volume_only() # Clean only volume files\n"
   ]
  }
 ],
 "metadata": {
  "kernelspec": {
   "display_name": "base",
   "language": "python",
   "name": "python3"
  },
  "language_info": {
   "codemirror_mode": {
    "name": "ipython",
    "version": 3
   },
   "file_extension": ".py",
   "mimetype": "text/x-python",
   "name": "python",
   "nbconvert_exporter": "python",
   "pygments_lexer": "ipython3",
   "version": "3.12.7"
  }
 },
 "nbformat": 4,
 "nbformat_minor": 5
}
