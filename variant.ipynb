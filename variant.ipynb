{
 "cells": [
  {
   "cell_type": "code",
   "execution_count": 1,
   "id": "abd72d09",
   "metadata": {},
   "outputs": [
    {
     "name": "stdout",
     "output_type": "stream",
     "text": [
      "Collecting faker==23.0.0\n",
      "  Downloading Faker-23.0.0-py3-none-any.whl.metadata (15 kB)\n",
      "Requirement already satisfied: python-dateutil>=2.4 in /opt/homebrew/anaconda3/lib/python3.12/site-packages (from faker==23.0.0) (2.9.0.post0)\n",
      "Requirement already satisfied: six>=1.5 in /opt/homebrew/anaconda3/lib/python3.12/site-packages (from python-dateutil>=2.4->faker==23.0.0) (1.16.0)\n",
      "Downloading Faker-23.0.0-py3-none-any.whl (1.7 MB)\n",
      "\u001b[2K   \u001b[90m━━━━━━━━━━━━━━━━━━━━━━━━━━━━━━━━━━━━━━━━\u001b[0m \u001b[32m1.7/1.7 MB\u001b[0m \u001b[31m1.1 MB/s\u001b[0m  \u001b[33m0:00:02\u001b[0m eta \u001b[36m0:00:01\u001b[0m0m\n",
      "\u001b[?25hInstalling collected packages: faker\n",
      "  Attempting uninstall: faker\n",
      "    Found existing installation: Faker 23.3.0\n",
      "    Uninstalling Faker-23.3.0:\n",
      "      Successfully uninstalled Faker-23.3.0\n",
      "Successfully installed faker-23.0.0\n"
     ]
    }
   ],
   "source": [
    "! pip install faker==23.0.0"
   ]
  },
  {
   "cell_type": "code",
   "execution_count": 1,
   "id": "7a4c6d5a",
   "metadata": {},
   "outputs": [
    {
     "name": "stdout",
     "output_type": "stream",
     "text": [
      "✅ Spark session initialized\n"
     ]
    },
    {
     "data": {
      "application/vnd.jupyter.widget-view+json": {
       "model_id": "4741381cb60f426d8b0bdf022c602fe2",
       "version_major": 2,
       "version_minor": 0
      },
      "text/plain": [
       "HBox(children=(IntProgress(value=0, bar_style='success'), Label(value='')))"
      ]
     },
     "metadata": {},
     "output_type": "display_data"
    },
    {
     "name": "stdout",
     "output_type": "stream",
     "text": [
      "Current catalog: users\n"
     ]
    },
    {
     "data": {
      "application/vnd.jupyter.widget-view+json": {
       "model_id": "d2553874fd5c446ab5af39599fb141a8",
       "version_major": 2,
       "version_minor": 0
      },
      "text/plain": [
       "HBox(children=(IntProgress(value=0, bar_style='success'), Label(value='')))"
      ]
     },
     "metadata": {},
     "output_type": "display_data"
    },
    {
     "name": "stdout",
     "output_type": "stream",
     "text": [
      "Current schema: pavan_naidu\n",
      "Configuration: CATALOG=users, SCHEMA=pavan_naidu, VOLUME=raw_data\n"
     ]
    }
   ],
   "source": [
    "# VARIANT Data Type Exploration in Databricks\n",
    "# This notebook demonstrates various features and capabilities of the VARIANT data type\n",
    "\n",
    "from pyspark.sql import SparkSession\n",
    "from pyspark.sql.functions import *\n",
    "from pyspark.sql.types import *\n",
    "import json\n",
    "import random\n",
    "from datetime import datetime, timedelta\n",
    "from faker import Faker\n",
    "import os\n",
    "\n",
    "# =============================================================================\n",
    "# CONFIGURATION PARAMETERS\n",
    "# =============================================================================\n",
    "# Update these parameters to customize the notebook for your environment\n",
    "CATALOG = \"users\"                    # Unity Catalog name\n",
    "SCHEMA = \"pavan_naidu\"               # Schema name within the catalog\n",
    "VOLUME = \"raw_data\"                  # Volume name for storing data\n",
    "# =============================================================================\n",
    "\n",
    "def get_spark() -> SparkSession:\n",
    "    try:\n",
    "        from databricks.connect import DatabricksSession\n",
    "        return DatabricksSession.builder.getOrCreate()\n",
    "    except Exception:\n",
    "        return SparkSession.builder.getOrCreate()\n",
    "\n",
    "spark = get_spark()\n",
    "fake = Faker()\n",
    "\n",
    "# Set catalog and schema using parameters\n",
    "spark.sql(f\"USE CATALOG {CATALOG}\")\n",
    "spark.sql(f\"USE SCHEMA {SCHEMA}\")\n",
    "\n",
    "print(\"✅ Spark session initialized\")\n",
    "print(f\"Current catalog: {spark.sql('SELECT current_catalog()').collect()[0][0]}\")\n",
    "print(f\"Current schema: {spark.sql('SELECT current_schema()').collect()[0][0]}\")\n",
    "print(f\"Configuration: CATALOG={CATALOG}, SCHEMA={SCHEMA}, VOLUME={VOLUME}\")"
   ]
  },
  {
   "cell_type": "markdown",
   "id": "33486a7c",
   "metadata": {},
   "source": [
    "## 1. Setup: Create UC Volume and Generate Fake JSON Data\n",
    "\n",
    "First, let's create a folder in Unity Catalog volume and generate diverse JSON data to showcase VARIANT functionality.\n"
   ]
  },
  {
   "cell_type": "code",
   "execution_count": 2,
   "id": "636affdd",
   "metadata": {},
   "outputs": [
    {
     "name": "stdout",
     "output_type": "stream",
     "text": [
      "✅ Volume 'raw_data' is ready\n",
      "Volume path: /Volumes/users/pavan_naidu/raw_data\n"
     ]
    }
   ],
   "source": [
    "# Create or verify volume exists\n",
    "try:\n",
    "    spark.sql(f\"CREATE VOLUME IF NOT EXISTS {CATALOG}.{SCHEMA}.{VOLUME}\")\n",
    "    print(f\"✅ Volume '{VOLUME}' is ready\")\n",
    "except Exception as e:\n",
    "    print(f\"Volume might already exist or error: {e}\")\n",
    "\n",
    "# Get the volume path\n",
    "volume_path = f\"/Volumes/{CATALOG}/{SCHEMA}/{VOLUME}\"\n",
    "print(f\"Volume path: {volume_path}\")\n"
   ]
  },
  {
   "cell_type": "code",
   "execution_count": 3,
   "id": "f2ce3c0f",
   "metadata": {},
   "outputs": [
    {
     "name": "stdout",
     "output_type": "stream",
     "text": [
      "Generating fake user data...\n",
      "✅ Generated 1000 user records with evolving schemas\n",
      "\n",
      "Sample user records showing schema evolution:\n",
      "\n",
      "1. Basic user (early schema):\n",
      "{\n",
      "  \"user_id\": \"424a5cad-531e-4730-857d-f7f9c945fb24\",\n",
      "  \"username\": \"bryan93\",\n",
      "  \"email\": \"jasmineking@example.net\",\n",
      "  \"name\": \"Matthew Quinn\",\n",
      "  \"age\": 66,\n",
      "  \"created_at\": \"2025-08-07 08:15:29.517631\",\n",
      "  \"last_login\": \"2025-09-06 07:01:41.772613\",\n",
      "  \"profile\": {\n",
      "    \"bio\": \"Probably enjoy him friend option.\\nHigh admit determine each drug human. Health before run collection ahead training.\",\n",
      "    \"occupation\": \"Emergency planning/management officer\",\n",
      "    \"company\": \"Campbell Inc\",\n",
      "    \"interests\": [\n",
      "      \"newspaper\",\n",
      "      \"inside\",\n",
      "      \"that\"\n",
      "    ],\n",
      "    \"skills\": []\n",
      "  },\n",
      "  \"address\": {\n",
      "  ...\n",
      "\n",
      "2. User with social media (mid evolution):\n",
      "{\n",
      "  \"user_id\": \"a682f442-b29e-4a78-8f3f-da3c52a876ae\",\n",
      "  \"username\": \"laurenmckinney\",\n",
      "  \"email\": \"felicia39@example.com\",\n",
      "  \"name\": \"Cristina Berry MD\",\n",
      "  \"age\": 54,\n",
      "  \"created_at\": \"2022-04-02 10:05:42.478615\",\n",
      "  \"last_login\": \"2025-09-18 02:36:56.368026\",\n",
      "  \"profile\": {\n",
      "    \"bio\": \"Hit trial stand manager lawyer ahead. Street watch child pass room. Unit person through town memory.\",\n",
      "    \"occupation\": \"Immunologist\",\n",
      "    \"company\": \"Parker, Hoover and Smith\",\n",
      "    \"interests\": [\n",
      "      \"loss\"\n",
      "    ],\n",
      "    \"skills\": []\n",
      "  },\n",
      "  \"address\": {\n",
      "    \"street\": \"83190 Garrett Meadow\",\n",
      "    \"city\": \"South R...\n",
      "\n",
      "3. User with full schema (latest):\n",
      "{\n",
      "  \"user_id\": \"bc9c5934-c811-4f72-b574-8fa9f9838f27\",\n",
      "  \"username\": \"douglas58\",\n",
      "  \"email\": \"donald01@example.net\",\n",
      "  \"name\": \"Rebecca Mckinney\",\n",
      "  \"age\": 43,\n",
      "  \"created_at\": \"2021-03-15 14:07:50.055993\",\n",
      "  \"last_login\": \"2025-09-07 06:58:36.430674\",\n",
      "  \"profile\": {\n",
      "    \"bio\": \"Example control hand financial task. May computer girl early. Benefit account especially back mission pattern.\",\n",
      "    \"occupation\": \"Water quality scientist\",\n",
      "    \"company\": \"Johnson Group\",\n",
      "    \"interests\": [\n",
      "      \"rule\"\n",
      "    ],\n",
      "    \"skills\": []\n",
      "  },\n",
      "  \"address\": {\n",
      "    \"street\": \"4521 Salazar Tunnel\",\n",
      "    \"city\": \"South...\n"
     ]
    }
   ],
   "source": [
    "# Generate fake user data to demonstrate VARIANT capabilities\n",
    "\n",
    "def generate_user_data(num_records=1000):\n",
    "    \"\"\"Generate user data with varying structures to simulate schema evolution\"\"\"\n",
    "    users = []\n",
    "    \n",
    "    for i in range(num_records):\n",
    "        # Basic user structure (all users have these fields)\n",
    "        user = {\n",
    "            \"user_id\": str(fake.uuid4()),\n",
    "            \"username\": fake.user_name(),\n",
    "            \"email\": fake.email(),\n",
    "            \"name\": fake.name(),\n",
    "            \"age\": random.randint(18, 80),\n",
    "            \"created_at\": str(fake.date_time_between(start_date='-5y', end_date='now')),\n",
    "            \"last_login\": str(fake.date_time_between(start_date='-30d', end_date='now'))\n",
    "        }\n",
    "        \n",
    "        # Profile information (nested structure)\n",
    "        user[\"profile\"] = {\n",
    "            \"bio\": fake.text(max_nb_chars=200),\n",
    "            \"occupation\": fake.job(),\n",
    "            \"company\": fake.company(),\n",
    "            \"interests\": [fake.word() for _ in range(random.randint(1, 5))],\n",
    "            \"skills\": [fake.job() for _ in range(random.randint(0, 3))]\n",
    "        }\n",
    "        \n",
    "        # Address information (nested with multiple levels)\n",
    "        user[\"address\"] = {\n",
    "            \"street\": fake.street_address(),\n",
    "            \"city\": fake.city(),\n",
    "            \"state\": fake.state(),\n",
    "            \"country\": fake.country(),\n",
    "            \"postal_code\": fake.postcode(),\n",
    "            \"coordinates\": {\n",
    "                \"latitude\": float(fake.latitude()),\n",
    "                \"longitude\": float(fake.longitude())\n",
    "            }\n",
    "        }\n",
    "        \n",
    "        # Preferences (nested boolean flags)\n",
    "        user[\"preferences\"] = {\n",
    "            \"newsletter\": bool(random.choice([True, False])),\n",
    "            \"notifications\": {\n",
    "                \"email\": bool(random.choice([True, False])),\n",
    "                \"sms\": bool(random.choice([True, False])),\n",
    "                \"push\": bool(random.choice([True, False])),\n",
    "                \"frequency\": random.choice([\"daily\", \"weekly\", \"monthly\", \"never\"])\n",
    "            },\n",
    "            \"privacy\": {\n",
    "                \"profile_visible\": bool(random.choice([True, False])),\n",
    "                \"show_email\": bool(random.choice([True, False])),\n",
    "                \"show_location\": bool(random.choice([True, False]))\n",
    "            }\n",
    "        }\n",
    "        \n",
    "        # Simulate schema evolution - newer users have additional fields\n",
    "        if i > num_records * 0.3:  # 70% of users have these newer fields\n",
    "            user[\"social_media\"] = {\n",
    "                \"twitter\": f\"@{fake.user_name()}\" if random.random() > 0.3 else None,\n",
    "                \"linkedin\": fake.url() if random.random() > 0.5 else None,\n",
    "                \"github\": f\"github.com/{fake.user_name()}\" if random.random() > 0.7 else None\n",
    "            }\n",
    "            \n",
    "        if i > num_records * 0.6:  # 40% of users have these newest fields\n",
    "            user[\"subscription\"] = {\n",
    "                \"tier\": random.choice([\"free\", \"basic\", \"premium\", \"enterprise\"]),\n",
    "                \"start_date\": str(fake.date_between(start_date='-2y', end_date='today')),\n",
    "                \"auto_renew\": bool(random.choice([True, False]))\n",
    "            }\n",
    "            user[\"metrics\"] = {\n",
    "                \"login_count\": random.randint(1, 1000),\n",
    "                \"posts_created\": random.randint(0, 500),\n",
    "                \"comments_made\": random.randint(0, 2000),\n",
    "                \"last_activity\": str(fake.date_time_between(start_date='-7d', end_date='now'))\n",
    "            }\n",
    "        \n",
    "        # Some users have optional fields (simulate sparse data)\n",
    "        if random.random() > 0.7:\n",
    "            user[\"phone\"] = fake.phone_number()\n",
    "        \n",
    "        if random.random() > 0.8:\n",
    "            user[\"referral_code\"] = fake.bothify(text='REF-####-????')\n",
    "            user[\"referred_by\"] = str(fake.uuid4()) if random.random() > 0.5 else None\n",
    "        \n",
    "        users.append(user)\n",
    "    \n",
    "    return users\n",
    "\n",
    "# Generate sample user data\n",
    "print(\"Generating fake user data...\")\n",
    "user_data = generate_user_data(1000)\n",
    "print(f\"✅ Generated {len(user_data)} user records with evolving schemas\")\n",
    "\n",
    "# Show sample records demonstrating schema evolution\n",
    "print(\"\\nSample user records showing schema evolution:\")\n",
    "print(\"\\n1. Basic user (early schema):\")\n",
    "print(json.dumps(user_data[100], indent=2)[:600] + \"...\")\n",
    "print(\"\\n2. User with social media (mid evolution):\")\n",
    "print(json.dumps(user_data[500], indent=2)[:600] + \"...\")\n",
    "print(\"\\n3. User with full schema (latest):\")\n",
    "print(json.dumps(user_data[900], indent=2)[:600] + \"...\")\n"
   ]
  },
  {
   "cell_type": "code",
   "execution_count": 4,
   "id": "6431e72c",
   "metadata": {},
   "outputs": [
    {
     "name": "stdout",
     "output_type": "stream",
     "text": [
      "✅ Created folder: /Volumes/users/pavan_naidu/raw_data/users\n",
      "✅ Saved JSON data to: /Volumes/users/pavan_naidu/raw_data/users/user_data.json\n",
      "✅ Saved JSONL data to: /Volumes/users/pavan_naidu/raw_data/users/user_data.jsonl\n",
      "\n",
      "📂 Folder structure created:\n"
     ]
    },
    {
     "data": {
      "text/plain": [
       "[FileInfo(path='/Volumes/users/pavan_naidu/raw_data/users/user_data.json', name='user_data.json', size=1159727, modificationTime=1758225995000),\n",
       " FileInfo(path='/Volumes/users/pavan_naidu/raw_data/users/user_data.jsonl', name='user_data.jsonl', size=1158726, modificationTime=1758225996000)]"
      ]
     },
     "metadata": {},
     "output_type": "display_data"
    }
   ],
   "source": [
    "# Create a users folder in the volume\n",
    "users_folder = f\"{volume_path}/users\"\n",
    "try:\n",
    "    dbutils.fs.mkdirs(users_folder)\n",
    "    print(f\"✅ Created folder: {users_folder}\")\n",
    "except Exception as e:\n",
    "    print(f\"Folder might already exist: {e}\")\n",
    "\n",
    "# Save JSON data to users folder\n",
    "json_file_path = f\"{users_folder}/user_data.json\"\n",
    "\n",
    "# Write JSON data to file\n",
    "dbutils.fs.put(json_file_path, json.dumps(user_data), overwrite=True)\n",
    "print(f\"✅ Saved JSON data to: {json_file_path}\")\n",
    "\n",
    "# Also save as individual JSON lines for easier processing\n",
    "jsonl_file_path = f\"{users_folder}/user_data.jsonl\"\n",
    "jsonl_content = \"\\n\".join([json.dumps(user) for user in user_data])\n",
    "dbutils.fs.put(jsonl_file_path, jsonl_content, overwrite=True)\n",
    "print(f\"✅ Saved JSONL data to: {jsonl_file_path}\")\n",
    "\n",
    "# # Optionally, save data partitioned by subscription tier for those who have it\n",
    "# print(\"\\n📁 Creating partitioned data by subscription tier...\")\n",
    "# for user in user_data:\n",
    "#     if \"subscription\" in user:\n",
    "#         tier = user.get(\"subscription\", {}).get(\"tier\", \"unknown\")\n",
    "#         tier_folder = f\"{users_folder}/by_tier/{tier}\"\n",
    "        \n",
    "#         # Create tier folder if it doesn't exist\n",
    "#         try:\n",
    "#             dbutils.fs.mkdirs(tier_folder)\n",
    "#         except:\n",
    "#             pass  # Folder exists\n",
    "        \n",
    "#         # Save user to appropriate tier folder\n",
    "#         user_file = f\"{tier_folder}/{user['user_id']}.json\"\n",
    "#         dbutils.fs.put(user_file, json.dumps(user), overwrite=True)\n",
    "\n",
    "# print(\"✅ Created partitioned user data by subscription tier\")\n",
    "\n",
    "# List the created structure\n",
    "print(\"\\n📂 Folder structure created:\")\n",
    "display(dbutils.fs.ls(users_folder))\n"
   ]
  },
  {
   "cell_type": "markdown",
   "id": "386a4093",
   "metadata": {},
   "source": [
    "## 2. Creating Tables with VARIANT Data Type\n",
    "\n",
    "Let's create tables to store our JSON data using the VARIANT type.\n"
   ]
  },
  {
   "cell_type": "code",
   "execution_count": 5,
   "id": "af3baff3",
   "metadata": {},
   "outputs": [
    {
     "name": "stdout",
     "output_type": "stream",
     "text": [
      "✅ Created table: users_variant with column defaults enabled\n",
      "✅ Created table: users_extracted\n",
      "\n",
      "Table Schemas:\n",
      "+-------------------+---------+-------+\n",
      "|           col_name|data_type|comment|\n",
      "+-------------------+---------+-------+\n",
      "|            user_id|   string|   NULL|\n",
      "|           username|   string|   NULL|\n",
      "|              email|   string|   NULL|\n",
      "|          user_data|  variant|   NULL|\n",
      "|ingestion_timestamp|timestamp|   NULL|\n",
      "+-------------------+---------+-------+\n",
      "\n",
      "+-------------------+---------+-------+\n",
      "|           col_name|data_type|comment|\n",
      "+-------------------+---------+-------+\n",
      "|            user_id|   string|   NULL|\n",
      "|           username|   string|   NULL|\n",
      "|              email|   string|   NULL|\n",
      "|               name|   string|   NULL|\n",
      "|                age|      int|   NULL|\n",
      "|               city|   string|   NULL|\n",
      "|            country|   string|   NULL|\n",
      "|  subscription_tier|   string|   NULL|\n",
      "|          user_data|  variant|   NULL|\n",
      "|ingestion_timestamp|timestamp|   NULL|\n",
      "+-------------------+---------+-------+\n",
      "\n"
     ]
    }
   ],
   "source": [
    "# Drop tables if they exist\n",
    "spark.sql(\"DROP TABLE IF EXISTS users_variant\")\n",
    "spark.sql(\"DROP TABLE IF EXISTS users_extracted\")\n",
    "\n",
    "# Create a table with VARIANT column for user data\n",
    "# Enable Delta feature for column defaults\n",
    "spark.sql(f\"\"\"\n",
    "    CREATE TABLE IF NOT EXISTS users_variant (\n",
    "        user_id STRING,\n",
    "        username STRING,\n",
    "        email STRING,\n",
    "        user_data VARIANT,\n",
    "        ingestion_timestamp TIMESTAMP DEFAULT CURRENT_TIMESTAMP()\n",
    "    )\n",
    "    USING DELTA\n",
    "    TBLPROPERTIES('delta.feature.allowColumnDefaults' = 'supported')\n",
    "    COMMENT 'Table storing user data in VARIANT column'\n",
    "\"\"\")\n",
    "\n",
    "print(\"✅ Created table: users_variant with column defaults enabled\")\n",
    "\n",
    "# Create another table with extracted fields for performance comparison\n",
    "spark.sql(f\"\"\"\n",
    "    CREATE TABLE IF NOT EXISTS users_extracted (\n",
    "        user_id STRING,\n",
    "        username STRING,\n",
    "        email STRING,\n",
    "        name STRING,\n",
    "        age INT,\n",
    "        city STRING,\n",
    "        country STRING,\n",
    "        subscription_tier STRING,\n",
    "        user_data VARIANT,\n",
    "        ingestion_timestamp TIMESTAMP DEFAULT CURRENT_TIMESTAMP()\n",
    "    )\n",
    "    USING DELTA\n",
    "    TBLPROPERTIES('delta.feature.allowColumnDefaults' = 'supported')\n",
    "    COMMENT 'Table with commonly accessed fields extracted from VARIANT'\n",
    "\"\"\")\n",
    "\n",
    "print(\"✅ Created table: users_extracted\")\n",
    "\n",
    "# Show table schemas\n",
    "print(\"\\nTable Schemas:\")\n",
    "spark.sql(\"DESCRIBE TABLE users_variant\").show()\n",
    "spark.sql(\"DESCRIBE TABLE users_extracted\").show()\n"
   ]
  },
  {
   "cell_type": "markdown",
   "id": "46f420ad",
   "metadata": {},
   "source": [
    "## 3. Loading Data into VARIANT Columns\n",
    "\n",
    "Now let's load our JSON data into the tables using different methods.\n"
   ]
  },
  {
   "cell_type": "code",
   "execution_count": 6,
   "id": "ce9e0c04",
   "metadata": {},
   "outputs": [
    {
     "data": {
      "application/vnd.jupyter.widget-view+json": {
       "model_id": "761c5fedaef94801864f026315553638",
       "version_major": 2,
       "version_minor": 0
      },
      "text/plain": [
       "HBox(children=(IntProgress(value=0, bar_style='success'), Label(value='')))"
      ]
     },
     "metadata": {},
     "output_type": "display_data"
    },
    {
     "data": {
      "application/vnd.jupyter.widget-view+json": {
       "model_id": "d530359c5bef4709a867c6331929c1ed",
       "version_major": 2,
       "version_minor": 0
      },
      "text/plain": [
       "HBox(children=(IntProgress(value=0, bar_style='success'), Label(value='')))"
      ]
     },
     "metadata": {},
     "output_type": "display_data"
    },
    {
     "name": "stdout",
     "output_type": "stream",
     "text": [
      "✅ Loaded 1000 records into users_variant using PARSE_JSON\n",
      "\n",
      "Sample data from users_variant:\n"
     ]
    },
    {
     "data": {
      "application/vnd.jupyter.widget-view+json": {
       "model_id": "e1854d16179542beacf88772f35f6def",
       "version_major": 2,
       "version_minor": 0
      },
      "text/plain": [
       "HBox(children=(IntProgress(value=0, bar_style='success'), Label(value='')))"
      ]
     },
     "metadata": {},
     "output_type": "display_data"
    },
    {
     "name": "stdout",
     "output_type": "stream",
     "text": [
      "+------------------------------------+--------------+----------------------------+-------------------------------------------------------------------------------------------------------------------------------------------------------------------------------------------------------------------------------------------------------------------------------------------------------------------------------------------------------------------------------------------------------------------------------------------------------------------------------------------------------------------------------------------------------------------------------------------------------------------------------------------------------------------------------------------------------------------------------------------------------------------------------------------------------------------------------------------------------------------------------------------------------------------------------------------------------------------------------------------------------------------------------------------------------------------------------------------------------------------------------------+--------------------------+\n",
      "|user_id                             |username      |email                       |user_data                                                                                                                                                                                                                                                                                                                                                                                                                                                                                                                                                                                                                                                                                                                                                                                                                                                                                                                                                                                                                                                                                                                            |ingestion_timestamp       |\n",
      "+------------------------------------+--------------+----------------------------+-------------------------------------------------------------------------------------------------------------------------------------------------------------------------------------------------------------------------------------------------------------------------------------------------------------------------------------------------------------------------------------------------------------------------------------------------------------------------------------------------------------------------------------------------------------------------------------------------------------------------------------------------------------------------------------------------------------------------------------------------------------------------------------------------------------------------------------------------------------------------------------------------------------------------------------------------------------------------------------------------------------------------------------------------------------------------------------------------------------------------------------+--------------------------+\n",
      "|3517c88f-ccdd-4085-b4c2-ddaec1b81062|thomaslong    |mooreelizabeth@example.org  |{\"address\":{\"city\":\"West Jamesbury\",\"coordinates\":{\"latitude\":51.6942515,\"longitude\":-27.760198},\"country\":\"Belgium\",\"postal_code\":\"57610\",\"state\":\"Kentucky\",\"street\":\"5599 Christopher Key Apt. 272\"},\"age\":18,\"created_at\":\"2023-09-15 23:49:52.298586\",\"email\":\"mooreelizabeth@example.org\",\"last_login\":\"2025-08-26 20:40:14.321159\",\"name\":\"David Hudson\",\"preferences\":{\"newsletter\":true,\"notifications\":{\"email\":true,\"frequency\":\"never\",\"push\":true,\"sms\":true},\"privacy\":{\"profile_visible\":false,\"show_email\":false,\"show_location\":true}},\"profile\":{\"bio\":\"Collection election difference involve power house mother about. Fund board difficult reality suddenly president responsibility outside.\",\"company\":\"Chandler LLC\",\"interests\":[\"report\"],\"occupation\":\"Product/process development scientist\",\"skills\":[\"Systems analyst\",\"Bookseller\",\"Aeronautical engineer\"]},\"user_id\":\"3517c88f-ccdd-4085-b4c2-ddaec1b81062\",\"username\":\"thomaslong\"}                                                                                                                                                                |2025-09-18 20:06:42.493639|\n",
      "|59676281-f3fb-4464-a503-5c4b20ced876|brendanelson  |woodsgabrielle@example.net  |{\"address\":{\"city\":\"Campbellmouth\",\"coordinates\":{\"latitude\":81.5739925,\"longitude\":-117.388575},\"country\":\"British Indian Ocean Territory (Chagos Archipelago)\",\"postal_code\":\"31885\",\"state\":\"Utah\",\"street\":\"042 Karen Centers\"},\"age\":24,\"created_at\":\"2025-06-18 13:08:11.201656\",\"email\":\"woodsgabrielle@example.net\",\"last_login\":\"2025-09-13 19:43:00.911617\",\"name\":\"Kevin Dean\",\"preferences\":{\"newsletter\":true,\"notifications\":{\"email\":true,\"frequency\":\"never\",\"push\":true,\"sms\":true},\"privacy\":{\"profile_visible\":false,\"show_email\":true,\"show_location\":true}},\"profile\":{\"bio\":\"Test season understand offer article difficult how. Accept summer a. Probably letter movement general.\",\"company\":\"Walker-Marks\",\"interests\":[\"local\",\"reflect\"],\"occupation\":\"Engineering geologist\",\"skills\":[\"Engineer, communications\"]},\"user_id\":\"59676281-f3fb-4464-a503-5c4b20ced876\",\"username\":\"brendanelson\"}                                                                                                                                                                                                          |2025-09-18 20:06:42.493639|\n",
      "|6a0d1f3e-787b-4fff-aeb9-aaabb258dcdb|hernandezpaige|danielhowell@example.org    |{\"address\":{\"city\":\"West Phillip\",\"coordinates\":{\"latitude\":-31.4826115,\"longitude\":-85.024449},\"country\":\"Canada\",\"postal_code\":\"03947\",\"state\":\"Nebraska\",\"street\":\"58539 Sarah Points Apt. 690\"},\"age\":23,\"created_at\":\"2022-12-27 12:48:39.133763\",\"email\":\"danielhowell@example.org\",\"last_login\":\"2025-09-17 07:39:15.292944\",\"name\":\"Sandra Lester\",\"preferences\":{\"newsletter\":false,\"notifications\":{\"email\":true,\"frequency\":\"daily\",\"push\":true,\"sms\":false},\"privacy\":{\"profile_visible\":true,\"show_email\":true,\"show_location\":true}},\"profile\":{\"bio\":\"Structure understand avoid audience address. Interesting vote enjoy time ok imagine least. Finish arrive just difference town behind. However must discuss nation.\",\"company\":\"Monroe-Cook\",\"interests\":[\"should\",\"art\",\"hot\",\"generation\",\"morning\"],\"occupation\":\"Therapist, nutritional\",\"skills\":[]},\"user_id\":\"6a0d1f3e-787b-4fff-aeb9-aaabb258dcdb\",\"username\":\"hernandezpaige\"}                                                                                                                                                                          |2025-09-18 20:06:42.493639|\n",
      "|76e70ec6-f201-4510-9de5-2c61af2af97b|brownpatrick  |sullivanjason@example.org   |{\"address\":{\"city\":\"Thompsontown\",\"coordinates\":{\"latitude\":57.1004775,\"longitude\":-47.060007},\"country\":\"Germany\",\"postal_code\":\"78890\",\"state\":\"Delaware\",\"street\":\"7380 Nicholas Path Suite 844\"},\"age\":38,\"created_at\":\"2024-03-07 14:08:25.824109\",\"email\":\"sullivanjason@example.org\",\"last_login\":\"2025-08-19 19:29:16.043624\",\"name\":\"Diana Pratt\",\"preferences\":{\"newsletter\":true,\"notifications\":{\"email\":true,\"frequency\":\"weekly\",\"push\":true,\"sms\":false},\"privacy\":{\"profile_visible\":true,\"show_email\":false,\"show_location\":false}},\"profile\":{\"bio\":\"Institution with cell leave physical perform reduce full. Blood grow mother risk move most.\\nSeek central performance type deep build claim. Appear mean view everyone develop.\",\"company\":\"Jimenez PLC\",\"interests\":[\"impact\",\"or\",\"most\",\"bed\",\"use\"],\"occupation\":\"Surveyor, building control\",\"skills\":[\"Water quality scientist\",\"Civil engineer, consulting\",\"Audiological scientist\"]},\"referral_code\":\"REF-5849-LUMe\",\"referred_by\":\"123f5c10-a145-4f0d-a551-f11b9a1b9fcb\",\"user_id\":\"76e70ec6-f201-4510-9de5-2c61af2af97b\",\"username\":\"brownpatrick\"}|2025-09-18 20:06:42.493639|\n",
      "|d4bcbf2c-d0ac-4ac2-9c9f-b18d263e894f|crystalburnett|esparzaalejandra@example.com|{\"address\":{\"city\":\"Wrightshire\",\"coordinates\":{\"latitude\":-60.8699075,\"longitude\":-128.799347},\"country\":\"United States Virgin Islands\",\"postal_code\":\"53642\",\"state\":\"Idaho\",\"street\":\"6963 Gallegos Oval\"},\"age\":27,\"created_at\":\"2022-04-28 22:59:38.701836\",\"email\":\"esparzaalejandra@example.com\",\"last_login\":\"2025-08-31 09:03:03.232575\",\"name\":\"Matthew Brown\",\"preferences\":{\"newsletter\":true,\"notifications\":{\"email\":false,\"frequency\":\"daily\",\"push\":false,\"sms\":true},\"privacy\":{\"profile_visible\":false,\"show_email\":true,\"show_location\":false}},\"profile\":{\"bio\":\"Despite senior skin large. Nothing create coach factor task collection. Blood hair air pull main.\",\"company\":\"Nelson Ltd\",\"interests\":[\"ten\",\"official\",\"majority\",\"owner\",\"camera\"],\"occupation\":\"Editorial assistant\",\"skills\":[\"Sport and exercise psychologist\",\"Health and safety inspector\",\"Legal secretary\"]},\"user_id\":\"d4bcbf2c-d0ac-4ac2-9c9f-b18d263e894f\",\"username\":\"crystalburnett\"}                                                                                                                                             |2025-09-18 20:06:42.493639|\n",
      "+------------------------------------+--------------+----------------------------+-------------------------------------------------------------------------------------------------------------------------------------------------------------------------------------------------------------------------------------------------------------------------------------------------------------------------------------------------------------------------------------------------------------------------------------------------------------------------------------------------------------------------------------------------------------------------------------------------------------------------------------------------------------------------------------------------------------------------------------------------------------------------------------------------------------------------------------------------------------------------------------------------------------------------------------------------------------------------------------------------------------------------------------------------------------------------------------------------------------------------------------+--------------------------+\n",
      "\n"
     ]
    }
   ],
   "source": [
    "# Method 1: Load from JSON file using PARSE_JSON\n",
    "spark.sql(f\"\"\"\n",
    "    INSERT INTO users_variant (user_id, username, email, user_data)\n",
    "    SELECT \n",
    "        get_json_object(value, '$.user_id') as user_id,\n",
    "        get_json_object(value, '$.username') as username,\n",
    "        get_json_object(value, '$.email') as email,\n",
    "        PARSE_JSON(value) as user_data\n",
    "    FROM (\n",
    "        SELECT value \n",
    "        FROM text.`{jsonl_file_path}`\n",
    "    )\n",
    "\"\"\")\n",
    "\n",
    "count = spark.sql(\"SELECT COUNT(*) FROM users_variant\").collect()[0][0]\n",
    "print(f\"✅ Loaded {count} records into users_variant using PARSE_JSON\")\n",
    "\n",
    "# Show sample data\n",
    "print(\"\\nSample data from users_variant:\")\n",
    "spark.sql(\"SELECT * FROM users_variant LIMIT 5\").show(truncate=False)\n"
   ]
  },
  {
   "cell_type": "code",
   "execution_count": 7,
   "id": "9f4dac47",
   "metadata": {},
   "outputs": [
    {
     "data": {
      "application/vnd.jupyter.widget-view+json": {
       "model_id": "6350064c1a71408285e4f7f2a16211cb",
       "version_major": 2,
       "version_minor": 0
      },
      "text/plain": [
       "HBox(children=(IntProgress(value=0, bar_style='success'), Label(value='')))"
      ]
     },
     "metadata": {},
     "output_type": "display_data"
    },
    {
     "data": {
      "application/vnd.jupyter.widget-view+json": {
       "model_id": "04a5cff6a61943718f606ccb520e7a58",
       "version_major": 2,
       "version_minor": 0
      },
      "text/plain": [
       "HBox(children=(IntProgress(value=0, bar_style='success'), Label(value='')))"
      ]
     },
     "metadata": {},
     "output_type": "display_data"
    },
    {
     "name": "stdout",
     "output_type": "stream",
     "text": [
      "✅ Loaded 1000 records into users_extracted with extracted fields\n",
      "\n",
      "Sample data from users_extracted (with extracted fields):\n"
     ]
    },
    {
     "data": {
      "application/vnd.jupyter.widget-view+json": {
       "model_id": "29be750e527142ecb281ddcc39d7bc1d",
       "version_major": 2,
       "version_minor": 0
      },
      "text/plain": [
       "HBox(children=(IntProgress(value=0, bar_style='success'), Label(value='')))"
      ]
     },
     "metadata": {},
     "output_type": "display_data"
    },
    {
     "name": "stdout",
     "output_type": "stream",
     "text": [
      "+------------------------------------+-------------+---+--------------+-----------------+\n",
      "|user_id                             |name         |age|city          |subscription_tier|\n",
      "+------------------------------------+-------------+---+--------------+-----------------+\n",
      "|3517c88f-ccdd-4085-b4c2-ddaec1b81062|David Hudson |18 |West Jamesbury|NULL             |\n",
      "|59676281-f3fb-4464-a503-5c4b20ced876|Kevin Dean   |24 |Campbellmouth |NULL             |\n",
      "|6a0d1f3e-787b-4fff-aeb9-aaabb258dcdb|Sandra Lester|23 |West Phillip  |NULL             |\n",
      "|76e70ec6-f201-4510-9de5-2c61af2af97b|Diana Pratt  |38 |Thompsontown  |NULL             |\n",
      "|d4bcbf2c-d0ac-4ac2-9c9f-b18d263e894f|Matthew Brown|27 |Wrightshire   |NULL             |\n",
      "+------------------------------------+-------------+---+--------------+-----------------+\n",
      "\n"
     ]
    }
   ],
   "source": [
    "# Method 2: Load data with extracted fields for optimized queries\n",
    "spark.sql(f\"\"\"\n",
    "    INSERT INTO users_extracted \n",
    "    SELECT \n",
    "        get_json_object(value, '$.user_id') as user_id,\n",
    "        get_json_object(value, '$.username') as username,\n",
    "        get_json_object(value, '$.email') as email,\n",
    "        get_json_object(value, '$.name') as name,\n",
    "        CAST(get_json_object(value, '$.age') AS INT) as age,\n",
    "        get_json_object(value, '$.address.city') as city,\n",
    "        get_json_object(value, '$.address.country') as country,\n",
    "        get_json_object(value, '$.subscription.tier') as subscription_tier,\n",
    "        PARSE_JSON(value) as user_data,\n",
    "        CURRENT_TIMESTAMP() as ingestion_timestamp\n",
    "    FROM (\n",
    "        SELECT value \n",
    "        FROM text.`{jsonl_file_path}`\n",
    "    )\n",
    "\"\"\")\n",
    "\n",
    "count = spark.sql(\"SELECT COUNT(*) FROM users_extracted\").collect()[0][0]\n",
    "print(f\"✅ Loaded {count} records into users_extracted with extracted fields\")\n",
    "\n",
    "# Show sample\n",
    "print(\"\\nSample data from users_extracted (with extracted fields):\")\n",
    "spark.sql(\"SELECT user_id, name, age, city, subscription_tier FROM users_extracted LIMIT 5\").show(truncate=False)\n"
   ]
  },
  {
   "cell_type": "markdown",
   "id": "c44139d9",
   "metadata": {},
   "source": [
    "## 4. Querying VARIANT Data - Basic Access Patterns\n",
    "\n",
    "Let's explore different ways to access and query data stored in VARIANT columns.\n"
   ]
  },
  {
   "cell_type": "code",
   "execution_count": 8,
   "id": "7240c5db",
   "metadata": {},
   "outputs": [
    {
     "name": "stdout",
     "output_type": "stream",
     "text": [
      "=== Accessing Nested Fields ===\n",
      "\n"
     ]
    },
    {
     "data": {
      "application/vnd.jupyter.widget-view+json": {
       "model_id": "fb27a3bc64e0459584517c8430717d5e",
       "version_major": 2,
       "version_minor": 0
      },
      "text/plain": [
       "HBox(children=(IntProgress(value=0, bar_style='success'), Label(value='')))"
      ]
     },
     "metadata": {},
     "output_type": "display_data"
    },
    {
     "name": "stdout",
     "output_type": "stream",
     "text": [
      "+------------------------------------+---------------+---+---------------------------------------------------------------------------------------------------------------------------------------------------------------------------------+---------------------------------------+----------------+-----------+-----------+\n",
      "|user_id                             |name           |age|bio                                                                                                                                                                              |occupation                             |city            |latitude   |longitude  |\n",
      "+------------------------------------+---------------+---+---------------------------------------------------------------------------------------------------------------------------------------------------------------------------------+---------------------------------------+----------------+-----------+-----------+\n",
      "|3517c88f-ccdd-4085-b4c2-ddaec1b81062|\"David Hudson\" |18 |\"Collection election difference involve power house mother about. Fund board difficult reality suddenly president responsibility outside.\"                                       |\"Product/process development scientist\"|\"West Jamesbury\"|51.6942515 |-27.760198 |\n",
      "|59676281-f3fb-4464-a503-5c4b20ced876|\"Kevin Dean\"   |24 |\"Test season understand offer article difficult how. Accept summer a. Probably letter movement general.\"                                                                         |\"Engineering geologist\"                |\"Campbellmouth\" |81.5739925 |-117.388575|\n",
      "|6a0d1f3e-787b-4fff-aeb9-aaabb258dcdb|\"Sandra Lester\"|23 |\"Structure understand avoid audience address. Interesting vote enjoy time ok imagine least. Finish arrive just difference town behind. However must discuss nation.\"             |\"Therapist, nutritional\"               |\"West Phillip\"  |-31.4826115|-85.024449 |\n",
      "|76e70ec6-f201-4510-9de5-2c61af2af97b|\"Diana Pratt\"  |38 |\"Institution with cell leave physical perform reduce full. Blood grow mother risk move most.\\nSeek central performance type deep build claim. Appear mean view everyone develop.\"|\"Surveyor, building control\"           |\"Thompsontown\"  |57.1004775 |-47.060007 |\n",
      "|d4bcbf2c-d0ac-4ac2-9c9f-b18d263e894f|\"Matthew Brown\"|27 |\"Despite senior skin large. Nothing create coach factor task collection. Blood hair air pull main.\"                                                                              |\"Editorial assistant\"                  |\"Wrightshire\"   |-60.8699075|-128.799347|\n",
      "+------------------------------------+---------------+---+---------------------------------------------------------------------------------------------------------------------------------------------------------------------------------+---------------------------------------+----------------+-----------+-----------+\n",
      "\n"
     ]
    }
   ],
   "source": [
    "# Accessing nested fields using : notation\n",
    "print(\"=== Accessing Nested Fields ===\\n\")\n",
    "\n",
    "spark.sql(\"\"\"\n",
    "    SELECT \n",
    "        user_id,\n",
    "        user_data:name as name,\n",
    "        user_data:age as age,\n",
    "        user_data:profile:bio as bio,\n",
    "        user_data:profile:occupation as occupation,\n",
    "        user_data:address:city as city,\n",
    "        user_data:address:coordinates:latitude as latitude,\n",
    "        user_data:address:coordinates:longitude as longitude\n",
    "    FROM users_variant\n",
    "    LIMIT 5\n",
    "\"\"\").show(truncate=False)\n"
   ]
  },
  {
   "cell_type": "code",
   "execution_count": 9,
   "id": "c9d704fd",
   "metadata": {},
   "outputs": [
    {
     "name": "stdout",
     "output_type": "stream",
     "text": [
      "=== Accessing Array Elements in VARIANT ===\n",
      "\n"
     ]
    },
    {
     "data": {
      "application/vnd.jupyter.widget-view+json": {
       "model_id": "23b58ba89a5a4ddbab8daa0ff64eb1cb",
       "version_major": 2,
       "version_minor": 0
      },
      "text/plain": [
       "HBox(children=(IntProgress(value=0, bar_style='success'), Label(value='')))"
      ]
     },
     "metadata": {},
     "output_type": "display_data"
    },
    {
     "name": "stdout",
     "output_type": "stream",
     "text": [
      "+------------------------------------+--------------+--------------+---------------+---------------+-----------------------------------------------------------------------------------+\n",
      "|user_id                             |username      |first_interest|second_interest|total_interests|all_skills                                                                         |\n",
      "+------------------------------------+--------------+--------------+---------------+---------------+-----------------------------------------------------------------------------------+\n",
      "|3517c88f-ccdd-4085-b4c2-ddaec1b81062|thomaslong    |\"report\"      |NULL           |1              |[\"Systems analyst\",\"Bookseller\",\"Aeronautical engineer\"]                           |\n",
      "|59676281-f3fb-4464-a503-5c4b20ced876|brendanelson  |\"local\"       |\"reflect\"      |2              |[\"Engineer, communications\"]                                                       |\n",
      "|6a0d1f3e-787b-4fff-aeb9-aaabb258dcdb|hernandezpaige|\"should\"      |\"art\"          |5              |[]                                                                                 |\n",
      "|76e70ec6-f201-4510-9de5-2c61af2af97b|brownpatrick  |\"impact\"      |\"or\"           |5              |[\"Water quality scientist\",\"Civil engineer, consulting\",\"Audiological scientist\"]  |\n",
      "|d4bcbf2c-d0ac-4ac2-9c9f-b18d263e894f|crystalburnett|\"ten\"         |\"official\"     |5              |[\"Sport and exercise psychologist\",\"Health and safety inspector\",\"Legal secretary\"]|\n",
      "+------------------------------------+--------------+--------------+---------------+---------------+-----------------------------------------------------------------------------------+\n",
      "\n",
      "\n",
      "=== Exploding Arrays from VARIANT ===\n",
      "\n"
     ]
    },
    {
     "data": {
      "application/vnd.jupyter.widget-view+json": {
       "model_id": "c2f7a4ef428243679f6fdc2b5716c0af",
       "version_major": 2,
       "version_minor": 0
      },
      "text/plain": [
       "HBox(children=(IntProgress(value=0, bar_style='success'), Label(value='')))"
      ]
     },
     "metadata": {},
     "output_type": "display_data"
    },
    {
     "name": "stdout",
     "output_type": "stream",
     "text": [
      "+------------------------------------+--------------+----------+\n",
      "|user_id                             |username      |interest  |\n",
      "+------------------------------------+--------------+----------+\n",
      "|3517c88f-ccdd-4085-b4c2-ddaec1b81062|thomaslong    |report    |\n",
      "|59676281-f3fb-4464-a503-5c4b20ced876|brendanelson  |local     |\n",
      "|59676281-f3fb-4464-a503-5c4b20ced876|brendanelson  |reflect   |\n",
      "|6a0d1f3e-787b-4fff-aeb9-aaabb258dcdb|hernandezpaige|should    |\n",
      "|6a0d1f3e-787b-4fff-aeb9-aaabb258dcdb|hernandezpaige|art       |\n",
      "|6a0d1f3e-787b-4fff-aeb9-aaabb258dcdb|hernandezpaige|hot       |\n",
      "|6a0d1f3e-787b-4fff-aeb9-aaabb258dcdb|hernandezpaige|generation|\n",
      "|6a0d1f3e-787b-4fff-aeb9-aaabb258dcdb|hernandezpaige|morning   |\n",
      "|76e70ec6-f201-4510-9de5-2c61af2af97b|brownpatrick  |impact    |\n",
      "|76e70ec6-f201-4510-9de5-2c61af2af97b|brownpatrick  |or        |\n",
      "+------------------------------------+--------------+----------+\n",
      "\n"
     ]
    }
   ],
   "source": [
    "# Accessing array elements within VARIANT\n",
    "print(\"=== Accessing Array Elements in VARIANT ===\\n\")\n",
    "\n",
    "spark.sql(\"\"\"\n",
    "    SELECT \n",
    "        user_id,\n",
    "        username,\n",
    "        user_data:profile:interests[0] as first_interest,\n",
    "        user_data:profile:interests[1] as second_interest,\n",
    "        SIZE(CAST(user_data:profile:interests AS ARRAY<STRING>)) as total_interests,\n",
    "        user_data:profile:skills as all_skills\n",
    "    FROM users_variant\n",
    "    WHERE user_data:profile:interests IS NOT NULL\n",
    "    LIMIT 5\n",
    "\"\"\").show(truncate=False)\n",
    "\n",
    "# Using EXPLODE with arrays in VARIANT\n",
    "print(\"\\n=== Exploding Arrays from VARIANT ===\\n\")\n",
    "\n",
    "spark.sql(\"\"\"\n",
    "    SELECT \n",
    "        user_id,\n",
    "        username,\n",
    "        interest\n",
    "    FROM users_variant\n",
    "    LATERAL VIEW EXPLODE(CAST(user_data:profile:interests AS ARRAY<STRING>)) AS interest\n",
    "    LIMIT 10\n",
    "\"\"\").show(truncate=False)\n"
   ]
  },
  {
   "cell_type": "markdown",
   "id": "0c78006e",
   "metadata": {},
   "source": [
    "## 5. Type Casting and Conversion with VARIANT\n",
    "\n",
    "VARIANT columns can be cast to specific types when needed.\n"
   ]
  },
  {
   "cell_type": "code",
   "execution_count": 10,
   "id": "330c3e37",
   "metadata": {},
   "outputs": [
    {
     "name": "stdout",
     "output_type": "stream",
     "text": [
      "=== Type Casting VARIANT Fields ===\n",
      "\n"
     ]
    },
    {
     "data": {
      "application/vnd.jupyter.widget-view+json": {
       "model_id": "794b65df12854e79a20ef24758801b55",
       "version_major": 2,
       "version_minor": 0
      },
      "text/plain": [
       "HBox(children=(IntProgress(value=0, bar_style='success'), Label(value='')))"
      ]
     },
     "metadata": {},
     "output_type": "display_data"
    },
    {
     "name": "stdout",
     "output_type": "stream",
     "text": [
      "+--------------------+-----------+-------+--------------------+---------------+---------------+\n",
      "|             user_id|age_variant|age_int|   created_timestamp|newsletter_bool|login_count_int|\n",
      "+--------------------+-----------+-------+--------------------+---------------+---------------+\n",
      "|3517c88f-ccdd-408...|         18|     18|2023-09-15 23:49:...|           true|           NULL|\n",
      "|59676281-f3fb-446...|         24|     24|2025-06-18 13:08:...|           true|           NULL|\n",
      "|6a0d1f3e-787b-4ff...|         23|     23|2022-12-27 12:48:...|          false|           NULL|\n",
      "|76e70ec6-f201-451...|         38|     38|2024-03-07 14:08:...|           true|           NULL|\n",
      "|d4bcbf2c-d0ac-4ac...|         27|     27|2022-04-28 22:59:...|           true|           NULL|\n",
      "+--------------------+-----------+-------+--------------------+---------------+---------------+\n",
      "\n",
      "\n",
      "=== Safe Casting with TRY_CAST ===\n",
      "\n"
     ]
    },
    {
     "data": {
      "application/vnd.jupyter.widget-view+json": {
       "model_id": "6d0ad53183494ba0b1b065a5c3444760",
       "version_major": 2,
       "version_minor": 0
      },
      "text/plain": [
       "HBox(children=(IntProgress(value=0, bar_style='success'), Label(value='')))"
      ]
     },
     "metadata": {},
     "output_type": "display_data"
    },
    {
     "name": "stdout",
     "output_type": "stream",
     "text": [
      "+--------------------+---+-----------------+-----------+------------+--------------------+\n",
      "|             user_id|age|subscription_date|posts_count|phone_number|     last_login_time|\n",
      "+--------------------+---+-----------------+-----------+------------+--------------------+\n",
      "|3517c88f-ccdd-408...| 18|             NULL|       NULL|        NULL|2025-08-26 20:40:...|\n",
      "|59676281-f3fb-446...| 24|             NULL|       NULL|        NULL|2025-09-13 19:43:...|\n",
      "|6a0d1f3e-787b-4ff...| 23|             NULL|       NULL|        NULL|2025-09-17 07:39:...|\n",
      "|76e70ec6-f201-451...| 38|             NULL|       NULL|        NULL|2025-08-19 19:29:...|\n",
      "|d4bcbf2c-d0ac-4ac...| 27|             NULL|       NULL|        NULL|2025-08-31 09:03:...|\n",
      "+--------------------+---+-----------------+-----------+------------+--------------------+\n",
      "\n"
     ]
    }
   ],
   "source": [
    "# Type casting VARIANT fields\n",
    "print(\"=== Type Casting VARIANT Fields ===\\n\")\n",
    "\n",
    "spark.sql(\"\"\"\n",
    "    SELECT \n",
    "        user_id,\n",
    "        user_data:age as age_variant,\n",
    "        CAST(user_data:age AS INT) as age_int,\n",
    "        CAST(user_data:created_at AS TIMESTAMP) as created_timestamp,\n",
    "        CAST(user_data:preferences:newsletter AS BOOLEAN) as newsletter_bool,\n",
    "        CAST(user_data:metrics:login_count AS INT) as login_count_int\n",
    "    FROM users_variant\n",
    "    LIMIT 5\n",
    "\"\"\").show()\n",
    "\n",
    "# Using TRY_CAST for safe casting (handles nulls gracefully)\n",
    "print(\"\\n=== Safe Casting with TRY_CAST ===\\n\")\n",
    "\n",
    "spark.sql(\"\"\"\n",
    "    SELECT \n",
    "        user_id,\n",
    "        TRY_CAST(user_data:age AS INT) as age,\n",
    "        TRY_CAST(user_data:subscription:start_date AS DATE) as subscription_date,\n",
    "        TRY_CAST(user_data:metrics:posts_created AS INT) as posts_count,\n",
    "        TRY_CAST(user_data:phone AS STRING) as phone_number,\n",
    "        TRY_CAST(user_data:last_login AS TIMESTAMP) as last_login_time\n",
    "    FROM users_variant\n",
    "    LIMIT 5\n",
    "\"\"\").show()\n"
   ]
  },
  {
   "cell_type": "markdown",
   "id": "7b48d029",
   "metadata": {},
   "source": [
    "## 6. VARIANT Functions and Operations\n",
    "\n",
    "Databricks provides several functions specifically for working with VARIANT data.\n"
   ]
  },
  {
   "cell_type": "code",
   "execution_count": 11,
   "id": "097d7806",
   "metadata": {},
   "outputs": [
    {
     "name": "stdout",
     "output_type": "stream",
     "text": [
      "=== Using VARIANT_GET Function ===\n",
      "\n"
     ]
    },
    {
     "data": {
      "application/vnd.jupyter.widget-view+json": {
       "model_id": "3e2f6f0242ea49329fe0e719d0a9fc68",
       "version_major": 2,
       "version_minor": 0
      },
      "text/plain": [
       "HBox(children=(IntProgress(value=0, bar_style='success'), Label(value='')))"
      ]
     },
     "metadata": {},
     "output_type": "display_data"
    },
    {
     "name": "stdout",
     "output_type": "stream",
     "text": [
      "+------------------------------------+-------------+---+---------------------------------------+-------------+\n",
      "|user_id                             |name         |age|interests                              |missing_field|\n",
      "+------------------------------------+-------------+---+---------------------------------------+-------------+\n",
      "|3517c88f-ccdd-4085-b4c2-ddaec1b81062|David Hudson |18 |[report]                               |NULL         |\n",
      "|59676281-f3fb-4464-a503-5c4b20ced876|Kevin Dean   |24 |[local, reflect]                       |NULL         |\n",
      "|6a0d1f3e-787b-4fff-aeb9-aaabb258dcdb|Sandra Lester|23 |[should, art, hot, generation, morning]|NULL         |\n",
      "+------------------------------------+-------------+---+---------------------------------------+-------------+\n",
      "\n"
     ]
    }
   ],
   "source": [
    "# VARIANT_GET function to safely extract values\n",
    "print(\"=== Using VARIANT_GET Function ===\\n\")\n",
    "\n",
    "spark.sql(\"\"\"\n",
    "    SELECT \n",
    "        user_id,\n",
    "        VARIANT_GET(user_data, '$.name', 'STRING') as name,\n",
    "        VARIANT_GET(user_data, '$.age', 'INT') as age,\n",
    "        VARIANT_GET(user_data, '$.profile.interests', 'ARRAY<STRING>') as interests,\n",
    "        VARIANT_GET(user_data, '$.non_existent_field', 'STRING') as missing_field\n",
    "    FROM users_variant\n",
    "    LIMIT 3\n",
    "\"\"\").show(truncate=False)\n"
   ]
  },
  {
   "cell_type": "code",
   "execution_count": 12,
   "id": "23a91cd5",
   "metadata": {},
   "outputs": [
    {
     "name": "stdout",
     "output_type": "stream",
     "text": [
      "=== Converting between VARIANT and JSON strings ===\n",
      "\n"
     ]
    },
    {
     "data": {
      "application/vnd.jupyter.widget-view+json": {
       "model_id": "3480027209ab47319b58d01bbe70d861",
       "version_major": 2,
       "version_minor": 0
      },
      "text/plain": [
       "HBox(children=(IntProgress(value=0, bar_style='success'), Label(value='')))"
      ]
     },
     "metadata": {},
     "output_type": "display_data"
    },
    {
     "name": "stdout",
     "output_type": "stream",
     "text": [
      "+------------------------------------+---------------------------------------------------------------------------------------------------------------------------------------------------------------------------------------------------------------------------------------------------------------------------------------------------------------------------------------------------------------------------------------------------------------------------------------------------------------------------------------------------------------------------------------------------------------------------------------------------------------------------------------------------------------------------------------------------------------------------------------------------------------------------------------------------------------------------------------------------------------------------------------------------------------------------------------------------------------------+-----------+------------------------------------------------------------------------------------------------------------------------------------------------------------------------------------------------------------------------+\n",
      "|user_id                             |json_string                                                                                                                                                                                                                                                                                                                                                                                                                                                                                                                                                                                                                                                                                                                                                                                                                                                                                                                                                          |json_length|address_variant                                                                                                                                                                                                         |\n",
      "+------------------------------------+---------------------------------------------------------------------------------------------------------------------------------------------------------------------------------------------------------------------------------------------------------------------------------------------------------------------------------------------------------------------------------------------------------------------------------------------------------------------------------------------------------------------------------------------------------------------------------------------------------------------------------------------------------------------------------------------------------------------------------------------------------------------------------------------------------------------------------------------------------------------------------------------------------------------------------------------------------------------+-----------+------------------------------------------------------------------------------------------------------------------------------------------------------------------------------------------------------------------------+\n",
      "|3517c88f-ccdd-4085-b4c2-ddaec1b81062|{\"address\":{\"city\":\"West Jamesbury\",\"coordinates\":{\"latitude\":51.6942515,\"longitude\":-27.760198},\"country\":\"Belgium\",\"postal_code\":\"57610\",\"state\":\"Kentucky\",\"street\":\"5599 Christopher Key Apt. 272\"},\"age\":18,\"created_at\":\"2023-09-15 23:49:52.298586\",\"email\":\"mooreelizabeth@example.org\",\"last_login\":\"2025-08-26 20:40:14.321159\",\"name\":\"David Hudson\",\"preferences\":{\"newsletter\":true,\"notifications\":{\"email\":true,\"frequency\":\"never\",\"push\":true,\"sms\":true},\"privacy\":{\"profile_visible\":false,\"show_email\":false,\"show_location\":true}},\"profile\":{\"bio\":\"Collection election difference involve power house mother about. Fund board difficult reality suddenly president responsibility outside.\",\"company\":\"Chandler LLC\",\"interests\":[\"report\"],\"occupation\":\"Product/process development scientist\",\"skills\":[\"Systems analyst\",\"Bookseller\",\"Aeronautical engineer\"]},\"user_id\":\"3517c88f-ccdd-4085-b4c2-ddaec1b81062\",\"username\":\"thomaslong\"}|933        |{\"city\":\"West Jamesbury\",\"coordinates\":{\"latitude\":51.6942515,\"longitude\":-27.760198},\"country\":\"Belgium\",\"postal_code\":\"57610\",\"state\":\"Kentucky\",\"street\":\"5599 Christopher Key Apt. 272\"}                            |\n",
      "|59676281-f3fb-4464-a503-5c4b20ced876|{\"address\":{\"city\":\"Campbellmouth\",\"coordinates\":{\"latitude\":81.5739925,\"longitude\":-117.388575},\"country\":\"British Indian Ocean Territory (Chagos Archipelago)\",\"postal_code\":\"31885\",\"state\":\"Utah\",\"street\":\"042 Karen Centers\"},\"age\":24,\"created_at\":\"2025-06-18 13:08:11.201656\",\"email\":\"woodsgabrielle@example.net\",\"last_login\":\"2025-09-13 19:43:00.911617\",\"name\":\"Kevin Dean\",\"preferences\":{\"newsletter\":true,\"notifications\":{\"email\":true,\"frequency\":\"never\",\"push\":true,\"sms\":true},\"privacy\":{\"profile_visible\":false,\"show_email\":true,\"show_location\":true}},\"profile\":{\"bio\":\"Test season understand offer article difficult how. Accept summer a. Probably letter movement general.\",\"company\":\"Walker-Marks\",\"interests\":[\"local\",\"reflect\"],\"occupation\":\"Engineering geologist\",\"skills\":[\"Engineer, communications\"]},\"user_id\":\"59676281-f3fb-4464-a503-5c4b20ced876\",\"username\":\"brendanelson\"}                                          |891        |{\"city\":\"Campbellmouth\",\"coordinates\":{\"latitude\":81.5739925,\"longitude\":-117.388575},\"country\":\"British Indian Ocean Territory (Chagos Archipelago)\",\"postal_code\":\"31885\",\"state\":\"Utah\",\"street\":\"042 Karen Centers\"}|\n",
      "+------------------------------------+---------------------------------------------------------------------------------------------------------------------------------------------------------------------------------------------------------------------------------------------------------------------------------------------------------------------------------------------------------------------------------------------------------------------------------------------------------------------------------------------------------------------------------------------------------------------------------------------------------------------------------------------------------------------------------------------------------------------------------------------------------------------------------------------------------------------------------------------------------------------------------------------------------------------------------------------------------------------+-----------+------------------------------------------------------------------------------------------------------------------------------------------------------------------------------------------------------------------------+\n",
      "\n",
      "\n",
      "=== Discovering Schema of VARIANT Data ===\n",
      "\n"
     ]
    },
    {
     "data": {
      "application/vnd.jupyter.widget-view+json": {
       "model_id": "7b7f6268dfc3472583f598b3530c2c80",
       "version_major": 2,
       "version_minor": 0
      },
      "text/plain": [
       "HBox(children=(IntProgress(value=0, bar_style='success'), Label(value='')))"
      ]
     },
     "metadata": {},
     "output_type": "display_data"
    },
    {
     "name": "stdout",
     "output_type": "stream",
     "text": [
      "+----------------------------------------------------------------------------------------------------------------------------------------------------------------------------------------------------------------------------------------------------------------------------------------------------------------------------------------------------------------------------------------------------------------------------------------------------------------------------------------------------------------------------------------------------------------------------------------------------------------------------------------------------------------------------------------------+\n",
      "|inferred_schema                                                                                                                                                                                                                                                                                                                                                                                                                                                                                                                                                                                                                                                                               |\n",
      "+----------------------------------------------------------------------------------------------------------------------------------------------------------------------------------------------------------------------------------------------------------------------------------------------------------------------------------------------------------------------------------------------------------------------------------------------------------------------------------------------------------------------------------------------------------------------------------------------------------------------------------------------------------------------------------------------+\n",
      "|OBJECT<address: OBJECT<city: STRING, coordinates: OBJECT<latitude: DECIMAL(9,7), longitude: DECIMAL(8,6)>, country: STRING, postal_code: STRING, state: STRING, street: STRING>, age: BIGINT, created_at: STRING, email: STRING, last_login: STRING, name: STRING, preferences: OBJECT<newsletter: BOOLEAN, notifications: OBJECT<email: BOOLEAN, frequency: STRING, push: BOOLEAN, sms: BOOLEAN>, privacy: OBJECT<profile_visible: BOOLEAN, show_email: BOOLEAN, show_location: BOOLEAN>>, profile: OBJECT<bio: STRING, company: STRING, interests: ARRAY<STRING>, occupation: STRING, skills: ARRAY<STRING>>, user_id: STRING, username: STRING>                                            |\n",
      "|OBJECT<address: OBJECT<city: STRING, coordinates: OBJECT<latitude: DECIMAL(9,7), longitude: DECIMAL(9,6)>, country: STRING, postal_code: STRING, state: STRING, street: STRING>, age: BIGINT, created_at: STRING, email: STRING, last_login: STRING, name: STRING, preferences: OBJECT<newsletter: BOOLEAN, notifications: OBJECT<email: BOOLEAN, frequency: STRING, push: BOOLEAN, sms: BOOLEAN>, privacy: OBJECT<profile_visible: BOOLEAN, show_email: BOOLEAN, show_location: BOOLEAN>>, profile: OBJECT<bio: STRING, company: STRING, interests: ARRAY<STRING>, occupation: STRING, skills: ARRAY<STRING>>, user_id: STRING, username: STRING>                                            |\n",
      "|OBJECT<address: OBJECT<city: STRING, coordinates: OBJECT<latitude: DECIMAL(9,7), longitude: DECIMAL(8,6)>, country: STRING, postal_code: STRING, state: STRING, street: STRING>, age: BIGINT, created_at: STRING, email: STRING, last_login: STRING, name: STRING, preferences: OBJECT<newsletter: BOOLEAN, notifications: OBJECT<email: BOOLEAN, frequency: STRING, push: BOOLEAN, sms: BOOLEAN>, privacy: OBJECT<profile_visible: BOOLEAN, show_email: BOOLEAN, show_location: BOOLEAN>>, profile: OBJECT<bio: STRING, company: STRING, interests: ARRAY<STRING>, occupation: STRING, skills: ARRAY<VOID>>, user_id: STRING, username: STRING>                                              |\n",
      "|OBJECT<address: OBJECT<city: STRING, coordinates: OBJECT<latitude: DECIMAL(9,7), longitude: DECIMAL(8,6)>, country: STRING, postal_code: STRING, state: STRING, street: STRING>, age: BIGINT, created_at: STRING, email: STRING, last_login: STRING, name: STRING, preferences: OBJECT<newsletter: BOOLEAN, notifications: OBJECT<email: BOOLEAN, frequency: STRING, push: BOOLEAN, sms: BOOLEAN>, privacy: OBJECT<profile_visible: BOOLEAN, show_email: BOOLEAN, show_location: BOOLEAN>>, profile: OBJECT<bio: STRING, company: STRING, interests: ARRAY<STRING>, occupation: STRING, skills: ARRAY<STRING>>, referral_code: STRING, referred_by: STRING, user_id: STRING, username: STRING>|\n",
      "|OBJECT<address: OBJECT<city: STRING, coordinates: OBJECT<latitude: DECIMAL(9,7), longitude: DECIMAL(9,6)>, country: STRING, postal_code: STRING, state: STRING, street: STRING>, age: BIGINT, created_at: STRING, email: STRING, last_login: STRING, name: STRING, phone: STRING, preferences: OBJECT<newsletter: BOOLEAN, notifications: OBJECT<email: BOOLEAN, frequency: STRING, push: BOOLEAN, sms: BOOLEAN>, privacy: OBJECT<profile_visible: BOOLEAN, show_email: BOOLEAN, show_location: BOOLEAN>>, profile: OBJECT<bio: STRING, company: STRING, interests: ARRAY<STRING>, occupation: STRING, skills: ARRAY<STRING>>, user_id: STRING, username: STRING>                             |\n",
      "+----------------------------------------------------------------------------------------------------------------------------------------------------------------------------------------------------------------------------------------------------------------------------------------------------------------------------------------------------------------------------------------------------------------------------------------------------------------------------------------------------------------------------------------------------------------------------------------------------------------------------------------------------------------------------------------------+\n",
      "\n"
     ]
    }
   ],
   "source": [
    "# TO_JSON and FROM_JSON functions\n",
    "print(\"=== Converting between VARIANT and JSON strings ===\\n\")\n",
    "\n",
    "spark.sql(\"\"\"\n",
    "    SELECT \n",
    "        user_id,\n",
    "        TO_JSON(user_data) as json_string,\n",
    "        LENGTH(TO_JSON(user_data)) as json_length,\n",
    "        PARSE_JSON(TO_JSON(user_data:address)) as address_variant\n",
    "    FROM users_variant\n",
    "    LIMIT 2\n",
    "\"\"\").show(truncate=False)\n",
    "\n",
    "# SCHEMA_OF_VARIANT to discover schema\n",
    "print(\"\\n=== Discovering Schema of VARIANT Data ===\\n\")\n",
    "\n",
    "spark.sql(\"\"\"\n",
    "    SELECT \n",
    "        SCHEMA_OF_VARIANT(user_data) as inferred_schema\n",
    "    FROM users_variant\n",
    "    GROUP BY SCHEMA_OF_VARIANT(user_data)\n",
    "    LIMIT 5\n",
    "\"\"\").show(truncate=False)\n"
   ]
  },
  {
   "cell_type": "markdown",
   "id": "508a4019",
   "metadata": {},
   "source": [
    "## 7. Filtering and Conditional Logic with VARIANT\n",
    "\n",
    "Let's explore how to filter and apply conditions on VARIANT data.\n"
   ]
  },
  {
   "cell_type": "code",
   "execution_count": 13,
   "id": "440d7502",
   "metadata": {},
   "outputs": [
    {
     "name": "stdout",
     "output_type": "stream",
     "text": [
      "=== Filtering on VARIANT Fields ===\n",
      "\n"
     ]
    },
    {
     "data": {
      "application/vnd.jupyter.widget-view+json": {
       "model_id": "c6d94203d526492b880e364a07a925cd",
       "version_major": 2,
       "version_minor": 0
      },
      "text/plain": [
       "HBox(children=(IntProgress(value=0, bar_style='success'), Label(value='')))"
      ]
     },
     "metadata": {},
     "output_type": "display_data"
    },
    {
     "name": "stdout",
     "output_type": "stream",
     "text": [
      "+--------------------+------------------+---+------------+\n",
      "|             user_id|              name|age|     country|\n",
      "+--------------------+------------------+---+------------+\n",
      "|76e70ec6-f201-451...|     \"Diana Pratt\"| 38|   \"Germany\"|\n",
      "|c7bfa6fd-fdc6-44b...|   \"Mike Valencia\"| 79|  \"Mongolia\"|\n",
      "|439e284c-b2f8-4be...|  \"Julian Jenkins\"| 59|\"Montenegro\"|\n",
      "|9cbb5c54-147c-481...|    \"Angela Marsh\"| 57| \"Singapore\"|\n",
      "|e86bc742-de06-4b2...|\"Michelle English\"| 38|   \"Bahamas\"|\n",
      "+--------------------+------------------+---+------------+\n",
      "\n",
      "\n",
      "=== Complex Filtering with Nested VARIANT Fields ===\n",
      "\n"
     ]
    },
    {
     "data": {
      "application/vnd.jupyter.widget-view+json": {
       "model_id": "a45b05224f3a44baa5d13634a3febac4",
       "version_major": 2,
       "version_minor": 0
      },
      "text/plain": [
       "HBox(children=(IntProgress(value=0, bar_style='success'), Label(value='')))"
      ]
     },
     "metadata": {},
     "output_type": "display_data"
    },
    {
     "name": "stdout",
     "output_type": "stream",
     "text": [
      "+--------------------+-----------------+---+-----------------+-----------+\n",
      "|             user_id|             name|age|subscription_tier|login_count|\n",
      "+--------------------+-----------------+---+-----------------+-----------+\n",
      "|17e18134-80c3-4cb...| \"Daniel Goodwin\"| 46|            basic|        996|\n",
      "|2bfd2540-ec82-4a3...|\"Margaret Harris\"| 44|       enterprise|        996|\n",
      "|f196bbe1-68d9-4f9...|   \"Tyler Dillon\"| 46|             free|        994|\n",
      "|19fcd2aa-b042-408...| \"Sabrina Moreno\"| 34|       enterprise|        988|\n",
      "|4a9edbcc-5c4a-463...|  \"Anthony Bates\"| 40|       enterprise|        982|\n",
      "+--------------------+-----------------+---+-----------------+-----------+\n",
      "\n"
     ]
    }
   ],
   "source": [
    "# Filtering based on VARIANT field values\n",
    "print(\"=== Filtering on VARIANT Fields ===\\n\")\n",
    "\n",
    "spark.sql(\"\"\"\n",
    "    SELECT \n",
    "        user_id,\n",
    "        user_data:name as name,\n",
    "        user_data:age as age,\n",
    "        user_data:address:country as country\n",
    "    FROM users_variant\n",
    "    WHERE CAST(user_data:age AS INT) > 30\n",
    "        AND CAST(user_data:preferences:newsletter AS BOOLEAN) = true\n",
    "        AND user_data:address:country IS NOT NULL\n",
    "    LIMIT 5\n",
    "\"\"\").show()\n",
    "\n",
    "# Complex filtering with nested conditions\n",
    "print(\"\\n=== Complex Filtering with Nested VARIANT Fields ===\\n\")\n",
    "\n",
    "spark.sql(\"\"\"\n",
    "    SELECT \n",
    "        user_id,\n",
    "        user_data:name as name,\n",
    "        user_data:age as age,\n",
    "        CAST(user_data:subscription:tier AS STRING) as subscription_tier,\n",
    "        user_data:metrics:login_count as login_count\n",
    "    FROM users_variant\n",
    "    WHERE user_data:subscription:tier IS NOT NULL\n",
    "        AND user_data:metrics:login_count IS NOT NULL\n",
    "        AND CAST(user_data:age AS INT) BETWEEN 25 AND 60\n",
    "        AND CAST(user_data:metrics:login_count AS INT) > 10\n",
    "    ORDER BY CAST(user_data:metrics:login_count AS INT) DESC\n",
    "    LIMIT 5\n",
    "\"\"\").show()\n"
   ]
  },
  {
   "cell_type": "code",
   "execution_count": 14,
   "id": "992303e8",
   "metadata": {},
   "outputs": [
    {
     "name": "stdout",
     "output_type": "stream",
     "text": [
      "=== CASE Statements with VARIANT ===\n",
      "\n"
     ]
    },
    {
     "data": {
      "application/vnd.jupyter.widget-view+json": {
       "model_id": "b9bbcf03553a4a8786d47de6aa6dd6d2",
       "version_major": 2,
       "version_minor": 0
      },
      "text/plain": [
       "HBox(children=(IntProgress(value=0, bar_style='success'), Label(value='')))"
      ]
     },
     "metadata": {},
     "output_type": "display_data"
    },
    {
     "name": "stdout",
     "output_type": "stream",
     "text": [
      "+------------------------------------+-------------------+---+-----------------+---------+---------------+\n",
      "|user_id                             |name               |age|subscription_tier|age_group|user_category  |\n",
      "+------------------------------------+-------------------+---+-----------------+---------+---------------+\n",
      "|3517c88f-ccdd-4085-b4c2-ddaec1b81062|\"David Hudson\"     |18 |NULL             |Young    |No Subscription|\n",
      "|59676281-f3fb-4464-a503-5c4b20ced876|\"Kevin Dean\"       |24 |NULL             |Young    |No Subscription|\n",
      "|6a0d1f3e-787b-4fff-aeb9-aaabb258dcdb|\"Sandra Lester\"    |23 |NULL             |Young    |No Subscription|\n",
      "|76e70ec6-f201-4510-9de5-2c61af2af97b|\"Diana Pratt\"      |38 |NULL             |Adult    |No Subscription|\n",
      "|d4bcbf2c-d0ac-4ac2-9c9f-b18d263e894f|\"Matthew Brown\"    |27 |NULL             |Adult    |No Subscription|\n",
      "|c7bfa6fd-fdc6-44b3-8b65-f2f07f7e7cc2|\"Mike Valencia\"    |79 |NULL             |Senior   |No Subscription|\n",
      "|104841c8-816b-47dd-900c-c29f5d1c2773|\"Marie Atkins\"     |24 |NULL             |Young    |No Subscription|\n",
      "|0ab4c0c0-9704-4949-ba0d-5043cbc60a27|\"James Christensen\"|68 |NULL             |Senior   |No Subscription|\n",
      "|215e599b-5dbc-4690-a355-53b0c30e2134|\"Lisa Simmons\"     |19 |NULL             |Young    |No Subscription|\n",
      "|0e4ae832-34b8-4430-bcbe-6a0246ab41f1|\"Jennifer Carter\"  |72 |NULL             |Senior   |No Subscription|\n",
      "+------------------------------------+-------------------+---+-----------------+---------+---------------+\n",
      "\n"
     ]
    }
   ],
   "source": [
    "# Using CASE statements with VARIANT\n",
    "print(\"=== CASE Statements with VARIANT ===\\n\")\n",
    "\n",
    "spark.sql(\"\"\"\n",
    "    SELECT \n",
    "        user_id,\n",
    "        user_data:name as name,\n",
    "        user_data:age as age,\n",
    "        CAST(user_data:subscription:tier AS STRING) as subscription_tier,\n",
    "        CASE \n",
    "            WHEN CAST(user_data:age AS INT) < 25 THEN 'Young'\n",
    "            WHEN CAST(user_data:age AS INT) BETWEEN 25 AND 50 THEN 'Adult'\n",
    "            WHEN CAST(user_data:age AS INT) > 50 THEN 'Senior'\n",
    "            ELSE 'Unknown'\n",
    "        END as age_group,\n",
    "        CASE \n",
    "            WHEN CAST(user_data:subscription:tier AS STRING) = 'free' THEN 'Free User'\n",
    "            WHEN CAST(user_data:subscription:tier AS STRING) = 'basic' THEN 'Basic User'\n",
    "            WHEN CAST(user_data:subscription:tier AS STRING) = 'premium' THEN 'Premium User'\n",
    "            WHEN CAST(user_data:subscription:tier AS STRING) = 'enterprise' THEN 'Enterprise User'\n",
    "            ELSE 'No Subscription'\n",
    "        END as user_category\n",
    "    FROM users_variant\n",
    "    LIMIT 10\n",
    "\"\"\").show(truncate=False)\n"
   ]
  },
  {
   "cell_type": "markdown",
   "id": "bf45a4fa",
   "metadata": {},
   "source": [
    "## 8. Aggregations with VARIANT Data\n",
    "\n",
    "Performing aggregations on data stored in VARIANT columns.\n"
   ]
  },
  {
   "cell_type": "code",
   "execution_count": 15,
   "id": "143ffd8e",
   "metadata": {},
   "outputs": [
    {
     "name": "stdout",
     "output_type": "stream",
     "text": [
      "=== Aggregations on VARIANT Data ===\n",
      "\n"
     ]
    },
    {
     "data": {
      "application/vnd.jupyter.widget-view+json": {
       "model_id": "ed5575aa03c7462493f5e29ba5fa9cbc",
       "version_major": 2,
       "version_minor": 0
      },
      "text/plain": [
       "HBox(children=(IntProgress(value=0, bar_style='success'), Label(value='')))"
      ]
     },
     "metadata": {},
     "output_type": "display_data"
    },
    {
     "name": "stdout",
     "output_type": "stream",
     "text": [
      "+----------+-------+-------+-------+\n",
      "|user_count|avg_age|min_age|max_age|\n",
      "+----------+-------+-------+-------+\n",
      "|      1000| 48.526|     18|     80|\n",
      "+----------+-------+-------+-------+\n",
      "\n",
      "\n",
      "=== Subscription Tier Aggregations ===\n",
      "\n"
     ]
    },
    {
     "data": {
      "application/vnd.jupyter.widget-view+json": {
       "model_id": "98e257dc99a14123b598d61ee5d2b346",
       "version_major": 2,
       "version_minor": 0
      },
      "text/plain": [
       "HBox(children=(IntProgress(value=0, bar_style='success'), Label(value='')))"
      ]
     },
     "metadata": {},
     "output_type": "display_data"
    },
    {
     "name": "stdout",
     "output_type": "stream",
     "text": [
      "+-----------------+----------+------------------+-----------------+------------------+\n",
      "|subscription_tier|user_count|           avg_age|  avg_login_count|         avg_posts|\n",
      "+-----------------+----------+------------------+-----------------+------------------+\n",
      "|          premium|       108|49.361111111111114|532.5370370370371| 237.4537037037037|\n",
      "|            basic|       101|45.495049504950494|522.4554455445544|243.63366336633663|\n",
      "|             free|        99| 47.97979797979798|456.7676767676768|260.42424242424244|\n",
      "|       enterprise|        91|46.967032967032964|555.3516483516484| 258.7802197802198|\n",
      "+-----------------+----------+------------------+-----------------+------------------+\n",
      "\n"
     ]
    }
   ],
   "source": [
    "# Aggregating VARIANT data\n",
    "print(\"=== Aggregations on VARIANT Data ===\\n\")\n",
    "\n",
    "spark.sql(\"\"\"\n",
    "    SELECT \n",
    "        COUNT(*) as user_count,\n",
    "        AVG(CAST(user_data:age AS INT)) as avg_age,\n",
    "        MIN(CAST(user_data:age AS INT)) as min_age,\n",
    "        MAX(CAST(user_data:age AS INT)) as max_age\n",
    "    FROM users_variant\n",
    "\"\"\").show()\n",
    "\n",
    "# Aggregating by subscription tier\n",
    "print(\"\\n=== Subscription Tier Aggregations ===\\n\")\n",
    "\n",
    "spark.sql(\"\"\"\n",
    "    SELECT \n",
    "        CAST(user_data:subscription:tier AS STRING) as subscription_tier,\n",
    "        COUNT(*) as user_count,\n",
    "        AVG(CAST(user_data:age AS INT)) as avg_age,\n",
    "        AVG(CAST(user_data:metrics:login_count AS INT)) as avg_login_count,\n",
    "        AVG(CAST(user_data:metrics:posts_created AS INT)) as avg_posts\n",
    "    FROM users_variant\n",
    "    WHERE user_data:subscription:tier IS NOT NULL\n",
    "    GROUP BY CAST(user_data:subscription:tier AS STRING)\n",
    "    ORDER BY user_count DESC\n",
    "\"\"\").show()\n"
   ]
  },
  {
   "cell_type": "code",
   "execution_count": 16,
   "id": "7b16bb97",
   "metadata": {},
   "outputs": [
    {
     "name": "stdout",
     "output_type": "stream",
     "text": [
      "=== Aggregating Array Data in VARIANT ===\n",
      "\n"
     ]
    },
    {
     "data": {
      "application/vnd.jupyter.widget-view+json": {
       "model_id": "01306b60e84d4101b4d10117fc0fb4ce",
       "version_major": 2,
       "version_minor": 0
      },
      "text/plain": [
       "HBox(children=(IntProgress(value=0, bar_style='success'), Label(value='')))"
      ]
     },
     "metadata": {},
     "output_type": "display_data"
    },
    {
     "name": "stdout",
     "output_type": "stream",
     "text": [
      "+----------------------+-------------+-------------+\n",
      "|avg_interests_per_user|max_interests|min_interests|\n",
      "+----------------------+-------------+-------------+\n",
      "|                  2.99|            5|            1|\n",
      "+----------------------+-------------+-------------+\n",
      "\n",
      "\n",
      "=== Skills Aggregation ===\n",
      "\n"
     ]
    },
    {
     "data": {
      "application/vnd.jupyter.widget-view+json": {
       "model_id": "ef3b98808ce4491c8211731cda3315e3",
       "version_major": 2,
       "version_minor": 0
      },
      "text/plain": [
       "HBox(children=(IntProgress(value=0, bar_style='success'), Label(value='')))"
      ]
     },
     "metadata": {},
     "output_type": "display_data"
    },
    {
     "name": "stdout",
     "output_type": "stream",
     "text": [
      "+-----------------+-------------------+----------+----------+\n",
      "|users_with_skills|avg_skills_per_user|max_skills|min_skills|\n",
      "+-----------------+-------------------+----------+----------+\n",
      "|             1000|              1.527|         3|         0|\n",
      "+-----------------+-------------------+----------+----------+\n",
      "\n"
     ]
    }
   ],
   "source": [
    "# Complex aggregations with array data\n",
    "print(\"=== Aggregating Array Data in VARIANT ===\\n\")\n",
    "\n",
    "spark.sql(\"\"\"\n",
    "    SELECT \n",
    "        AVG(SIZE(CAST(user_data:profile:interests AS ARRAY<STRING>))) as avg_interests_per_user,\n",
    "        MAX(SIZE(CAST(user_data:profile:interests AS ARRAY<STRING>))) as max_interests,\n",
    "        MIN(SIZE(CAST(user_data:profile:interests AS ARRAY<STRING>))) as min_interests\n",
    "    FROM users_variant\n",
    "    WHERE user_data:profile:interests IS NOT NULL\n",
    "\"\"\").show()\n",
    "\n",
    "# Aggregating skills data\n",
    "print(\"\\n=== Skills Aggregation ===\\n\")\n",
    "\n",
    "spark.sql(\"\"\"\n",
    "    WITH user_skills AS (\n",
    "        SELECT \n",
    "            user_id,\n",
    "            user_data:name as name,\n",
    "            SIZE(CAST(user_data:profile:skills AS ARRAY<STRING>)) as skill_count,\n",
    "            user_data:profile:skills as skills\n",
    "        FROM users_variant\n",
    "        WHERE user_data:profile:skills IS NOT NULL\n",
    "    )\n",
    "    SELECT \n",
    "        COUNT(*) as users_with_skills,\n",
    "        AVG(skill_count) as avg_skills_per_user,\n",
    "        MAX(skill_count) as max_skills,\n",
    "        MIN(skill_count) as min_skills\n",
    "    FROM user_skills\n",
    "\"\"\").show()\n"
   ]
  },
  {
   "cell_type": "markdown",
   "id": "c6682116",
   "metadata": {},
   "source": [
    "## 9. Window Functions with VARIANT\n",
    "\n",
    "Using window functions to analyze VARIANT data.\n"
   ]
  },
  {
   "cell_type": "code",
   "execution_count": 17,
   "id": "b1d6bcc5",
   "metadata": {},
   "outputs": [
    {
     "name": "stdout",
     "output_type": "stream",
     "text": [
      "=== Window Functions on VARIANT Data ===\n",
      "\n"
     ]
    },
    {
     "data": {
      "application/vnd.jupyter.widget-view+json": {
       "model_id": "1fa36a1d9fec4813bdafb5f8405d3b30",
       "version_major": 2,
       "version_minor": 0
      },
      "text/plain": [
       "HBox(children=(IntProgress(value=0, bar_style='success'), Label(value='')))"
      ]
     },
     "metadata": {},
     "output_type": "display_data"
    },
    {
     "name": "stdout",
     "output_type": "stream",
     "text": [
      "+------------------------------------+-------------------+---+--------------+-----------+-------------------+----------+------------------+\n",
      "|user_id                             |name               |age|country       |login_count|age_rank_in_country|login_rank|country_avg_age   |\n",
      "+------------------------------------+-------------------+---+--------------+-----------+-------------------+----------+------------------+\n",
      "|80c267df-127a-4ecf-acc4-b01ac30cb228|\"David Edwards\"    |61 |Albania       |926        |1                  |26        |42.0              |\n",
      "|03934429-e1e0-46cd-88a4-0c9942d22c68|\"Brittany Park\"    |53 |Albania       |29         |2                  |322       |42.0              |\n",
      "|302b9797-6576-4587-9627-c80b8f157d90|\"Christina Olsen\"  |43 |Albania       |328        |3                  |234       |42.0              |\n",
      "|3bad45a6-6f9c-4bf7-9a7c-84ab71200bcf|\"Jamie Thompson\"   |33 |Albania       |116        |4                  |293       |42.0              |\n",
      "|e44d385b-1156-4f55-81c4-fc408143701a|\"Doris Pierce\"     |20 |Albania       |405        |5                  |202       |42.0              |\n",
      "|db8261e9-9acd-4b35-a2cb-2f4f9bbf1cd3|\"Susan Garcia\"     |76 |Algeria       |96         |1                  |300       |65.0              |\n",
      "|77ab6f43-33f9-4244-86a4-1f32a9a29616|\"Stephanie Hunt\"   |54 |Algeria       |830        |2                  |59        |65.0              |\n",
      "|e738fcf6-828f-46da-90cd-d1e75918d12b|\"Zachary Wilson\"   |61 |American Samoa|739        |1                  |87        |34.75             |\n",
      "|79e358d2-eeaa-4b86-a2eb-b3842949f257|\"Shawn Anderson\"   |32 |American Samoa|439        |2                  |191       |34.75             |\n",
      "|3bce6c00-1941-46b5-8b24-6e4bf62cf157|\"Kevin Powell\"     |25 |American Samoa|84         |3                  |305       |34.75             |\n",
      "|6c762e8a-6965-406a-869b-14effddebf9f|\"Robert Fitzgerald\"|21 |American Samoa|335        |4                  |230       |34.75             |\n",
      "|6dcb3e6f-6807-45ee-948d-961db6152d6d|\"Gregg Reynolds\"   |75 |Andorra       |188        |1                  |268       |62.333333333333336|\n",
      "|2b089623-ef90-43fb-b442-bf925bb6f1fb|\"Charles Castillo\" |74 |Andorra       |422        |2                  |194       |62.333333333333336|\n",
      "|b6c58499-29d9-4b3f-9e4c-917943b50cde|\"David Jenkins\"    |38 |Andorra       |663        |3                  |115       |62.333333333333336|\n",
      "|0d724e6e-4386-40a4-8416-0d7af83b79ad|\"Aaron Daugherty\"  |77 |Anguilla      |45         |1                  |317       |70.5              |\n",
      "+------------------------------------+-------------------+---+--------------+-----------+-------------------+----------+------------------+\n",
      "\n",
      "\n",
      "=== Cumulative Statistics with VARIANT ===\n",
      "\n"
     ]
    },
    {
     "data": {
      "application/vnd.jupyter.widget-view+json": {
       "model_id": "b4cb35a1d826407283c5eab05190f6ed",
       "version_major": 2,
       "version_minor": 0
      },
      "text/plain": [
       "HBox(children=(IntProgress(value=0, bar_style='success'), Label(value='')))"
      ]
     },
     "metadata": {},
     "output_type": "display_data"
    },
    {
     "name": "stdout",
     "output_type": "stream",
     "text": [
      "+------------------------------------+--------------------+--------------------------+-----------+-------------+-----------------+-----------------+\n",
      "|user_id                             |name                |created_time              |login_count|posts_created|moving_avg_logins|max_logins_so_far|\n",
      "+------------------------------------+--------------------+--------------------------+-----------+-------------+-----------------+-----------------+\n",
      "|de4d199b-d5f6-4c2c-b847-be3a384021c4|\"Amy Barrett\"       |2020-09-20 11:01:09.461979|310        |491          |310.0            |310              |\n",
      "|3f75a1c3-ef6d-4dae-bd4f-f417c6906b78|\"Matthew Williams\"  |2020-09-22 04:28:35.17108 |808        |299          |559.0            |808              |\n",
      "|92d052ab-db4c-4af1-aac4-73e1ed8ee296|\"Olivia Barber\"     |2020-09-26 18:36:44.866098|177        |14           |431.6666666666667|808              |\n",
      "|f265fea2-2725-40f9-b749-9dfc0e5c1234|\"Heather Jones\"     |2020-10-15 03:55:42.5799  |487        |96           |490.6666666666667|808              |\n",
      "|990c2e09-860b-459a-a809-cbb6b627f021|\"Jacob Johnson\"     |2020-10-21 09:45:55.90272 |717        |44           |460.3333333333333|808              |\n",
      "|bcc0eb7a-e54a-434e-b104-644091eecf32|\"Christopher Martin\"|2020-10-22 19:47:12.335618|67         |421          |423.6666666666667|808              |\n",
      "|5bcbebe6-ea41-4774-ab4e-60e375bbea45|\"Miranda Myers\"     |2020-11-04 01:43:14.490969|592        |254          |458.6666666666667|808              |\n",
      "|fb72bbb9-9713-452e-a4db-f65128dfba2e|\"Rita Carpenter\"    |2020-11-04 04:54:44.722508|521        |138          |393.3333333333333|808              |\n",
      "|9804bb4d-8535-4d85-9ac7-00544de8fe8a|\"Renee Newman\"      |2020-11-04 19:08:22.788868|834        |416          |649.0            |834              |\n",
      "|659f8f73-7577-47af-b5e7-c7497e401404|\"Vincent Brown\"     |2020-11-17 23:09:57.034616|974        |229          |776.3333333333334|974              |\n",
      "+------------------------------------+--------------------+--------------------------+-----------+-------------+-----------------+-----------------+\n",
      "\n"
     ]
    }
   ],
   "source": [
    "# Window functions with VARIANT data\n",
    "print(\"=== Window Functions on VARIANT Data ===\\n\")\n",
    "\n",
    "spark.sql(\"\"\"\n",
    "    SELECT \n",
    "        user_id,\n",
    "        user_data:name as name,\n",
    "        user_data:age as age,\n",
    "        CAST(user_data:address:country AS STRING) as country,\n",
    "        CAST(user_data:metrics:login_count AS INT) as login_count,\n",
    "        RANK() OVER (PARTITION BY CAST(user_data:address:country AS STRING) ORDER BY CAST(user_data:age AS INT) DESC) as age_rank_in_country,\n",
    "        DENSE_RANK() OVER (ORDER BY CAST(user_data:metrics:login_count AS INT) DESC) as login_rank,\n",
    "        AVG(CAST(user_data:age AS INT)) OVER (PARTITION BY CAST(user_data:address:country AS STRING)) as country_avg_age\n",
    "    FROM users_variant\n",
    "    WHERE user_data:metrics:login_count IS NOT NULL\n",
    "        AND user_data:address:country IS NOT NULL\n",
    "    ORDER BY country, age_rank_in_country\n",
    "    LIMIT 15\n",
    "\"\"\").show(truncate=False)\n",
    "\n",
    "# Running totals and cumulative stats\n",
    "print(\"\\n=== Cumulative Statistics with VARIANT ===\\n\")\n",
    "\n",
    "spark.sql(\"\"\"\n",
    "    WITH user_activity AS (\n",
    "        SELECT \n",
    "            user_id,\n",
    "            user_data:name as name,\n",
    "            CAST(user_data:created_at AS TIMESTAMP) as created_time,\n",
    "            CAST(user_data:metrics:login_count AS INT) as login_count,\n",
    "            CAST(user_data:metrics:posts_created AS INT) as posts_created\n",
    "        FROM users_variant\n",
    "        WHERE user_data:metrics:login_count IS NOT NULL\n",
    "            AND user_data:created_at IS NOT NULL\n",
    "    )\n",
    "    SELECT \n",
    "        user_id,\n",
    "        name,\n",
    "        created_time,\n",
    "        login_count,\n",
    "        posts_created,\n",
    "        AVG(login_count) OVER (\n",
    "            ORDER BY created_time \n",
    "            ROWS BETWEEN 2 PRECEDING AND CURRENT ROW\n",
    "        ) as moving_avg_logins,\n",
    "        MAX(login_count) OVER (\n",
    "            ORDER BY created_time\n",
    "        ) as max_logins_so_far\n",
    "    FROM user_activity\n",
    "    ORDER BY created_time\n",
    "    LIMIT 10\n",
    "\"\"\").show(truncate=False)\n"
   ]
  },
  {
   "cell_type": "markdown",
   "id": "d57b5872",
   "metadata": {},
   "source": [
    "## 10. JOINs with VARIANT Data\n",
    "\n",
    "Demonstrating how to join tables containing VARIANT columns.\n"
   ]
  },
  {
   "cell_type": "code",
   "execution_count": 18,
   "id": "92a69c12",
   "metadata": {},
   "outputs": [
    {
     "name": "stdout",
     "output_type": "stream",
     "text": [
      "=== Self-Join on VARIANT Data ===\n",
      "\n"
     ]
    },
    {
     "data": {
      "application/vnd.jupyter.widget-view+json": {
       "model_id": "e37758d2a7384612a7519e433ca5bf9b",
       "version_major": 2,
       "version_minor": 0
      },
      "text/plain": [
       "HBox(children=(IntProgress(value=0, bar_style='success'), Label(value='')))"
      ]
     },
     "metadata": {},
     "output_type": "display_data"
    },
    {
     "name": "stdout",
     "output_type": "stream",
     "text": [
      "+------------------------------------+------------------+-----------------+------------------------------------+-----------------+-----------------+\n",
      "|user1_id                            |user1_name        |user1_city       |user2_id                            |user2_name       |user2_city       |\n",
      "+------------------------------------+------------------+-----------------+------------------------------------+-----------------+-----------------+\n",
      "|612db342-6f94-4dd1-9724-d8bb6301cca5|\"Anthony Huffman\" |Mitchellmouth    |7a8b57ec-2735-4a23-beca-9e1cf1829369|\"Bruce Mosley\"   |Mitchellmouth    |\n",
      "|7dedd795-f9b3-49c7-bab5-4b007080f776|\"Amanda Marshall\" |South Brian      |dfe4aae3-3394-4431-ac0e-c5847faf7b14|\"Kyle Day\"       |South Brian      |\n",
      "|36742531-a6d1-4118-870c-a310d93e9e3e|\"William Hardy\"   |Port James       |70d5bc49-19b1-4eb4-a975-b053260749b7|\"Nicholas Haley\" |Port James       |\n",
      "|2dc4aad9-4f39-40d8-9a8c-58387c063038|\"Vincent Stafford\"|Port Melissa     |b411dafe-028e-4a53-b003-0e5f6afc0ef6|\"Kaitlyn Smith\"  |Port Melissa     |\n",
      "|61d0da70-337c-42f1-9ac4-24d01c2d654a|\"Michael Adams\"   |Cruzhaven        |66e9ea49-b438-4c71-b433-fc212a79018b|\"Madison Sanders\"|Cruzhaven        |\n",
      "|8990fdee-821f-4e00-ab8f-5b3c27391aef|\"Tamara Bell\"     |Davidmouth       |ce1a1e20-82a7-4663-9114-fc6a2d72de22|\"Ryan Faulkner\"  |Davidmouth       |\n",
      "|88dac4d1-33df-4597-8bb0-d8cf85ba38aa|\"Patrick Thompson\"|South Christopher|e76803e2-d9c2-4f88-9094-fbbee9017f00|\"Donald Mason\"   |South Christopher|\n",
      "|9804bb4d-8535-4d85-9ac7-00544de8fe8a|\"Renee Newman\"    |North Fernando   |a761e740-8a8b-45c3-ab8c-5d28874c9410|\"Jose Moreno\"    |North Fernando   |\n",
      "|0caca9d8-6c8a-4ad2-b225-7ecf162534df|\"Joshua Castillo\" |East Karen       |f9210d86-f330-496f-9948-117ce4f62f3a|\"Kenneth Medina\" |East Karen       |\n",
      "|6dcb3e6f-6807-45ee-948d-961db6152d6d|\"Gregg Reynolds\"  |New Christopher  |ab7eed21-717b-4343-b403-743c60aaa501|\"Kimberly Lopez\" |New Christopher  |\n",
      "+------------------------------------+------------------+-----------------+------------------------------------+-----------------+-----------------+\n",
      "\n",
      "\n",
      "=== Join with Extracted Table for Performance ===\n",
      "\n"
     ]
    },
    {
     "data": {
      "application/vnd.jupyter.widget-view+json": {
       "model_id": "43cd4859aa7543b188a203fa9899c536",
       "version_major": 2,
       "version_minor": 0
      },
      "text/plain": [
       "HBox(children=(IntProgress(value=0, bar_style='success'), Label(value='')))"
      ]
     },
     "metadata": {},
     "output_type": "display_data"
    },
    {
     "name": "stdout",
     "output_type": "stream",
     "text": [
      "+------------------------------------+-----------------+---+-----------------+-----------------+---------------+-------------+-----------------+\n",
      "|user_id                             |name             |age|city             |subscription_tier|extracted_name |extracted_age|extracted_city   |\n",
      "+------------------------------------+-----------------+---+-----------------+-----------------+---------------+-------------+-----------------+\n",
      "|da424b78-b197-4296-a2c8-6042f78ef358|\"Joshua Lee\"     |61 |South Matthewport|enterprise       |Joshua Lee     |61           |South Matthewport|\n",
      "|f665d0fe-5ff9-438c-b230-2f2495d1960e|\"Nathan Thompson\"|75 |Bakerbury        |premium          |Nathan Thompson|75           |Bakerbury        |\n",
      "|ca40f72a-8fc0-4b10-83c8-b5d6ae326906|\"Anna Lopez\"     |31 |Port Kevin       |premium          |Anna Lopez     |31           |Port Kevin       |\n",
      "|66bd3b80-5334-41c1-bf06-9c1f6a08c6ac|\"Jon Owens\"      |77 |Juanstad         |premium          |Jon Owens      |77           |Juanstad         |\n",
      "|8db9342d-ad13-471e-9e55-14e29a13ee76|\"Sarah Mills\"    |19 |Myerstown        |basic            |Sarah Mills    |19           |Myerstown        |\n",
      "+------------------------------------+-----------------+---+-----------------+-----------------+---------------+-------------+-----------------+\n",
      "\n"
     ]
    }
   ],
   "source": [
    "# Self-join on VARIANT data\n",
    "print(\"=== Self-Join on VARIANT Data ===\\n\")\n",
    "\n",
    "spark.sql(\"\"\"\n",
    "    SELECT \n",
    "        u1.user_id as user1_id,\n",
    "        u1.user_data:name as user1_name,\n",
    "        CAST(u1.user_data:address:city AS STRING) as user1_city,\n",
    "        u2.user_id as user2_id,\n",
    "        u2.user_data:name as user2_name,\n",
    "        CAST(u2.user_data:address:city AS STRING) as user2_city\n",
    "    FROM users_variant u1\n",
    "    JOIN users_variant u2\n",
    "        ON CAST(u1.user_data:address:city AS STRING) = CAST(u2.user_data:address:city AS STRING)\n",
    "        AND u1.user_id < u2.user_id\n",
    "    WHERE u1.user_data:address:city IS NOT NULL\n",
    "    LIMIT 10\n",
    "\"\"\").show(truncate=False)\n",
    "\n",
    "# Join with extracted table for performance\n",
    "print(\"\\n=== Join with Extracted Table for Performance ===\\n\")\n",
    "\n",
    "spark.sql(\"\"\"\n",
    "    WITH user_analysis AS (\n",
    "        SELECT \n",
    "            v.user_id,\n",
    "            v.user_data:name as name,\n",
    "            v.user_data:age as age,\n",
    "            CAST(v.user_data:address:city AS STRING) as city,\n",
    "            CAST(v.user_data:subscription:tier AS STRING) as subscription_tier,\n",
    "            e.name as extracted_name,\n",
    "            e.age as extracted_age,\n",
    "            e.city as extracted_city\n",
    "        FROM users_variant v\n",
    "        LEFT JOIN users_extracted e\n",
    "            ON v.user_id = e.user_id\n",
    "        WHERE v.user_data:subscription:tier IS NOT NULL\n",
    "    )\n",
    "    SELECT * FROM user_analysis\n",
    "    WHERE name IS NOT NULL\n",
    "    LIMIT 5\n",
    "\"\"\").show(truncate=False)\n"
   ]
  },
  {
   "cell_type": "markdown",
   "id": "d63a189d",
   "metadata": {},
   "source": [
    "## 11. Advanced VARIANT Use Cases\n",
    "\n",
    "Let's explore some advanced use cases and patterns.\n"
   ]
  },
  {
   "cell_type": "code",
   "execution_count": 19,
   "id": "aaacd05c",
   "metadata": {},
   "outputs": [
    {
     "name": "stdout",
     "output_type": "stream",
     "text": [
      "=== Demonstrating Schema Evolution with VARIANT ===\n",
      "\n",
      "Schema Evolution in our user data:\n",
      "- First 30% of users: Basic schema\n",
      "- Next 30% of users: Added social_media fields\n",
      "- Last 40% of users: Added subscription and metrics fields\n",
      "\n"
     ]
    },
    {
     "data": {
      "application/vnd.jupyter.widget-view+json": {
       "model_id": "48666b4bcd9c4bb7b690200f3f3ff992",
       "version_major": 2,
       "version_minor": 0
      },
      "text/plain": [
       "HBox(children=(IntProgress(value=0, bar_style='success'), Label(value='')))"
      ]
     },
     "metadata": {},
     "output_type": "display_data"
    },
    {
     "name": "stdout",
     "output_type": "stream",
     "text": [
      "+------------------------------------+-------------------+-------------------------+--------------+----------------+-----------------+-----------+\n",
      "|user_id                             |name               |email                    |phone         |twitter         |subscription_tier|login_count|\n",
      "+------------------------------------+-------------------+-------------------------+--------------+----------------+-----------------+-----------+\n",
      "|424a5cad-531e-4730-857d-f7f9c945fb24|\"Matthew Quinn\"    |\"jasmineking@example.net\"|NULL          |NULL            |NULL             |NULL       |\n",
      "|a682f442-b29e-4a78-8f3f-da3c52a876ae|\"Cristina Berry MD\"|\"felicia39@example.com\"  |NULL          |\"@melissacrosby\"|NULL             |NULL       |\n",
      "|bc9c5934-c811-4f72-b574-8fa9f9838f27|\"Rebecca Mckinney\" |\"donald01@example.net\"   |\"477.434.3033\"|\"@deanarmstrong\"|\"free\"           |958        |\n",
      "+------------------------------------+-------------------+-------------------------+--------------+----------------+-----------------+-----------+\n",
      "\n",
      "\n",
      "✅ VARIANT seamlessly handles schema evolution - old and new fields coexist!\n"
     ]
    }
   ],
   "source": [
    "# Dynamic schema evolution handling\n",
    "print(\"=== Demonstrating Schema Evolution with VARIANT ===\\n\")\n",
    "\n",
    "# The data we generated already simulates schema evolution\n",
    "# Let's query to show how VARIANT handles different schema versions seamlessly\n",
    "\n",
    "print(\"Schema Evolution in our user data:\")\n",
    "print(\"- First 30% of users: Basic schema\")\n",
    "print(\"- Next 30% of users: Added social_media fields\")\n",
    "print(\"- Last 40% of users: Added subscription and metrics fields\\n\")\n",
    "\n",
    "# Query showing all schema versions work together\n",
    "spark.sql(\"\"\"\n",
    "    SELECT \n",
    "        user_id,\n",
    "        user_data:name as name,\n",
    "        user_data:email as email,\n",
    "        user_data:phone as phone,  -- Optional field\n",
    "        user_data:social_media:twitter as twitter,  -- Added in v2\n",
    "        user_data:subscription:tier as subscription_tier,  -- Added in v3\n",
    "        user_data:metrics:login_count as login_count  -- Added in v3\n",
    "    FROM users_variant\n",
    "    WHERE user_id IN (\n",
    "        (SELECT user_id FROM users_variant LIMIT 1 OFFSET 100)\n",
    "        UNION ALL\n",
    "        (SELECT user_id FROM users_variant LIMIT 1 OFFSET 500)\n",
    "        UNION ALL\n",
    "        (SELECT user_id FROM users_variant LIMIT 1 OFFSET 900)\n",
    "    )\n",
    "\"\"\").show(truncate=False)\n",
    "\n",
    "print(\"\\n✅ VARIANT seamlessly handles schema evolution - old and new fields coexist!\")\n"
   ]
  },
  {
   "cell_type": "code",
   "execution_count": 20,
   "id": "ae497cfe",
   "metadata": {},
   "outputs": [
    {
     "name": "stdout",
     "output_type": "stream",
     "text": [
      "=== Pivoting VARIANT Data ===\n",
      "\n"
     ]
    },
    {
     "data": {
      "application/vnd.jupyter.widget-view+json": {
       "model_id": "fee9ceab08a14e23b0cefb641e4bad11",
       "version_major": 2,
       "version_minor": 0
      },
      "text/plain": [
       "HBox(children=(IntProgress(value=0, bar_style='success'), Label(value='')))"
      ]
     },
     "metadata": {},
     "output_type": "display_data"
    },
    {
     "name": "stdout",
     "output_type": "stream",
     "text": [
      "+-------------------+----+-----+-------+----------+\n",
      "|            country|free|basic|premium|enterprise|\n",
      "+-------------------+----+-----+-------+----------+\n",
      "|            Albania|   3|    1|      1|      NULL|\n",
      "|            Algeria|NULL| NULL|      1|         1|\n",
      "|     American Samoa|   2|    1|      1|      NULL|\n",
      "|            Andorra|NULL|    1|      1|         1|\n",
      "|           Anguilla|NULL|    1|      1|      NULL|\n",
      "|Antigua and Barbuda|NULL| NULL|      2|      NULL|\n",
      "|          Argentina|   2| NULL|   NULL|         2|\n",
      "|            Armenia|NULL|    1|      3|      NULL|\n",
      "|              Aruba|NULL| NULL|      1|      NULL|\n",
      "|            Austria|NULL| NULL|   NULL|         1|\n",
      "+-------------------+----+-----+-------+----------+\n",
      "\n",
      "\n",
      "=== Creating Structured View from VARIANT ===\n",
      "\n",
      "✅ Created structured view from VARIANT data\n"
     ]
    },
    {
     "data": {
      "application/vnd.jupyter.widget-view+json": {
       "model_id": "55e39a0cc1564fddaf607dd03efce793",
       "version_major": 2,
       "version_minor": 0
      },
      "text/plain": [
       "HBox(children=(IntProgress(value=0, bar_style='success'), Label(value='')))"
      ]
     },
     "metadata": {},
     "output_type": "display_data"
    },
    {
     "name": "stdout",
     "output_type": "stream",
     "text": [
      "+--------------------+-------------+--------------------+---+--------------+--------------------+-----------------+--------------------+--------------+\n",
      "|             user_id|         name|               email|age|          city|             country|newsletter_opt_in|        created_date|interest_count|\n",
      "+--------------------+-------------+--------------------+---+--------------+--------------------+-----------------+--------------------+--------------+\n",
      "|3517c88f-ccdd-408...| David Hudson|mooreelizabeth@ex...| 18|West Jamesbury|             Belgium|             true|2023-09-15 23:49:...|             1|\n",
      "|59676281-f3fb-446...|   Kevin Dean|woodsgabrielle@ex...| 24| Campbellmouth|British Indian Oc...|             true|2025-06-18 13:08:...|             2|\n",
      "|6a0d1f3e-787b-4ff...|Sandra Lester|danielhowell@exam...| 23|  West Phillip|              Canada|            false|2022-12-27 12:48:...|             5|\n",
      "|76e70ec6-f201-451...|  Diana Pratt|sullivanjason@exa...| 38|  Thompsontown|             Germany|             true|2024-03-07 14:08:...|             5|\n",
      "|d4bcbf2c-d0ac-4ac...|Matthew Brown|esparzaalejandra@...| 27|   Wrightshire|United States Vir...|             true|2022-04-28 22:59:...|             5|\n",
      "+--------------------+-------------+--------------------+---+--------------+--------------------+-----------------+--------------------+--------------+\n",
      "\n"
     ]
    }
   ],
   "source": [
    "# Pivoting VARIANT data\n",
    "print(\"=== Pivoting VARIANT Data ===\\n\")\n",
    "\n",
    "spark.sql(\"\"\"\n",
    "    WITH subscription_counts AS (\n",
    "        SELECT \n",
    "            CAST(user_data:address:country AS STRING) as country,\n",
    "            CAST(user_data:subscription:tier AS STRING) as subscription_tier,\n",
    "            COUNT(*) as user_count\n",
    "        FROM users_variant\n",
    "        WHERE user_data:subscription:tier IS NOT NULL\n",
    "            AND user_data:address:country IS NOT NULL\n",
    "        GROUP BY country, subscription_tier\n",
    "    )\n",
    "    SELECT * FROM subscription_counts\n",
    "    PIVOT (\n",
    "        SUM(user_count)\n",
    "        FOR subscription_tier IN ('free', 'basic', 'premium', 'enterprise')\n",
    "    )\n",
    "    ORDER BY country\n",
    "    LIMIT 10\n",
    "\"\"\").show()\n",
    "\n",
    "# Creating materialized views from VARIANT data\n",
    "print(\"\\n=== Creating Structured View from VARIANT ===\\n\")\n",
    "\n",
    "spark.sql(\"\"\"\n",
    "    CREATE OR REPLACE TEMPORARY VIEW user_details AS\n",
    "    SELECT \n",
    "        user_id,\n",
    "        CAST(user_data:name AS STRING) as name,\n",
    "        CAST(user_data:email AS STRING) as email,\n",
    "        CAST(user_data:age AS INT) as age,\n",
    "        CAST(user_data:address:city AS STRING) as city,\n",
    "        CAST(user_data:address:country AS STRING) as country,\n",
    "        CAST(user_data:preferences:newsletter AS BOOLEAN) as newsletter_opt_in,\n",
    "        CAST(user_data:created_at AS TIMESTAMP) as created_date,\n",
    "        SIZE(CAST(user_data:profile:interests AS ARRAY<STRING>)) as interest_count\n",
    "    FROM users_variant\n",
    "\"\"\")\n",
    "\n",
    "print(\"✅ Created structured view from VARIANT data\")\n",
    "\n",
    "spark.sql(\"SELECT * FROM user_details LIMIT 5\").show()\n"
   ]
  },
  {
   "cell_type": "markdown",
   "id": "b01de113",
   "metadata": {},
   "source": [
    "## 12. Performance Optimization with VARIANT\n",
    "\n",
    "Best practices for optimizing queries on VARIANT data.\n"
   ]
  },
  {
   "cell_type": "code",
   "execution_count": 21,
   "id": "92907a72",
   "metadata": {},
   "outputs": [
    {
     "name": "stdout",
     "output_type": "stream",
     "text": [
      "=== Optimizing with Extracted Columns ===\n",
      "\n"
     ]
    },
    {
     "data": {
      "application/vnd.jupyter.widget-view+json": {
       "model_id": "70fd9258c46b4f2fbca7a3945298a684",
       "version_major": 2,
       "version_minor": 0
      },
      "text/plain": [
       "HBox(children=(IntProgress(value=0, bar_style='success'), Label(value='')))"
      ]
     },
     "metadata": {},
     "output_type": "display_data"
    },
    {
     "name": "stdout",
     "output_type": "stream",
     "text": [
      "✅ Created optimized table with extracted columns\n",
      "\n",
      "📊 Query Performance Comparison:\n",
      "Original: Scanning full VARIANT for every query\n",
      "Optimized: Can use extracted columns for filtering and joins\n",
      "+-------------------+---------+-------+\n",
      "|           col_name|data_type|comment|\n",
      "+-------------------+---------+-------+\n",
      "|            user_id|   string|   NULL|\n",
      "|           username|   string|   NULL|\n",
      "|              email|   string|   NULL|\n",
      "|          user_data|  variant|   NULL|\n",
      "|     extracted_name|   string|   NULL|\n",
      "|      extracted_age|      int|   NULL|\n",
      "|extracted_timestamp|timestamp|   NULL|\n",
      "|ingestion_timestamp|timestamp|   NULL|\n",
      "+-------------------+---------+-------+\n",
      "\n",
      "\n",
      "=== Efficient Filtering with Extracted Columns ===\n",
      "\n"
     ]
    },
    {
     "data": {
      "application/vnd.jupyter.widget-view+json": {
       "model_id": "b51b6b11ae2f4893a2aeffcc76176c40",
       "version_major": 2,
       "version_minor": 0
      },
      "text/plain": [
       "HBox(children=(IntProgress(value=0, bar_style='success'), Label(value='')))"
      ]
     },
     "metadata": {},
     "output_type": "display_data"
    },
    {
     "name": "stdout",
     "output_type": "stream",
     "text": [
      "+-----------------+--------------+--------------------+\n",
      "|   extracted_name|      username|               email|\n",
      "+-----------------+--------------+--------------------+\n",
      "|James Christensen|       tmiller|\"larry93@example....|\n",
      "|  Jennifer Carter|brittanywilson|\"zachary63@exampl...|\n",
      "|   Julian Jenkins|     raymond68|\"lisatrujillo@exa...|\n",
      "| Jeffrey Williams|      gerald70|\"judithmann@examp...|\n",
      "|  Jacob Schneider|      victor14|\"natasha71@exampl...|\n",
      "+-----------------+--------------+--------------------+\n",
      "\n"
     ]
    }
   ],
   "source": [
    "# Performance tip: Extract frequently accessed fields\n",
    "print(\"=== Optimizing with Extracted Columns ===\\n\")\n",
    "\n",
    "# Create an optimized table with extracted common fields\n",
    "spark.sql(f\"\"\"\n",
    "    CREATE OR REPLACE TABLE variant_optimized\n",
    "    USING DELTA\n",
    "    TBLPROPERTIES('delta.feature.allowColumnDefaults' = 'supported')\n",
    "    AS\n",
    "    SELECT \n",
    "        user_id,\n",
    "        username,\n",
    "        email,\n",
    "        user_data,\n",
    "        -- Extract frequently accessed fields as separate columns\n",
    "        CAST(user_data:name AS STRING) as extracted_name,\n",
    "        CAST(user_data:age AS INT) as extracted_age,\n",
    "        CAST(user_data:created_at AS TIMESTAMP) as extracted_timestamp,\n",
    "        ingestion_timestamp\n",
    "    FROM users_variant\n",
    "\"\"\")\n",
    "\n",
    "print(\"✅ Created optimized table with extracted columns\")\n",
    "\n",
    "# Compare query performance (conceptual)\n",
    "print(\"\\n📊 Query Performance Comparison:\")\n",
    "print(\"Original: Scanning full VARIANT for every query\")\n",
    "print(\"Optimized: Can use extracted columns for filtering and joins\")\n",
    "\n",
    "# Show the optimized table structure\n",
    "spark.sql(\"DESCRIBE TABLE variant_optimized\").show()\n",
    "\n",
    "# Example of efficient filtering using extracted columns\n",
    "print(\"\\n=== Efficient Filtering with Extracted Columns ===\\n\")\n",
    "\n",
    "spark.sql(\"\"\"\n",
    "    SELECT \n",
    "        extracted_name,\n",
    "        username,\n",
    "        user_data:email as email\n",
    "    FROM variant_optimized\n",
    "    WHERE extracted_name LIKE 'J%'  -- Uses extracted column for efficient filtering\n",
    "    LIMIT 5\n",
    "\"\"\").show()\n"
   ]
  },
  {
   "cell_type": "markdown",
   "id": "3f02f207",
   "metadata": {},
   "source": [
    "## 13. Cleanup Script\n",
    "\n",
    "This section provides a comprehensive cleanup script to remove all resources created during this exploration.\n"
   ]
  },
  {
   "cell_type": "code",
   "execution_count": 22,
   "id": "39dcdac8",
   "metadata": {},
   "outputs": [
    {
     "name": "stdout",
     "output_type": "stream",
     "text": [
      "🧹 Cleaning up VARIANT exploration resources...\n",
      "✅ Dropped table: users_variant\n",
      "✅ Dropped table: users_extracted\n",
      "✅ Dropped table: variant_optimized\n",
      "✅ Dropped view: user_details\n",
      "✅ Cleaned volume files\n",
      "✅ Reset to main catalog, default schema\n",
      "\n",
      "🎉 Cleanup complete!\n"
     ]
    }
   ],
   "source": [
    "# Cleanup Script - Removes all resources created during VARIANT exploration\n",
    "\n",
    "def cleanup():\n",
    "    \"\"\"Simple cleanup function to remove all created resources\"\"\"\n",
    "    print(\"🧹 Cleaning up VARIANT exploration resources...\")\n",
    "    \n",
    "    # Drop tables\n",
    "    tables = ['users_variant', 'users_extracted', 'variant_optimized']\n",
    "    for table in tables:\n",
    "        spark.sql(f\"DROP TABLE IF EXISTS {table}\")\n",
    "        print(f\"✅ Dropped table: {table}\")\n",
    "    \n",
    "    # Drop views\n",
    "    spark.sql(\"DROP VIEW IF EXISTS user_details\")\n",
    "    print(\"✅ Dropped view: user_details\")\n",
    "    \n",
    "    # Clean volume files\n",
    "    users_folder = f\"/Volumes/{CATALOG}/{SCHEMA}/{VOLUME}/users\"\n",
    "    try:\n",
    "        dbutils.fs.rm(users_folder, recurse=True)\n",
    "        print(\"✅ Cleaned volume files\")\n",
    "    except:\n",
    "        print(\"⚠️  Volume files may not exist\")\n",
    "    \n",
    "    # Reset to default catalog/schema\n",
    "    spark.sql(\"USE CATALOG main\")\n",
    "    spark.sql(\"USE SCHEMA default\")\n",
    "    print(\"✅ Reset to main catalog, default schema\")\n",
    "    \n",
    "    print(\"\\n🎉 Cleanup complete!\")\n",
    "\n",
    "# Run cleanup\n",
    "cleanup()\n"
   ]
  },
  {
   "cell_type": "code",
   "execution_count": 23,
   "id": "49e7acf8",
   "metadata": {},
   "outputs": [],
   "source": [
    "# Optional: Individual cleanup functions\n",
    "\n",
    "# def drop_tables_only():\n",
    "#     \"\"\"Drop only the tables\"\"\"\n",
    "#     tables = ['users_variant', 'users_extracted', 'variant_optimized']\n",
    "#     for table in tables:\n",
    "#         spark.sql(f\"DROP TABLE IF EXISTS {table}\")\n",
    "#         print(f\"✅ Dropped {table}\")\n",
    "\n",
    "# def clean_volume_only():\n",
    "#     \"\"\"Clean only the volume files\"\"\"\n",
    "#     dbutils.fs.rm(f\"/Volumes/{CATALOG}/{SCHEMA}/{VOLUME}/users\", recurse=True)\n",
    "#     print(\"✅ Cleaned volume files\")\n",
    "\n",
    "# Usage:\n",
    "# cleanup()           # Full cleanup (already run above)\n",
    "# drop_tables_only()  # Drop only tables\n",
    "# clean_volume_only() # Clean only volume files\n"
   ]
  }
 ],
 "metadata": {
  "kernelspec": {
   "display_name": "base",
   "language": "python",
   "name": "python3"
  },
  "language_info": {
   "codemirror_mode": {
    "name": "ipython",
    "version": 3
   },
   "file_extension": ".py",
   "mimetype": "text/x-python",
   "name": "python",
   "nbconvert_exporter": "python",
   "pygments_lexer": "ipython3",
   "version": "3.12.7"
  }
 },
 "nbformat": 4,
 "nbformat_minor": 5
}
