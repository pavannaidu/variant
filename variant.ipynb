{
 "cells": [
  {
   "cell_type": "code",
   "execution_count": 1,
   "id": "abd72d09",
   "metadata": {},
   "outputs": [
    {
     "name": "stdout",
     "output_type": "stream",
     "text": [
      "Requirement already satisfied: faker==23.0.0 in /opt/homebrew/anaconda3/lib/python3.12/site-packages (23.0.0)\n",
      "Requirement already satisfied: python-dateutil>=2.4 in /opt/homebrew/anaconda3/lib/python3.12/site-packages (from faker==23.0.0) (2.9.0.post0)\n",
      "Requirement already satisfied: six>=1.5 in /opt/homebrew/anaconda3/lib/python3.12/site-packages (from python-dateutil>=2.4->faker==23.0.0) (1.16.0)\n"
     ]
    }
   ],
   "source": [
    "! pip install faker==23.0.0"
   ]
  },
  {
   "cell_type": "code",
   "execution_count": 2,
   "id": "7a4c6d5a",
   "metadata": {},
   "outputs": [
    {
     "name": "stdout",
     "output_type": "stream",
     "text": [
      "✅ Spark session initialized\n"
     ]
    },
    {
     "data": {
      "application/vnd.jupyter.widget-view+json": {
       "model_id": "4577a44cba9a4e91bab1df3c51a61c4e",
       "version_major": 2,
       "version_minor": 0
      },
      "text/plain": [
       "HBox(children=(IntProgress(value=0, bar_style='success'), Label(value='')))"
      ]
     },
     "metadata": {},
     "output_type": "display_data"
    },
    {
     "name": "stdout",
     "output_type": "stream",
     "text": [
      "Current catalog: pavan_naidu\n"
     ]
    },
    {
     "data": {
      "application/vnd.jupyter.widget-view+json": {
       "model_id": "d6258a02a51d485ba2ad850c73304c2c",
       "version_major": 2,
       "version_minor": 0
      },
      "text/plain": [
       "HBox(children=(IntProgress(value=0, bar_style='success'), Label(value='')))"
      ]
     },
     "metadata": {},
     "output_type": "display_data"
    },
    {
     "name": "stdout",
     "output_type": "stream",
     "text": [
      "Current schema: json\n",
      "Configuration: CATALOG=pavan_naidu, SCHEMA=json, VOLUME=raw_data\n"
     ]
    }
   ],
   "source": [
    "# VARIANT Data Type Exploration in Databricks\n",
    "# This notebook demonstrates various features and capabilities of the VARIANT data type\n",
    "\n",
    "from pyspark.sql import SparkSession\n",
    "from pyspark.sql.functions import *\n",
    "from pyspark.sql.types import *\n",
    "import json\n",
    "import random\n",
    "from datetime import datetime, timedelta\n",
    "from faker import Faker\n",
    "import os\n",
    "\n",
    "# =============================================================================\n",
    "# CONFIGURATION PARAMETERS\n",
    "# =============================================================================\n",
    "# Update these parameters to customize the notebook for your environment\n",
    "CATALOG = \"pavan_naidu\"                    # Unity Catalog name\n",
    "SCHEMA = \"json\"                            # Schema name within the catalog\n",
    "VOLUME = \"raw_data\"                        # Volume name for storing data\n",
    "# =============================================================================\n",
    "\n",
    "def get_spark() -> SparkSession:\n",
    "    try:\n",
    "        from databricks.connect import DatabricksSession\n",
    "        return DatabricksSession.builder.getOrCreate()\n",
    "    except Exception:\n",
    "        return SparkSession.builder.getOrCreate()\n",
    "\n",
    "spark = get_spark()\n",
    "fake = Faker()\n",
    "\n",
    "\n",
    "\n",
    "# Set catalog and schema using parameters\n",
    "spark.sql(f\"USE CATALOG {CATALOG}\")\n",
    "spark.sql(f\"USE SCHEMA {SCHEMA}\")\n",
    "\n",
    "print(\"✅ Spark session initialized\")\n",
    "print(f\"Current catalog: {spark.sql('SELECT current_catalog()').collect()[0][0]}\")\n",
    "print(f\"Current schema: {spark.sql('SELECT current_schema()').collect()[0][0]}\")\n",
    "print(f\"Configuration: CATALOG={CATALOG}, SCHEMA={SCHEMA}, VOLUME={VOLUME}\")"
   ]
  },
  {
   "cell_type": "markdown",
   "id": "33486a7c",
   "metadata": {},
   "source": [
    "## 1. Setup: Create UC Volume and Generate Fake JSON Data\n",
    "\n",
    "First, let's create a folder in Unity Catalog volume and generate diverse JSON data to showcase VARIANT functionality.\n"
   ]
  },
  {
   "cell_type": "code",
   "execution_count": 3,
   "id": "636affdd",
   "metadata": {},
   "outputs": [
    {
     "name": "stdout",
     "output_type": "stream",
     "text": [
      "✅ Volume 'raw_data' is ready\n",
      "Volume path: /Volumes/pavan_naidu/json/raw_data\n"
     ]
    }
   ],
   "source": [
    "# Create or verify volume exists\n",
    "try:\n",
    "    spark.sql(f\"CREATE VOLUME IF NOT EXISTS {CATALOG}.{SCHEMA}.{VOLUME}\")\n",
    "    print(f\"✅ Volume '{VOLUME}' is ready\")\n",
    "except Exception as e:\n",
    "    print(f\"Volume might already exist or error: {e}\")\n",
    "\n",
    "# Get the volume path\n",
    "volume_path = f\"/Volumes/{CATALOG}/{SCHEMA}/{VOLUME}\"\n",
    "print(f\"Volume path: {volume_path}\")\n"
   ]
  },
  {
   "cell_type": "code",
   "execution_count": 4,
   "id": "f2ce3c0f",
   "metadata": {},
   "outputs": [
    {
     "name": "stdout",
     "output_type": "stream",
     "text": [
      "Generating fake user data...\n",
      "✅ Generated 1000 user records with evolving schemas\n",
      "\n",
      "Sample user records showing schema evolution:\n",
      "\n",
      "1. Basic user (early schema):\n",
      "{\n",
      "  \"user_id\": \"aa678282-2c08-4c58-a033-121fa20018ee\",\n",
      "  \"username\": \"mclaughlinerica\",\n",
      "  \"email\": \"phaynes@example.net\",\n",
      "  \"name\": \"Jessica Ashley\",\n",
      "  \"age\": 47,\n",
      "  \"created_at\": \"2021-01-05 10:22:25.812395\",\n",
      "  \"last_login\": \"2025-09-12 00:50:59.097657\",\n",
      "  \"profile\": {\n",
      "    \"bio\": \"Final form term full now. Buy week but some concern field.\\nRecent cultural north girl city hot. Real hope how letter customer usually activity.\",\n",
      "    \"occupation\": \"Newspaper journalist\",\n",
      "    \"company\": \"Griffin, Wagner and Miller\",\n",
      "    \"interests\": [\n",
      "      \"box\",\n",
      "      \"yourself\",\n",
      "      \"officer\",\n",
      "      \"recently\",...\n",
      "\n",
      "2. User with social media (mid evolution):\n",
      "{\n",
      "  \"user_id\": \"0000a2e5-f9ac-4a06-b3f6-37bedd425ba1\",\n",
      "  \"username\": \"russotina\",\n",
      "  \"email\": \"shannonhernandez@example.com\",\n",
      "  \"name\": \"David Meyer\",\n",
      "  \"age\": 74,\n",
      "  \"created_at\": \"2021-07-05 03:49:38.853725\",\n",
      "  \"last_login\": \"2025-09-09 06:25:43.473106\",\n",
      "  \"profile\": {\n",
      "    \"bio\": \"Power anyone night true. Land teacher protect what computer born. Figure citizen last Mrs exactly and. One property whether.\",\n",
      "    \"occupation\": \"Waste management officer\",\n",
      "    \"company\": \"Rush-Ferguson\",\n",
      "    \"interests\": [\n",
      "      \"usually\",\n",
      "      \"company\"\n",
      "    ],\n",
      "    \"skills\": []\n",
      "  },\n",
      "  \"address\": {\n",
      "    \"street\": \"54...\n",
      "\n",
      "3. User with full schema (latest):\n",
      "{\n",
      "  \"user_id\": \"de6cf9d6-7c80-4c67-8b95-98bee786507c\",\n",
      "  \"username\": \"nancy99\",\n",
      "  \"email\": \"joannapena@example.net\",\n",
      "  \"name\": \"Trevor Shah\",\n",
      "  \"age\": 62,\n",
      "  \"created_at\": \"2021-07-04 17:05:24.784510\",\n",
      "  \"last_login\": \"2025-09-17 22:14:42.361903\",\n",
      "  \"profile\": {\n",
      "    \"bio\": \"Quickly wish however foot check treat. Our memory he Republican. Table available tax explain Congress.\\nPersonal toward eat day especially skill base military. Show room feel law thank.\",\n",
      "    \"occupation\": \"Solicitor\",\n",
      "    \"company\": \"Brown, Bates and Rivera\",\n",
      "    \"interests\": [\n",
      "      \"cultural\",\n",
      "      \"suffer\",\n",
      "      \"conta...\n"
     ]
    }
   ],
   "source": [
    "# Generate fake user data to demonstrate VARIANT capabilities\n",
    "\n",
    "def generate_user_data(num_records=1000):\n",
    "    \"\"\"Generate user data with varying structures to simulate schema evolution\"\"\"\n",
    "    users = []\n",
    "    \n",
    "    for i in range(num_records):\n",
    "        # Basic user structure (all users have these fields)\n",
    "        user = {\n",
    "            \"user_id\": str(fake.uuid4()),\n",
    "            \"username\": fake.user_name(),\n",
    "            \"email\": fake.email(),\n",
    "            \"name\": fake.name(),\n",
    "            \"age\": random.randint(18, 80),\n",
    "            \"created_at\": str(fake.date_time_between(start_date='-5y', end_date='now')),\n",
    "            \"last_login\": str(fake.date_time_between(start_date='-30d', end_date='now'))\n",
    "        }\n",
    "        \n",
    "        # Profile information (nested structure)\n",
    "        user[\"profile\"] = {\n",
    "            \"bio\": fake.text(max_nb_chars=200),\n",
    "            \"occupation\": fake.job(),\n",
    "            \"company\": fake.company(),\n",
    "            \"interests\": [fake.word() for _ in range(random.randint(1, 5))],\n",
    "            \"skills\": [fake.job() for _ in range(random.randint(0, 3))]\n",
    "        }\n",
    "        \n",
    "        # Address information (nested with multiple levels)\n",
    "        user[\"address\"] = {\n",
    "            \"street\": fake.street_address(),\n",
    "            \"city\": fake.city(),\n",
    "            \"state\": fake.state(),\n",
    "            \"country\": fake.country(),\n",
    "            \"postal_code\": fake.postcode(),\n",
    "            \"coordinates\": {\n",
    "                \"latitude\": float(fake.latitude()),\n",
    "                \"longitude\": float(fake.longitude())\n",
    "            }\n",
    "        }\n",
    "        \n",
    "        # Preferences (nested boolean flags)\n",
    "        user[\"preferences\"] = {\n",
    "            \"newsletter\": bool(random.choice([True, False])),\n",
    "            \"notifications\": {\n",
    "                \"email\": bool(random.choice([True, False])),\n",
    "                \"sms\": bool(random.choice([True, False])),\n",
    "                \"push\": bool(random.choice([True, False])),\n",
    "                \"frequency\": random.choice([\"daily\", \"weekly\", \"monthly\", \"never\"])\n",
    "            },\n",
    "            \"privacy\": {\n",
    "                \"profile_visible\": bool(random.choice([True, False])),\n",
    "                \"show_email\": bool(random.choice([True, False])),\n",
    "                \"show_location\": bool(random.choice([True, False]))\n",
    "            }\n",
    "        }\n",
    "        \n",
    "        # Simulate schema evolution - newer users have additional fields\n",
    "        if i > num_records * 0.3:  # 70% of users have these newer fields\n",
    "            user[\"social_media\"] = {\n",
    "                \"twitter\": f\"@{fake.user_name()}\" if random.random() > 0.3 else None,\n",
    "                \"linkedin\": fake.url() if random.random() > 0.5 else None,\n",
    "                \"github\": f\"github.com/{fake.user_name()}\" if random.random() > 0.7 else None\n",
    "            }\n",
    "            \n",
    "        if i > num_records * 0.6:  # 40% of users have these newest fields\n",
    "            user[\"subscription\"] = {\n",
    "                \"tier\": random.choice([\"free\", \"basic\", \"premium\", \"enterprise\"]),\n",
    "                \"start_date\": str(fake.date_between(start_date='-2y', end_date='today')),\n",
    "                \"auto_renew\": bool(random.choice([True, False]))\n",
    "            }\n",
    "            user[\"metrics\"] = {\n",
    "                \"login_count\": random.randint(1, 1000),\n",
    "                \"posts_created\": random.randint(0, 500),\n",
    "                \"comments_made\": random.randint(0, 2000),\n",
    "                \"last_activity\": str(fake.date_time_between(start_date='-7d', end_date='now'))\n",
    "            }\n",
    "        \n",
    "        # Some users have optional fields (simulate sparse data)\n",
    "        if random.random() > 0.7:\n",
    "            user[\"phone\"] = fake.phone_number()\n",
    "        \n",
    "        if random.random() > 0.8:\n",
    "            user[\"referral_code\"] = fake.bothify(text='REF-####-????')\n",
    "            user[\"referred_by\"] = str(fake.uuid4()) if random.random() > 0.5 else None\n",
    "        \n",
    "        users.append(user)\n",
    "    \n",
    "    return users\n",
    "\n",
    "# Generate sample user data\n",
    "print(\"Generating fake user data...\")\n",
    "user_data = generate_user_data(1000)\n",
    "print(f\"✅ Generated {len(user_data)} user records with evolving schemas\")\n",
    "\n",
    "# Show sample records demonstrating schema evolution\n",
    "print(\"\\nSample user records showing schema evolution:\")\n",
    "print(\"\\n1. Basic user (early schema):\")\n",
    "print(json.dumps(user_data[100], indent=2)[:600] + \"...\")\n",
    "print(\"\\n2. User with social media (mid evolution):\")\n",
    "print(json.dumps(user_data[500], indent=2)[:600] + \"...\")\n",
    "print(\"\\n3. User with full schema (latest):\")\n",
    "print(json.dumps(user_data[900], indent=2)[:600] + \"...\")\n"
   ]
  },
  {
   "cell_type": "code",
   "execution_count": 5,
   "id": "6431e72c",
   "metadata": {},
   "outputs": [
    {
     "name": "stdout",
     "output_type": "stream",
     "text": [
      "✅ Created folder: /Volumes/pavan_naidu/json/raw_data/users\n",
      "✅ Saved JSON data to: /Volumes/pavan_naidu/json/raw_data/users/user_data.json\n",
      "✅ Saved JSONL data to: /Volumes/pavan_naidu/json/raw_data/users/user_data.jsonl\n",
      "\n",
      "📂 Folder structure created:\n"
     ]
    },
    {
     "data": {
      "text/plain": [
       "[FileInfo(path='/Volumes/pavan_naidu/json/raw_data/users/user_data.json', name='user_data.json', size=1154815, modificationTime=1758573593000),\n",
       " FileInfo(path='/Volumes/pavan_naidu/json/raw_data/users/user_data.jsonl', name='user_data.jsonl', size=1153814, modificationTime=1758573594000)]"
      ]
     },
     "metadata": {},
     "output_type": "display_data"
    }
   ],
   "source": [
    "# Create a users folder in the volume\n",
    "users_folder = f\"{volume_path}/users\"\n",
    "try:\n",
    "    dbutils.fs.mkdirs(users_folder)\n",
    "    print(f\"✅ Created folder: {users_folder}\")\n",
    "except Exception as e:\n",
    "    print(f\"Folder might already exist: {e}\")\n",
    "\n",
    "# Save JSON data to users folder\n",
    "json_file_path = f\"{users_folder}/user_data.json\"\n",
    "\n",
    "# Write JSON data to file\n",
    "dbutils.fs.put(json_file_path, json.dumps(user_data), overwrite=True)\n",
    "print(f\"✅ Saved JSON data to: {json_file_path}\")\n",
    "\n",
    "# Also save as individual JSON lines for easier processing\n",
    "jsonl_file_path = f\"{users_folder}/user_data.jsonl\"\n",
    "jsonl_content = \"\\n\".join([json.dumps(user) for user in user_data])\n",
    "dbutils.fs.put(jsonl_file_path, jsonl_content, overwrite=True)\n",
    "print(f\"✅ Saved JSONL data to: {jsonl_file_path}\")\n",
    "\n",
    "# # Optionally, save data partitioned by subscription tier for those who have it\n",
    "# print(\"\\n📁 Creating partitioned data by subscription tier...\")\n",
    "# for user in user_data:\n",
    "#     if \"subscription\" in user:\n",
    "#         tier = user.get(\"subscription\", {}).get(\"tier\", \"unknown\")\n",
    "#         tier_folder = f\"{users_folder}/by_tier/{tier}\"\n",
    "        \n",
    "#         # Create tier folder if it doesn't exist\n",
    "#         try:\n",
    "#             dbutils.fs.mkdirs(tier_folder)\n",
    "#         except:\n",
    "#             pass  # Folder exists\n",
    "        \n",
    "#         # Save user to appropriate tier folder\n",
    "#         user_file = f\"{tier_folder}/{user['user_id']}.json\"\n",
    "#         dbutils.fs.put(user_file, json.dumps(user), overwrite=True)\n",
    "\n",
    "# print(\"✅ Created partitioned user data by subscription tier\")\n",
    "\n",
    "# List the created structure\n",
    "print(\"\\n📂 Folder structure created:\")\n",
    "display(dbutils.fs.ls(users_folder))\n"
   ]
  },
  {
   "cell_type": "markdown",
   "id": "386a4093",
   "metadata": {},
   "source": [
    "## 2. Creating Tables with VARIANT Data Type\n",
    "\n",
    "Let's create tables to store our JSON data using the VARIANT type.\n"
   ]
  },
  {
   "cell_type": "code",
   "execution_count": 6,
   "id": "af3baff3",
   "metadata": {},
   "outputs": [
    {
     "name": "stdout",
     "output_type": "stream",
     "text": [
      "✅ Created table: users_variant with column defaults enabled\n",
      "✅ Created table: users_extracted\n",
      "\n",
      "Table Schemas:\n",
      "+-------------------+---------+-------+\n",
      "|           col_name|data_type|comment|\n",
      "+-------------------+---------+-------+\n",
      "|            user_id|   string|   NULL|\n",
      "|           username|   string|   NULL|\n",
      "|              email|   string|   NULL|\n",
      "|          user_data|  variant|   NULL|\n",
      "|ingestion_timestamp|timestamp|   NULL|\n",
      "+-------------------+---------+-------+\n",
      "\n",
      "+-------------------+---------+-------+\n",
      "|           col_name|data_type|comment|\n",
      "+-------------------+---------+-------+\n",
      "|            user_id|   string|   NULL|\n",
      "|           username|   string|   NULL|\n",
      "|              email|   string|   NULL|\n",
      "|               name|   string|   NULL|\n",
      "|                age|      int|   NULL|\n",
      "|               city|   string|   NULL|\n",
      "|            country|   string|   NULL|\n",
      "|  subscription_tier|   string|   NULL|\n",
      "|          user_data|  variant|   NULL|\n",
      "|ingestion_timestamp|timestamp|   NULL|\n",
      "+-------------------+---------+-------+\n",
      "\n"
     ]
    }
   ],
   "source": [
    "# Drop tables if they exist\n",
    "spark.sql(\"DROP TABLE IF EXISTS users_variant\")\n",
    "spark.sql(\"DROP TABLE IF EXISTS users_extracted\")\n",
    "\n",
    "# Create a table with VARIANT column for user data\n",
    "# Enable Delta feature for column defaults\n",
    "spark.sql(f\"\"\"\n",
    "    CREATE TABLE IF NOT EXISTS users_variant (\n",
    "        user_id STRING,\n",
    "        username STRING,\n",
    "        email STRING,\n",
    "        user_data VARIANT,\n",
    "        ingestion_timestamp TIMESTAMP DEFAULT CURRENT_TIMESTAMP()\n",
    "    )\n",
    "    USING DELTA\n",
    "    TBLPROPERTIES('delta.feature.allowColumnDefaults' = 'supported')\n",
    "    COMMENT 'Table storing user data in VARIANT column'\n",
    "\"\"\")\n",
    "\n",
    "print(\"✅ Created table: users_variant with column defaults enabled\")\n",
    "\n",
    "# Create another table with extracted fields for performance comparison\n",
    "spark.sql(f\"\"\"\n",
    "    CREATE TABLE IF NOT EXISTS users_extracted (\n",
    "        user_id STRING,\n",
    "        username STRING,\n",
    "        email STRING,\n",
    "        name STRING,\n",
    "        age INT,\n",
    "        city STRING,\n",
    "        country STRING,\n",
    "        subscription_tier STRING,\n",
    "        user_data VARIANT,\n",
    "        ingestion_timestamp TIMESTAMP DEFAULT CURRENT_TIMESTAMP()\n",
    "    )\n",
    "    USING DELTA\n",
    "    TBLPROPERTIES('delta.feature.allowColumnDefaults' = 'supported')\n",
    "    COMMENT 'Table with commonly accessed fields extracted from VARIANT'\n",
    "\"\"\")\n",
    "\n",
    "print(\"✅ Created table: users_extracted\")\n",
    "\n",
    "# Show table schemas\n",
    "print(\"\\nTable Schemas:\")\n",
    "spark.sql(\"DESCRIBE TABLE users_variant\").show()\n",
    "spark.sql(\"DESCRIBE TABLE users_extracted\").show()\n"
   ]
  },
  {
   "cell_type": "markdown",
   "id": "46f420ad",
   "metadata": {},
   "source": [
    "## 3. Loading Data into VARIANT Columns\n",
    "\n",
    "Now let's load our JSON data into the tables using different methods.\n"
   ]
  },
  {
   "cell_type": "code",
   "execution_count": 7,
   "id": "ce9e0c04",
   "metadata": {},
   "outputs": [
    {
     "data": {
      "application/vnd.jupyter.widget-view+json": {
       "model_id": "8b51c67b47ca4009808c909ef2732230",
       "version_major": 2,
       "version_minor": 0
      },
      "text/plain": [
       "HBox(children=(IntProgress(value=0, bar_style='success'), Label(value='')))"
      ]
     },
     "metadata": {},
     "output_type": "display_data"
    },
    {
     "data": {
      "application/vnd.jupyter.widget-view+json": {
       "model_id": "472769ded4d044c9b5efcc11701961f5",
       "version_major": 2,
       "version_minor": 0
      },
      "text/plain": [
       "HBox(children=(IntProgress(value=0, bar_style='success'), Label(value='')))"
      ]
     },
     "metadata": {},
     "output_type": "display_data"
    },
    {
     "name": "stdout",
     "output_type": "stream",
     "text": [
      "✅ Loaded 1000 records into users_variant using PARSE_JSON\n",
      "\n",
      "Sample data from users_variant:\n"
     ]
    },
    {
     "data": {
      "application/vnd.jupyter.widget-view+json": {
       "model_id": "f3ed9af2fe8d4003a0f1e1b773e796f3",
       "version_major": 2,
       "version_minor": 0
      },
      "text/plain": [
       "HBox(children=(IntProgress(value=0, bar_style='success'), Label(value='')))"
      ]
     },
     "metadata": {},
     "output_type": "display_data"
    },
    {
     "name": "stdout",
     "output_type": "stream",
     "text": [
      "+------------------------------------+-----------+-------------------------+----------------------------------------------------------------------------------------------------------------------------------------------------------------------------------------------------------------------------------------------------------------------------------------------------------------------------------------------------------------------------------------------------------------------------------------------------------------------------------------------------------------------------------------------------------------------------------------------------------------------------------------------------------------------------------------------------------------------------------------------------------------------------------------------------------------------------------------------------------------------------------------------------------------------------------------------------------------------------------------------+-------------------------+\n",
      "|user_id                             |username   |email                    |user_data                                                                                                                                                                                                                                                                                                                                                                                                                                                                                                                                                                                                                                                                                                                                                                                                                                                                                                                                                                                     |ingestion_timestamp      |\n",
      "+------------------------------------+-----------+-------------------------+----------------------------------------------------------------------------------------------------------------------------------------------------------------------------------------------------------------------------------------------------------------------------------------------------------------------------------------------------------------------------------------------------------------------------------------------------------------------------------------------------------------------------------------------------------------------------------------------------------------------------------------------------------------------------------------------------------------------------------------------------------------------------------------------------------------------------------------------------------------------------------------------------------------------------------------------------------------------------------------------+-------------------------+\n",
      "|eecea0f0-eab8-419d-8b06-dbb99aa1fe25|melissakim |ronaldlindsey@example.com|{\"address\":{\"city\":\"Whiteport\",\"coordinates\":{\"latitude\":45.52434,\"longitude\":-63.877788},\"country\":\"Palestinian Territory\",\"postal_code\":\"61112\",\"state\":\"South Dakota\",\"street\":\"57118 Charles Meadows Suite 853\"},\"age\":39,\"created_at\":\"2023-03-04 14:33:24.612413\",\"email\":\"ronaldlindsey@example.com\",\"last_login\":\"2025-09-10 14:35:26.009583\",\"name\":\"Brittney Smith\",\"preferences\":{\"newsletter\":true,\"notifications\":{\"email\":false,\"frequency\":\"weekly\",\"push\":false,\"sms\":false},\"privacy\":{\"profile_visible\":false,\"show_email\":true,\"show_location\":false}},\"profile\":{\"bio\":\"Company because natural drive serve student. Late their already health everybody you. Or old despite chance our among just challenge.\",\"company\":\"Wilson, Harrington and Ryan\",\"interests\":[\"prepare\",\"six\",\"culture\",\"citizen\",\"its\"],\"occupation\":\"Hotel manager\",\"skills\":[\"Automotive engineer\"]},\"user_id\":\"eecea0f0-eab8-419d-8b06-dbb99aa1fe25\",\"username\":\"melissakim\"}                   |2025-09-22 20:39:59.75833|\n",
      "|bb3f174f-01e9-413b-908b-c46e8bee5f4c|wilsondonna|smithgregory@example.org |{\"address\":{\"city\":\"Jamesville\",\"coordinates\":{\"latitude\":30.179289,\"longitude\":33.098233},\"country\":\"Sierra Leone\",\"postal_code\":\"99204\",\"state\":\"Indiana\",\"street\":\"207 Reyes Points\"},\"age\":29,\"created_at\":\"2025-04-13 16:42:24.125993\",\"email\":\"smithgregory@example.org\",\"last_login\":\"2025-09-12 01:51:21.963096\",\"name\":\"Julie Rhodes\",\"preferences\":{\"newsletter\":true,\"notifications\":{\"email\":true,\"frequency\":\"daily\",\"push\":false,\"sms\":false},\"privacy\":{\"profile_visible\":true,\"show_email\":true,\"show_location\":false}},\"profile\":{\"bio\":\"Against deep region station hear still produce. Kid interesting ahead.\\nFigure week wear movie hit say know. Least state only. Although feeling take must.\",\"company\":\"Maxwell-Joseph\",\"interests\":[\"probably\",\"face\",\"decade\"],\"occupation\":\"Therapist, speech and language\",\"skills\":[]},\"user_id\":\"bb3f174f-01e9-413b-908b-c46e8bee5f4c\",\"username\":\"wilsondonna\"}                                                               |2025-09-22 20:39:59.75833|\n",
      "|d2c36846-6a45-4b7f-a75b-911a59d37dc0|megan54    |yhensley@example.net     |{\"address\":{\"city\":\"West Jeremy\",\"coordinates\":{\"latitude\":-82.63084,\"longitude\":-21.997793},\"country\":\"Angola\",\"postal_code\":\"85113\",\"state\":\"Florida\",\"street\":\"891 Simpson Falls\"},\"age\":66,\"created_at\":\"2022-09-20 08:54:32.634071\",\"email\":\"yhensley@example.net\",\"last_login\":\"2025-09-11 05:37:05.508054\",\"name\":\"Haley Carter\",\"preferences\":{\"newsletter\":true,\"notifications\":{\"email\":false,\"frequency\":\"daily\",\"push\":false,\"sms\":false},\"privacy\":{\"profile_visible\":true,\"show_email\":false,\"show_location\":true}},\"profile\":{\"bio\":\"Suffer per probably deep quality part young. White sure low second arm.\\nWe carry no movement coach compare. Low career suddenly business health environment. Store safe simple war we medical note.\",\"company\":\"Anderson-Olsen\",\"interests\":[\"home\"],\"occupation\":\"Industrial/product designer\",\"skills\":[\"Records manager\",\"Public relations account executive\"]},\"user_id\":\"d2c36846-6a45-4b7f-a75b-911a59d37dc0\",\"username\":\"megan54\"}|2025-09-22 20:39:59.75833|\n",
      "|0c299963-d8bc-44fd-97db-cd977623b678|cruzrobert |fbates@example.org       |{\"address\":{\"city\":\"Michaelburgh\",\"coordinates\":{\"latitude\":54.740459,\"longitude\":-82.412158},\"country\":\"Sudan\",\"postal_code\":\"53839\",\"state\":\"Alabama\",\"street\":\"68508 Courtney Ville\"},\"age\":41,\"created_at\":\"2021-04-26 17:34:18.354322\",\"email\":\"fbates@example.org\",\"last_login\":\"2025-08-24 18:51:40.985583\",\"name\":\"Amanda Allen\",\"preferences\":{\"newsletter\":true,\"notifications\":{\"email\":true,\"frequency\":\"never\",\"push\":true,\"sms\":true},\"privacy\":{\"profile_visible\":false,\"show_email\":true,\"show_location\":true}},\"profile\":{\"bio\":\"Energy age Congress from word term worker.\\nEither ready music. Individual serve unit able series. Including hold good debate recently whole enjoy around.\",\"company\":\"Ewing, Prince and Richards\",\"interests\":[\"and\",\"seat\"],\"occupation\":\"International aid/development worker\",\"skills\":[]},\"user_id\":\"0c299963-d8bc-44fd-97db-cd977623b678\",\"username\":\"cruzrobert\"}                                                                    |2025-09-22 20:39:59.75833|\n",
      "|b68450c0-5206-4779-8bf6-07b496ca7ded|robert50   |hicksbeth@example.net    |{\"address\":{\"city\":\"Port Emily\",\"coordinates\":{\"latitude\":-82.922867,\"longitude\":143.553171},\"country\":\"Sierra Leone\",\"postal_code\":\"90898\",\"state\":\"Utah\",\"street\":\"86750 Brown Tunnel\"},\"age\":49,\"created_at\":\"2023-07-04 18:29:58.896202\",\"email\":\"hicksbeth@example.net\",\"last_login\":\"2025-08-30 13:48:32.812215\",\"name\":\"Melissa Bush\",\"preferences\":{\"newsletter\":false,\"notifications\":{\"email\":false,\"frequency\":\"monthly\",\"push\":true,\"sms\":false},\"privacy\":{\"profile_visible\":false,\"show_email\":false,\"show_location\":true}},\"profile\":{\"bio\":\"Relationship door few area one benefit. Husband likely term night identify. Ago whether career mission.\\nMeet budget yourself structure north exactly. Service keep marriage door debate.\",\"company\":\"Dickerson PLC\",\"interests\":[\"attack\",\"center\",\"paper\"],\"occupation\":\"Trade mark attorney\",\"skills\":[]},\"user_id\":\"b68450c0-5206-4779-8bf6-07b496ca7ded\",\"username\":\"robert50\"}                                              |2025-09-22 20:39:59.75833|\n",
      "+------------------------------------+-----------+-------------------------+----------------------------------------------------------------------------------------------------------------------------------------------------------------------------------------------------------------------------------------------------------------------------------------------------------------------------------------------------------------------------------------------------------------------------------------------------------------------------------------------------------------------------------------------------------------------------------------------------------------------------------------------------------------------------------------------------------------------------------------------------------------------------------------------------------------------------------------------------------------------------------------------------------------------------------------------------------------------------------------------+-------------------------+\n",
      "\n"
     ]
    }
   ],
   "source": [
    "# Method 1: Load from JSON file using PARSE_JSON\n",
    "spark.sql(f\"\"\"\n",
    "    INSERT INTO users_variant (user_id, username, email, user_data)\n",
    "    SELECT \n",
    "        PARSE_JSON(value):user_id as user_id,\n",
    "        PARSE_JSON(value):username as username,\n",
    "        PARSE_JSON(value):email as email,\n",
    "        PARSE_JSON(value) as user_data\n",
    "    FROM (\n",
    "        SELECT value \n",
    "        FROM text.`{jsonl_file_path}`\n",
    "    )\n",
    "\"\"\")\n",
    "\n",
    "count = spark.sql(\"SELECT COUNT(*) FROM users_variant\").collect()[0][0]\n",
    "print(f\"✅ Loaded {count} records into users_variant using PARSE_JSON\")\n",
    "\n",
    "# Show sample data\n",
    "print(\"\\nSample data from users_variant:\")\n",
    "spark.sql(\"SELECT * FROM users_variant LIMIT 5\").show(truncate=False)\n"
   ]
  },
  {
   "cell_type": "code",
   "execution_count": 8,
   "id": "9f4dac47",
   "metadata": {},
   "outputs": [
    {
     "data": {
      "application/vnd.jupyter.widget-view+json": {
       "model_id": "a3d3192356e5477eba521454093dcb2d",
       "version_major": 2,
       "version_minor": 0
      },
      "text/plain": [
       "HBox(children=(IntProgress(value=0, bar_style='success'), Label(value='')))"
      ]
     },
     "metadata": {},
     "output_type": "display_data"
    },
    {
     "data": {
      "application/vnd.jupyter.widget-view+json": {
       "model_id": "40c91f3778874d0386c734600ca05490",
       "version_major": 2,
       "version_minor": 0
      },
      "text/plain": [
       "HBox(children=(IntProgress(value=0, bar_style='success'), Label(value='')))"
      ]
     },
     "metadata": {},
     "output_type": "display_data"
    },
    {
     "name": "stdout",
     "output_type": "stream",
     "text": [
      "✅ Loaded 1000 records into users_extracted with extracted fields\n",
      "\n",
      "Sample data from users_extracted (with extracted fields):\n"
     ]
    },
    {
     "data": {
      "application/vnd.jupyter.widget-view+json": {
       "model_id": "a23619c8d10041d8b6b4808c47f89e22",
       "version_major": 2,
       "version_minor": 0
      },
      "text/plain": [
       "HBox(children=(IntProgress(value=0, bar_style='success'), Label(value='')))"
      ]
     },
     "metadata": {},
     "output_type": "display_data"
    },
    {
     "name": "stdout",
     "output_type": "stream",
     "text": [
      "+------------------------------------+--------------+---+------------+-----------------+\n",
      "|user_id                             |name          |age|city        |subscription_tier|\n",
      "+------------------------------------+--------------+---+------------+-----------------+\n",
      "|eecea0f0-eab8-419d-8b06-dbb99aa1fe25|Brittney Smith|39 |Whiteport   |NULL             |\n",
      "|bb3f174f-01e9-413b-908b-c46e8bee5f4c|Julie Rhodes  |29 |Jamesville  |NULL             |\n",
      "|d2c36846-6a45-4b7f-a75b-911a59d37dc0|Haley Carter  |66 |West Jeremy |NULL             |\n",
      "|0c299963-d8bc-44fd-97db-cd977623b678|Amanda Allen  |41 |Michaelburgh|NULL             |\n",
      "|b68450c0-5206-4779-8bf6-07b496ca7ded|Melissa Bush  |49 |Port Emily  |NULL             |\n",
      "+------------------------------------+--------------+---+------------+-----------------+\n",
      "\n"
     ]
    }
   ],
   "source": [
    "# Method 2: Load data with extracted fields for optimized queries\n",
    "spark.sql(f\"\"\"\n",
    "    INSERT INTO users_extracted \n",
    "    SELECT \n",
    "        PARSE_JSON(value):user_id as user_id,\n",
    "        PARSE_JSON(value):username as username,\n",
    "        PARSE_JSON(value):email as email,\n",
    "        PARSE_JSON(value):name as name,\n",
    "        CAST(PARSE_JSON(value):age AS INT) as age,\n",
    "        PARSE_JSON(value):address.city as city,\n",
    "        PARSE_JSON(value):address.country as country,\n",
    "        PARSE_JSON(value):subscription.tier as subscription_tier,\n",
    "        PARSE_JSON(value) as user_data,\n",
    "        CURRENT_TIMESTAMP() as ingestion_timestamp\n",
    "    FROM (\n",
    "        SELECT value \n",
    "        FROM text.`{jsonl_file_path}`\n",
    "    )\n",
    "\"\"\")\n",
    "\n",
    "count = spark.sql(\"SELECT COUNT(*) FROM users_extracted\").collect()[0][0]\n",
    "print(f\"✅ Loaded {count} records into users_extracted with extracted fields\")\n",
    "\n",
    "# Show sample\n",
    "print(\"\\nSample data from users_extracted (with extracted fields):\")\n",
    "spark.sql(\"SELECT user_id, name, age, city, subscription_tier FROM users_extracted LIMIT 5\").show(truncate=False)\n"
   ]
  },
  {
   "cell_type": "markdown",
   "id": "0d16a82d",
   "metadata": {},
   "source": [
    "## VARIANT Query Notation Reference\n",
    "\n",
    "Before diving into examples, here's the correct notation for querying VARIANT data:\n",
    "\n",
    "### Basic Notation Rules:\n",
    "\n",
    "1. **Field Access**: Use `:` to access top-level fields\n",
    "   ```sql\n",
    "   column_name:field_name\n",
    "   ```\n",
    "\n",
    "2. **Subfield Access**: Use `.` to access nested fields\n",
    "   ```sql\n",
    "   column_name:field_name.subfield_name\n",
    "   ```\n",
    "\n",
    "3. **Array Element Access**: Use `[n]` to access array elements by index\n",
    "   ```sql\n",
    "   column_name:array_name[0]  -- First element (0-indexed)\n",
    "   column_name:array_name[1]  -- Second element\n",
    "   ```\n",
    "\n",
    "### Examples:\n",
    "\n",
    "```sql\n",
    "-- Correct VARIANT notation examples\n",
    "SELECT \n",
    "  user_data:name as name,                           -- Field access\n",
    "  user_data:age as age,                             -- Field access\n",
    "  user_data:profile.bio as bio,                     -- Subfield access\n",
    "  user_data:address.city as city,                   -- Nested subfield\n",
    "  user_data:address.coordinates.latitude as lat,    -- Deeply nested subfield\n",
    "  user_data:interests[0] as first_interest,         -- Array element access\n",
    "  user_data:profile.skills[1] as second_skill       -- Array element in nested object\n",
    "FROM users_variant;\n",
    "```\n",
    "\n",
    "### Common Mistakes to Avoid:\n",
    "\n",
    "❌ **Incorrect**: `user_data:profile:bio` (using `:` for subfields)  \n",
    "✅ **Correct**: `user_data:profile.bio` (using `.` for subfields)\n",
    "\n",
    "❌ **Incorrect**: `user_data:interests.0` (using `.` for array indices)  \n",
    "✅ **Correct**: `user_data:interests[0]` (using `[]` for array indices)\n"
   ]
  },
  {
   "cell_type": "markdown",
   "id": "c44139d9",
   "metadata": {},
   "source": [
    "## 4. Querying VARIANT Data - Basic Access Patterns\n",
    "\n",
    "Let's explore different ways to access and query data stored in VARIANT columns.\n"
   ]
  },
  {
   "cell_type": "code",
   "execution_count": 9,
   "id": "7240c5db",
   "metadata": {},
   "outputs": [
    {
     "name": "stdout",
     "output_type": "stream",
     "text": [
      "=== Accessing Nested Fields ===\n",
      "\n",
      "VARIANT Query Notation:\n",
      "- Field access: column_name:field_name\n",
      "- Subfield access: column_name:field_name.subfield_name\n",
      "- Array access: column_name:array_name[n]\n",
      "\n"
     ]
    },
    {
     "data": {
      "application/vnd.jupyter.widget-view+json": {
       "model_id": "3845f0ed7ea74a5783e7635e79962c8b",
       "version_major": 2,
       "version_minor": 0
      },
      "text/plain": [
       "HBox(children=(IntProgress(value=0, bar_style='success'), Label(value='')))"
      ]
     },
     "metadata": {},
     "output_type": "display_data"
    },
    {
     "name": "stdout",
     "output_type": "stream",
     "text": [
      "+------------------------------------+----------------+---+------------------------------------------------------------------------------------------------------------------------------------------------------------------------------------------------------+--------------------------------------+--------------+----------+----------+\n",
      "|user_id                             |name            |age|bio                                                                                                                                                                                                   |occupation                            |city          |latitude  |longitude |\n",
      "+------------------------------------+----------------+---+------------------------------------------------------------------------------------------------------------------------------------------------------------------------------------------------------+--------------------------------------+--------------+----------+----------+\n",
      "|eecea0f0-eab8-419d-8b06-dbb99aa1fe25|\"Brittney Smith\"|39 |\"Company because natural drive serve student. Late their already health everybody you. Or old despite chance our among just challenge.\"                                                               |\"Hotel manager\"                       |\"Whiteport\"   |45.52434  |-63.877788|\n",
      "|bb3f174f-01e9-413b-908b-c46e8bee5f4c|\"Julie Rhodes\"  |29 |\"Against deep region station hear still produce. Kid interesting ahead.\\nFigure week wear movie hit say know. Least state only. Although feeling take must.\"                                          |\"Therapist, speech and language\"      |\"Jamesville\"  |30.179289 |33.098233 |\n",
      "|d2c36846-6a45-4b7f-a75b-911a59d37dc0|\"Haley Carter\"  |66 |\"Suffer per probably deep quality part young. White sure low second arm.\\nWe carry no movement coach compare. Low career suddenly business health environment. Store safe simple war we medical note.\"|\"Industrial/product designer\"         |\"West Jeremy\" |-82.63084 |-21.997793|\n",
      "|0c299963-d8bc-44fd-97db-cd977623b678|\"Amanda Allen\"  |41 |\"Energy age Congress from word term worker.\\nEither ready music. Individual serve unit able series. Including hold good debate recently whole enjoy around.\"                                          |\"International aid/development worker\"|\"Michaelburgh\"|54.740459 |-82.412158|\n",
      "|b68450c0-5206-4779-8bf6-07b496ca7ded|\"Melissa Bush\"  |49 |\"Relationship door few area one benefit. Husband likely term night identify. Ago whether career mission.\\nMeet budget yourself structure north exactly. Service keep marriage door debate.\"           |\"Trade mark attorney\"                 |\"Port Emily\"  |-82.922867|143.553171|\n",
      "+------------------------------------+----------------+---+------------------------------------------------------------------------------------------------------------------------------------------------------------------------------------------------------+--------------------------------------+--------------+----------+----------+\n",
      "\n"
     ]
    }
   ],
   "source": [
    "# Accessing nested fields using correct VARIANT notation\n",
    "print(\"=== Accessing Nested Fields ===\\n\")\n",
    "print(\"VARIANT Query Notation:\")\n",
    "print(\"- Field access: column_name:field_name\")\n",
    "print(\"- Subfield access: column_name:field_name.subfield_name\") \n",
    "print(\"- Array access: column_name:array_name[n]\")\n",
    "print()\n",
    "\n",
    "spark.sql(\"\"\"\n",
    "    SELECT \n",
    "        user_id,\n",
    "        user_data:name as name,\n",
    "        user_data:age as age,\n",
    "        user_data:profile.bio as bio,\n",
    "        user_data:profile.occupation as occupation,\n",
    "        user_data:address.city as city,\n",
    "        user_data:address.coordinates.latitude as latitude,\n",
    "        user_data:address.coordinates.longitude as longitude\n",
    "    FROM users_variant\n",
    "    LIMIT 5\n",
    "\"\"\").show(truncate=False)\n"
   ]
  },
  {
   "cell_type": "code",
   "execution_count": 10,
   "id": "c9d704fd",
   "metadata": {},
   "outputs": [
    {
     "name": "stdout",
     "output_type": "stream",
     "text": [
      "=== Accessing Array Elements in VARIANT ===\n",
      "\n"
     ]
    },
    {
     "data": {
      "application/vnd.jupyter.widget-view+json": {
       "model_id": "8e6ce7e4b50641a4b0cb80ad7c2e2387",
       "version_major": 2,
       "version_minor": 0
      },
      "text/plain": [
       "HBox(children=(IntProgress(value=0, bar_style='success'), Label(value='')))"
      ]
     },
     "metadata": {},
     "output_type": "display_data"
    },
    {
     "name": "stdout",
     "output_type": "stream",
     "text": [
      "+------------------------------------+-----------+--------------+---------------+---------------+--------------------------------------------------------+\n",
      "|user_id                             |username   |first_interest|second_interest|total_interests|all_skills                                              |\n",
      "+------------------------------------+-----------+--------------+---------------+---------------+--------------------------------------------------------+\n",
      "|eecea0f0-eab8-419d-8b06-dbb99aa1fe25|melissakim |\"prepare\"     |\"six\"          |5              |[\"Automotive engineer\"]                                 |\n",
      "|bb3f174f-01e9-413b-908b-c46e8bee5f4c|wilsondonna|\"probably\"    |\"face\"         |3              |[]                                                      |\n",
      "|d2c36846-6a45-4b7f-a75b-911a59d37dc0|megan54    |\"home\"        |NULL           |1              |[\"Records manager\",\"Public relations account executive\"]|\n",
      "|0c299963-d8bc-44fd-97db-cd977623b678|cruzrobert |\"and\"         |\"seat\"         |2              |[]                                                      |\n",
      "|b68450c0-5206-4779-8bf6-07b496ca7ded|robert50   |\"attack\"      |\"center\"       |3              |[]                                                      |\n",
      "+------------------------------------+-----------+--------------+---------------+---------------+--------------------------------------------------------+\n",
      "\n",
      "\n",
      "=== Exploding Arrays from VARIANT ===\n",
      "\n"
     ]
    },
    {
     "data": {
      "application/vnd.jupyter.widget-view+json": {
       "model_id": "0d3737bbe16b4d0da2d49d1e9edc108e",
       "version_major": 2,
       "version_minor": 0
      },
      "text/plain": [
       "HBox(children=(IntProgress(value=0, bar_style='success'), Label(value='')))"
      ]
     },
     "metadata": {},
     "output_type": "display_data"
    },
    {
     "name": "stdout",
     "output_type": "stream",
     "text": [
      "+------------------------------------+-----------+----------+\n",
      "|user_id                             |username   |interest  |\n",
      "+------------------------------------+-----------+----------+\n",
      "|eecea0f0-eab8-419d-8b06-dbb99aa1fe25|melissakim |\"prepare\" |\n",
      "|eecea0f0-eab8-419d-8b06-dbb99aa1fe25|melissakim |\"six\"     |\n",
      "|eecea0f0-eab8-419d-8b06-dbb99aa1fe25|melissakim |\"culture\" |\n",
      "|eecea0f0-eab8-419d-8b06-dbb99aa1fe25|melissakim |\"citizen\" |\n",
      "|eecea0f0-eab8-419d-8b06-dbb99aa1fe25|melissakim |\"its\"     |\n",
      "|bb3f174f-01e9-413b-908b-c46e8bee5f4c|wilsondonna|\"probably\"|\n",
      "|bb3f174f-01e9-413b-908b-c46e8bee5f4c|wilsondonna|\"face\"    |\n",
      "|bb3f174f-01e9-413b-908b-c46e8bee5f4c|wilsondonna|\"decade\"  |\n",
      "|d2c36846-6a45-4b7f-a75b-911a59d37dc0|megan54    |\"home\"    |\n",
      "|0c299963-d8bc-44fd-97db-cd977623b678|cruzrobert |\"and\"     |\n",
      "+------------------------------------+-----------+----------+\n",
      "\n"
     ]
    }
   ],
   "source": [
    "# Accessing array elements within VARIANT\n",
    "print(\"=== Accessing Array Elements in VARIANT ===\\n\")\n",
    "\n",
    "spark.sql(\"\"\"\n",
    "    SELECT \n",
    "        user_id,\n",
    "        username,\n",
    "        user_data:profile.interests[0] as first_interest,\n",
    "        user_data:profile.interests[1] as second_interest,\n",
    "        SIZE(CAST(user_data:profile.interests AS ARRAY<STRING>)) as total_interests,\n",
    "        user_data:profile.skills as all_skills\n",
    "    FROM users_variant\n",
    "    WHERE NOT IS_VARIANT_NULL(user_data:profile.interests)\n",
    "    LIMIT 5\n",
    "\"\"\").show(truncate=False)\n",
    "\n",
    "# Using VARIANT_EXPLODE with arrays in VARIANT\n",
    "print(\"\\n=== Exploding Arrays from VARIANT ===\\n\")\n",
    "\n",
    "spark.sql(\"\"\"\n",
    "    SELECT \n",
    "        user_id,\n",
    "        username,\n",
    "        value as interest\n",
    "    FROM users_variant,\n",
    "    LATERAL VARIANT_EXPLODE(user_data:profile.interests)\n",
    "    LIMIT 10\n",
    "\"\"\").show(truncate=False)\n"
   ]
  },
  {
   "cell_type": "markdown",
   "id": "0c78006e",
   "metadata": {},
   "source": [
    "## 5. Type Casting and Conversion with VARIANT\n",
    "\n",
    "VARIANT columns can be cast to specific types when needed.\n"
   ]
  },
  {
   "cell_type": "code",
   "execution_count": 11,
   "id": "330c3e37",
   "metadata": {},
   "outputs": [
    {
     "name": "stdout",
     "output_type": "stream",
     "text": [
      "=== Type Casting VARIANT Fields ===\n",
      "\n"
     ]
    },
    {
     "data": {
      "application/vnd.jupyter.widget-view+json": {
       "model_id": "53c3177b4266487fb153a186d4d647e4",
       "version_major": 2,
       "version_minor": 0
      },
      "text/plain": [
       "HBox(children=(IntProgress(value=0, bar_style='success'), Label(value='')))"
      ]
     },
     "metadata": {},
     "output_type": "display_data"
    },
    {
     "name": "stdout",
     "output_type": "stream",
     "text": [
      "+--------------------+-----------+-------+--------------------+---------------+---------------+\n",
      "|             user_id|age_variant|age_int|   created_timestamp|newsletter_bool|login_count_int|\n",
      "+--------------------+-----------+-------+--------------------+---------------+---------------+\n",
      "|eecea0f0-eab8-419...|         39|     39|2023-03-04 14:33:...|           true|           NULL|\n",
      "|bb3f174f-01e9-413...|         29|     29|2025-04-13 16:42:...|           true|           NULL|\n",
      "|d2c36846-6a45-4b7...|         66|     66|2022-09-20 08:54:...|           true|           NULL|\n",
      "|0c299963-d8bc-44f...|         41|     41|2021-04-26 17:34:...|           true|           NULL|\n",
      "|b68450c0-5206-477...|         49|     49|2023-07-04 18:29:...|          false|           NULL|\n",
      "+--------------------+-----------+-------+--------------------+---------------+---------------+\n",
      "\n",
      "\n",
      "=== Safe Casting with TRY_CAST ===\n",
      "\n"
     ]
    },
    {
     "data": {
      "application/vnd.jupyter.widget-view+json": {
       "model_id": "a388b2e1f25642fa9a339eb62189d939",
       "version_major": 2,
       "version_minor": 0
      },
      "text/plain": [
       "HBox(children=(IntProgress(value=0, bar_style='success'), Label(value='')))"
      ]
     },
     "metadata": {},
     "output_type": "display_data"
    },
    {
     "name": "stdout",
     "output_type": "stream",
     "text": [
      "+--------------------+---+-----------------+-----------+------------+--------------------+\n",
      "|             user_id|age|subscription_date|posts_count|phone_number|     last_login_time|\n",
      "+--------------------+---+-----------------+-----------+------------+--------------------+\n",
      "|eecea0f0-eab8-419...| 39|             NULL|       NULL|        NULL|2025-09-10 14:35:...|\n",
      "|bb3f174f-01e9-413...| 29|             NULL|       NULL|        NULL|2025-09-12 01:51:...|\n",
      "|d2c36846-6a45-4b7...| 66|             NULL|       NULL|        NULL|2025-09-11 05:37:...|\n",
      "|0c299963-d8bc-44f...| 41|             NULL|       NULL|        NULL|2025-08-24 18:51:...|\n",
      "|b68450c0-5206-477...| 49|             NULL|       NULL|        NULL|2025-08-30 13:48:...|\n",
      "+--------------------+---+-----------------+-----------+------------+--------------------+\n",
      "\n"
     ]
    }
   ],
   "source": [
    "# Type casting VARIANT fields\n",
    "print(\"=== Type Casting VARIANT Fields ===\\n\")\n",
    "\n",
    "spark.sql(\"\"\"\n",
    "    SELECT \n",
    "        user_id,\n",
    "        user_data:age as age_variant,\n",
    "        CAST(user_data:age AS INT) as age_int,\n",
    "        CAST(user_data:created_at AS TIMESTAMP) as created_timestamp,\n",
    "        CAST(user_data:preferences.newsletter AS BOOLEAN) as newsletter_bool,\n",
    "        CAST(user_data:metrics.login_count AS INT) as login_count_int\n",
    "    FROM users_variant\n",
    "    LIMIT 5\n",
    "\"\"\").show()\n",
    "\n",
    "# Using TRY_CAST for safe casting (handles nulls gracefully)\n",
    "print(\"\\n=== Safe Casting with TRY_CAST ===\\n\")\n",
    "\n",
    "spark.sql(\"\"\"\n",
    "    SELECT \n",
    "        user_id,\n",
    "        TRY_CAST(user_data:age AS INT) as age,\n",
    "        TRY_CAST(user_data:subscription.start_date AS DATE) as subscription_date,\n",
    "        TRY_CAST(user_data:metrics.posts_created AS INT) as posts_count,\n",
    "        TRY_CAST(user_data:phone AS STRING) as phone_number,\n",
    "        TRY_CAST(user_data:last_login AS TIMESTAMP) as last_login_time\n",
    "    FROM users_variant\n",
    "    LIMIT 5\n",
    "\"\"\").show()\n"
   ]
  },
  {
   "cell_type": "markdown",
   "id": "7b48d029",
   "metadata": {},
   "source": [
    "## 6. VARIANT Functions and Operations\n",
    "\n",
    "Databricks provides several functions specifically for working with VARIANT data.\n"
   ]
  },
  {
   "cell_type": "code",
   "execution_count": 12,
   "id": "097d7806",
   "metadata": {},
   "outputs": [
    {
     "name": "stdout",
     "output_type": "stream",
     "text": [
      "=== Using VARIANT_GET Function ===\n",
      "\n"
     ]
    },
    {
     "data": {
      "application/vnd.jupyter.widget-view+json": {
       "model_id": "c384fc20ba18482ab756c334213a983b",
       "version_major": 2,
       "version_minor": 0
      },
      "text/plain": [
       "HBox(children=(IntProgress(value=0, bar_style='success'), Label(value='')))"
      ]
     },
     "metadata": {},
     "output_type": "display_data"
    },
    {
     "name": "stdout",
     "output_type": "stream",
     "text": [
      "+------------------------------------+--------------+---+-------------------------------------+-------------+\n",
      "|user_id                             |name          |age|interests                            |missing_field|\n",
      "+------------------------------------+--------------+---+-------------------------------------+-------------+\n",
      "|eecea0f0-eab8-419d-8b06-dbb99aa1fe25|Brittney Smith|39 |[prepare, six, culture, citizen, its]|NULL         |\n",
      "|bb3f174f-01e9-413b-908b-c46e8bee5f4c|Julie Rhodes  |29 |[probably, face, decade]             |NULL         |\n",
      "|d2c36846-6a45-4b7f-a75b-911a59d37dc0|Haley Carter  |66 |[home]                               |NULL         |\n",
      "+------------------------------------+--------------+---+-------------------------------------+-------------+\n",
      "\n"
     ]
    }
   ],
   "source": [
    "# VARIANT_GET function to safely extract values\n",
    "print(\"=== Using VARIANT_GET Function ===\\n\")\n",
    "\n",
    "spark.sql(\"\"\"\n",
    "    SELECT \n",
    "        user_id,\n",
    "        VARIANT_GET(user_data, '$.name', 'STRING') as name,\n",
    "        VARIANT_GET(user_data, '$.age', 'INT') as age,\n",
    "        VARIANT_GET(user_data, '$.profile.interests', 'ARRAY<STRING>') as interests,\n",
    "        VARIANT_GET(user_data, '$.non_existent_field', 'STRING') as missing_field\n",
    "    FROM users_variant\n",
    "    LIMIT 3\n",
    "\"\"\").show(truncate=False)\n"
   ]
  },
  {
   "cell_type": "code",
   "execution_count": 13,
   "id": "23a91cd5",
   "metadata": {},
   "outputs": [
    {
     "name": "stdout",
     "output_type": "stream",
     "text": [
      "=== Converting between VARIANT and JSON strings ===\n",
      "\n"
     ]
    },
    {
     "data": {
      "application/vnd.jupyter.widget-view+json": {
       "model_id": "62620dbcf0d244cfb14903057e4e8611",
       "version_major": 2,
       "version_minor": 0
      },
      "text/plain": [
       "HBox(children=(IntProgress(value=0, bar_style='success'), Label(value='')))"
      ]
     },
     "metadata": {},
     "output_type": "display_data"
    },
    {
     "name": "stdout",
     "output_type": "stream",
     "text": [
      "+------------------------------------+---------------------------------------------------------------------------------------------------------------------------------------------------------------------------------------------------------------------------------------------------------------------------------------------------------------------------------------------------------------------------------------------------------------------------------------------------------------------------------------------------------------------------------------------------------------------------------------------------------------------------------------------------------------------------------------------------------------------------------------------------------------------------------------------------------------------------------------------------------------------------------------------------------------------------------------------------------------------------+-----------+---------------------------------------------------------------------------------------------------------------------------------------------------------------------------------------------------------+\n",
      "|user_id                             |json_string                                                                                                                                                                                                                                                                                                                                                                                                                                                                                                                                                                                                                                                                                                                                                                                                                                                                                                                                                                |json_length|address_variant                                                                                                                                                                                          |\n",
      "+------------------------------------+---------------------------------------------------------------------------------------------------------------------------------------------------------------------------------------------------------------------------------------------------------------------------------------------------------------------------------------------------------------------------------------------------------------------------------------------------------------------------------------------------------------------------------------------------------------------------------------------------------------------------------------------------------------------------------------------------------------------------------------------------------------------------------------------------------------------------------------------------------------------------------------------------------------------------------------------------------------------------+-----------+---------------------------------------------------------------------------------------------------------------------------------------------------------------------------------------------------------+\n",
      "|eecea0f0-eab8-419d-8b06-dbb99aa1fe25|{\"address\":{\"city\":\"Whiteport\",\"coordinates\":{\"latitude\":45.52434,\"longitude\":-63.877788},\"country\":\"Palestinian Territory\",\"postal_code\":\"61112\",\"state\":\"South Dakota\",\"street\":\"57118 Charles Meadows Suite 853\"},\"age\":39,\"created_at\":\"2023-03-04 14:33:24.612413\",\"email\":\"ronaldlindsey@example.com\",\"last_login\":\"2025-09-10 14:35:26.009583\",\"name\":\"Brittney Smith\",\"preferences\":{\"newsletter\":true,\"notifications\":{\"email\":false,\"frequency\":\"weekly\",\"push\":false,\"sms\":false},\"privacy\":{\"profile_visible\":false,\"show_email\":true,\"show_location\":false}},\"profile\":{\"bio\":\"Company because natural drive serve student. Late their already health everybody you. Or old despite chance our among just challenge.\",\"company\":\"Wilson, Harrington and Ryan\",\"interests\":[\"prepare\",\"six\",\"culture\",\"citizen\",\"its\"],\"occupation\":\"Hotel manager\",\"skills\":[\"Automotive engineer\"]},\"user_id\":\"eecea0f0-eab8-419d-8b06-dbb99aa1fe25\",\"username\":\"melissakim\"}|939        |{\"city\":\"Whiteport\",\"coordinates\":{\"latitude\":45.52434,\"longitude\":-63.877788},\"country\":\"Palestinian Territory\",\"postal_code\":\"61112\",\"state\":\"South Dakota\",\"street\":\"57118 Charles Meadows Suite 853\"}|\n",
      "|bb3f174f-01e9-413b-908b-c46e8bee5f4c|{\"address\":{\"city\":\"Jamesville\",\"coordinates\":{\"latitude\":30.179289,\"longitude\":33.098233},\"country\":\"Sierra Leone\",\"postal_code\":\"99204\",\"state\":\"Indiana\",\"street\":\"207 Reyes Points\"},\"age\":29,\"created_at\":\"2025-04-13 16:42:24.125993\",\"email\":\"smithgregory@example.org\",\"last_login\":\"2025-09-12 01:51:21.963096\",\"name\":\"Julie Rhodes\",\"preferences\":{\"newsletter\":true,\"notifications\":{\"email\":true,\"frequency\":\"daily\",\"push\":false,\"sms\":false},\"privacy\":{\"profile_visible\":true,\"show_email\":true,\"show_location\":false}},\"profile\":{\"bio\":\"Against deep region station hear still produce. Kid interesting ahead.\\nFigure week wear movie hit say know. Least state only. Although feeling take must.\",\"company\":\"Maxwell-Joseph\",\"interests\":[\"probably\",\"face\",\"decade\"],\"occupation\":\"Therapist, speech and language\",\"skills\":[]},\"user_id\":\"bb3f174f-01e9-413b-908b-c46e8bee5f4c\",\"username\":\"wilsondonna\"}                                            |895        |{\"city\":\"Jamesville\",\"coordinates\":{\"latitude\":30.179289,\"longitude\":33.098233},\"country\":\"Sierra Leone\",\"postal_code\":\"99204\",\"state\":\"Indiana\",\"street\":\"207 Reyes Points\"}                            |\n",
      "+------------------------------------+---------------------------------------------------------------------------------------------------------------------------------------------------------------------------------------------------------------------------------------------------------------------------------------------------------------------------------------------------------------------------------------------------------------------------------------------------------------------------------------------------------------------------------------------------------------------------------------------------------------------------------------------------------------------------------------------------------------------------------------------------------------------------------------------------------------------------------------------------------------------------------------------------------------------------------------------------------------------------+-----------+---------------------------------------------------------------------------------------------------------------------------------------------------------------------------------------------------------+\n",
      "\n",
      "\n",
      "=== Discovering Schema of VARIANT Data ===\n",
      "\n"
     ]
    },
    {
     "data": {
      "application/vnd.jupyter.widget-view+json": {
       "model_id": "70909b611a3f4b6bb0b2fbc54501b90d",
       "version_major": 2,
       "version_minor": 0
      },
      "text/plain": [
       "HBox(children=(IntProgress(value=0, bar_style='success'), Label(value='')))"
      ]
     },
     "metadata": {},
     "output_type": "display_data"
    },
    {
     "name": "stdout",
     "output_type": "stream",
     "text": [
      "+--------------------------------------------------------------------------------------------------------------------------------------------------------------------------------------------------------------------------------------------------------------------------------------------------------------------------------------------------------------------------------------------------------------------------------------------------------------------------------------------------------------------------------------------------------------------------------------------------------------------------------------------------+-----+\n",
      "|inferred_schema                                                                                                                                                                                                                                                                                                                                                                                                                                                                                                                                                                                                                                   |count|\n",
      "+--------------------------------------------------------------------------------------------------------------------------------------------------------------------------------------------------------------------------------------------------------------------------------------------------------------------------------------------------------------------------------------------------------------------------------------------------------------------------------------------------------------------------------------------------------------------------------------------------------------------------------------------------+-----+\n",
      "|OBJECT<address: OBJECT<city: STRING, coordinates: OBJECT<latitude: DECIMAL(9,7), longitude: DECIMAL(8,6)>, country: STRING, postal_code: STRING, state: STRING, street: STRING>, age: BIGINT, created_at: STRING, email: STRING, last_login: STRING, name: STRING, preferences: OBJECT<newsletter: BOOLEAN, notifications: OBJECT<email: BOOLEAN, frequency: STRING, push: BOOLEAN, sms: BOOLEAN>, privacy: OBJECT<profile_visible: BOOLEAN, show_email: BOOLEAN, show_location: BOOLEAN>>, profile: OBJECT<bio: STRING, company: STRING, interests: ARRAY<STRING>, occupation: STRING, skills: ARRAY<STRING>>, user_id: STRING, username: STRING>|31   |\n",
      "|OBJECT<address: OBJECT<city: STRING, coordinates: OBJECT<latitude: DECIMAL(8,6), longitude: DECIMAL(8,6)>, country: STRING, postal_code: STRING, state: STRING, street: STRING>, age: BIGINT, created_at: STRING, email: STRING, last_login: STRING, name: STRING, preferences: OBJECT<newsletter: BOOLEAN, notifications: OBJECT<email: BOOLEAN, frequency: STRING, push: BOOLEAN, sms: BOOLEAN>, privacy: OBJECT<profile_visible: BOOLEAN, show_email: BOOLEAN, show_location: BOOLEAN>>, profile: OBJECT<bio: STRING, company: STRING, interests: ARRAY<STRING>, occupation: STRING, skills: ARRAY<STRING>>, user_id: STRING, username: STRING>|26   |\n",
      "|OBJECT<address: OBJECT<city: STRING, coordinates: OBJECT<latitude: DECIMAL(8,6), longitude: DECIMAL(8,6)>, country: STRING, postal_code: STRING, state: STRING, street: STRING>, age: BIGINT, created_at: STRING, email: STRING, last_login: STRING, name: STRING, preferences: OBJECT<newsletter: BOOLEAN, notifications: OBJECT<email: BOOLEAN, frequency: STRING, push: BOOLEAN, sms: BOOLEAN>, privacy: OBJECT<profile_visible: BOOLEAN, show_email: BOOLEAN, show_location: BOOLEAN>>, profile: OBJECT<bio: STRING, company: STRING, interests: ARRAY<STRING>, occupation: STRING, skills: ARRAY<VOID>>, user_id: STRING, username: STRING>  |19   |\n",
      "|OBJECT<address: OBJECT<city: STRING, coordinates: OBJECT<latitude: DECIMAL(9,7), longitude: DECIMAL(9,6)>, country: STRING, postal_code: STRING, state: STRING, street: STRING>, age: BIGINT, created_at: STRING, email: STRING, last_login: STRING, name: STRING, preferences: OBJECT<newsletter: BOOLEAN, notifications: OBJECT<email: BOOLEAN, frequency: STRING, push: BOOLEAN, sms: BOOLEAN>, privacy: OBJECT<profile_visible: BOOLEAN, show_email: BOOLEAN, show_location: BOOLEAN>>, profile: OBJECT<bio: STRING, company: STRING, interests: ARRAY<STRING>, occupation: STRING, skills: ARRAY<STRING>>, user_id: STRING, username: STRING>|19   |\n",
      "|OBJECT<address: OBJECT<city: STRING, coordinates: OBJECT<latitude: DECIMAL(8,6), longitude: DECIMAL(9,6)>, country: STRING, postal_code: STRING, state: STRING, street: STRING>, age: BIGINT, created_at: STRING, email: STRING, last_login: STRING, name: STRING, preferences: OBJECT<newsletter: BOOLEAN, notifications: OBJECT<email: BOOLEAN, frequency: STRING, push: BOOLEAN, sms: BOOLEAN>, privacy: OBJECT<profile_visible: BOOLEAN, show_email: BOOLEAN, show_location: BOOLEAN>>, profile: OBJECT<bio: STRING, company: STRING, interests: ARRAY<STRING>, occupation: STRING, skills: ARRAY<STRING>>, user_id: STRING, username: STRING>|18   |\n",
      "+--------------------------------------------------------------------------------------------------------------------------------------------------------------------------------------------------------------------------------------------------------------------------------------------------------------------------------------------------------------------------------------------------------------------------------------------------------------------------------------------------------------------------------------------------------------------------------------------------------------------------------------------------+-----+\n",
      "\n"
     ]
    }
   ],
   "source": [
    "# TO_JSON and PARSE_JSON functions\n",
    "print(\"=== Converting between VARIANT and JSON strings ===\\n\")\n",
    "\n",
    "spark.sql(\"\"\"\n",
    "    SELECT \n",
    "        user_id,\n",
    "        TO_JSON(user_data) as json_string,\n",
    "        LENGTH(TO_JSON(user_data)) as json_length,\n",
    "        PARSE_JSON(TO_JSON(user_data:address)) as address_variant\n",
    "    FROM users_variant\n",
    "    LIMIT 2\n",
    "\"\"\").show(truncate=False)\n",
    "\n",
    "# SCHEMA_OF_VARIANT to discover schema\n",
    "print(\"\\n=== Discovering Schema of VARIANT Data ===\\n\")\n",
    "\n",
    "spark.sql(\"\"\"\n",
    "    SELECT \n",
    "        SCHEMA_OF_VARIANT(user_data) as inferred_schema,\n",
    "        count(*) as count\n",
    "    FROM users_variant\n",
    "    GROUP BY SCHEMA_OF_VARIANT(user_data)\n",
    "    ORDER BY count(*) DESC\n",
    "    LIMIT 5\n",
    "\"\"\").show(truncate=False)\n"
   ]
  },
  {
   "cell_type": "code",
   "execution_count": 14,
   "id": "e7ff09c8",
   "metadata": {},
   "outputs": [
    {
     "name": "stdout",
     "output_type": "stream",
     "text": [
      "\n",
      "=== SCHEMA_OF_VARIANT_AGG Examples ===\n",
      "\n",
      "1. Combined schema of all VARIANT values:\n"
     ]
    },
    {
     "data": {
      "application/vnd.jupyter.widget-view+json": {
       "model_id": "1030d8dae4b342f6b1a01d1f603177bc",
       "version_major": 2,
       "version_minor": 0
      },
      "text/plain": [
       "HBox(children=(IntProgress(value=0, bar_style='success'), Label(value='')))"
      ]
     },
     "metadata": {},
     "output_type": "display_data"
    },
    {
     "name": "stdout",
     "output_type": "stream",
     "text": [
      "+------------------------------------------------------------------------------------------------------------------------------------------------------------------------------------------------------------------------------------------------------------------------------------------------------------------------------------------------------------------------------------------------------------------------------------------------------------------------------------------------------------------------------------------------------------------------------------------------------------------------------------------------------------------------------------------------------------------------------------------------------------------------------------------------------------------------------------------------------------------------------------------------------------------------------------------------------------------------------+\n",
      "|as                                                                                                                                                                                                                                                                                                                                                                                                                                                                                                                                                                                                                                                                                                                                                                                                                                                                                                                                                                            |\n",
      "+------------------------------------------------------------------------------------------------------------------------------------------------------------------------------------------------------------------------------------------------------------------------------------------------------------------------------------------------------------------------------------------------------------------------------------------------------------------------------------------------------------------------------------------------------------------------------------------------------------------------------------------------------------------------------------------------------------------------------------------------------------------------------------------------------------------------------------------------------------------------------------------------------------------------------------------------------------------------------+\n",
      "|OBJECT<address: OBJECT<city: STRING, coordinates: OBJECT<latitude: DECIMAL(9,7), longitude: DECIMAL(9,6)>, country: STRING, postal_code: STRING, state: STRING, street: STRING>, age: BIGINT, created_at: STRING, email: STRING, last_login: STRING, metrics: OBJECT<comments_made: BIGINT, last_activity: STRING, login_count: BIGINT, posts_created: BIGINT>, name: STRING, phone: STRING, preferences: OBJECT<newsletter: BOOLEAN, notifications: OBJECT<email: BOOLEAN, frequency: STRING, push: BOOLEAN, sms: BOOLEAN>, privacy: OBJECT<profile_visible: BOOLEAN, show_email: BOOLEAN, show_location: BOOLEAN>>, profile: OBJECT<bio: STRING, company: STRING, interests: ARRAY<STRING>, occupation: STRING, skills: ARRAY<STRING>>, referral_code: STRING, referred_by: STRING, social_media: OBJECT<github: STRING, linkedin: STRING, twitter: STRING>, subscription: OBJECT<auto_renew: BOOLEAN, start_date: STRING, tier: STRING>, user_id: STRING, username: STRING>|\n",
      "+------------------------------------------------------------------------------------------------------------------------------------------------------------------------------------------------------------------------------------------------------------------------------------------------------------------------------------------------------------------------------------------------------------------------------------------------------------------------------------------------------------------------------------------------------------------------------------------------------------------------------------------------------------------------------------------------------------------------------------------------------------------------------------------------------------------------------------------------------------------------------------------------------------------------------------------------------------------------------+\n",
      "\n",
      "\n",
      "2. Schema grouped by subscription tier:\n"
     ]
    },
    {
     "data": {
      "application/vnd.jupyter.widget-view+json": {
       "model_id": "3edfd54cd0ec46dbbe5f27d42f5c5b2b",
       "version_major": 2,
       "version_minor": 0
      },
      "text/plain": [
       "HBox(children=(IntProgress(value=0, bar_style='success'), Label(value='')))"
      ]
     },
     "metadata": {},
     "output_type": "display_data"
    },
    {
     "name": "stdout",
     "output_type": "stream",
     "text": [
      "+-----------------+------------------------------------------------------------------------------------------------------------------------------------------------------------------------------------------------------------------------------------------------------------------------------------------------------------------------------------------------------------------------------------------------------------------------------------------------------------------------------------------------------------------------------------------------------------------------------------------------------------------------------------------------------------------------------------------------------------------------------------------------------------------------------------------------------------------------------------------------------------------------------------------------------------------------------------------------------------------------------+------------+\n",
      "|subscription_tier|tier_schema                                                                                                                                                                                                                                                                                                                                                                                                                                                                                                                                                                                                                                                                                                                                                                                                                                                                                                                                                                   |record_count|\n",
      "+-----------------+------------------------------------------------------------------------------------------------------------------------------------------------------------------------------------------------------------------------------------------------------------------------------------------------------------------------------------------------------------------------------------------------------------------------------------------------------------------------------------------------------------------------------------------------------------------------------------------------------------------------------------------------------------------------------------------------------------------------------------------------------------------------------------------------------------------------------------------------------------------------------------------------------------------------------------------------------------------------------+------------+\n",
      "|NULL             |OBJECT<address: OBJECT<city: STRING, coordinates: OBJECT<latitude: DECIMAL(9,7), longitude: DECIMAL(9,6)>, country: STRING, postal_code: STRING, state: STRING, street: STRING>, age: BIGINT, created_at: STRING, email: STRING, last_login: STRING, name: STRING, phone: STRING, preferences: OBJECT<newsletter: BOOLEAN, notifications: OBJECT<email: BOOLEAN, frequency: STRING, push: BOOLEAN, sms: BOOLEAN>, privacy: OBJECT<profile_visible: BOOLEAN, show_email: BOOLEAN, show_location: BOOLEAN>>, profile: OBJECT<bio: STRING, company: STRING, interests: ARRAY<STRING>, occupation: STRING, skills: ARRAY<STRING>>, referral_code: STRING, referred_by: STRING, social_media: OBJECT<github: STRING, linkedin: STRING, twitter: STRING>, user_id: STRING, username: STRING>                                                                                                                                                                                        |601         |\n",
      "|enterprise       |OBJECT<address: OBJECT<city: STRING, coordinates: OBJECT<latitude: DECIMAL(9,7), longitude: DECIMAL(9,6)>, country: STRING, postal_code: STRING, state: STRING, street: STRING>, age: BIGINT, created_at: STRING, email: STRING, last_login: STRING, metrics: OBJECT<comments_made: BIGINT, last_activity: STRING, login_count: BIGINT, posts_created: BIGINT>, name: STRING, phone: STRING, preferences: OBJECT<newsletter: BOOLEAN, notifications: OBJECT<email: BOOLEAN, frequency: STRING, push: BOOLEAN, sms: BOOLEAN>, privacy: OBJECT<profile_visible: BOOLEAN, show_email: BOOLEAN, show_location: BOOLEAN>>, profile: OBJECT<bio: STRING, company: STRING, interests: ARRAY<STRING>, occupation: STRING, skills: ARRAY<STRING>>, referral_code: STRING, referred_by: STRING, social_media: OBJECT<github: STRING, linkedin: STRING, twitter: STRING>, subscription: OBJECT<auto_renew: BOOLEAN, start_date: STRING, tier: STRING>, user_id: STRING, username: STRING>|114         |\n",
      "|premium          |OBJECT<address: OBJECT<city: STRING, coordinates: OBJECT<latitude: DECIMAL(9,7), longitude: DECIMAL(9,6)>, country: STRING, postal_code: STRING, state: STRING, street: STRING>, age: BIGINT, created_at: STRING, email: STRING, last_login: STRING, metrics: OBJECT<comments_made: BIGINT, last_activity: STRING, login_count: BIGINT, posts_created: BIGINT>, name: STRING, phone: STRING, preferences: OBJECT<newsletter: BOOLEAN, notifications: OBJECT<email: BOOLEAN, frequency: STRING, push: BOOLEAN, sms: BOOLEAN>, privacy: OBJECT<profile_visible: BOOLEAN, show_email: BOOLEAN, show_location: BOOLEAN>>, profile: OBJECT<bio: STRING, company: STRING, interests: ARRAY<STRING>, occupation: STRING, skills: ARRAY<STRING>>, referral_code: STRING, referred_by: STRING, social_media: OBJECT<github: STRING, linkedin: STRING, twitter: STRING>, subscription: OBJECT<auto_renew: BOOLEAN, start_date: STRING, tier: STRING>, user_id: STRING, username: STRING>|104         |\n",
      "|basic            |OBJECT<address: OBJECT<city: STRING, coordinates: OBJECT<latitude: DECIMAL(9,7), longitude: DECIMAL(9,6)>, country: STRING, postal_code: STRING, state: STRING, street: STRING>, age: BIGINT, created_at: STRING, email: STRING, last_login: STRING, metrics: OBJECT<comments_made: BIGINT, last_activity: STRING, login_count: BIGINT, posts_created: BIGINT>, name: STRING, phone: STRING, preferences: OBJECT<newsletter: BOOLEAN, notifications: OBJECT<email: BOOLEAN, frequency: STRING, push: BOOLEAN, sms: BOOLEAN>, privacy: OBJECT<profile_visible: BOOLEAN, show_email: BOOLEAN, show_location: BOOLEAN>>, profile: OBJECT<bio: STRING, company: STRING, interests: ARRAY<STRING>, occupation: STRING, skills: ARRAY<STRING>>, referral_code: STRING, referred_by: STRING, social_media: OBJECT<github: STRING, linkedin: STRING, twitter: STRING>, subscription: OBJECT<auto_renew: BOOLEAN, start_date: STRING, tier: STRING>, user_id: STRING, username: STRING>|94          |\n",
      "|free             |OBJECT<address: OBJECT<city: STRING, coordinates: OBJECT<latitude: DECIMAL(9,7), longitude: DECIMAL(9,6)>, country: STRING, postal_code: STRING, state: STRING, street: STRING>, age: BIGINT, created_at: STRING, email: STRING, last_login: STRING, metrics: OBJECT<comments_made: BIGINT, last_activity: STRING, login_count: BIGINT, posts_created: BIGINT>, name: STRING, phone: STRING, preferences: OBJECT<newsletter: BOOLEAN, notifications: OBJECT<email: BOOLEAN, frequency: STRING, push: BOOLEAN, sms: BOOLEAN>, privacy: OBJECT<profile_visible: BOOLEAN, show_email: BOOLEAN, show_location: BOOLEAN>>, profile: OBJECT<bio: STRING, company: STRING, interests: ARRAY<STRING>, occupation: STRING, skills: ARRAY<STRING>>, referral_code: STRING, referred_by: STRING, social_media: OBJECT<github: STRING, linkedin: STRING, twitter: STRING>, subscription: OBJECT<auto_renew: BOOLEAN, start_date: STRING, tier: STRING>, user_id: STRING, username: STRING>|87          |\n",
      "+-----------------+------------------------------------------------------------------------------------------------------------------------------------------------------------------------------------------------------------------------------------------------------------------------------------------------------------------------------------------------------------------------------------------------------------------------------------------------------------------------------------------------------------------------------------------------------------------------------------------------------------------------------------------------------------------------------------------------------------------------------------------------------------------------------------------------------------------------------------------------------------------------------------------------------------------------------------------------------------------------------+------------+\n",
      "\n"
     ]
    }
   ],
   "source": [
    "# SCHEMA_OF_VARIANT_AGG \n",
    "print(\"\\n=== SCHEMA_OF_VARIANT_AGG Examples ===\\n\")\n",
    "\n",
    "# Example 1: Get combined schema of all VARIANT values\n",
    "print(\"1. Combined schema of all VARIANT values:\")\n",
    "spark.sql(\"\"\"\n",
    "    SELECT SCHEMA_OF_VARIANT_AGG(user_data) as  \n",
    "    FROM users_variant\n",
    "\"\"\").show(truncate=False)\n",
    "\n",
    "# Example 2: Get schema grouped by subscription tier\n",
    "print(\"\\n2. Schema grouped by subscription tier:\")\n",
    "spark.sql(\"\"\"\n",
    "    SELECT \n",
    "        CAST(user_data:subscription.tier AS STRING) as subscription_tier,\n",
    "        SCHEMA_OF_VARIANT_AGG(user_data) as tier_schema,\n",
    "        COUNT(*) as record_count\n",
    "    FROM users_variant \n",
    "    WHERE NOT IS_VARIANT_NULL(user_data:subscription.tier)\n",
    "    GROUP BY CAST(user_data:subscription.tier AS STRING)\n",
    "    ORDER BY record_count DESC\n",
    "\"\"\").show(truncate=False)"
   ]
  },
  {
   "cell_type": "markdown",
   "id": "508a4019",
   "metadata": {},
   "source": [
    "## 7. Filtering and Conditional Logic with VARIANT\n",
    "\n",
    "Let's explore how to filter and apply conditions on VARIANT data.\n"
   ]
  },
  {
   "cell_type": "code",
   "execution_count": 15,
   "id": "440d7502",
   "metadata": {},
   "outputs": [
    {
     "name": "stdout",
     "output_type": "stream",
     "text": [
      "=== Filtering on VARIANT Fields ===\n",
      "\n"
     ]
    },
    {
     "data": {
      "application/vnd.jupyter.widget-view+json": {
       "model_id": "797bc956460144d08c325d33d406eb2f",
       "version_major": 2,
       "version_minor": 0
      },
      "text/plain": [
       "HBox(children=(IntProgress(value=0, bar_style='success'), Label(value='')))"
      ]
     },
     "metadata": {},
     "output_type": "display_data"
    },
    {
     "name": "stdout",
     "output_type": "stream",
     "text": [
      "+--------------------+----------------+---+--------------------+\n",
      "|             user_id|            name|age|             country|\n",
      "+--------------------+----------------+---+--------------------+\n",
      "|eecea0f0-eab8-419...|\"Brittney Smith\"| 39|\"Palestinian Terr...|\n",
      "|d2c36846-6a45-4b7...|  \"Haley Carter\"| 66|            \"Angola\"|\n",
      "|0c299963-d8bc-44f...|  \"Amanda Allen\"| 41|             \"Sudan\"|\n",
      "|884a1eb1-3f66-4f4...|  \"Anna Sherman\"| 56|\"Bosnia and Herze...|\n",
      "|c98f5c11-132a-4db...| \"Michael Henry\"| 31|              \"Guam\"|\n",
      "+--------------------+----------------+---+--------------------+\n",
      "\n",
      "\n",
      "=== Complex Filtering with Nested VARIANT Fields ===\n",
      "\n"
     ]
    },
    {
     "data": {
      "application/vnd.jupyter.widget-view+json": {
       "model_id": "8137d3b7e9604313a6a282e0760cc57d",
       "version_major": 2,
       "version_minor": 0
      },
      "text/plain": [
       "HBox(children=(IntProgress(value=0, bar_style='success'), Label(value='')))"
      ]
     },
     "metadata": {},
     "output_type": "display_data"
    },
    {
     "name": "stdout",
     "output_type": "stream",
     "text": [
      "+--------------------+----------------+---+-----------------+-----------+\n",
      "|             user_id|            name|age|subscription_tier|login_count|\n",
      "+--------------------+----------------+---+-----------------+-----------+\n",
      "|b8dcdbf9-b680-428...| \"George Miller\"| 26|          premium|        998|\n",
      "|1f607cf5-323a-495...|\"Melissa Gordon\"| 38|            basic|        998|\n",
      "|92a45b2e-3946-472...| \"Jeffrey Jones\"| 60|            basic|        996|\n",
      "|a5cd745f-0ace-449...|   \"Donna Lewis\"| 49|             free|        995|\n",
      "|b2956187-db14-4ae...|\"James Campbell\"| 29|             free|        980|\n",
      "+--------------------+----------------+---+-----------------+-----------+\n",
      "\n"
     ]
    }
   ],
   "source": [
    "# Filtering based on VARIANT field values\n",
    "print(\"=== Filtering on VARIANT Fields ===\\n\")\n",
    "\n",
    "spark.sql(\"\"\"\n",
    "    SELECT \n",
    "        user_id,\n",
    "        user_data:name as name,\n",
    "        user_data:age as age,\n",
    "        user_data:address.country as country\n",
    "    FROM users_variant\n",
    "    WHERE CAST(user_data:age AS INT) > 30\n",
    "        AND CAST(user_data:preferences.newsletter AS BOOLEAN) = true\n",
    "        AND NOT IS_VARIANT_NULL(user_data:address.country)\n",
    "    LIMIT 5\n",
    "\"\"\").show()\n",
    "\n",
    "# Complex filtering with nested conditions\n",
    "print(\"\\n=== Complex Filtering with Nested VARIANT Fields ===\\n\")\n",
    "\n",
    "spark.sql(\"\"\"\n",
    "    SELECT \n",
    "        user_id,\n",
    "        user_data:name as name,\n",
    "        user_data:age as age,\n",
    "        CAST(user_data:subscription.tier AS STRING) as subscription_tier,\n",
    "        user_data:metrics.login_count as login_count\n",
    "    FROM users_variant\n",
    "    WHERE NOT IS_VARIANT_NULL(user_data:subscription.tier)\n",
    "        AND NOT IS_VARIANT_NULL(user_data:metrics.login_count)\n",
    "        AND CAST(user_data:age AS INT) BETWEEN 25 AND 60\n",
    "        AND CAST(user_data:metrics.login_count AS INT) > 10\n",
    "    ORDER BY CAST(user_data:metrics.login_count AS INT) DESC\n",
    "    LIMIT 5\n",
    "\"\"\").show()\n"
   ]
  },
  {
   "cell_type": "code",
   "execution_count": 16,
   "id": "992303e8",
   "metadata": {},
   "outputs": [
    {
     "name": "stdout",
     "output_type": "stream",
     "text": [
      "=== CASE Statements with VARIANT ===\n",
      "\n"
     ]
    },
    {
     "data": {
      "application/vnd.jupyter.widget-view+json": {
       "model_id": "4815b766bad2454daaaece2889a18b13",
       "version_major": 2,
       "version_minor": 0
      },
      "text/plain": [
       "HBox(children=(IntProgress(value=0, bar_style='success'), Label(value='')))"
      ]
     },
     "metadata": {},
     "output_type": "display_data"
    },
    {
     "name": "stdout",
     "output_type": "stream",
     "text": [
      "+------------------------------------+-----------------+---+-----------------+---------+---------------+\n",
      "|user_id                             |name             |age|subscription_tier|age_group|user_category  |\n",
      "+------------------------------------+-----------------+---+-----------------+---------+---------------+\n",
      "|eecea0f0-eab8-419d-8b06-dbb99aa1fe25|\"Brittney Smith\" |39 |NULL             |Adult    |No Subscription|\n",
      "|bb3f174f-01e9-413b-908b-c46e8bee5f4c|\"Julie Rhodes\"   |29 |NULL             |Adult    |No Subscription|\n",
      "|d2c36846-6a45-4b7f-a75b-911a59d37dc0|\"Haley Carter\"   |66 |NULL             |Senior   |No Subscription|\n",
      "|0c299963-d8bc-44fd-97db-cd977623b678|\"Amanda Allen\"   |41 |NULL             |Adult    |No Subscription|\n",
      "|b68450c0-5206-4779-8bf6-07b496ca7ded|\"Melissa Bush\"   |49 |NULL             |Adult    |No Subscription|\n",
      "|884a1eb1-3f66-4f4f-979f-8a033ae0b2a3|\"Anna Sherman\"   |56 |NULL             |Senior   |No Subscription|\n",
      "|32832818-e123-480d-97ed-da915026ea60|\"Kim Smith\"      |41 |NULL             |Adult    |No Subscription|\n",
      "|12d559b1-2215-4276-931f-30e986fa9411|\"Michelle Palmer\"|26 |NULL             |Adult    |No Subscription|\n",
      "|f08ba25e-19e0-424d-85a6-9111ebe6d858|\"Jason Montes\"   |65 |NULL             |Senior   |No Subscription|\n",
      "|395f69d1-c9f1-48fb-8d6f-5cfc169498fe|\"John Mills\"     |23 |NULL             |Young    |No Subscription|\n",
      "+------------------------------------+-----------------+---+-----------------+---------+---------------+\n",
      "\n"
     ]
    }
   ],
   "source": [
    "# Using CASE statements with VARIANT\n",
    "print(\"=== CASE Statements with VARIANT ===\\n\")\n",
    "\n",
    "spark.sql(\"\"\"\n",
    "    SELECT \n",
    "        user_id,\n",
    "        user_data:name as name,\n",
    "        user_data:age as age,\n",
    "        CAST(user_data:subscription.tier AS STRING) as subscription_tier,\n",
    "        CASE \n",
    "            WHEN CAST(user_data:age AS INT) < 25 THEN 'Young'\n",
    "            WHEN CAST(user_data:age AS INT) BETWEEN 25 AND 50 THEN 'Adult'\n",
    "            WHEN CAST(user_data:age AS INT) > 50 THEN 'Senior'\n",
    "            ELSE 'Unknown'\n",
    "        END as age_group,\n",
    "        CASE \n",
    "            WHEN CAST(user_data:subscription.tier AS STRING) = 'free' THEN 'Free User'\n",
    "            WHEN CAST(user_data:subscription.tier AS STRING) = 'basic' THEN 'Basic User'\n",
    "            WHEN CAST(user_data:subscription.tier AS STRING) = 'premium' THEN 'Premium User'\n",
    "            WHEN CAST(user_data:subscription.tier AS STRING) = 'enterprise' THEN 'Enterprise User'\n",
    "            ELSE 'No Subscription'\n",
    "        END as user_category\n",
    "    FROM users_variant\n",
    "    LIMIT 10\n",
    "\"\"\").show(truncate=False)\n"
   ]
  },
  {
   "cell_type": "markdown",
   "id": "bf45a4fa",
   "metadata": {},
   "source": [
    "## 8. Aggregations with VARIANT Data\n",
    "\n",
    "Performing aggregations on data stored in VARIANT columns.\n"
   ]
  },
  {
   "cell_type": "code",
   "execution_count": 17,
   "id": "143ffd8e",
   "metadata": {},
   "outputs": [
    {
     "name": "stdout",
     "output_type": "stream",
     "text": [
      "=== Aggregations on VARIANT Data ===\n",
      "\n"
     ]
    },
    {
     "data": {
      "application/vnd.jupyter.widget-view+json": {
       "model_id": "cb55dce7a0d6442f9dc105bd67cd2b54",
       "version_major": 2,
       "version_minor": 0
      },
      "text/plain": [
       "HBox(children=(IntProgress(value=0, bar_style='success'), Label(value='')))"
      ]
     },
     "metadata": {},
     "output_type": "display_data"
    },
    {
     "name": "stdout",
     "output_type": "stream",
     "text": [
      "+----------+-------+-------+-------+\n",
      "|user_count|avg_age|min_age|max_age|\n",
      "+----------+-------+-------+-------+\n",
      "|      1000| 48.988|     18|     80|\n",
      "+----------+-------+-------+-------+\n",
      "\n",
      "\n",
      "=== Subscription Tier Aggregations ===\n",
      "\n"
     ]
    },
    {
     "data": {
      "application/vnd.jupyter.widget-view+json": {
       "model_id": "8a90b53e261b45df84f90c8590a2bd09",
       "version_major": 2,
       "version_minor": 0
      },
      "text/plain": [
       "HBox(children=(IntProgress(value=0, bar_style='success'), Label(value='')))"
      ]
     },
     "metadata": {},
     "output_type": "display_data"
    },
    {
     "name": "stdout",
     "output_type": "stream",
     "text": [
      "+-----------------+----------+------------------+------------------+------------------+\n",
      "|subscription_tier|user_count|           avg_age|   avg_login_count|         avg_posts|\n",
      "+-----------------+----------+------------------+------------------+------------------+\n",
      "|             NULL|       601| 49.06322795341098|              NULL|              NULL|\n",
      "|       enterprise|       114| 48.59649122807018| 537.5964912280701|260.62280701754383|\n",
      "|          premium|       104| 51.49038461538461| 523.4230769230769|269.38461538461536|\n",
      "|            basic|        94|46.861702127659576|             469.5| 247.0212765957447|\n",
      "|             free|        87| 48.28735632183908|503.01149425287355|236.11494252873564|\n",
      "+-----------------+----------+------------------+------------------+------------------+\n",
      "\n"
     ]
    }
   ],
   "source": [
    "# Aggregating VARIANT data\n",
    "print(\"=== Aggregations on VARIANT Data ===\\n\")\n",
    "\n",
    "spark.sql(\"\"\"\n",
    "    SELECT \n",
    "        COUNT(*) as user_count,\n",
    "        AVG(CAST(user_data:age AS INT)) as avg_age,\n",
    "        MIN(CAST(user_data:age AS INT)) as min_age,\n",
    "        MAX(CAST(user_data:age AS INT)) as max_age\n",
    "    FROM users_variant\n",
    "\"\"\").show()\n",
    "\n",
    "# Aggregating by subscription tier\n",
    "print(\"\\n=== Subscription Tier Aggregations ===\\n\")\n",
    "\n",
    "spark.sql(\"\"\"\n",
    "    SELECT \n",
    "        CAST(user_data:subscription.tier AS STRING) as subscription_tier,\n",
    "        COUNT(*) as user_count,\n",
    "        AVG(CAST(user_data:age AS INT)) as avg_age,\n",
    "        AVG(CAST(user_data:metrics.login_count AS INT)) as avg_login_count,\n",
    "        AVG(CAST(user_data:metrics.posts_created AS INT)) as avg_posts\n",
    "    FROM users_variant\n",
    "    WHERE NOT IS_VARIANT_NULL(user_data:subscription.tier)\n",
    "    GROUP BY CAST(user_data:subscription.tier AS STRING)\n",
    "    ORDER BY user_count DESC\n",
    "\"\"\").show()\n"
   ]
  },
  {
   "cell_type": "code",
   "execution_count": 18,
   "id": "7b16bb97",
   "metadata": {},
   "outputs": [
    {
     "name": "stdout",
     "output_type": "stream",
     "text": [
      "=== Aggregating Array Data in VARIANT ===\n",
      "\n"
     ]
    },
    {
     "data": {
      "application/vnd.jupyter.widget-view+json": {
       "model_id": "5ce31fb9a509482cb0c14cacb210d00b",
       "version_major": 2,
       "version_minor": 0
      },
      "text/plain": [
       "HBox(children=(IntProgress(value=0, bar_style='success'), Label(value='')))"
      ]
     },
     "metadata": {},
     "output_type": "display_data"
    },
    {
     "name": "stdout",
     "output_type": "stream",
     "text": [
      "+----------------------+-------------+-------------+\n",
      "|avg_interests_per_user|max_interests|min_interests|\n",
      "+----------------------+-------------+-------------+\n",
      "|                 3.041|            5|            1|\n",
      "+----------------------+-------------+-------------+\n",
      "\n",
      "\n",
      "=== Skills Aggregation ===\n",
      "\n"
     ]
    },
    {
     "data": {
      "application/vnd.jupyter.widget-view+json": {
       "model_id": "5a66b25c990e4eb880c77e142cd4b9a2",
       "version_major": 2,
       "version_minor": 0
      },
      "text/plain": [
       "HBox(children=(IntProgress(value=0, bar_style='success'), Label(value='')))"
      ]
     },
     "metadata": {},
     "output_type": "display_data"
    },
    {
     "name": "stdout",
     "output_type": "stream",
     "text": [
      "+-----------------+-------------------+----------+----------+\n",
      "|users_with_skills|avg_skills_per_user|max_skills|min_skills|\n",
      "+-----------------+-------------------+----------+----------+\n",
      "|             1000|              1.435|         3|         0|\n",
      "+-----------------+-------------------+----------+----------+\n",
      "\n"
     ]
    }
   ],
   "source": [
    "# Complex aggregations with array data\n",
    "print(\"=== Aggregating Array Data in VARIANT ===\\n\")\n",
    "\n",
    "spark.sql(\"\"\"\n",
    "    SELECT \n",
    "        AVG(SIZE(CAST(user_data:profile.interests AS ARRAY<STRING>))) as avg_interests_per_user,\n",
    "        MAX(SIZE(CAST(user_data:profile.interests AS ARRAY<STRING>))) as max_interests,\n",
    "        MIN(SIZE(CAST(user_data:profile.interests AS ARRAY<STRING>))) as min_interests\n",
    "    FROM users_variant\n",
    "    WHERE NOT IS_VARIANT_NULL(user_data:profile.interests)\n",
    "\"\"\").show()\n",
    "\n",
    "# Aggregating skills data\n",
    "print(\"\\n=== Skills Aggregation ===\\n\")\n",
    "\n",
    "spark.sql(\"\"\"\n",
    "    WITH user_skills AS (\n",
    "        SELECT \n",
    "            user_id,\n",
    "            user_data:name as name,\n",
    "            SIZE(CAST(user_data:profile.skills AS ARRAY<STRING>)) as skill_count,\n",
    "            user_data:profile.skills as skills\n",
    "        FROM users_variant\n",
    "        WHERE NOT IS_VARIANT_NULL(user_data:profile.skills)\n",
    "    )\n",
    "    SELECT \n",
    "        COUNT(*) as users_with_skills,\n",
    "        AVG(skill_count) as avg_skills_per_user,\n",
    "        MAX(skill_count) as max_skills,\n",
    "        MIN(skill_count) as min_skills\n",
    "    FROM user_skills\n",
    "\"\"\").show()\n"
   ]
  },
  {
   "cell_type": "markdown",
   "id": "c6682116",
   "metadata": {},
   "source": [
    "## 9. Window Functions with VARIANT\n",
    "\n",
    "Using window functions to analyze VARIANT data.\n"
   ]
  },
  {
   "cell_type": "code",
   "execution_count": 19,
   "id": "b1d6bcc5",
   "metadata": {},
   "outputs": [
    {
     "name": "stdout",
     "output_type": "stream",
     "text": [
      "=== Window Functions on VARIANT Data ===\n",
      "\n"
     ]
    },
    {
     "data": {
      "application/vnd.jupyter.widget-view+json": {
       "model_id": "82a556dc35c743419d26f2312e8d211f",
       "version_major": 2,
       "version_minor": 0
      },
      "text/plain": [
       "HBox(children=(IntProgress(value=0, bar_style='success'), Label(value='')))"
      ]
     },
     "metadata": {},
     "output_type": "display_data"
    },
    {
     "name": "stdout",
     "output_type": "stream",
     "text": [
      "+------------------------------------+-------------------+---+--------------+-----------+-------------------+----------+------------------+\n",
      "|user_id                             |name               |age|country       |login_count|age_rank_in_country|login_rank|country_avg_age   |\n",
      "+------------------------------------+-------------------+---+--------------+-----------+-------------------+----------+------------------+\n",
      "|3fde8c5b-42d4-4c8c-87c2-810a9d8abd87|\"Jason Sanchez\"    |44 |Afghanistan   |799        |1                  |68        |42.5              |\n",
      "|561a5430-94bb-494c-b13a-48398c7c4a9d|\"Kevin Cochran\"    |41 |Afghanistan   |NULL       |2                  |337       |42.5              |\n",
      "|c1b75556-007b-4188-8a28-2a100b1f64c9|\"Ann Brady\"        |68 |Albania       |NULL       |1                  |337       |39.666666666666664|\n",
      "|e8f9ea54-a187-40e3-952e-8b00ec56bf51|\"John Dean\"        |50 |Albania       |NULL       |2                  |337       |39.666666666666664|\n",
      "|9374333c-0c6a-4b0a-9757-772ee2138383|\"Scott Smith\"      |45 |Albania       |78         |3                  |311       |39.666666666666664|\n",
      "|13a6f79a-218e-44cd-813f-24bd1c91135a|\"Cristina Holmes\"  |37 |Albania       |NULL       |4                  |337       |39.666666666666664|\n",
      "|4094c0c0-f7a6-4959-9b9c-1ac6c2f6c324|\"Gregory Wood\"     |20 |Albania       |NULL       |5                  |337       |39.666666666666664|\n",
      "|19bcbbe5-b5ca-4106-8119-ad6fefa5313b|\"Brianna Donaldson\"|18 |Albania       |NULL       |6                  |337       |39.666666666666664|\n",
      "|c6e38585-0868-4d06-bfa7-da9848991cf0|\"Clayton Wright\"   |77 |Algeria       |NULL       |1                  |337       |58.2              |\n",
      "|1e7af1fa-c2ca-4d7a-bd52-6ae73ad9d578|\"Stephen Hurst\"    |73 |Algeria       |NULL       |2                  |337       |58.2              |\n",
      "|9f3fa72d-e4a9-49dc-b425-0b262a342855|\"Nicole Dennis\"    |65 |Algeria       |272        |3                  |246       |58.2              |\n",
      "|b2f1f042-c668-4c1c-b0df-63db321ad3b6|\"Alan Bradshaw\"    |40 |Algeria       |NULL       |4                  |337       |58.2              |\n",
      "|7337898d-141d-47ab-a5dc-1c5e133b9a94|\"Connie Harris\"    |36 |Algeria       |NULL       |5                  |337       |58.2              |\n",
      "|b738b86a-f9db-4901-8df0-2acd0bfa7a48|\"Mrs. Mary Boyd\"   |68 |American Samoa|NULL       |1                  |337       |39.833333333333336|\n",
      "|cc940d7f-0c3e-4eeb-b729-fd3363997b29|\"Jane Green\"       |42 |American Samoa|NULL       |2                  |337       |39.833333333333336|\n",
      "+------------------------------------+-------------------+---+--------------+-----------+-------------------+----------+------------------+\n",
      "\n",
      "\n",
      "=== Cumulative Statistics with VARIANT ===\n",
      "\n"
     ]
    },
    {
     "data": {
      "application/vnd.jupyter.widget-view+json": {
       "model_id": "3eb1846983f34220b537a30328b104d2",
       "version_major": 2,
       "version_minor": 0
      },
      "text/plain": [
       "HBox(children=(IntProgress(value=0, bar_style='success'), Label(value='')))"
      ]
     },
     "metadata": {},
     "output_type": "display_data"
    },
    {
     "name": "stdout",
     "output_type": "stream",
     "text": [
      "+------------------------------------+------------------------+--------------------------+-----------+-------------+-----------------+-----------------+\n",
      "|user_id                             |name                    |created_time              |login_count|posts_created|moving_avg_logins|max_logins_so_far|\n",
      "+------------------------------------+------------------------+--------------------------+-----------+-------------+-----------------+-----------------+\n",
      "|c3d7323c-f4e8-4fc8-a842-3925d14e9eaa|\"Albert Torres\"         |2020-09-25 00:26:16.993774|261        |25           |261.0            |261              |\n",
      "|6ae6c1ef-1314-4d74-9295-0c9e5a38ef41|\"Dr. Jeffrey Taylor Jr.\"|2020-09-26 10:52:38.409862|NULL       |NULL         |261.0            |261              |\n",
      "|8c494d9c-f9b4-40b8-8dcf-09078c073da4|\"Rose Gutierrez\"        |2020-09-26 18:46:07.202694|NULL       |NULL         |261.0            |261              |\n",
      "|993d4987-eed8-4e48-a022-f13a3a88f99c|\"David Ortiz\"           |2020-09-30 04:16:04.65847 |636        |88           |636.0            |636              |\n",
      "|695d75b9-665e-4c2a-9f71-e7b83d51227c|\"Whitney Turner\"        |2020-10-02 20:49:36.920125|662        |158          |649.0            |662              |\n",
      "|d5db5f69-52f7-4b55-85c5-90f6d1a6bbda|\"Albert Osborne\"        |2020-10-03 08:49:10.239633|306        |427          |534.6666666666666|662              |\n",
      "|7dc80c9a-c936-4623-aaf4-4f3920f096de|\"Craig Williams\"        |2020-10-04 01:20:50.558768|NULL       |NULL         |484.0            |662              |\n",
      "|0bf4d9ea-fd66-451b-a63d-cb7d928f3999|\"Wanda Bates\"           |2020-10-06 08:04:07.112533|NULL       |NULL         |306.0            |662              |\n",
      "|33d657de-559e-414f-9b5a-c858343da838|\"Joseph Guzman IV\"      |2020-10-12 16:41:15.962187|488        |214          |488.0            |662              |\n",
      "|26d3702a-df25-48b7-87c8-e940940b124a|\"Glenn Delgado\"         |2020-10-18 21:28:16.303212|NULL       |NULL         |488.0            |662              |\n",
      "+------------------------------------+------------------------+--------------------------+-----------+-------------+-----------------+-----------------+\n",
      "\n"
     ]
    }
   ],
   "source": [
    "# Window functions with VARIANT data\n",
    "print(\"=== Window Functions on VARIANT Data ===\\n\")\n",
    "\n",
    "spark.sql(\"\"\"\n",
    "    SELECT \n",
    "        user_id,\n",
    "        user_data:name as name,\n",
    "        user_data:age as age,\n",
    "        CAST(user_data:address.country AS STRING) as country,\n",
    "        CAST(user_data:metrics.login_count AS INT) as login_count,\n",
    "        RANK() OVER (PARTITION BY CAST(user_data:address.country AS STRING) ORDER BY CAST(user_data:age AS INT) DESC) as age_rank_in_country,\n",
    "        DENSE_RANK() OVER (ORDER BY CAST(user_data:metrics.login_count AS INT) DESC) as login_rank,\n",
    "        AVG(CAST(user_data:age AS INT)) OVER (PARTITION BY CAST(user_data:address.country AS STRING)) as country_avg_age\n",
    "    FROM users_variant\n",
    "    WHERE NOT IS_VARIANT_NULL(user_data:metrics.login_count)\n",
    "        AND NOT IS_VARIANT_NULL(user_data:address.country)\n",
    "    ORDER BY country, age_rank_in_country\n",
    "    LIMIT 15\n",
    "\"\"\").show(truncate=False)\n",
    "\n",
    "# Running totals and cumulative stats\n",
    "print(\"\\n=== Cumulative Statistics with VARIANT ===\\n\")\n",
    "\n",
    "spark.sql(\"\"\"\n",
    "    WITH user_activity AS (\n",
    "        SELECT \n",
    "            user_id,\n",
    "            user_data:name as name,\n",
    "            CAST(user_data:created_at AS TIMESTAMP) as created_time,\n",
    "            CAST(user_data:metrics.login_count AS INT) as login_count,\n",
    "            CAST(user_data:metrics.posts_created AS INT) as posts_created\n",
    "        FROM users_variant\n",
    "        WHERE NOT IS_VARIANT_NULL(user_data:metrics.login_count)\n",
    "            AND NOT IS_VARIANT_NULL(user_data:created_at)\n",
    "    )\n",
    "    SELECT \n",
    "        user_id,\n",
    "        name,\n",
    "        created_time,\n",
    "        login_count,\n",
    "        posts_created,\n",
    "        AVG(login_count) OVER (\n",
    "            ORDER BY created_time \n",
    "            ROWS BETWEEN 2 PRECEDING AND CURRENT ROW\n",
    "        ) as moving_avg_logins,\n",
    "        MAX(login_count) OVER (\n",
    "            ORDER BY created_time\n",
    "        ) as max_logins_so_far\n",
    "    FROM user_activity\n",
    "    ORDER BY created_time\n",
    "    LIMIT 10\n",
    "\"\"\").show(truncate=False)\n"
   ]
  },
  {
   "cell_type": "markdown",
   "id": "d57b5872",
   "metadata": {},
   "source": [
    "## 10. JOINs with VARIANT Data\n",
    "\n",
    "Demonstrating how to join tables containing VARIANT columns.\n"
   ]
  },
  {
   "cell_type": "code",
   "execution_count": 20,
   "id": "92a69c12",
   "metadata": {},
   "outputs": [
    {
     "name": "stdout",
     "output_type": "stream",
     "text": [
      "=== Self-Join on VARIANT Data ===\n",
      "\n"
     ]
    },
    {
     "data": {
      "application/vnd.jupyter.widget-view+json": {
       "model_id": "411e1cf19f8643a489183d9cf3e8a139",
       "version_major": 2,
       "version_minor": 0
      },
      "text/plain": [
       "HBox(children=(IntProgress(value=0, bar_style='success'), Label(value='')))"
      ]
     },
     "metadata": {},
     "output_type": "display_data"
    },
    {
     "name": "stdout",
     "output_type": "stream",
     "text": [
      "+------------------------------------+---------------------+--------------+------------------------------------+--------------------+--------------+\n",
      "|user1_id                            |user1_name           |user1_city    |user2_id                            |user2_name          |user2_city    |\n",
      "+------------------------------------+---------------------+--------------+------------------------------------+--------------------+--------------+\n",
      "|366ec3bf-c457-48d1-9065-f79ce70271a5|\"Jennifer Castillo\"  |Jamesshire    |50968bc1-3873-4e48-b804-24c2f45e3da6|\"Mary Morrison\"     |Jamesshire    |\n",
      "|96288e42-8538-4c7d-8774-80f06d3839b4|\"Kent Contreras\"     |Brianmouth    |a5b3a908-2dd2-4e05-b3aa-74c4da7c66cc|\"James Thornton\"    |Brianmouth    |\n",
      "|82be7626-fa5b-4b13-bf14-4a151de994ca|\"Dr. Joseph Petersen\"|New Jacqueline|dfc45a70-0b7a-4ae3-b646-a44d5db24092|\"Karen Cummings\"    |New Jacqueline|\n",
      "|62400891-f271-4b76-9491-dec3b9a3acfd|\"George Lewis\"       |Lake John     |8a384fb4-7313-41f4-9f4c-410440bdcba7|\"Terry Rodriguez\"   |Lake John     |\n",
      "|54e2a87a-35bf-48c7-8636-e17844b62345|\"David Thompson\"     |North John    |d1aa7f08-9818-4336-9ec0-d4f5277b168a|\"Joshua Choi\"       |North John    |\n",
      "|65eefdbe-ef01-484d-945a-8a40736822eb|\"Daniel Harris\"      |Marychester   |f8fb4008-4b5b-4013-9d7b-39800ea26157|\"Samantha Caldwell\" |Marychester   |\n",
      "|42d62227-2fef-4b68-8aa5-4eb0bec8a72f|\"Jared Taylor\"       |East Erik     |510d3bdc-eee1-4476-a9d4-272fec388c7d|\"Robert Miller\"     |East Erik     |\n",
      "|0f7d04f5-3ea8-4b7c-b8f7-c70698df156e|\"Holly Cowan\"        |Lake Emily    |788a9ac8-d13e-4083-a603-6f9f2191e17b|\"Sabrina Washington\"|Lake Emily    |\n",
      "|1c33bdda-cd3f-4b4e-9d36-31021e342fdf|\"Thomas Carey\"       |West David    |a255b287-5c06-4d02-882c-f4ee27b6e608|\"Jesse Moyer\"       |West David    |\n",
      "|6a5df95f-40cb-4550-b5cf-87085a5c59d7|\"Emily Burns\"        |South Mary    |be421236-0ba9-4a8f-ad22-ea74ab17fdec|\"Pamela Harris\"     |South Mary    |\n",
      "+------------------------------------+---------------------+--------------+------------------------------------+--------------------+--------------+\n",
      "\n",
      "\n",
      "=== Join with Extracted Table for Performance ===\n",
      "\n"
     ]
    },
    {
     "data": {
      "application/vnd.jupyter.widget-view+json": {
       "model_id": "501a3a96fe09427f8e2ce09865e06adc",
       "version_major": 2,
       "version_minor": 0
      },
      "text/plain": [
       "HBox(children=(IntProgress(value=0, bar_style='success'), Label(value='')))"
      ]
     },
     "metadata": {},
     "output_type": "display_data"
    },
    {
     "name": "stdout",
     "output_type": "stream",
     "text": [
      "+------------------------------------+----------------+---+------------+-----------------+--------------+-------------+--------------+\n",
      "|user_id                             |name            |age|city        |subscription_tier|extracted_name|extracted_age|extracted_city|\n",
      "+------------------------------------+----------------+---+------------+-----------------+--------------+-------------+--------------+\n",
      "|eecea0f0-eab8-419d-8b06-dbb99aa1fe25|\"Brittney Smith\"|39 |Whiteport   |NULL             |Brittney Smith|39           |Whiteport     |\n",
      "|bb3f174f-01e9-413b-908b-c46e8bee5f4c|\"Julie Rhodes\"  |29 |Jamesville  |NULL             |Julie Rhodes  |29           |Jamesville    |\n",
      "|d2c36846-6a45-4b7f-a75b-911a59d37dc0|\"Haley Carter\"  |66 |West Jeremy |NULL             |Haley Carter  |66           |West Jeremy   |\n",
      "|0c299963-d8bc-44fd-97db-cd977623b678|\"Amanda Allen\"  |41 |Michaelburgh|NULL             |Amanda Allen  |41           |Michaelburgh  |\n",
      "|b68450c0-5206-4779-8bf6-07b496ca7ded|\"Melissa Bush\"  |49 |Port Emily  |NULL             |Melissa Bush  |49           |Port Emily    |\n",
      "+------------------------------------+----------------+---+------------+-----------------+--------------+-------------+--------------+\n",
      "\n"
     ]
    }
   ],
   "source": [
    "# Self-join on VARIANT data\n",
    "print(\"=== Self-Join on VARIANT Data ===\\n\")\n",
    "\n",
    "spark.sql(\"\"\"\n",
    "    SELECT \n",
    "        u1.user_id as user1_id,\n",
    "        u1.user_data:name as user1_name,\n",
    "        CAST(u1.user_data:address.city AS STRING) as user1_city,\n",
    "        u2.user_id as user2_id,\n",
    "        u2.user_data:name as user2_name,\n",
    "        CAST(u2.user_data:address.city AS STRING) as user2_city\n",
    "    FROM users_variant u1\n",
    "    JOIN users_variant u2\n",
    "        ON CAST(u1.user_data:address.city AS STRING) = CAST(u2.user_data:address.city AS STRING)\n",
    "        AND u1.user_id < u2.user_id\n",
    "    WHERE NOT IS_VARIANT_NULL(u1.user_data:address.city)\n",
    "    LIMIT 10\n",
    "\"\"\").show(truncate=False)\n",
    "\n",
    "# Join with extracted table for performance\n",
    "print(\"\\n=== Join with Extracted Table for Performance ===\\n\")\n",
    "\n",
    "spark.sql(\"\"\"\n",
    "    WITH user_analysis AS (\n",
    "        SELECT \n",
    "            v.user_id,\n",
    "            v.user_data:name as name,\n",
    "            v.user_data:age as age,\n",
    "            CAST(v.user_data:address.city AS STRING) as city,\n",
    "            CAST(v.user_data:subscription.tier AS STRING) as subscription_tier,\n",
    "            e.name as extracted_name,\n",
    "            e.age as extracted_age,\n",
    "            e.city as extracted_city\n",
    "        FROM users_variant v\n",
    "        LEFT JOIN users_extracted e\n",
    "            ON v.user_id = e.user_id\n",
    "        WHERE NOT IS_VARIANT_NULL(v.user_data:subscription.tier)\n",
    "    )\n",
    "    SELECT * FROM user_analysis\n",
    "    WHERE name IS NOT NULL\n",
    "    LIMIT 5\n",
    "\"\"\").show(truncate=False)\n"
   ]
  },
  {
   "cell_type": "markdown",
   "id": "d63a189d",
   "metadata": {},
   "source": [
    "## 11. Advanced VARIANT Use Cases\n",
    "\n",
    "Let's explore some advanced use cases and patterns.\n"
   ]
  },
  {
   "cell_type": "code",
   "execution_count": 21,
   "id": "aaacd05c",
   "metadata": {},
   "outputs": [
    {
     "name": "stdout",
     "output_type": "stream",
     "text": [
      "=== Demonstrating Schema Evolution with VARIANT ===\n",
      "\n",
      "Schema Evolution in our user data:\n",
      "- First 30% of users: Basic schema\n",
      "- Next 30% of users: Added social_media fields\n",
      "- Last 40% of users: Added subscription and metrics fields\n",
      "\n"
     ]
    },
    {
     "data": {
      "application/vnd.jupyter.widget-view+json": {
       "model_id": "33f447e6da124b82b81ae6b89fb9ed9f",
       "version_major": 2,
       "version_minor": 0
      },
      "text/plain": [
       "HBox(children=(IntProgress(value=0, bar_style='success'), Label(value='')))"
      ]
     },
     "metadata": {},
     "output_type": "display_data"
    },
    {
     "name": "stdout",
     "output_type": "stream",
     "text": [
      "+------------------------------------+----------------+------------------------------+------------------------+---------------+-----------------+-----------+\n",
      "|user_id                             |name            |email                         |phone                   |twitter        |subscription_tier|login_count|\n",
      "+------------------------------------+----------------+------------------------------+------------------------+---------------+-----------------+-----------+\n",
      "|aa678282-2c08-4c58-a033-121fa20018ee|\"Jessica Ashley\"|\"phaynes@example.net\"         |\"001-638-430-2700x56930\"|NULL           |NULL             |NULL       |\n",
      "|0000a2e5-f9ac-4a06-b3f6-37bedd425ba1|\"David Meyer\"   |\"shannonhernandez@example.com\"|NULL                    |\"@morrowangela\"|NULL             |NULL       |\n",
      "|de6cf9d6-7c80-4c67-8b95-98bee786507c|\"Trevor Shah\"   |\"joannapena@example.net\"      |\"001-511-671-1658\"      |\"@hunterwilson\"|\"enterprise\"     |922        |\n",
      "+------------------------------------+----------------+------------------------------+------------------------+---------------+-----------------+-----------+\n",
      "\n",
      "\n",
      "✅ VARIANT seamlessly handles schema evolution - old and new fields coexist!\n"
     ]
    }
   ],
   "source": [
    "# Dynamic schema evolution handling\n",
    "print(\"=== Demonstrating Schema Evolution with VARIANT ===\\n\")\n",
    "\n",
    "# The data we generated already simulates schema evolution\n",
    "# Let's query to show how VARIANT handles different schema versions seamlessly\n",
    "\n",
    "print(\"Schema Evolution in our user data:\")\n",
    "print(\"- First 30% of users: Basic schema\")\n",
    "print(\"- Next 30% of users: Added social_media fields\")\n",
    "print(\"- Last 40% of users: Added subscription and metrics fields\\n\")\n",
    "\n",
    "# Query showing all schema versions work together\n",
    "spark.sql(\"\"\"\n",
    "    SELECT \n",
    "        user_id,\n",
    "        user_data:name as name,\n",
    "        user_data:email as email,\n",
    "        user_data:phone as phone,  -- Optional field\n",
    "        user_data:social_media.twitter as twitter,  -- Added in v2\n",
    "        user_data:subscription.tier as subscription_tier,  -- Added in v3\n",
    "        user_data:metrics.login_count as login_count  -- Added in v3\n",
    "    FROM users_variant\n",
    "    WHERE user_id IN (\n",
    "        (SELECT user_id FROM users_variant LIMIT 1 OFFSET 100)\n",
    "        UNION ALL\n",
    "        (SELECT user_id FROM users_variant LIMIT 1 OFFSET 500)\n",
    "        UNION ALL\n",
    "        (SELECT user_id FROM users_variant LIMIT 1 OFFSET 900)\n",
    "    )\n",
    "\"\"\").show(truncate=False)\n",
    "\n",
    "print(\"\\n✅ VARIANT seamlessly handles schema evolution - old and new fields coexist!\")\n"
   ]
  },
  {
   "cell_type": "code",
   "execution_count": 22,
   "id": "ae497cfe",
   "metadata": {},
   "outputs": [
    {
     "name": "stdout",
     "output_type": "stream",
     "text": [
      "=== Pivoting VARIANT Data ===\n",
      "\n"
     ]
    },
    {
     "data": {
      "application/vnd.jupyter.widget-view+json": {
       "model_id": "7e80b648f37949c3b24ef9b7d0c2addc",
       "version_major": 2,
       "version_minor": 0
      },
      "text/plain": [
       "HBox(children=(IntProgress(value=0, bar_style='success'), Label(value='')))"
      ]
     },
     "metadata": {},
     "output_type": "display_data"
    },
    {
     "name": "stdout",
     "output_type": "stream",
     "text": [
      "+--------------------+----+-----+-------+----------+\n",
      "|             country|free|basic|premium|enterprise|\n",
      "+--------------------+----+-----+-------+----------+\n",
      "|         Afghanistan|NULL| NULL|   NULL|         1|\n",
      "|             Albania|NULL|    1|   NULL|      NULL|\n",
      "|             Algeria|NULL| NULL|      1|      NULL|\n",
      "|      American Samoa|NULL| NULL|   NULL|         2|\n",
      "|             Andorra|   1| NULL|      1|         1|\n",
      "|              Angola|   1|    1|   NULL|      NULL|\n",
      "|            Anguilla|NULL| NULL|   NULL|      NULL|\n",
      "|Antarctica (the t...|NULL| NULL|      1|         1|\n",
      "| Antigua and Barbuda|NULL|    1|   NULL|      NULL|\n",
      "|           Argentina|NULL| NULL|      1|      NULL|\n",
      "+--------------------+----+-----+-------+----------+\n",
      "\n",
      "\n",
      "=== Creating Structured View from VARIANT ===\n",
      "\n",
      "✅ Created structured view from VARIANT data\n"
     ]
    },
    {
     "data": {
      "application/vnd.jupyter.widget-view+json": {
       "model_id": "5faf99ee6a6746dc933297823661436a",
       "version_major": 2,
       "version_minor": 0
      },
      "text/plain": [
       "HBox(children=(IntProgress(value=0, bar_style='success'), Label(value='')))"
      ]
     },
     "metadata": {},
     "output_type": "display_data"
    },
    {
     "name": "stdout",
     "output_type": "stream",
     "text": [
      "+--------------------+--------------+--------------------+---+------------+--------------------+-----------------+--------------------+--------------+\n",
      "|             user_id|          name|               email|age|        city|             country|newsletter_opt_in|        created_date|interest_count|\n",
      "+--------------------+--------------+--------------------+---+------------+--------------------+-----------------+--------------------+--------------+\n",
      "|eecea0f0-eab8-419...|Brittney Smith|ronaldlindsey@exa...| 39|   Whiteport|Palestinian Terri...|             true|2023-03-04 14:33:...|             5|\n",
      "|bb3f174f-01e9-413...|  Julie Rhodes|smithgregory@exam...| 29|  Jamesville|        Sierra Leone|             true|2025-04-13 16:42:...|             3|\n",
      "|d2c36846-6a45-4b7...|  Haley Carter|yhensley@example.net| 66| West Jeremy|              Angola|             true|2022-09-20 08:54:...|             1|\n",
      "|0c299963-d8bc-44f...|  Amanda Allen|  fbates@example.org| 41|Michaelburgh|               Sudan|             true|2021-04-26 17:34:...|             2|\n",
      "|b68450c0-5206-477...|  Melissa Bush|hicksbeth@example...| 49|  Port Emily|        Sierra Leone|            false|2023-07-04 18:29:...|             3|\n",
      "+--------------------+--------------+--------------------+---+------------+--------------------+-----------------+--------------------+--------------+\n",
      "\n"
     ]
    }
   ],
   "source": [
    "# Pivoting VARIANT data\n",
    "print(\"=== Pivoting VARIANT Data ===\\n\")\n",
    "\n",
    "spark.sql(\"\"\"\n",
    "    WITH subscription_counts AS (\n",
    "        SELECT \n",
    "            CAST(user_data:address.country AS STRING) as country,\n",
    "            CAST(user_data:subscription.tier AS STRING) as subscription_tier,\n",
    "            COUNT(*) as user_count\n",
    "        FROM users_variant\n",
    "        WHERE NOT IS_VARIANT_NULL(user_data:subscription.tier)\n",
    "            AND NOT IS_VARIANT_NULL(user_data:address.country)\n",
    "        GROUP BY country, subscription_tier\n",
    "    )\n",
    "    SELECT * FROM subscription_counts\n",
    "    PIVOT (\n",
    "        SUM(user_count)\n",
    "        FOR subscription_tier IN ('free', 'basic', 'premium', 'enterprise')\n",
    "    )\n",
    "    ORDER BY country\n",
    "    LIMIT 10\n",
    "\"\"\").show()\n",
    "\n",
    "# Creating materialized views from VARIANT data\n",
    "print(\"\\n=== Creating Structured View from VARIANT ===\\n\")\n",
    "\n",
    "spark.sql(\"\"\"\n",
    "    CREATE OR REPLACE TEMPORARY VIEW user_details AS\n",
    "    SELECT \n",
    "        user_id,\n",
    "        CAST(user_data:name AS STRING) as name,\n",
    "        CAST(user_data:email AS STRING) as email,\n",
    "        CAST(user_data:age AS INT) as age,\n",
    "        CAST(user_data:address.city AS STRING) as city,\n",
    "        CAST(user_data:address.country AS STRING) as country,\n",
    "        CAST(user_data:preferences.newsletter AS BOOLEAN) as newsletter_opt_in,\n",
    "        CAST(user_data:created_at AS TIMESTAMP) as created_date,\n",
    "        SIZE(CAST(user_data:profile.interests AS ARRAY<STRING>)) as interest_count\n",
    "    FROM users_variant\n",
    "\"\"\")\n",
    "\n",
    "print(\"✅ Created structured view from VARIANT data\")\n",
    "\n",
    "spark.sql(\"SELECT * FROM user_details LIMIT 5\").show()\n"
   ]
  },
  {
   "cell_type": "markdown",
   "id": "3f02f207",
   "metadata": {},
   "source": [
    "## 12. Cleanup Script\n",
    "\n",
    "This section provides a comprehensive cleanup script to remove all resources created during this exploration.\n"
   ]
  },
  {
   "cell_type": "code",
   "execution_count": 23,
   "id": "39dcdac8",
   "metadata": {},
   "outputs": [
    {
     "name": "stdout",
     "output_type": "stream",
     "text": [
      "🧹 Cleaning up VARIANT exploration resources...\n",
      "✅ Dropped table: users_variant\n",
      "✅ Dropped table: users_extracted\n",
      "✅ Dropped table: variant_optimized\n",
      "✅ Dropped view: user_details\n",
      "✅ Cleaned volume files\n",
      "✅ Reset to main catalog, default schema\n",
      "\n",
      "🎉 Cleanup complete!\n"
     ]
    }
   ],
   "source": [
    "# Cleanup Script - Removes all resources created during VARIANT exploration\n",
    "\n",
    "def cleanup():\n",
    "    \"\"\"Simple cleanup function to remove all created resources\"\"\"\n",
    "    print(\"🧹 Cleaning up VARIANT exploration resources...\")\n",
    "    \n",
    "    # Drop tables\n",
    "    tables = ['users_variant', 'users_extracted', 'variant_optimized']\n",
    "    for table in tables:\n",
    "        spark.sql(f\"DROP TABLE IF EXISTS {table}\")\n",
    "        print(f\"✅ Dropped table: {table}\")\n",
    "    \n",
    "    # Drop views\n",
    "    spark.sql(\"DROP VIEW IF EXISTS user_details\")\n",
    "    print(\"✅ Dropped view: user_details\")\n",
    "    \n",
    "    # Clean volume files\n",
    "    users_folder = f\"/Volumes/{CATALOG}/{SCHEMA}/{VOLUME}/users\"\n",
    "    try:\n",
    "        dbutils.fs.rm(users_folder, recurse=True)\n",
    "        print(\"✅ Cleaned volume files\")\n",
    "    except:\n",
    "        print(\"⚠️  Volume files may not exist\")\n",
    "    \n",
    "    # Reset to default catalog/schema\n",
    "    spark.sql(\"USE CATALOG main\")\n",
    "    spark.sql(\"USE SCHEMA default\")\n",
    "    print(\"✅ Reset to main catalog, default schema\")\n",
    "    \n",
    "    print(\"\\n🎉 Cleanup complete!\")\n",
    "\n",
    "# Run cleanup\n",
    "cleanup()\n"
   ]
  },
  {
   "cell_type": "code",
   "execution_count": 24,
   "id": "49e7acf8",
   "metadata": {},
   "outputs": [],
   "source": [
    "# Optional: Individual cleanup functions\n",
    "\n",
    "# def drop_tables_only():\n",
    "#     \"\"\"Drop only the tables\"\"\"\n",
    "#     tables = ['users_variant', 'users_extracted', 'variant_optimized']\n",
    "#     for table in tables:\n",
    "#         spark.sql(f\"DROP TABLE IF EXISTS {table}\")\n",
    "#         print(f\"✅ Dropped {table}\")\n",
    "\n",
    "# def clean_volume_only():\n",
    "#     \"\"\"Clean only the volume files\"\"\"\n",
    "#     dbutils.fs.rm(f\"/Volumes/{CATALOG}/{SCHEMA}/{VOLUME}/users\", recurse=True)\n",
    "#     print(\"✅ Cleaned volume files\")\n",
    "\n",
    "# Usage:\n",
    "# cleanup()           # Full cleanup (already run above)\n",
    "# drop_tables_only()  # Drop only tables\n",
    "# clean_volume_only() # Clean only volume files\n"
   ]
  }
 ],
 "metadata": {
  "kernelspec": {
   "display_name": "base",
   "language": "python",
   "name": "python3"
  },
  "language_info": {
   "codemirror_mode": {
    "name": "ipython",
    "version": 3
   },
   "file_extension": ".py",
   "mimetype": "text/x-python",
   "name": "python",
   "nbconvert_exporter": "python",
   "pygments_lexer": "ipython3",
   "version": "3.12.7"
  }
 },
 "nbformat": 4,
 "nbformat_minor": 5
}
