{
 "cells": [
  {
   "cell_type": "code",
   "execution_count": 1,
   "id": "abd72d09",
   "metadata": {},
   "outputs": [
    {
     "name": "stdout",
     "output_type": "stream",
     "text": [
      "Requirement already satisfied: faker==23.0.0 in /opt/homebrew/anaconda3/lib/python3.12/site-packages (23.0.0)\n",
      "Requirement already satisfied: python-dateutil>=2.4 in /opt/homebrew/anaconda3/lib/python3.12/site-packages (from faker==23.0.0) (2.9.0.post0)\n",
      "Requirement already satisfied: six>=1.5 in /opt/homebrew/anaconda3/lib/python3.12/site-packages (from python-dateutil>=2.4->faker==23.0.0) (1.16.0)\n"
     ]
    }
   ],
   "source": [
    "! pip install faker==23.0.0"
   ]
  },
  {
   "cell_type": "code",
   "execution_count": 2,
   "id": "7a4c6d5a",
   "metadata": {},
   "outputs": [
    {
     "name": "stdout",
     "output_type": "stream",
     "text": [
      "✅ Spark session initialized\n",
      "Current catalog: pavan_naidu\n"
     ]
    },
    {
     "data": {
      "application/vnd.jupyter.widget-view+json": {
       "model_id": "c3f299da406e42f8b6cd8ee687a77042",
       "version_major": 2,
       "version_minor": 0
      },
      "text/plain": [
       "HBox(children=(IntProgress(value=0, bar_style='success'), Label(value='')))"
      ]
     },
     "metadata": {},
     "output_type": "display_data"
    },
    {
     "name": "stdout",
     "output_type": "stream",
     "text": [
      "Current schema: json\n",
      "Configuration: CATALOG=pavan_naidu, SCHEMA=json, VOLUME=raw_data\n"
     ]
    }
   ],
   "source": [
    "# VARIANT Data Type Exploration in Databricks\n",
    "# This notebook demonstrates various features and capabilities of the VARIANT data type\n",
    "\n",
    "from pyspark.sql import SparkSession\n",
    "from pyspark.sql.functions import *\n",
    "from pyspark.sql.types import *\n",
    "import json\n",
    "import random\n",
    "from datetime import datetime, timedelta\n",
    "from faker import Faker\n",
    "import os\n",
    "\n",
    "# =============================================================================\n",
    "# CONFIGURATION PARAMETERS\n",
    "# =============================================================================\n",
    "# Update these parameters to customize the notebook for your environment\n",
    "CATALOG = \"pavan_naidu\"                    # Unity Catalog name\n",
    "SCHEMA = \"json\"                            # Schema name within the catalog\n",
    "VOLUME = \"raw_data\"                        # Volume name for storing data\n",
    "# =============================================================================\n",
    "\n",
    "def get_spark() -> SparkSession:\n",
    "    try:\n",
    "        from databricks.connect import DatabricksSession\n",
    "        return DatabricksSession.builder.getOrCreate()\n",
    "    except Exception:\n",
    "        return SparkSession.builder.getOrCreate()\n",
    "\n",
    "spark = get_spark()\n",
    "fake = Faker()\n",
    "\n",
    "\n",
    "\n",
    "# Set catalog and schema using parameters\n",
    "spark.sql(f\"USE CATALOG {CATALOG}\")\n",
    "spark.sql(f\"USE SCHEMA {SCHEMA}\")\n",
    "\n",
    "print(\"✅ Spark session initialized\")\n",
    "print(f\"Current catalog: {spark.sql('SELECT current_catalog()').collect()[0][0]}\")\n",
    "print(f\"Current schema: {spark.sql('SELECT current_schema()').collect()[0][0]}\")\n",
    "print(f\"Configuration: CATALOG={CATALOG}, SCHEMA={SCHEMA}, VOLUME={VOLUME}\")"
   ]
  },
  {
   "cell_type": "markdown",
   "id": "33486a7c",
   "metadata": {},
   "source": [
    "## 1. Setup: Create UC Volume and Generate Fake JSON Data\n",
    "\n",
    "First, let's create a folder in Unity Catalog volume and generate diverse JSON data to showcase VARIANT functionality.\n"
   ]
  },
  {
   "cell_type": "code",
   "execution_count": 3,
   "id": "636affdd",
   "metadata": {},
   "outputs": [
    {
     "name": "stdout",
     "output_type": "stream",
     "text": [
      "✅ Volume 'raw_data' is ready\n",
      "Volume path: /Volumes/pavan_naidu/json/raw_data\n"
     ]
    }
   ],
   "source": [
    "# Create or verify volume exists\n",
    "try:\n",
    "    spark.sql(f\"CREATE VOLUME IF NOT EXISTS {CATALOG}.{SCHEMA}.{VOLUME}\")\n",
    "    print(f\"✅ Volume '{VOLUME}' is ready\")\n",
    "except Exception as e:\n",
    "    print(f\"Volume might already exist or error: {e}\")\n",
    "\n",
    "# Get the volume path\n",
    "volume_path = f\"/Volumes/{CATALOG}/{SCHEMA}/{VOLUME}\"\n",
    "print(f\"Volume path: {volume_path}\")\n"
   ]
  },
  {
   "cell_type": "code",
   "execution_count": 4,
   "id": "f2ce3c0f",
   "metadata": {},
   "outputs": [
    {
     "name": "stdout",
     "output_type": "stream",
     "text": [
      "Generating fake user data...\n",
      "✅ Generated 1000 user records with evolving schemas\n",
      "\n",
      "Sample user records showing schema evolution:\n",
      "\n",
      "1. Basic user (early schema):\n",
      "{\n",
      "  \"user_id\": \"e3327f3b-fc93-44fd-bf54-7fa56224bf85\",\n",
      "  \"username\": \"jennifer23\",\n",
      "  \"email\": \"scottmichael@example.org\",\n",
      "  \"name\": \"David Middleton\",\n",
      "  \"age\": 32,\n",
      "  \"created_at\": \"2021-08-24 17:09:47.911979\",\n",
      "  \"last_login\": \"2025-09-06 14:53:25.993696\",\n",
      "  \"profile\": {\n",
      "    \"bio\": \"Environmental source stay here. Either fire director name than wide.\\nLeader imagine image a strategy. Support society now budget ever.\",\n",
      "    \"occupation\": \"Bonds trader\",\n",
      "    \"company\": \"Hudson and Sons\",\n",
      "    \"interests\": [\n",
      "      \"TV\",\n",
      "      \"art\"\n",
      "    ],\n",
      "    \"skills\": []\n",
      "  },\n",
      "  \"address\": {\n",
      "    \"street\": \"9546 Shan...\n",
      "\n",
      "2. User with social media (mid evolution):\n",
      "{\n",
      "  \"user_id\": \"52571204-ab39-47d5-ba0a-2943f6c5ebfc\",\n",
      "  \"username\": \"owenscaitlin\",\n",
      "  \"email\": \"caleb28@example.com\",\n",
      "  \"name\": \"Robert Costa\",\n",
      "  \"age\": 49,\n",
      "  \"created_at\": \"2025-06-18 05:26:12.603595\",\n",
      "  \"last_login\": \"2025-09-20 00:54:39.371805\",\n",
      "  \"profile\": {\n",
      "    \"bio\": \"Since institution be meeting particular good morning.\\nOthers listen student conference someone individual campaign. Example relationship total outside house continue. Who throughout top political.\",\n",
      "    \"occupation\": \"Illustrator\",\n",
      "    \"company\": \"Small, Rivera and Hughes\",\n",
      "    \"interests\": [\n",
      "      \"agency\",\n",
      "      \"popul...\n",
      "\n",
      "3. User with full schema (latest):\n",
      "{\n",
      "  \"user_id\": \"60f2478a-6657-43ee-a560-7c8be1f621a1\",\n",
      "  \"username\": \"serranoscott\",\n",
      "  \"email\": \"gregorywatson@example.org\",\n",
      "  \"name\": \"Jeremy Burke\",\n",
      "  \"age\": 20,\n",
      "  \"created_at\": \"2024-05-10 13:05:27.209899\",\n",
      "  \"last_login\": \"2025-09-18 06:45:38.867390\",\n",
      "  \"profile\": {\n",
      "    \"bio\": \"American get easy enough issue support. Rule heavy billion peace explain particular factor.\\nAge management away the environmental region onto.\",\n",
      "    \"occupation\": \"Horticulturist, amenity\",\n",
      "    \"company\": \"Fritz, Lopez and Lewis\",\n",
      "    \"interests\": [\n",
      "      \"mouth\",\n",
      "      \"will\",\n",
      "      \"hand\",\n",
      "      \"threat\"\n",
      "    ],\n",
      " ...\n"
     ]
    }
   ],
   "source": [
    "# Generate fake user data to demonstrate VARIANT capabilities\n",
    "\n",
    "def generate_user_data(num_records=1000):\n",
    "    \"\"\"Generate user data with varying structures to simulate schema evolution\"\"\"\n",
    "    users = []\n",
    "    \n",
    "    for i in range(num_records):\n",
    "        # Basic user structure (all users have these fields)\n",
    "        user = {\n",
    "            \"user_id\": str(fake.uuid4()),\n",
    "            \"username\": fake.user_name(),\n",
    "            \"email\": fake.email(),\n",
    "            \"name\": fake.name(),\n",
    "            \"age\": random.randint(18, 80),\n",
    "            \"created_at\": str(fake.date_time_between(start_date='-5y', end_date='now')),\n",
    "            \"last_login\": str(fake.date_time_between(start_date='-30d', end_date='now'))\n",
    "        }\n",
    "        \n",
    "        # Profile information (nested structure)\n",
    "        user[\"profile\"] = {\n",
    "            \"bio\": fake.text(max_nb_chars=200),\n",
    "            \"occupation\": fake.job(),\n",
    "            \"company\": fake.company(),\n",
    "            \"interests\": [fake.word() for _ in range(random.randint(1, 5))],\n",
    "            \"skills\": [fake.job() for _ in range(random.randint(0, 3))]\n",
    "        }\n",
    "        \n",
    "        # Address information (nested with multiple levels)\n",
    "        user[\"address\"] = {\n",
    "            \"street\": fake.street_address(),\n",
    "            \"city\": fake.city(),\n",
    "            \"state\": fake.state(),\n",
    "            \"country\": fake.country(),\n",
    "            \"postal_code\": fake.postcode(),\n",
    "            \"coordinates\": {\n",
    "                \"latitude\": float(fake.latitude()),\n",
    "                \"longitude\": float(fake.longitude())\n",
    "            }\n",
    "        }\n",
    "        \n",
    "        # Preferences (nested boolean flags)\n",
    "        user[\"preferences\"] = {\n",
    "            \"newsletter\": bool(random.choice([True, False])),\n",
    "            \"notifications\": {\n",
    "                \"email\": bool(random.choice([True, False])),\n",
    "                \"sms\": bool(random.choice([True, False])),\n",
    "                \"push\": bool(random.choice([True, False])),\n",
    "                \"frequency\": random.choice([\"daily\", \"weekly\", \"monthly\", \"never\"])\n",
    "            },\n",
    "            \"privacy\": {\n",
    "                \"profile_visible\": bool(random.choice([True, False])),\n",
    "                \"show_email\": bool(random.choice([True, False])),\n",
    "                \"show_location\": bool(random.choice([True, False]))\n",
    "            }\n",
    "        }\n",
    "        \n",
    "        # Simulate schema evolution - newer users have additional fields\n",
    "        if i > num_records * 0.3:  # 70% of users have these newer fields\n",
    "            user[\"social_media\"] = {\n",
    "                \"twitter\": f\"@{fake.user_name()}\" if random.random() > 0.3 else None,\n",
    "                \"linkedin\": fake.url() if random.random() > 0.5 else None,\n",
    "                \"github\": f\"github.com/{fake.user_name()}\" if random.random() > 0.7 else None\n",
    "            }\n",
    "            \n",
    "        if i > num_records * 0.6:  # 40% of users have these newest fields\n",
    "            user[\"subscription\"] = {\n",
    "                \"tier\": random.choice([\"free\", \"basic\", \"premium\", \"enterprise\"]),\n",
    "                \"start_date\": str(fake.date_between(start_date='-2y', end_date='today')),\n",
    "                \"auto_renew\": bool(random.choice([True, False]))\n",
    "            }\n",
    "            user[\"metrics\"] = {\n",
    "                \"login_count\": random.randint(1, 1000),\n",
    "                \"posts_created\": random.randint(0, 500),\n",
    "                \"comments_made\": random.randint(0, 2000),\n",
    "                \"last_activity\": str(fake.date_time_between(start_date='-7d', end_date='now'))\n",
    "            }\n",
    "        \n",
    "        # Some users have optional fields (simulate sparse data)\n",
    "        if random.random() > 0.7:\n",
    "            user[\"phone\"] = fake.phone_number()\n",
    "        \n",
    "        if random.random() > 0.8:\n",
    "            user[\"referral_code\"] = fake.bothify(text='REF-####-????')\n",
    "            user[\"referred_by\"] = str(fake.uuid4()) if random.random() > 0.5 else None\n",
    "        \n",
    "        users.append(user)\n",
    "    \n",
    "    return users\n",
    "\n",
    "# Generate sample user data\n",
    "print(\"Generating fake user data...\")\n",
    "user_data = generate_user_data(1000)\n",
    "print(f\"✅ Generated {len(user_data)} user records with evolving schemas\")\n",
    "\n",
    "# Show sample records demonstrating schema evolution\n",
    "print(\"\\nSample user records showing schema evolution:\")\n",
    "print(\"\\n1. Basic user (early schema):\")\n",
    "print(json.dumps(user_data[100], indent=2)[:600] + \"...\")\n",
    "print(\"\\n2. User with social media (mid evolution):\")\n",
    "print(json.dumps(user_data[500], indent=2)[:600] + \"...\")\n",
    "print(\"\\n3. User with full schema (latest):\")\n",
    "print(json.dumps(user_data[900], indent=2)[:600] + \"...\")\n"
   ]
  },
  {
   "cell_type": "code",
   "execution_count": 5,
   "id": "6431e72c",
   "metadata": {},
   "outputs": [
    {
     "name": "stdout",
     "output_type": "stream",
     "text": [
      "✅ Created folder: /Volumes/pavan_naidu/json/raw_data/users\n",
      "✅ Saved JSON data to: /Volumes/pavan_naidu/json/raw_data/users/user_data.json\n",
      "✅ Saved JSONL data to: /Volumes/pavan_naidu/json/raw_data/users/user_data.jsonl\n",
      "\n",
      "📂 Folder structure created:\n"
     ]
    },
    {
     "data": {
      "text/plain": [
       "[FileInfo(path='/Volumes/pavan_naidu/json/raw_data/users/user_data.json', name='user_data.json', size=1159208, modificationTime=1758603086000),\n",
       " FileInfo(path='/Volumes/pavan_naidu/json/raw_data/users/user_data.jsonl', name='user_data.jsonl', size=1158207, modificationTime=1758603088000)]"
      ]
     },
     "metadata": {},
     "output_type": "display_data"
    }
   ],
   "source": [
    "# Create a users folder in the volume\n",
    "users_folder = f\"{volume_path}/users\"\n",
    "try:\n",
    "    dbutils.fs.mkdirs(users_folder)\n",
    "    print(f\"✅ Created folder: {users_folder}\")\n",
    "except Exception as e:\n",
    "    print(f\"Folder might already exist: {e}\")\n",
    "\n",
    "# Save JSON data to users folder\n",
    "json_file_path = f\"{users_folder}/user_data.json\"\n",
    "\n",
    "# Write JSON data to file\n",
    "dbutils.fs.put(json_file_path, json.dumps(user_data), overwrite=True)\n",
    "print(f\"✅ Saved JSON data to: {json_file_path}\")\n",
    "\n",
    "# Also save as individual JSON lines for easier processing\n",
    "jsonl_file_path = f\"{users_folder}/user_data.jsonl\"\n",
    "jsonl_content = \"\\n\".join([json.dumps(user) for user in user_data])\n",
    "dbutils.fs.put(jsonl_file_path, jsonl_content, overwrite=True)\n",
    "print(f\"✅ Saved JSONL data to: {jsonl_file_path}\")\n",
    "\n",
    "# # Optionally, save data partitioned by subscription tier for those who have it\n",
    "# print(\"\\n📁 Creating partitioned data by subscription tier...\")\n",
    "# for user in user_data:\n",
    "#     if \"subscription\" in user:\n",
    "#         tier = user.get(\"subscription\", {}).get(\"tier\", \"unknown\")\n",
    "#         tier_folder = f\"{users_folder}/by_tier/{tier}\"\n",
    "        \n",
    "#         # Create tier folder if it doesn't exist\n",
    "#         try:\n",
    "#             dbutils.fs.mkdirs(tier_folder)\n",
    "#         except:\n",
    "#             pass  # Folder exists\n",
    "        \n",
    "#         # Save user to appropriate tier folder\n",
    "#         user_file = f\"{tier_folder}/{user['user_id']}.json\"\n",
    "#         dbutils.fs.put(user_file, json.dumps(user), overwrite=True)\n",
    "\n",
    "# print(\"✅ Created partitioned user data by subscription tier\")\n",
    "\n",
    "# List the created structure\n",
    "print(\"\\n📂 Folder structure created:\")\n",
    "display(dbutils.fs.ls(users_folder))\n"
   ]
  },
  {
   "cell_type": "markdown",
   "id": "386a4093",
   "metadata": {},
   "source": [
    "## 2. Creating Tables with VARIANT Data Type\n",
    "\n",
    "Let's create tables to store our JSON data using the VARIANT type.\n"
   ]
  },
  {
   "cell_type": "code",
   "execution_count": 6,
   "id": "af3baff3",
   "metadata": {},
   "outputs": [
    {
     "name": "stdout",
     "output_type": "stream",
     "text": [
      "✅ Created table: users_variant with column defaults enabled\n",
      "✅ Created table: users_extracted\n",
      "\n",
      "Table Schemas:\n",
      "+-------------------+---------+-------+\n",
      "|           col_name|data_type|comment|\n",
      "+-------------------+---------+-------+\n",
      "|            user_id|   string|   NULL|\n",
      "|           username|   string|   NULL|\n",
      "|              email|   string|   NULL|\n",
      "|          user_data|  variant|   NULL|\n",
      "|ingestion_timestamp|timestamp|   NULL|\n",
      "+-------------------+---------+-------+\n",
      "\n",
      "+-------------------+---------+-------+\n",
      "|           col_name|data_type|comment|\n",
      "+-------------------+---------+-------+\n",
      "|            user_id|   string|   NULL|\n",
      "|           username|   string|   NULL|\n",
      "|              email|   string|   NULL|\n",
      "|               name|   string|   NULL|\n",
      "|                age|      int|   NULL|\n",
      "|               city|   string|   NULL|\n",
      "|            country|   string|   NULL|\n",
      "|  subscription_tier|   string|   NULL|\n",
      "|          user_data|  variant|   NULL|\n",
      "|ingestion_timestamp|timestamp|   NULL|\n",
      "+-------------------+---------+-------+\n",
      "\n"
     ]
    }
   ],
   "source": [
    "# Drop tables if they exist\n",
    "spark.sql(\"DROP TABLE IF EXISTS users_variant\")\n",
    "spark.sql(\"DROP TABLE IF EXISTS users_extracted\")\n",
    "\n",
    "# Create a table with VARIANT column for user data\n",
    "# Enable Delta feature for column defaults\n",
    "spark.sql(f\"\"\"\n",
    "    CREATE TABLE IF NOT EXISTS users_variant (\n",
    "        user_id STRING,\n",
    "        username STRING,\n",
    "        email STRING,\n",
    "        user_data VARIANT,\n",
    "        ingestion_timestamp TIMESTAMP DEFAULT CURRENT_TIMESTAMP()\n",
    "    )\n",
    "    USING DELTA\n",
    "    TBLPROPERTIES('delta.feature.allowColumnDefaults' = 'supported')\n",
    "    COMMENT 'Table storing user data in VARIANT column'\n",
    "\"\"\")\n",
    "\n",
    "print(\"✅ Created table: users_variant with column defaults enabled\")\n",
    "\n",
    "# Create another table with extracted fields for performance comparison\n",
    "spark.sql(f\"\"\"\n",
    "    CREATE TABLE IF NOT EXISTS users_extracted (\n",
    "        user_id STRING,\n",
    "        username STRING,\n",
    "        email STRING,\n",
    "        name STRING,\n",
    "        age INT,\n",
    "        city STRING,\n",
    "        country STRING,\n",
    "        subscription_tier STRING,\n",
    "        user_data VARIANT,\n",
    "        ingestion_timestamp TIMESTAMP DEFAULT CURRENT_TIMESTAMP()\n",
    "    )\n",
    "    USING DELTA\n",
    "    TBLPROPERTIES('delta.feature.allowColumnDefaults' = 'supported')\n",
    "    COMMENT 'Table with commonly accessed fields extracted from VARIANT'\n",
    "\"\"\")\n",
    "\n",
    "print(\"✅ Created table: users_extracted\")\n",
    "\n",
    "# Show table schemas\n",
    "print(\"\\nTable Schemas:\")\n",
    "spark.sql(\"DESCRIBE TABLE users_variant\").show()\n",
    "spark.sql(\"DESCRIBE TABLE users_extracted\").show()\n"
   ]
  },
  {
   "cell_type": "markdown",
   "id": "46f420ad",
   "metadata": {},
   "source": [
    "## 3. Loading Data into VARIANT Columns\n",
    "\n",
    "Now let's load our JSON data into the tables using different methods.\n"
   ]
  },
  {
   "cell_type": "code",
   "execution_count": 7,
   "id": "ce9e0c04",
   "metadata": {},
   "outputs": [
    {
     "data": {
      "application/vnd.jupyter.widget-view+json": {
       "model_id": "4167bf1c8a98449ebc5c939e57fac412",
       "version_major": 2,
       "version_minor": 0
      },
      "text/plain": [
       "HBox(children=(IntProgress(value=0, bar_style='success'), Label(value='')))"
      ]
     },
     "metadata": {},
     "output_type": "display_data"
    },
    {
     "data": {
      "application/vnd.jupyter.widget-view+json": {
       "model_id": "241d7d2529dd420fb1d054e99c4fc445",
       "version_major": 2,
       "version_minor": 0
      },
      "text/plain": [
       "HBox(children=(IntProgress(value=0, bar_style='success'), Label(value='')))"
      ]
     },
     "metadata": {},
     "output_type": "display_data"
    },
    {
     "name": "stdout",
     "output_type": "stream",
     "text": [
      "✅ Loaded 1000 records into users_variant using PARSE_JSON\n",
      "\n",
      "Sample data from users_variant:\n"
     ]
    },
    {
     "data": {
      "application/vnd.jupyter.widget-view+json": {
       "model_id": "b12afd5796b54a0bb76685f12a0d150e",
       "version_major": 2,
       "version_minor": 0
      },
      "text/plain": [
       "HBox(children=(IntProgress(value=0, bar_style='success'), Label(value='')))"
      ]
     },
     "metadata": {},
     "output_type": "display_data"
    },
    {
     "name": "stdout",
     "output_type": "stream",
     "text": [
      "+------------------------------------+-------------+-------------------------+-----------------------------------------------------------------------------------------------------------------------------------------------------------------------------------------------------------------------------------------------------------------------------------------------------------------------------------------------------------------------------------------------------------------------------------------------------------------------------------------------------------------------------------------------------------------------------------------------------------------------------------------------------------------------------------------------------------------------------------------------------------------------------------------------------------------------------------------------------------------------------------------------------------------------------------------------------------------------------------------------------------------------------+--------------------------+\n",
      "|user_id                             |username     |email                    |user_data                                                                                                                                                                                                                                                                                                                                                                                                                                                                                                                                                                                                                                                                                                                                                                                                                                                                                                                                                                                                                    |ingestion_timestamp       |\n",
      "+------------------------------------+-------------+-------------------------+-----------------------------------------------------------------------------------------------------------------------------------------------------------------------------------------------------------------------------------------------------------------------------------------------------------------------------------------------------------------------------------------------------------------------------------------------------------------------------------------------------------------------------------------------------------------------------------------------------------------------------------------------------------------------------------------------------------------------------------------------------------------------------------------------------------------------------------------------------------------------------------------------------------------------------------------------------------------------------------------------------------------------------+--------------------------+\n",
      "|656bfd74-052b-45e6-b4bc-7b41b03cb9fe|ngraves      |harrislee@example.org    |{\"address\":{\"city\":\"East Michelleville\",\"coordinates\":{\"latitude\":34.012991,\"longitude\":43.405972},\"country\":\"Oman\",\"postal_code\":\"28028\",\"state\":\"New York\",\"street\":\"621 Solomon Inlet Apt. 884\"},\"age\":59,\"created_at\":\"2024-01-21 22:46:11.826627\",\"email\":\"harrislee@example.org\",\"last_login\":\"2025-08-30 20:25:36.134470\",\"name\":\"Cheryl Anderson\",\"phone\":\"+1-427-901-6461x7709\",\"preferences\":{\"newsletter\":false,\"notifications\":{\"email\":false,\"frequency\":\"never\",\"push\":false,\"sms\":false},\"privacy\":{\"profile_visible\":false,\"show_email\":true,\"show_location\":false}},\"profile\":{\"bio\":\"Activity over quality. Machine child of worker set suddenly.\\nStory space husband especially student fish. She six him.\\nBest size your leader market. Image staff just laugh party.\",\"company\":\"Taylor Group\",\"interests\":[\"support\",\"collection\",\"believe\",\"minute\",\"population\"],\"occupation\":\"Environmental education officer\",\"skills\":[]},\"user_id\":\"656bfd74-052b-45e6-b4bc-7b41b03cb9fe\",\"username\":\"ngraves\"}|2025-09-23 04:51:33.289427|\n",
      "|5eb0f011-ae02-4556-b96c-ab800913e18a|leonerica    |wtaylor@example.com      |{\"address\":{\"city\":\"Josephton\",\"coordinates\":{\"latitude\":33.285038,\"longitude\":-111.721294},\"country\":\"Tonga\",\"postal_code\":\"87344\",\"state\":\"Indiana\",\"street\":\"464 Kim Shores\"},\"age\":32,\"created_at\":\"2022-03-07 08:04:37.159920\",\"email\":\"wtaylor@example.com\",\"last_login\":\"2025-09-16 01:45:45.862838\",\"name\":\"John Chase\",\"phone\":\"9636655605\",\"preferences\":{\"newsletter\":false,\"notifications\":{\"email\":true,\"frequency\":\"never\",\"push\":false,\"sms\":false},\"privacy\":{\"profile_visible\":false,\"show_email\":false,\"show_location\":true}},\"profile\":{\"bio\":\"Organization executive pattern push TV result full over. Happy yard resource rate voice culture technology foot. Describe organization eight record high.\",\"company\":\"Johnson-Rodriguez\",\"interests\":[\"respond\",\"move\",\"house\",\"majority\",\"ago\"],\"occupation\":\"Emergency planning/management officer\",\"skills\":[\"Marine scientist\",\"Physiotherapist\"]},\"user_id\":\"5eb0f011-ae02-4556-b96c-ab800913e18a\",\"username\":\"leonerica\"}                            |2025-09-23 04:51:33.289427|\n",
      "|f91577de-bb69-4271-8bc1-972b188506d6|smithandres  |logananderson@example.com|{\"address\":{\"city\":\"Lake Whitney\",\"coordinates\":{\"latitude\":53.805446,\"longitude\":177.358963},\"country\":\"Dominica\",\"postal_code\":\"72085\",\"state\":\"Florida\",\"street\":\"8087 Ronald Course\"},\"age\":37,\"created_at\":\"2021-06-16 08:01:58.085815\",\"email\":\"logananderson@example.com\",\"last_login\":\"2025-09-16 14:43:53.959755\",\"name\":\"Brendan Martinez\",\"preferences\":{\"newsletter\":false,\"notifications\":{\"email\":false,\"frequency\":\"weekly\",\"push\":true,\"sms\":true},\"privacy\":{\"profile_visible\":false,\"show_email\":false,\"show_location\":true}},\"profile\":{\"bio\":\"Old environment hotel under. Concern result cost avoid. Send partner how low actually.\\nUsually relationship area event official so in attorney. Top able wonder key responsibility position remember.\",\"company\":\"Weaver Group\",\"interests\":[\"establish\",\"allow\",\"six\",\"hear\",\"event\"],\"occupation\":\"Administrator, arts\",\"skills\":[]},\"user_id\":\"f91577de-bb69-4271-8bc1-972b188506d6\",\"username\":\"smithandres\"}                                         |2025-09-23 04:51:33.289427|\n",
      "|b0d48cd5-df44-45f7-b65f-fcbcbd6ba7da|wbrown       |michael55@example.net    |{\"address\":{\"city\":\"East Stephanie\",\"coordinates\":{\"latitude\":-59.9326605,\"longitude\":160.458458},\"country\":\"Lao People's Democratic Republic\",\"postal_code\":\"09649\",\"state\":\"Oklahoma\",\"street\":\"364 Brandi Port\"},\"age\":57,\"created_at\":\"2021-09-02 13:32:13.580130\",\"email\":\"michael55@example.net\",\"last_login\":\"2025-08-26 04:50:55.374557\",\"name\":\"Stephen Meadows\",\"preferences\":{\"newsletter\":true,\"notifications\":{\"email\":true,\"frequency\":\"never\",\"push\":true,\"sms\":true},\"privacy\":{\"profile_visible\":false,\"show_email\":true,\"show_location\":true}},\"profile\":{\"bio\":\"Record traditional move parent hand. Image fall cut subject reason ahead.\\nAmerican professional perhaps hotel.\",\"company\":\"Mendez PLC\",\"interests\":[\"page\"],\"occupation\":\"Phytotherapist\",\"skills\":[\"Orthoptist\",\"Food technologist\",\"Firefighter\"]},\"user_id\":\"b0d48cd5-df44-45f7-b65f-fcbcbd6ba7da\",\"username\":\"wbrown\"}                                                                                                               |2025-09-23 04:51:33.289427|\n",
      "|2163b1ef-1b60-47a4-86e5-832ec5ac1677|richardguerra|donnamccoy@example.net   |{\"address\":{\"city\":\"Kimside\",\"coordinates\":{\"latitude\":14.2700605,\"longitude\":-161.868946},\"country\":\"Syrian Arab Republic\",\"postal_code\":\"79317\",\"state\":\"Maryland\",\"street\":\"653 Jason Rapid\"},\"age\":62,\"created_at\":\"2021-11-27 00:27:36.743444\",\"email\":\"donnamccoy@example.net\",\"last_login\":\"2025-09-01 02:38:27.882127\",\"name\":\"Brent Fernandez\",\"preferences\":{\"newsletter\":false,\"notifications\":{\"email\":true,\"frequency\":\"weekly\",\"push\":false,\"sms\":false},\"privacy\":{\"profile_visible\":true,\"show_email\":false,\"show_location\":false}},\"profile\":{\"bio\":\"Character fish car hour another issue growth knowledge. Up instead protect writer ability country often. Whom ability which role why agency risk.\",\"company\":\"Vazquez-Gray\",\"interests\":[\"color\",\"more\",\"subject\",\"hotel\"],\"occupation\":\"Air cabin crew\",\"skills\":[\"Engineer, site\",\"Surveyor, rural practice\"]},\"user_id\":\"2163b1ef-1b60-47a4-86e5-832ec5ac1677\",\"username\":\"richardguerra\"}                                                          |2025-09-23 04:51:33.289427|\n",
      "+------------------------------------+-------------+-------------------------+-----------------------------------------------------------------------------------------------------------------------------------------------------------------------------------------------------------------------------------------------------------------------------------------------------------------------------------------------------------------------------------------------------------------------------------------------------------------------------------------------------------------------------------------------------------------------------------------------------------------------------------------------------------------------------------------------------------------------------------------------------------------------------------------------------------------------------------------------------------------------------------------------------------------------------------------------------------------------------------------------------------------------------+--------------------------+\n",
      "\n"
     ]
    }
   ],
   "source": [
    "# Method 1: Load from JSON file using PARSE_JSON\n",
    "spark.sql(f\"\"\"\n",
    "    INSERT INTO users_variant (user_id, username, email, user_data)\n",
    "    SELECT \n",
    "        PARSE_JSON(value):user_id as user_id,\n",
    "        PARSE_JSON(value):username as username,\n",
    "        PARSE_JSON(value):email as email,\n",
    "        PARSE_JSON(value) as user_data\n",
    "    FROM (\n",
    "        SELECT value \n",
    "        FROM text.`{jsonl_file_path}`\n",
    "    )\n",
    "\"\"\")\n",
    "\n",
    "count = spark.sql(\"SELECT COUNT(*) FROM users_variant\").collect()[0][0]\n",
    "print(f\"✅ Loaded {count} records into users_variant using PARSE_JSON\")\n",
    "\n",
    "# Show sample data\n",
    "print(\"\\nSample data from users_variant:\")\n",
    "spark.sql(\"SELECT * FROM users_variant LIMIT 5\").show(truncate=False)\n"
   ]
  },
  {
   "cell_type": "code",
   "execution_count": 8,
   "id": "9f4dac47",
   "metadata": {},
   "outputs": [
    {
     "data": {
      "application/vnd.jupyter.widget-view+json": {
       "model_id": "e2970db622d240529d0290909782fe30",
       "version_major": 2,
       "version_minor": 0
      },
      "text/plain": [
       "HBox(children=(IntProgress(value=0, bar_style='success'), Label(value='')))"
      ]
     },
     "metadata": {},
     "output_type": "display_data"
    },
    {
     "data": {
      "application/vnd.jupyter.widget-view+json": {
       "model_id": "6b9323385ba344ae82bf9e8ecf6f94ad",
       "version_major": 2,
       "version_minor": 0
      },
      "text/plain": [
       "HBox(children=(IntProgress(value=0, bar_style='success'), Label(value='')))"
      ]
     },
     "metadata": {},
     "output_type": "display_data"
    },
    {
     "name": "stdout",
     "output_type": "stream",
     "text": [
      "✅ Loaded 1000 records into users_extracted with extracted fields\n",
      "\n",
      "Sample data from users_extracted (with extracted fields):\n"
     ]
    },
    {
     "data": {
      "application/vnd.jupyter.widget-view+json": {
       "model_id": "af38a9f3a1a84790b8d1cf4150d13c0e",
       "version_major": 2,
       "version_minor": 0
      },
      "text/plain": [
       "HBox(children=(IntProgress(value=0, bar_style='success'), Label(value='')))"
      ]
     },
     "metadata": {},
     "output_type": "display_data"
    },
    {
     "name": "stdout",
     "output_type": "stream",
     "text": [
      "+------------------------------------+----------------+---+------------------+-----------------+\n",
      "|user_id                             |name            |age|city              |subscription_tier|\n",
      "+------------------------------------+----------------+---+------------------+-----------------+\n",
      "|656bfd74-052b-45e6-b4bc-7b41b03cb9fe|Cheryl Anderson |59 |East Michelleville|NULL             |\n",
      "|5eb0f011-ae02-4556-b96c-ab800913e18a|John Chase      |32 |Josephton         |NULL             |\n",
      "|f91577de-bb69-4271-8bc1-972b188506d6|Brendan Martinez|37 |Lake Whitney      |NULL             |\n",
      "|b0d48cd5-df44-45f7-b65f-fcbcbd6ba7da|Stephen Meadows |57 |East Stephanie    |NULL             |\n",
      "|2163b1ef-1b60-47a4-86e5-832ec5ac1677|Brent Fernandez |62 |Kimside           |NULL             |\n",
      "+------------------------------------+----------------+---+------------------+-----------------+\n",
      "\n"
     ]
    }
   ],
   "source": [
    "# Method 2: Load data with extracted fields for optimized queries\n",
    "spark.sql(f\"\"\"\n",
    "    INSERT INTO users_extracted \n",
    "    SELECT \n",
    "        PARSE_JSON(value):user_id as user_id,\n",
    "        PARSE_JSON(value):username as username,\n",
    "        PARSE_JSON(value):email as email,\n",
    "        PARSE_JSON(value):name as name,\n",
    "        CAST(PARSE_JSON(value):age AS INT) as age,\n",
    "        PARSE_JSON(value):address.city as city,\n",
    "        PARSE_JSON(value):address.country as country,\n",
    "        PARSE_JSON(value):subscription.tier as subscription_tier,\n",
    "        PARSE_JSON(value) as user_data,\n",
    "        CURRENT_TIMESTAMP() as ingestion_timestamp\n",
    "    FROM (\n",
    "        SELECT value \n",
    "        FROM text.`{jsonl_file_path}`\n",
    "    )\n",
    "\"\"\")\n",
    "\n",
    "count = spark.sql(\"SELECT COUNT(*) FROM users_extracted\").collect()[0][0]\n",
    "print(f\"✅ Loaded {count} records into users_extracted with extracted fields\")\n",
    "\n",
    "# Show sample\n",
    "print(\"\\nSample data from users_extracted (with extracted fields):\")\n",
    "spark.sql(\"SELECT user_id, name, age, city, subscription_tier FROM users_extracted LIMIT 5\").show(truncate=False)\n"
   ]
  },
  {
   "cell_type": "markdown",
   "id": "0d16a82d",
   "metadata": {},
   "source": [
    "## VARIANT Query Notation Reference\n",
    "\n",
    "Before diving into examples, here's the correct notation for querying VARIANT data:\n",
    "\n",
    "### Basic Notation Rules:\n",
    "\n",
    "1. **Field Access**: Use `:` to access top-level fields\n",
    "   ```sql\n",
    "   column_name:field_name\n",
    "   ```\n",
    "\n",
    "2. **Subfield Access**: Use `.` to access nested fields\n",
    "   ```sql\n",
    "   column_name:field_name.subfield_name\n",
    "   ```\n",
    "\n",
    "3. **Array Element Access**: Use `[n]` to access array elements by index\n",
    "   ```sql\n",
    "   column_name:array_name[0]  -- First element (0-indexed)\n",
    "   column_name:array_name[1]  -- Second element\n",
    "   ```\n",
    "\n",
    "### Examples:\n",
    "\n",
    "```sql\n",
    "-- Correct VARIANT notation examples\n",
    "SELECT \n",
    "  user_data:name as name,                           -- Field access\n",
    "  user_data:age as age,                             -- Field access\n",
    "  user_data:profile.bio as bio,                     -- Subfield access\n",
    "  user_data:address.city as city,                   -- Nested subfield\n",
    "  user_data:address.coordinates.latitude as lat,    -- Deeply nested subfield\n",
    "  user_data:interests[0] as first_interest,         -- Array element access\n",
    "  user_data:profile.skills[1] as second_skill       -- Array element in nested object\n",
    "FROM users_variant;\n",
    "```\n"
   ]
  },
  {
   "cell_type": "markdown",
   "id": "c44139d9",
   "metadata": {},
   "source": [
    "## 4. Querying VARIANT Data - Basic Access Patterns\n",
    "\n",
    "Let's explore different ways to access and query data stored in VARIANT columns.\n"
   ]
  },
  {
   "cell_type": "code",
   "execution_count": 9,
   "id": "7240c5db",
   "metadata": {},
   "outputs": [
    {
     "name": "stdout",
     "output_type": "stream",
     "text": [
      "=== Accessing Nested Fields ===\n",
      "\n",
      "VARIANT Query Notation:\n",
      "- Field access: column_name:field_name\n",
      "- Subfield access: column_name:field_name.subfield_name\n",
      "- Array access: column_name:array_name[n]\n",
      "\n"
     ]
    },
    {
     "data": {
      "application/vnd.jupyter.widget-view+json": {
       "model_id": "f57a3d14e38846b2b0da45459e0845de",
       "version_major": 2,
       "version_minor": 0
      },
      "text/plain": [
       "HBox(children=(IntProgress(value=0, bar_style='success'), Label(value='')))"
      ]
     },
     "metadata": {},
     "output_type": "display_data"
    },
    {
     "name": "stdout",
     "output_type": "stream",
     "text": [
      "+------------------------------------+------------------+---+--------------------------------------------------------------------------------------------------------------------------------------------------------------------------------------------------------+---------------------------------------+--------------------+-----------+-----------+\n",
      "|user_id                             |name              |age|bio                                                                                                                                                                                                     |occupation                             |city                |latitude   |longitude  |\n",
      "+------------------------------------+------------------+---+--------------------------------------------------------------------------------------------------------------------------------------------------------------------------------------------------------+---------------------------------------+--------------------+-----------+-----------+\n",
      "|656bfd74-052b-45e6-b4bc-7b41b03cb9fe|\"Cheryl Anderson\" |59 |\"Activity over quality. Machine child of worker set suddenly.\\nStory space husband especially student fish. She six him.\\nBest size your leader market. Image staff just laugh party.\"                  |\"Environmental education officer\"      |\"East Michelleville\"|34.012991  |43.405972  |\n",
      "|5eb0f011-ae02-4556-b96c-ab800913e18a|\"John Chase\"      |32 |\"Organization executive pattern push TV result full over. Happy yard resource rate voice culture technology foot. Describe organization eight record high.\"                                             |\"Emergency planning/management officer\"|\"Josephton\"         |33.285038  |-111.721294|\n",
      "|f91577de-bb69-4271-8bc1-972b188506d6|\"Brendan Martinez\"|37 |\"Old environment hotel under. Concern result cost avoid. Send partner how low actually.\\nUsually relationship area event official so in attorney. Top able wonder key responsibility position remember.\"|\"Administrator, arts\"                  |\"Lake Whitney\"      |53.805446  |177.358963 |\n",
      "|b0d48cd5-df44-45f7-b65f-fcbcbd6ba7da|\"Stephen Meadows\" |57 |\"Record traditional move parent hand. Image fall cut subject reason ahead.\\nAmerican professional perhaps hotel.\"                                                                                       |\"Phytotherapist\"                       |\"East Stephanie\"    |-59.9326605|160.458458 |\n",
      "|2163b1ef-1b60-47a4-86e5-832ec5ac1677|\"Brent Fernandez\" |62 |\"Character fish car hour another issue growth knowledge. Up instead protect writer ability country often. Whom ability which role why agency risk.\"                                                     |\"Air cabin crew\"                       |\"Kimside\"           |14.2700605 |-161.868946|\n",
      "+------------------------------------+------------------+---+--------------------------------------------------------------------------------------------------------------------------------------------------------------------------------------------------------+---------------------------------------+--------------------+-----------+-----------+\n",
      "\n"
     ]
    }
   ],
   "source": [
    "# Accessing nested fields using correct VARIANT notation\n",
    "print(\"=== Accessing Nested Fields ===\\n\")\n",
    "print(\"VARIANT Query Notation:\")\n",
    "print(\"- Field access: column_name:field_name\")\n",
    "print(\"- Subfield access: column_name:field_name.subfield_name\") \n",
    "print(\"- Array access: column_name:array_name[n]\")\n",
    "print()\n",
    "\n",
    "spark.sql(\"\"\"\n",
    "    SELECT \n",
    "        user_id,\n",
    "        user_data:name as name,\n",
    "        user_data:age as age,\n",
    "        user_data:profile.bio as bio,\n",
    "        user_data:profile.occupation as occupation,\n",
    "        user_data:address.city as city,\n",
    "        user_data:address.coordinates.latitude as latitude,\n",
    "        user_data:address.coordinates.longitude as longitude\n",
    "    FROM users_variant\n",
    "    LIMIT 5\n",
    "\"\"\").show(truncate=False)\n"
   ]
  },
  {
   "cell_type": "code",
   "execution_count": 10,
   "id": "b4e636f8",
   "metadata": {},
   "outputs": [
    {
     "name": "stdout",
     "output_type": "stream",
     "text": [
      "\n",
      "=== is_variant_null Function Examples ===\n",
      "\n",
      "Basic example - difference between is_variant_null() and IS NULL:\n"
     ]
    },
    {
     "data": {
      "application/vnd.jupyter.widget-view+json": {
       "model_id": "8758ecf2b8704314b9b705f3e2af6379",
       "version_major": 2,
       "version_minor": 0
      },
      "text/plain": [
       "HBox(children=(IntProgress(value=0, bar_style='success'), Label(value='')))"
      ]
     },
     "metadata": {},
     "output_type": "display_data"
    },
    {
     "name": "stdout",
     "output_type": "stream",
     "text": [
      "+--------------------+-------------------+-----------+\n",
      "|                data|age_is_variant_null|age_is_null|\n",
      "+--------------------+-------------------+-----------+\n",
      "|{\"age\":null,\"name...|               true|      false|\n",
      "+--------------------+-------------------+-----------+\n",
      "\n",
      "\n",
      "Filtering records where city is variant null:\n",
      "+------+----+\n",
      "|  name|city|\n",
      "+------+----+\n",
      "|\"John\"|null|\n",
      "| \"Bob\"|null|\n",
      "+------+----+\n",
      "\n",
      "\n",
      "✅ Simple examples of is_variant_null function!\n",
      "📚 Reference: https://docs.databricks.com/gcp/en/sql/language-manual/functions/is_variant_null\n"
     ]
    }
   ],
   "source": [
    "# Handling NULL values in VARIANT with is_variant_null function\n",
    "print(\"\\n=== is_variant_null Function Examples ===\\n\")\n",
    "\n",
    "# Simple example: is_variant_null vs IS NULL\n",
    "print(\"Basic example - difference between is_variant_null() and IS NULL:\")\n",
    "spark.sql(\"\"\"\n",
    "    SELECT \n",
    "        parse_json('{\"name\": \"John\", \"age\": null}') as data,\n",
    "        is_variant_null(parse_json('{\"name\": \"John\", \"age\": null}'):age) as age_is_variant_null,\n",
    "        parse_json('{\"name\": \"John\", \"age\": null}'):age IS NULL as age_is_null\n",
    "\"\"\").show()\n",
    "\n",
    "# Filtering with is_variant_null\n",
    "print(\"\\nFiltering records where city is variant null:\")\n",
    "spark.sql(\"\"\"\n",
    "    SELECT \n",
    "        data:name as name,\n",
    "        data:city as city\n",
    "    FROM VALUES\n",
    "        (parse_json('{\"name\": \"John\", \"city\": null}')),\n",
    "        (parse_json('{\"name\": \"Jane\", \"city\": \"NYC\"}')),\n",
    "        (parse_json('{\"name\": \"Bob\", \"city\": null}'))\n",
    "    AS T(data)\n",
    "    WHERE is_variant_null(data:city) = true\n",
    "\"\"\").show()\n",
    "\n",
    "print(\"\\n✅ Simple examples of is_variant_null function!\")\n",
    "print(\"📚 Reference: https://docs.databricks.com/gcp/en/sql/language-manual/functions/is_variant_null\")\n"
   ]
  },
  {
   "cell_type": "code",
   "execution_count": 11,
   "id": "c9d704fd",
   "metadata": {},
   "outputs": [
    {
     "name": "stdout",
     "output_type": "stream",
     "text": [
      "=== Accessing Array Elements in VARIANT ===\n",
      "\n"
     ]
    },
    {
     "data": {
      "application/vnd.jupyter.widget-view+json": {
       "model_id": "4d151b15cfed4150b221dba2c35255a5",
       "version_major": 2,
       "version_minor": 0
      },
      "text/plain": [
       "HBox(children=(IntProgress(value=0, bar_style='success'), Label(value='')))"
      ]
     },
     "metadata": {},
     "output_type": "display_data"
    },
    {
     "name": "stdout",
     "output_type": "stream",
     "text": [
      "+------------------------------------+-------------+--------------+---------------+---------------+------------------------------------------------+\n",
      "|user_id                             |username     |first_interest|second_interest|total_interests|all_skills                                      |\n",
      "+------------------------------------+-------------+--------------+---------------+---------------+------------------------------------------------+\n",
      "|656bfd74-052b-45e6-b4bc-7b41b03cb9fe|ngraves      |\"support\"     |\"collection\"   |5              |[]                                              |\n",
      "|5eb0f011-ae02-4556-b96c-ab800913e18a|leonerica    |\"respond\"     |\"move\"         |5              |[\"Marine scientist\",\"Physiotherapist\"]          |\n",
      "|f91577de-bb69-4271-8bc1-972b188506d6|smithandres  |\"establish\"   |\"allow\"        |5              |[]                                              |\n",
      "|b0d48cd5-df44-45f7-b65f-fcbcbd6ba7da|wbrown       |\"page\"        |NULL           |1              |[\"Orthoptist\",\"Food technologist\",\"Firefighter\"]|\n",
      "|2163b1ef-1b60-47a4-86e5-832ec5ac1677|richardguerra|\"color\"       |\"more\"         |4              |[\"Engineer, site\",\"Surveyor, rural practice\"]   |\n",
      "+------------------------------------+-------------+--------------+---------------+---------------+------------------------------------------------+\n",
      "\n",
      "\n",
      "=== Exploding Arrays from VARIANT ===\n",
      "\n"
     ]
    },
    {
     "data": {
      "application/vnd.jupyter.widget-view+json": {
       "model_id": "500e543e38784b23ab4089fc93721e98",
       "version_major": 2,
       "version_minor": 0
      },
      "text/plain": [
       "HBox(children=(IntProgress(value=0, bar_style='success'), Label(value='')))"
      ]
     },
     "metadata": {},
     "output_type": "display_data"
    },
    {
     "name": "stdout",
     "output_type": "stream",
     "text": [
      "+------------------------------------+---------+------------+\n",
      "|user_id                             |username |interest    |\n",
      "+------------------------------------+---------+------------+\n",
      "|656bfd74-052b-45e6-b4bc-7b41b03cb9fe|ngraves  |\"support\"   |\n",
      "|656bfd74-052b-45e6-b4bc-7b41b03cb9fe|ngraves  |\"collection\"|\n",
      "|656bfd74-052b-45e6-b4bc-7b41b03cb9fe|ngraves  |\"believe\"   |\n",
      "|656bfd74-052b-45e6-b4bc-7b41b03cb9fe|ngraves  |\"minute\"    |\n",
      "|656bfd74-052b-45e6-b4bc-7b41b03cb9fe|ngraves  |\"population\"|\n",
      "|5eb0f011-ae02-4556-b96c-ab800913e18a|leonerica|\"respond\"   |\n",
      "|5eb0f011-ae02-4556-b96c-ab800913e18a|leonerica|\"move\"      |\n",
      "|5eb0f011-ae02-4556-b96c-ab800913e18a|leonerica|\"house\"     |\n",
      "|5eb0f011-ae02-4556-b96c-ab800913e18a|leonerica|\"majority\"  |\n",
      "|5eb0f011-ae02-4556-b96c-ab800913e18a|leonerica|\"ago\"       |\n",
      "+------------------------------------+---------+------------+\n",
      "\n"
     ]
    }
   ],
   "source": [
    "# Accessing array elements within VARIANT\n",
    "print(\"=== Accessing Array Elements in VARIANT ===\\n\")\n",
    "\n",
    "spark.sql(\"\"\"\n",
    "    SELECT \n",
    "        user_id,\n",
    "        username,\n",
    "        user_data:profile.interests[0] as first_interest,\n",
    "        user_data:profile.interests[1] as second_interest,\n",
    "        SIZE(CAST(user_data:profile.interests AS ARRAY<STRING>)) as total_interests,\n",
    "        user_data:profile.skills as all_skills\n",
    "    FROM users_variant\n",
    "    WHERE NOT IS_VARIANT_NULL(user_data:profile.interests)\n",
    "    LIMIT 5\n",
    "\"\"\").show(truncate=False)\n",
    "\n",
    "# Using VARIANT_EXPLODE with arrays in VARIANT\n",
    "print(\"\\n=== Exploding Arrays from VARIANT ===\\n\")\n",
    "\n",
    "spark.sql(\"\"\"\n",
    "    SELECT \n",
    "        user_id,\n",
    "        username,\n",
    "        value as interest\n",
    "    FROM users_variant,\n",
    "    LATERAL VARIANT_EXPLODE(user_data:profile.interests)\n",
    "    LIMIT 10\n",
    "\"\"\").show(truncate=False)\n"
   ]
  },
  {
   "cell_type": "markdown",
   "id": "0c78006e",
   "metadata": {},
   "source": [
    "## 5. Type Casting and Conversion with VARIANT\n",
    "\n",
    "VARIANT columns can be cast to specific types when needed.\n"
   ]
  },
  {
   "cell_type": "code",
   "execution_count": 12,
   "id": "330c3e37",
   "metadata": {},
   "outputs": [
    {
     "name": "stdout",
     "output_type": "stream",
     "text": [
      "=== Type Casting VARIANT Fields ===\n",
      "\n"
     ]
    },
    {
     "data": {
      "application/vnd.jupyter.widget-view+json": {
       "model_id": "586cbd6870564b1dbb78d9e1258c6764",
       "version_major": 2,
       "version_minor": 0
      },
      "text/plain": [
       "HBox(children=(IntProgress(value=0, bar_style='success'), Label(value='')))"
      ]
     },
     "metadata": {},
     "output_type": "display_data"
    },
    {
     "name": "stdout",
     "output_type": "stream",
     "text": [
      "+--------------------+-----------+-------+--------------------+---------------+---------------+\n",
      "|             user_id|age_variant|age_int|   created_timestamp|newsletter_bool|login_count_int|\n",
      "+--------------------+-----------+-------+--------------------+---------------+---------------+\n",
      "|656bfd74-052b-45e...|         59|     59|2024-01-21 22:46:...|          false|           NULL|\n",
      "|5eb0f011-ae02-455...|         32|     32|2022-03-07 08:04:...|          false|           NULL|\n",
      "|f91577de-bb69-427...|         37|     37|2021-06-16 08:01:...|          false|           NULL|\n",
      "|b0d48cd5-df44-45f...|         57|     57|2021-09-02 13:32:...|           true|           NULL|\n",
      "|2163b1ef-1b60-47a...|         62|     62|2021-11-27 00:27:...|          false|           NULL|\n",
      "+--------------------+-----------+-------+--------------------+---------------+---------------+\n",
      "\n",
      "\n",
      "=== Safe Casting with TRY_CAST ===\n",
      "\n"
     ]
    },
    {
     "data": {
      "application/vnd.jupyter.widget-view+json": {
       "model_id": "1abe569941da4625b0f3b216464f867b",
       "version_major": 2,
       "version_minor": 0
      },
      "text/plain": [
       "HBox(children=(IntProgress(value=0, bar_style='success'), Label(value='')))"
      ]
     },
     "metadata": {},
     "output_type": "display_data"
    },
    {
     "name": "stdout",
     "output_type": "stream",
     "text": [
      "+--------------------+---+-----------------+-----------+--------------------+--------------------+\n",
      "|             user_id|age|subscription_date|posts_count|        phone_number|     last_login_time|\n",
      "+--------------------+---+-----------------+-----------+--------------------+--------------------+\n",
      "|656bfd74-052b-45e...| 59|             NULL|       NULL|+1-427-901-6461x7709|2025-08-30 20:25:...|\n",
      "|5eb0f011-ae02-455...| 32|             NULL|       NULL|          9636655605|2025-09-16 01:45:...|\n",
      "|f91577de-bb69-427...| 37|             NULL|       NULL|                NULL|2025-09-16 14:43:...|\n",
      "|b0d48cd5-df44-45f...| 57|             NULL|       NULL|                NULL|2025-08-26 04:50:...|\n",
      "|2163b1ef-1b60-47a...| 62|             NULL|       NULL|                NULL|2025-09-01 02:38:...|\n",
      "+--------------------+---+-----------------+-----------+--------------------+--------------------+\n",
      "\n"
     ]
    }
   ],
   "source": [
    "# Type casting VARIANT fields\n",
    "print(\"=== Type Casting VARIANT Fields ===\\n\")\n",
    "\n",
    "spark.sql(\"\"\"\n",
    "    SELECT \n",
    "        user_id,\n",
    "        user_data:age as age_variant,\n",
    "        CAST(user_data:age AS INT) as age_int,\n",
    "        CAST(user_data:created_at AS TIMESTAMP) as created_timestamp,\n",
    "        CAST(user_data:preferences.newsletter AS BOOLEAN) as newsletter_bool,\n",
    "        CAST(user_data:metrics.login_count AS INT) as login_count_int\n",
    "    FROM users_variant\n",
    "    LIMIT 5\n",
    "\"\"\").show()\n",
    "\n",
    "# Using TRY_CAST for safe casting (handles nulls gracefully)\n",
    "print(\"\\n=== Safe Casting with TRY_CAST ===\\n\")\n",
    "\n",
    "spark.sql(\"\"\"\n",
    "    SELECT \n",
    "        user_id,\n",
    "        TRY_CAST(user_data:age AS INT) as age,\n",
    "        TRY_CAST(user_data:subscription.start_date AS DATE) as subscription_date,\n",
    "        TRY_CAST(user_data:metrics.posts_created AS INT) as posts_count,\n",
    "        TRY_CAST(user_data:phone AS STRING) as phone_number,\n",
    "        TRY_CAST(user_data:last_login AS TIMESTAMP) as last_login_time\n",
    "    FROM users_variant\n",
    "    LIMIT 5\n",
    "\"\"\").show()\n"
   ]
  },
  {
   "cell_type": "markdown",
   "id": "7b48d029",
   "metadata": {},
   "source": [
    "## 6. VARIANT Functions and Operations\n",
    "\n",
    "Databricks provides several functions specifically for working with VARIANT data.\n"
   ]
  },
  {
   "cell_type": "code",
   "execution_count": 13,
   "id": "097d7806",
   "metadata": {},
   "outputs": [
    {
     "name": "stdout",
     "output_type": "stream",
     "text": [
      "=== Using VARIANT_GET Function ===\n",
      "\n"
     ]
    },
    {
     "data": {
      "application/vnd.jupyter.widget-view+json": {
       "model_id": "65dfba93999e4c37b3883219fda63bf2",
       "version_major": 2,
       "version_minor": 0
      },
      "text/plain": [
       "HBox(children=(IntProgress(value=0, bar_style='success'), Label(value='')))"
      ]
     },
     "metadata": {},
     "output_type": "display_data"
    },
    {
     "name": "stdout",
     "output_type": "stream",
     "text": [
      "+------------------------------------+----------------+---+--------------------------------------------------+-------------+\n",
      "|user_id                             |name            |age|interests                                         |missing_field|\n",
      "+------------------------------------+----------------+---+--------------------------------------------------+-------------+\n",
      "|656bfd74-052b-45e6-b4bc-7b41b03cb9fe|Cheryl Anderson |59 |[support, collection, believe, minute, population]|NULL         |\n",
      "|5eb0f011-ae02-4556-b96c-ab800913e18a|John Chase      |32 |[respond, move, house, majority, ago]             |NULL         |\n",
      "|f91577de-bb69-4271-8bc1-972b188506d6|Brendan Martinez|37 |[establish, allow, six, hear, event]              |NULL         |\n",
      "+------------------------------------+----------------+---+--------------------------------------------------+-------------+\n",
      "\n"
     ]
    }
   ],
   "source": [
    "# VARIANT_GET function to safely extract values\n",
    "print(\"=== Using VARIANT_GET Function ===\\n\")\n",
    "\n",
    "spark.sql(\"\"\"\n",
    "    SELECT \n",
    "        user_id,\n",
    "        VARIANT_GET(user_data, '$.name', 'STRING') as name,\n",
    "        VARIANT_GET(user_data, '$.age', 'INT') as age,\n",
    "        VARIANT_GET(user_data, '$.profile.interests', 'ARRAY<STRING>') as interests,\n",
    "        VARIANT_GET(user_data, '$.non_existent_field', 'STRING') as missing_field\n",
    "    FROM users_variant\n",
    "    LIMIT 3\n",
    "\"\"\").show(truncate=False)\n"
   ]
  },
  {
   "cell_type": "code",
   "execution_count": 14,
   "id": "23a91cd5",
   "metadata": {},
   "outputs": [
    {
     "name": "stdout",
     "output_type": "stream",
     "text": [
      "=== Converting between VARIANT and JSON strings ===\n",
      "\n"
     ]
    },
    {
     "data": {
      "application/vnd.jupyter.widget-view+json": {
       "model_id": "4d41ab5892024ecea1e51f352378a3a4",
       "version_major": 2,
       "version_minor": 0
      },
      "text/plain": [
       "HBox(children=(IntProgress(value=0, bar_style='success'), Label(value='')))"
      ]
     },
     "metadata": {},
     "output_type": "display_data"
    },
    {
     "name": "stdout",
     "output_type": "stream",
     "text": [
      "+------------------------------------+-----------------------------------------------------------------------------------------------------------------------------------------------------------------------------------------------------------------------------------------------------------------------------------------------------------------------------------------------------------------------------------------------------------------------------------------------------------------------------------------------------------------------------------------------------------------------------------------------------------------------------------------------------------------------------------------------------------------------------------------------------------------------------------------------------------------------------------------------------------------------------------------------------------------------------------------------------------------------------------------------------------------------------+-----------+----------------------------------------------------------------------------------------------------------------------------------------------------------------------------------------+\n",
      "|user_id                             |json_string                                                                                                                                                                                                                                                                                                                                                                                                                                                                                                                                                                                                                                                                                                                                                                                                                                                                                                                                                                                                                  |json_length|address_variant                                                                                                                                                                         |\n",
      "+------------------------------------+-----------------------------------------------------------------------------------------------------------------------------------------------------------------------------------------------------------------------------------------------------------------------------------------------------------------------------------------------------------------------------------------------------------------------------------------------------------------------------------------------------------------------------------------------------------------------------------------------------------------------------------------------------------------------------------------------------------------------------------------------------------------------------------------------------------------------------------------------------------------------------------------------------------------------------------------------------------------------------------------------------------------------------+-----------+----------------------------------------------------------------------------------------------------------------------------------------------------------------------------------------+\n",
      "|656bfd74-052b-45e6-b4bc-7b41b03cb9fe|{\"address\":{\"city\":\"East Michelleville\",\"coordinates\":{\"latitude\":34.012991,\"longitude\":43.405972},\"country\":\"Oman\",\"postal_code\":\"28028\",\"state\":\"New York\",\"street\":\"621 Solomon Inlet Apt. 884\"},\"age\":59,\"created_at\":\"2024-01-21 22:46:11.826627\",\"email\":\"harrislee@example.org\",\"last_login\":\"2025-08-30 20:25:36.134470\",\"name\":\"Cheryl Anderson\",\"phone\":\"+1-427-901-6461x7709\",\"preferences\":{\"newsletter\":false,\"notifications\":{\"email\":false,\"frequency\":\"never\",\"push\":false,\"sms\":false},\"privacy\":{\"profile_visible\":false,\"show_email\":true,\"show_location\":false}},\"profile\":{\"bio\":\"Activity over quality. Machine child of worker set suddenly.\\nStory space husband especially student fish. She six him.\\nBest size your leader market. Image staff just laugh party.\",\"company\":\"Taylor Group\",\"interests\":[\"support\",\"collection\",\"believe\",\"minute\",\"population\"],\"occupation\":\"Environmental education officer\",\"skills\":[]},\"user_id\":\"656bfd74-052b-45e6-b4bc-7b41b03cb9fe\",\"username\":\"ngraves\"}|989        |{\"city\":\"East Michelleville\",\"coordinates\":{\"latitude\":34.012991,\"longitude\":43.405972},\"country\":\"Oman\",\"postal_code\":\"28028\",\"state\":\"New York\",\"street\":\"621 Solomon Inlet Apt. 884\"}|\n",
      "|5eb0f011-ae02-4556-b96c-ab800913e18a|{\"address\":{\"city\":\"Josephton\",\"coordinates\":{\"latitude\":33.285038,\"longitude\":-111.721294},\"country\":\"Tonga\",\"postal_code\":\"87344\",\"state\":\"Indiana\",\"street\":\"464 Kim Shores\"},\"age\":32,\"created_at\":\"2022-03-07 08:04:37.159920\",\"email\":\"wtaylor@example.com\",\"last_login\":\"2025-09-16 01:45:45.862838\",\"name\":\"John Chase\",\"phone\":\"9636655605\",\"preferences\":{\"newsletter\":false,\"notifications\":{\"email\":true,\"frequency\":\"never\",\"push\":false,\"sms\":false},\"privacy\":{\"profile_visible\":false,\"show_email\":false,\"show_location\":true}},\"profile\":{\"bio\":\"Organization executive pattern push TV result full over. Happy yard resource rate voice culture technology foot. Describe organization eight record high.\",\"company\":\"Johnson-Rodriguez\",\"interests\":[\"respond\",\"move\",\"house\",\"majority\",\"ago\"],\"occupation\":\"Emergency planning/management officer\",\"skills\":[\"Marine scientist\",\"Physiotherapist\"]},\"user_id\":\"5eb0f011-ae02-4556-b96c-ab800913e18a\",\"username\":\"leonerica\"}                            |961        |{\"city\":\"Josephton\",\"coordinates\":{\"latitude\":33.285038,\"longitude\":-111.721294},\"country\":\"Tonga\",\"postal_code\":\"87344\",\"state\":\"Indiana\",\"street\":\"464 Kim Shores\"}                   |\n",
      "+------------------------------------+-----------------------------------------------------------------------------------------------------------------------------------------------------------------------------------------------------------------------------------------------------------------------------------------------------------------------------------------------------------------------------------------------------------------------------------------------------------------------------------------------------------------------------------------------------------------------------------------------------------------------------------------------------------------------------------------------------------------------------------------------------------------------------------------------------------------------------------------------------------------------------------------------------------------------------------------------------------------------------------------------------------------------------+-----------+----------------------------------------------------------------------------------------------------------------------------------------------------------------------------------------+\n",
      "\n",
      "\n",
      "=== Discovering Schema of VARIANT Data ===\n",
      "\n"
     ]
    },
    {
     "data": {
      "application/vnd.jupyter.widget-view+json": {
       "model_id": "f3d625f4949f4ed6adb18ad5e3c8c5b4",
       "version_major": 2,
       "version_minor": 0
      },
      "text/plain": [
       "HBox(children=(IntProgress(value=0, bar_style='success'), Label(value='')))"
      ]
     },
     "metadata": {},
     "output_type": "display_data"
    },
    {
     "name": "stdout",
     "output_type": "stream",
     "text": [
      "+--------------------------------------------------------------------------------------------------------------------------------------------------------------------------------------------------------------------------------------------------------------------------------------------------------------------------------------------------------------------------------------------------------------------------------------------------------------------------------------------------------------------------------------------------------------------------------------------------------------------------------------------------+-----+\n",
      "|inferred_schema                                                                                                                                                                                                                                                                                                                                                                                                                                                                                                                                                                                                                                   |count|\n",
      "+--------------------------------------------------------------------------------------------------------------------------------------------------------------------------------------------------------------------------------------------------------------------------------------------------------------------------------------------------------------------------------------------------------------------------------------------------------------------------------------------------------------------------------------------------------------------------------------------------------------------------------------------------+-----+\n",
      "|OBJECT<address: OBJECT<city: STRING, coordinates: OBJECT<latitude: DECIMAL(9,7), longitude: DECIMAL(8,6)>, country: STRING, postal_code: STRING, state: STRING, street: STRING>, age: BIGINT, created_at: STRING, email: STRING, last_login: STRING, name: STRING, preferences: OBJECT<newsletter: BOOLEAN, notifications: OBJECT<email: BOOLEAN, frequency: STRING, push: BOOLEAN, sms: BOOLEAN>, privacy: OBJECT<profile_visible: BOOLEAN, show_email: BOOLEAN, show_location: BOOLEAN>>, profile: OBJECT<bio: STRING, company: STRING, interests: ARRAY<STRING>, occupation: STRING, skills: ARRAY<STRING>>, user_id: STRING, username: STRING>|35   |\n",
      "|OBJECT<address: OBJECT<city: STRING, coordinates: OBJECT<latitude: DECIMAL(9,7), longitude: DECIMAL(9,6)>, country: STRING, postal_code: STRING, state: STRING, street: STRING>, age: BIGINT, created_at: STRING, email: STRING, last_login: STRING, name: STRING, preferences: OBJECT<newsletter: BOOLEAN, notifications: OBJECT<email: BOOLEAN, frequency: STRING, push: BOOLEAN, sms: BOOLEAN>, privacy: OBJECT<profile_visible: BOOLEAN, show_email: BOOLEAN, show_location: BOOLEAN>>, profile: OBJECT<bio: STRING, company: STRING, interests: ARRAY<STRING>, occupation: STRING, skills: ARRAY<STRING>>, user_id: STRING, username: STRING>|25   |\n",
      "|OBJECT<address: OBJECT<city: STRING, coordinates: OBJECT<latitude: DECIMAL(8,6), longitude: DECIMAL(8,6)>, country: STRING, postal_code: STRING, state: STRING, street: STRING>, age: BIGINT, created_at: STRING, email: STRING, last_login: STRING, name: STRING, preferences: OBJECT<newsletter: BOOLEAN, notifications: OBJECT<email: BOOLEAN, frequency: STRING, push: BOOLEAN, sms: BOOLEAN>, privacy: OBJECT<profile_visible: BOOLEAN, show_email: BOOLEAN, show_location: BOOLEAN>>, profile: OBJECT<bio: STRING, company: STRING, interests: ARRAY<STRING>, occupation: STRING, skills: ARRAY<STRING>>, user_id: STRING, username: STRING>|24   |\n",
      "|OBJECT<address: OBJECT<city: STRING, coordinates: OBJECT<latitude: DECIMAL(8,6), longitude: DECIMAL(9,6)>, country: STRING, postal_code: STRING, state: STRING, street: STRING>, age: BIGINT, created_at: STRING, email: STRING, last_login: STRING, name: STRING, preferences: OBJECT<newsletter: BOOLEAN, notifications: OBJECT<email: BOOLEAN, frequency: STRING, push: BOOLEAN, sms: BOOLEAN>, privacy: OBJECT<profile_visible: BOOLEAN, show_email: BOOLEAN, show_location: BOOLEAN>>, profile: OBJECT<bio: STRING, company: STRING, interests: ARRAY<STRING>, occupation: STRING, skills: ARRAY<STRING>>, user_id: STRING, username: STRING>|16   |\n",
      "|OBJECT<address: OBJECT<city: STRING, coordinates: OBJECT<latitude: DECIMAL(8,6), longitude: DECIMAL(9,6)>, country: STRING, postal_code: STRING, state: STRING, street: STRING>, age: BIGINT, created_at: STRING, email: STRING, last_login: STRING, name: STRING, preferences: OBJECT<newsletter: BOOLEAN, notifications: OBJECT<email: BOOLEAN, frequency: STRING, push: BOOLEAN, sms: BOOLEAN>, privacy: OBJECT<profile_visible: BOOLEAN, show_email: BOOLEAN, show_location: BOOLEAN>>, profile: OBJECT<bio: STRING, company: STRING, interests: ARRAY<STRING>, occupation: STRING, skills: ARRAY<VOID>>, user_id: STRING, username: STRING>  |15   |\n",
      "+--------------------------------------------------------------------------------------------------------------------------------------------------------------------------------------------------------------------------------------------------------------------------------------------------------------------------------------------------------------------------------------------------------------------------------------------------------------------------------------------------------------------------------------------------------------------------------------------------------------------------------------------------+-----+\n",
      "\n"
     ]
    }
   ],
   "source": [
    "# TO_JSON and PARSE_JSON functions\n",
    "print(\"=== Converting between VARIANT and JSON strings ===\\n\")\n",
    "\n",
    "spark.sql(\"\"\"\n",
    "    SELECT \n",
    "        user_id,\n",
    "        TO_JSON(user_data) as json_string,\n",
    "        LENGTH(TO_JSON(user_data)) as json_length,\n",
    "        PARSE_JSON(TO_JSON(user_data:address)) as address_variant\n",
    "    FROM users_variant\n",
    "    LIMIT 2\n",
    "\"\"\").show(truncate=False)\n",
    "\n",
    "# SCHEMA_OF_VARIANT to discover schema\n",
    "print(\"\\n=== Discovering Schema of VARIANT Data ===\\n\")\n",
    "\n",
    "spark.sql(\"\"\"\n",
    "    SELECT \n",
    "        SCHEMA_OF_VARIANT(user_data) as inferred_schema,\n",
    "        count(*) as count\n",
    "    FROM users_variant\n",
    "    GROUP BY SCHEMA_OF_VARIANT(user_data)\n",
    "    ORDER BY count(*) DESC\n",
    "    LIMIT 5\n",
    "\"\"\").show(truncate=False)\n"
   ]
  },
  {
   "cell_type": "code",
   "execution_count": 15,
   "id": "e7ff09c8",
   "metadata": {},
   "outputs": [
    {
     "name": "stdout",
     "output_type": "stream",
     "text": [
      "\n",
      "=== SCHEMA_OF_VARIANT_AGG Examples ===\n",
      "\n",
      "1. Combined schema of all VARIANT values:\n"
     ]
    },
    {
     "data": {
      "application/vnd.jupyter.widget-view+json": {
       "model_id": "9b634b482e684cbdbf7f3012744ca52f",
       "version_major": 2,
       "version_minor": 0
      },
      "text/plain": [
       "HBox(children=(IntProgress(value=0, bar_style='success'), Label(value='')))"
      ]
     },
     "metadata": {},
     "output_type": "display_data"
    },
    {
     "name": "stdout",
     "output_type": "stream",
     "text": [
      "+------------------------------------------------------------------------------------------------------------------------------------------------------------------------------------------------------------------------------------------------------------------------------------------------------------------------------------------------------------------------------------------------------------------------------------------------------------------------------------------------------------------------------------------------------------------------------------------------------------------------------------------------------------------------------------------------------------------------------------------------------------------------------------------------------------------------------------------------------------------------------------------------------------------------------------------------------------------------------+\n",
      "|as                                                                                                                                                                                                                                                                                                                                                                                                                                                                                                                                                                                                                                                                                                                                                                                                                                                                                                                                                                            |\n",
      "+------------------------------------------------------------------------------------------------------------------------------------------------------------------------------------------------------------------------------------------------------------------------------------------------------------------------------------------------------------------------------------------------------------------------------------------------------------------------------------------------------------------------------------------------------------------------------------------------------------------------------------------------------------------------------------------------------------------------------------------------------------------------------------------------------------------------------------------------------------------------------------------------------------------------------------------------------------------------------+\n",
      "|OBJECT<address: OBJECT<city: STRING, coordinates: OBJECT<latitude: DECIMAL(9,7), longitude: DECIMAL(9,6)>, country: STRING, postal_code: STRING, state: STRING, street: STRING>, age: BIGINT, created_at: STRING, email: STRING, last_login: STRING, metrics: OBJECT<comments_made: BIGINT, last_activity: STRING, login_count: BIGINT, posts_created: BIGINT>, name: STRING, phone: STRING, preferences: OBJECT<newsletter: BOOLEAN, notifications: OBJECT<email: BOOLEAN, frequency: STRING, push: BOOLEAN, sms: BOOLEAN>, privacy: OBJECT<profile_visible: BOOLEAN, show_email: BOOLEAN, show_location: BOOLEAN>>, profile: OBJECT<bio: STRING, company: STRING, interests: ARRAY<STRING>, occupation: STRING, skills: ARRAY<STRING>>, referral_code: STRING, referred_by: STRING, social_media: OBJECT<github: STRING, linkedin: STRING, twitter: STRING>, subscription: OBJECT<auto_renew: BOOLEAN, start_date: STRING, tier: STRING>, user_id: STRING, username: STRING>|\n",
      "+------------------------------------------------------------------------------------------------------------------------------------------------------------------------------------------------------------------------------------------------------------------------------------------------------------------------------------------------------------------------------------------------------------------------------------------------------------------------------------------------------------------------------------------------------------------------------------------------------------------------------------------------------------------------------------------------------------------------------------------------------------------------------------------------------------------------------------------------------------------------------------------------------------------------------------------------------------------------------+\n",
      "\n",
      "\n",
      "2. Schema grouped by subscription tier:\n"
     ]
    },
    {
     "data": {
      "application/vnd.jupyter.widget-view+json": {
       "model_id": "7360601230844eb78fcb768c19b2186d",
       "version_major": 2,
       "version_minor": 0
      },
      "text/plain": [
       "HBox(children=(IntProgress(value=0, bar_style='success'), Label(value='')))"
      ]
     },
     "metadata": {},
     "output_type": "display_data"
    },
    {
     "name": "stdout",
     "output_type": "stream",
     "text": [
      "+-----------------+------------------------------------------------------------------------------------------------------------------------------------------------------------------------------------------------------------------------------------------------------------------------------------------------------------------------------------------------------------------------------------------------------------------------------------------------------------------------------------------------------------------------------------------------------------------------------------------------------------------------------------------------------------------------------------------------------------------------------------------------------------------------------------------------------------------------------------------------------------------------------------------------------------------------------------------------------------------------------+------------+\n",
      "|subscription_tier|tier_schema                                                                                                                                                                                                                                                                                                                                                                                                                                                                                                                                                                                                                                                                                                                                                                                                                                                                                                                                                                   |record_count|\n",
      "+-----------------+------------------------------------------------------------------------------------------------------------------------------------------------------------------------------------------------------------------------------------------------------------------------------------------------------------------------------------------------------------------------------------------------------------------------------------------------------------------------------------------------------------------------------------------------------------------------------------------------------------------------------------------------------------------------------------------------------------------------------------------------------------------------------------------------------------------------------------------------------------------------------------------------------------------------------------------------------------------------------+------------+\n",
      "|NULL             |OBJECT<address: OBJECT<city: STRING, coordinates: OBJECT<latitude: DECIMAL(9,7), longitude: DECIMAL(9,6)>, country: STRING, postal_code: STRING, state: STRING, street: STRING>, age: BIGINT, created_at: STRING, email: STRING, last_login: STRING, name: STRING, phone: STRING, preferences: OBJECT<newsletter: BOOLEAN, notifications: OBJECT<email: BOOLEAN, frequency: STRING, push: BOOLEAN, sms: BOOLEAN>, privacy: OBJECT<profile_visible: BOOLEAN, show_email: BOOLEAN, show_location: BOOLEAN>>, profile: OBJECT<bio: STRING, company: STRING, interests: ARRAY<STRING>, occupation: STRING, skills: ARRAY<STRING>>, referral_code: STRING, referred_by: STRING, social_media: OBJECT<github: STRING, linkedin: STRING, twitter: STRING>, user_id: STRING, username: STRING>                                                                                                                                                                                        |601         |\n",
      "|basic            |OBJECT<address: OBJECT<city: STRING, coordinates: OBJECT<latitude: DECIMAL(9,7), longitude: DECIMAL(9,6)>, country: STRING, postal_code: STRING, state: STRING, street: STRING>, age: BIGINT, created_at: STRING, email: STRING, last_login: STRING, metrics: OBJECT<comments_made: BIGINT, last_activity: STRING, login_count: BIGINT, posts_created: BIGINT>, name: STRING, phone: STRING, preferences: OBJECT<newsletter: BOOLEAN, notifications: OBJECT<email: BOOLEAN, frequency: STRING, push: BOOLEAN, sms: BOOLEAN>, privacy: OBJECT<profile_visible: BOOLEAN, show_email: BOOLEAN, show_location: BOOLEAN>>, profile: OBJECT<bio: STRING, company: STRING, interests: ARRAY<STRING>, occupation: STRING, skills: ARRAY<STRING>>, referral_code: STRING, referred_by: STRING, social_media: OBJECT<github: STRING, linkedin: STRING, twitter: STRING>, subscription: OBJECT<auto_renew: BOOLEAN, start_date: STRING, tier: STRING>, user_id: STRING, username: STRING>|103         |\n",
      "|enterprise       |OBJECT<address: OBJECT<city: STRING, coordinates: OBJECT<latitude: DECIMAL(9,7), longitude: DECIMAL(9,6)>, country: STRING, postal_code: STRING, state: STRING, street: STRING>, age: BIGINT, created_at: STRING, email: STRING, last_login: STRING, metrics: OBJECT<comments_made: BIGINT, last_activity: STRING, login_count: BIGINT, posts_created: BIGINT>, name: STRING, phone: STRING, preferences: OBJECT<newsletter: BOOLEAN, notifications: OBJECT<email: BOOLEAN, frequency: STRING, push: BOOLEAN, sms: BOOLEAN>, privacy: OBJECT<profile_visible: BOOLEAN, show_email: BOOLEAN, show_location: BOOLEAN>>, profile: OBJECT<bio: STRING, company: STRING, interests: ARRAY<STRING>, occupation: STRING, skills: ARRAY<STRING>>, referral_code: STRING, referred_by: STRING, social_media: OBJECT<github: STRING, linkedin: STRING, twitter: STRING>, subscription: OBJECT<auto_renew: BOOLEAN, start_date: STRING, tier: STRING>, user_id: STRING, username: STRING>|101         |\n",
      "|premium          |OBJECT<address: OBJECT<city: STRING, coordinates: OBJECT<latitude: DECIMAL(9,7), longitude: DECIMAL(9,6)>, country: STRING, postal_code: STRING, state: STRING, street: STRING>, age: BIGINT, created_at: STRING, email: STRING, last_login: STRING, metrics: OBJECT<comments_made: BIGINT, last_activity: STRING, login_count: BIGINT, posts_created: BIGINT>, name: STRING, phone: STRING, preferences: OBJECT<newsletter: BOOLEAN, notifications: OBJECT<email: BOOLEAN, frequency: STRING, push: BOOLEAN, sms: BOOLEAN>, privacy: OBJECT<profile_visible: BOOLEAN, show_email: BOOLEAN, show_location: BOOLEAN>>, profile: OBJECT<bio: STRING, company: STRING, interests: ARRAY<STRING>, occupation: STRING, skills: ARRAY<STRING>>, referral_code: STRING, referred_by: STRING, social_media: OBJECT<github: STRING, linkedin: STRING, twitter: STRING>, subscription: OBJECT<auto_renew: BOOLEAN, start_date: STRING, tier: STRING>, user_id: STRING, username: STRING>|98          |\n",
      "|free             |OBJECT<address: OBJECT<city: STRING, coordinates: OBJECT<latitude: DECIMAL(9,7), longitude: DECIMAL(9,6)>, country: STRING, postal_code: STRING, state: STRING, street: STRING>, age: BIGINT, created_at: STRING, email: STRING, last_login: STRING, metrics: OBJECT<comments_made: BIGINT, last_activity: STRING, login_count: BIGINT, posts_created: BIGINT>, name: STRING, phone: STRING, preferences: OBJECT<newsletter: BOOLEAN, notifications: OBJECT<email: BOOLEAN, frequency: STRING, push: BOOLEAN, sms: BOOLEAN>, privacy: OBJECT<profile_visible: BOOLEAN, show_email: BOOLEAN, show_location: BOOLEAN>>, profile: OBJECT<bio: STRING, company: STRING, interests: ARRAY<STRING>, occupation: STRING, skills: ARRAY<STRING>>, referral_code: STRING, referred_by: STRING, social_media: OBJECT<github: STRING, linkedin: STRING, twitter: STRING>, subscription: OBJECT<auto_renew: BOOLEAN, start_date: STRING, tier: STRING>, user_id: STRING, username: STRING>|97          |\n",
      "+-----------------+------------------------------------------------------------------------------------------------------------------------------------------------------------------------------------------------------------------------------------------------------------------------------------------------------------------------------------------------------------------------------------------------------------------------------------------------------------------------------------------------------------------------------------------------------------------------------------------------------------------------------------------------------------------------------------------------------------------------------------------------------------------------------------------------------------------------------------------------------------------------------------------------------------------------------------------------------------------------------+------------+\n",
      "\n"
     ]
    }
   ],
   "source": [
    "# SCHEMA_OF_VARIANT_AGG \n",
    "print(\"\\n=== SCHEMA_OF_VARIANT_AGG Examples ===\\n\")\n",
    "\n",
    "# Example 1: Get combined schema of all VARIANT values\n",
    "print(\"1. Combined schema of all VARIANT values:\")\n",
    "spark.sql(\"\"\"\n",
    "    SELECT SCHEMA_OF_VARIANT_AGG(user_data) as  \n",
    "    FROM users_variant\n",
    "\"\"\").show(truncate=False)\n",
    "\n",
    "# Example 2: Get schema grouped by subscription tier\n",
    "print(\"\\n2. Schema grouped by subscription tier:\")\n",
    "spark.sql(\"\"\"\n",
    "    SELECT \n",
    "        CAST(user_data:subscription.tier AS STRING) as subscription_tier,\n",
    "        SCHEMA_OF_VARIANT_AGG(user_data) as tier_schema,\n",
    "        COUNT(*) as record_count\n",
    "    FROM users_variant \n",
    "    WHERE NOT IS_VARIANT_NULL(user_data:subscription.tier)\n",
    "    GROUP BY CAST(user_data:subscription.tier AS STRING)\n",
    "    ORDER BY record_count DESC\n",
    "\"\"\").show(truncate=False)"
   ]
  },
  {
   "cell_type": "markdown",
   "id": "508a4019",
   "metadata": {},
   "source": [
    "## 7. Filtering and Conditional Logic with VARIANT\n",
    "\n",
    "Let's explore how to filter and apply conditions on VARIANT data.\n"
   ]
  },
  {
   "cell_type": "code",
   "execution_count": 16,
   "id": "440d7502",
   "metadata": {},
   "outputs": [
    {
     "name": "stdout",
     "output_type": "stream",
     "text": [
      "=== Filtering on VARIANT Fields ===\n",
      "\n"
     ]
    },
    {
     "data": {
      "application/vnd.jupyter.widget-view+json": {
       "model_id": "37db1f89b28e49e3bfc05e2c202e5f91",
       "version_major": 2,
       "version_minor": 0
      },
      "text/plain": [
       "HBox(children=(IntProgress(value=0, bar_style='success'), Label(value='')))"
      ]
     },
     "metadata": {},
     "output_type": "display_data"
    },
    {
     "name": "stdout",
     "output_type": "stream",
     "text": [
      "+--------------------+-----------------+---+--------------------+\n",
      "|             user_id|             name|age|             country|\n",
      "+--------------------+-----------------+---+--------------------+\n",
      "|b0d48cd5-df44-45f...|\"Stephen Meadows\"| 57|\"Lao People's Dem...|\n",
      "|2f221df4-4ddf-4c4...|\"Jeremy Gallegos\"| 54|\"Svalbard & Jan M...|\n",
      "|3f5171bb-e570-43b...|   \"Jeremy Smith\"| 55|  \"Saint Barthelemy\"|\n",
      "|ca81eb6f-e1c8-44d...|    \"Megan Hicks\"| 31|              \"Niue\"|\n",
      "|ab48c35e-fac8-4fe...|    \"Tracy Evans\"| 44|\"British Indian O...|\n",
      "+--------------------+-----------------+---+--------------------+\n",
      "\n",
      "\n",
      "=== Complex Filtering with Nested VARIANT Fields ===\n",
      "\n"
     ]
    },
    {
     "data": {
      "application/vnd.jupyter.widget-view+json": {
       "model_id": "81392c95623845bb9ceb97de984999df",
       "version_major": 2,
       "version_minor": 0
      },
      "text/plain": [
       "HBox(children=(IntProgress(value=0, bar_style='success'), Label(value='')))"
      ]
     },
     "metadata": {},
     "output_type": "display_data"
    },
    {
     "name": "stdout",
     "output_type": "stream",
     "text": [
      "+--------------------+-------------------+---+-----------------+-----------+\n",
      "|             user_id|               name|age|subscription_tier|login_count|\n",
      "+--------------------+-------------------+---+-----------------+-----------+\n",
      "|47cf442f-a386-496...|      \"Susan Davis\"| 31|       enterprise|        994|\n",
      "|92d5fb8d-019e-445...|\"Jennifer Mitchell\"| 38|       enterprise|        988|\n",
      "|25adf915-691d-427...|     \"Kimberly Kim\"| 31|            basic|        971|\n",
      "|37494982-2048-4db...|     \"Robert Nunez\"| 41|          premium|        969|\n",
      "|226c97ba-743a-425...|          \"Lisa Wu\"| 56|             free|        963|\n",
      "+--------------------+-------------------+---+-----------------+-----------+\n",
      "\n"
     ]
    }
   ],
   "source": [
    "# Filtering based on VARIANT field values\n",
    "print(\"=== Filtering on VARIANT Fields ===\\n\")\n",
    "\n",
    "spark.sql(\"\"\"\n",
    "    SELECT \n",
    "        user_id,\n",
    "        user_data:name as name,\n",
    "        user_data:age as age,\n",
    "        user_data:address.country as country\n",
    "    FROM users_variant\n",
    "    WHERE CAST(user_data:age AS INT) > 30\n",
    "        AND CAST(user_data:preferences.newsletter AS BOOLEAN) = true\n",
    "        AND NOT IS_VARIANT_NULL(user_data:address.country)\n",
    "    LIMIT 5\n",
    "\"\"\").show()\n",
    "\n",
    "# Complex filtering with nested conditions\n",
    "print(\"\\n=== Complex Filtering with Nested VARIANT Fields ===\\n\")\n",
    "\n",
    "spark.sql(\"\"\"\n",
    "    SELECT \n",
    "        user_id,\n",
    "        user_data:name as name,\n",
    "        user_data:age as age,\n",
    "        CAST(user_data:subscription.tier AS STRING) as subscription_tier,\n",
    "        user_data:metrics.login_count as login_count\n",
    "    FROM users_variant\n",
    "    WHERE NOT IS_VARIANT_NULL(user_data:subscription.tier)\n",
    "        AND NOT IS_VARIANT_NULL(user_data:metrics.login_count)\n",
    "        AND CAST(user_data:age AS INT) BETWEEN 25 AND 60\n",
    "        AND CAST(user_data:metrics.login_count AS INT) > 10\n",
    "    ORDER BY CAST(user_data:metrics.login_count AS INT) DESC\n",
    "    LIMIT 5\n",
    "\"\"\").show()\n"
   ]
  },
  {
   "cell_type": "code",
   "execution_count": 17,
   "id": "992303e8",
   "metadata": {},
   "outputs": [
    {
     "name": "stdout",
     "output_type": "stream",
     "text": [
      "=== CASE Statements with VARIANT ===\n",
      "\n"
     ]
    },
    {
     "data": {
      "application/vnd.jupyter.widget-view+json": {
       "model_id": "8147d6d36f3c4c9fbff9bc9577fd8e39",
       "version_major": 2,
       "version_minor": 0
      },
      "text/plain": [
       "HBox(children=(IntProgress(value=0, bar_style='success'), Label(value='')))"
      ]
     },
     "metadata": {},
     "output_type": "display_data"
    },
    {
     "name": "stdout",
     "output_type": "stream",
     "text": [
      "+------------------------------------+--------------------+---+-----------------+---------+---------------+\n",
      "|user_id                             |name                |age|subscription_tier|age_group|user_category  |\n",
      "+------------------------------------+--------------------+---+-----------------+---------+---------------+\n",
      "|656bfd74-052b-45e6-b4bc-7b41b03cb9fe|\"Cheryl Anderson\"   |59 |NULL             |Senior   |No Subscription|\n",
      "|5eb0f011-ae02-4556-b96c-ab800913e18a|\"John Chase\"        |32 |NULL             |Adult    |No Subscription|\n",
      "|f91577de-bb69-4271-8bc1-972b188506d6|\"Brendan Martinez\"  |37 |NULL             |Adult    |No Subscription|\n",
      "|b0d48cd5-df44-45f7-b65f-fcbcbd6ba7da|\"Stephen Meadows\"   |57 |NULL             |Senior   |No Subscription|\n",
      "|2163b1ef-1b60-47a4-86e5-832ec5ac1677|\"Brent Fernandez\"   |62 |NULL             |Senior   |No Subscription|\n",
      "|2f221df4-4ddf-4c4d-9168-e7fbe96fc3de|\"Jeremy Gallegos\"   |54 |NULL             |Senior   |No Subscription|\n",
      "|3d8c3cb0-332c-48c2-9b4b-0c362396c9f1|\"Samuel Ellison\"    |44 |NULL             |Adult    |No Subscription|\n",
      "|3f5171bb-e570-43bc-ad72-59ee8de1432c|\"Jeremy Smith\"      |55 |NULL             |Senior   |No Subscription|\n",
      "|8d41cd7e-7e67-4fb4-9a52-4b89fa342abd|\"Tina Manning\"      |43 |NULL             |Adult    |No Subscription|\n",
      "|99528f53-0e05-4345-a8ce-76c8cd4b9f1d|\"Jacqueline Wheeler\"|21 |NULL             |Young    |No Subscription|\n",
      "+------------------------------------+--------------------+---+-----------------+---------+---------------+\n",
      "\n"
     ]
    }
   ],
   "source": [
    "# Using CASE statements with VARIANT\n",
    "print(\"=== CASE Statements with VARIANT ===\\n\")\n",
    "\n",
    "spark.sql(\"\"\"\n",
    "    SELECT \n",
    "        user_id,\n",
    "        user_data:name as name,\n",
    "        user_data:age as age,\n",
    "        CAST(user_data:subscription.tier AS STRING) as subscription_tier,\n",
    "        CASE \n",
    "            WHEN CAST(user_data:age AS INT) < 25 THEN 'Young'\n",
    "            WHEN CAST(user_data:age AS INT) BETWEEN 25 AND 50 THEN 'Adult'\n",
    "            WHEN CAST(user_data:age AS INT) > 50 THEN 'Senior'\n",
    "            ELSE 'Unknown'\n",
    "        END as age_group,\n",
    "        CASE \n",
    "            WHEN CAST(user_data:subscription.tier AS STRING) = 'free' THEN 'Free User'\n",
    "            WHEN CAST(user_data:subscription.tier AS STRING) = 'basic' THEN 'Basic User'\n",
    "            WHEN CAST(user_data:subscription.tier AS STRING) = 'premium' THEN 'Premium User'\n",
    "            WHEN CAST(user_data:subscription.tier AS STRING) = 'enterprise' THEN 'Enterprise User'\n",
    "            ELSE 'No Subscription'\n",
    "        END as user_category\n",
    "    FROM users_variant\n",
    "    LIMIT 10\n",
    "\"\"\").show(truncate=False)\n"
   ]
  },
  {
   "cell_type": "markdown",
   "id": "bf45a4fa",
   "metadata": {},
   "source": [
    "## 8. Aggregations with VARIANT Data\n",
    "\n",
    "Performing aggregations on data stored in VARIANT columns.\n"
   ]
  },
  {
   "cell_type": "code",
   "execution_count": 18,
   "id": "143ffd8e",
   "metadata": {},
   "outputs": [
    {
     "name": "stdout",
     "output_type": "stream",
     "text": [
      "=== Aggregations on VARIANT Data ===\n",
      "\n"
     ]
    },
    {
     "data": {
      "application/vnd.jupyter.widget-view+json": {
       "model_id": "e47c52b1eeb64910933842dceb36ea9c",
       "version_major": 2,
       "version_minor": 0
      },
      "text/plain": [
       "HBox(children=(IntProgress(value=0, bar_style='success'), Label(value='')))"
      ]
     },
     "metadata": {},
     "output_type": "display_data"
    },
    {
     "name": "stdout",
     "output_type": "stream",
     "text": [
      "+----------+-------+-------+-------+\n",
      "|user_count|avg_age|min_age|max_age|\n",
      "+----------+-------+-------+-------+\n",
      "|      1000| 48.746|     18|     80|\n",
      "+----------+-------+-------+-------+\n",
      "\n",
      "\n",
      "=== Subscription Tier Aggregations ===\n",
      "\n"
     ]
    },
    {
     "data": {
      "application/vnd.jupyter.widget-view+json": {
       "model_id": "3a1a892a29f5470b871f241733fb5229",
       "version_major": 2,
       "version_minor": 0
      },
      "text/plain": [
       "HBox(children=(IntProgress(value=0, bar_style='success'), Label(value='')))"
      ]
     },
     "metadata": {},
     "output_type": "display_data"
    },
    {
     "name": "stdout",
     "output_type": "stream",
     "text": [
      "+-----------------+----------+------------------+-----------------+------------------+\n",
      "|subscription_tier|user_count|           avg_age|  avg_login_count|         avg_posts|\n",
      "+-----------------+----------+------------------+-----------------+------------------+\n",
      "|             NULL|       601|49.562396006655575|             NULL|              NULL|\n",
      "|            basic|       103| 49.13592233009709|498.5533980582524|230.64077669902912|\n",
      "|       enterprise|       101| 47.91089108910891|500.9306930693069| 252.4851485148515|\n",
      "|          premium|        98| 45.52040816326531|516.1428571428571| 221.0408163265306|\n",
      "|             free|        97|47.402061855670105|476.3917525773196| 240.7835051546392|\n",
      "+-----------------+----------+------------------+-----------------+------------------+\n",
      "\n"
     ]
    }
   ],
   "source": [
    "# Aggregating VARIANT data\n",
    "print(\"=== Aggregations on VARIANT Data ===\\n\")\n",
    "\n",
    "spark.sql(\"\"\"\n",
    "    SELECT \n",
    "        COUNT(*) as user_count,\n",
    "        AVG(CAST(user_data:age AS INT)) as avg_age,\n",
    "        MIN(CAST(user_data:age AS INT)) as min_age,\n",
    "        MAX(CAST(user_data:age AS INT)) as max_age\n",
    "    FROM users_variant\n",
    "\"\"\").show()\n",
    "\n",
    "# Aggregating by subscription tier\n",
    "print(\"\\n=== Subscription Tier Aggregations ===\\n\")\n",
    "\n",
    "spark.sql(\"\"\"\n",
    "    SELECT \n",
    "        CAST(user_data:subscription.tier AS STRING) as subscription_tier,\n",
    "        COUNT(*) as user_count,\n",
    "        AVG(CAST(user_data:age AS INT)) as avg_age,\n",
    "        AVG(CAST(user_data:metrics.login_count AS INT)) as avg_login_count,\n",
    "        AVG(CAST(user_data:metrics.posts_created AS INT)) as avg_posts\n",
    "    FROM users_variant\n",
    "    WHERE NOT IS_VARIANT_NULL(user_data:subscription.tier)\n",
    "    GROUP BY CAST(user_data:subscription.tier AS STRING)\n",
    "    ORDER BY user_count DESC\n",
    "\"\"\").show()\n"
   ]
  },
  {
   "cell_type": "code",
   "execution_count": 19,
   "id": "7b16bb97",
   "metadata": {},
   "outputs": [
    {
     "name": "stdout",
     "output_type": "stream",
     "text": [
      "=== Aggregating Array Data in VARIANT ===\n",
      "\n"
     ]
    },
    {
     "data": {
      "application/vnd.jupyter.widget-view+json": {
       "model_id": "5259e1dbda474349b309eadf4e433793",
       "version_major": 2,
       "version_minor": 0
      },
      "text/plain": [
       "HBox(children=(IntProgress(value=0, bar_style='success'), Label(value='')))"
      ]
     },
     "metadata": {},
     "output_type": "display_data"
    },
    {
     "name": "stdout",
     "output_type": "stream",
     "text": [
      "+----------------------+-------------+-------------+\n",
      "|avg_interests_per_user|max_interests|min_interests|\n",
      "+----------------------+-------------+-------------+\n",
      "|                 2.951|            5|            1|\n",
      "+----------------------+-------------+-------------+\n",
      "\n",
      "\n",
      "=== Skills Aggregation ===\n",
      "\n"
     ]
    },
    {
     "data": {
      "application/vnd.jupyter.widget-view+json": {
       "model_id": "2b7095a9c4b04fd89ad4a7a3ff7fb8ef",
       "version_major": 2,
       "version_minor": 0
      },
      "text/plain": [
       "HBox(children=(IntProgress(value=0, bar_style='success'), Label(value='')))"
      ]
     },
     "metadata": {},
     "output_type": "display_data"
    },
    {
     "name": "stdout",
     "output_type": "stream",
     "text": [
      "+-----------------+-------------------+----------+----------+\n",
      "|users_with_skills|avg_skills_per_user|max_skills|min_skills|\n",
      "+-----------------+-------------------+----------+----------+\n",
      "|             1000|              1.567|         3|         0|\n",
      "+-----------------+-------------------+----------+----------+\n",
      "\n"
     ]
    }
   ],
   "source": [
    "# Complex aggregations with array data\n",
    "print(\"=== Aggregating Array Data in VARIANT ===\\n\")\n",
    "\n",
    "spark.sql(\"\"\"\n",
    "    SELECT \n",
    "        AVG(SIZE(CAST(user_data:profile.interests AS ARRAY<STRING>))) as avg_interests_per_user,\n",
    "        MAX(SIZE(CAST(user_data:profile.interests AS ARRAY<STRING>))) as max_interests,\n",
    "        MIN(SIZE(CAST(user_data:profile.interests AS ARRAY<STRING>))) as min_interests\n",
    "    FROM users_variant\n",
    "    WHERE NOT IS_VARIANT_NULL(user_data:profile.interests)\n",
    "\"\"\").show()\n",
    "\n",
    "# Aggregating skills data\n",
    "print(\"\\n=== Skills Aggregation ===\\n\")\n",
    "\n",
    "spark.sql(\"\"\"\n",
    "    WITH user_skills AS (\n",
    "        SELECT \n",
    "            user_id,\n",
    "            user_data:name as name,\n",
    "            SIZE(CAST(user_data:profile.skills AS ARRAY<STRING>)) as skill_count,\n",
    "            user_data:profile.skills as skills\n",
    "        FROM users_variant\n",
    "        WHERE NOT IS_VARIANT_NULL(user_data:profile.skills)\n",
    "    )\n",
    "    SELECT \n",
    "        COUNT(*) as users_with_skills,\n",
    "        AVG(skill_count) as avg_skills_per_user,\n",
    "        MAX(skill_count) as max_skills,\n",
    "        MIN(skill_count) as min_skills\n",
    "    FROM user_skills\n",
    "\"\"\").show()\n"
   ]
  },
  {
   "cell_type": "markdown",
   "id": "c6682116",
   "metadata": {},
   "source": [
    "## 9. Window Functions with VARIANT\n",
    "\n",
    "Using window functions to analyze VARIANT data.\n"
   ]
  },
  {
   "cell_type": "code",
   "execution_count": 20,
   "id": "b1d6bcc5",
   "metadata": {},
   "outputs": [
    {
     "name": "stdout",
     "output_type": "stream",
     "text": [
      "=== Window Functions on VARIANT Data ===\n",
      "\n"
     ]
    },
    {
     "data": {
      "application/vnd.jupyter.widget-view+json": {
       "model_id": "f3f6a04753f2432393e318d93d304021",
       "version_major": 2,
       "version_minor": 0
      },
      "text/plain": [
       "HBox(children=(IntProgress(value=0, bar_style='success'), Label(value='')))"
      ]
     },
     "metadata": {},
     "output_type": "display_data"
    },
    {
     "name": "stdout",
     "output_type": "stream",
     "text": [
      "+------------------------------------+-------------------+---+-----------+-----------+-------------------+----------+------------------+\n",
      "|user_id                             |name               |age|country    |login_count|age_rank_in_country|login_rank|country_avg_age   |\n",
      "+------------------------------------+-------------------+---+-----------+-----------+-------------------+----------+------------------+\n",
      "|2d66331f-1da3-4d74-b9b4-04d0fd6cfadb|\"Michael Mullins\"  |73 |Afghanistan|NULL       |1                  |320       |52.25             |\n",
      "|fd2889ad-c916-4d65-ad2e-317272dcd965|\"Johnny Ward\"      |70 |Afghanistan|NULL       |2                  |320       |52.25             |\n",
      "|23f32caf-25a6-49e8-831b-509798a9e1ec|\"Ariana Thomas\"    |66 |Afghanistan|NULL       |3                  |320       |52.25             |\n",
      "|4bf08536-e471-433b-a53d-2fef82e519d6|\"Lindsey Smith\"    |59 |Afghanistan|NULL       |4                  |320       |52.25             |\n",
      "|2f4318cd-3ca0-4f64-b68f-94c5035a7d9b|\"Gary Williams\"    |46 |Afghanistan|215        |5                  |252       |52.25             |\n",
      "|4842e53a-c9ba-4435-ad91-7172e1f6cbf9|\"James Roman\"      |43 |Afghanistan|NULL       |6                  |320       |52.25             |\n",
      "|f6af12cf-5892-4b76-8912-dad6e6833e54|\"Haley Kane\"       |37 |Afghanistan|640        |7                  |124       |52.25             |\n",
      "|2f3de84b-9da6-436b-a6e8-f5e84dd02f50|\"Aaron Hill\"       |24 |Afghanistan|NULL       |8                  |320       |52.25             |\n",
      "|9aec1165-a993-4e38-a56e-c2ecaec8e7cb|\"Hunter Fox\"       |73 |Albania    |398        |1                  |196       |48.6              |\n",
      "|75bd9a73-08e7-4e26-8051-2e25904a66f3|\"Dana Chapman\"     |68 |Albania    |NULL       |2                  |320       |48.6              |\n",
      "|0274072d-c52b-4c1a-9819-b701d4789e4d|\"Mark Acevedo\"     |42 |Albania    |NULL       |3                  |320       |48.6              |\n",
      "|971a2abe-b17b-4d60-8232-4e955da9d69e|\"Kimberly Martinez\"|32 |Albania    |628        |4                  |130       |48.6              |\n",
      "|a44ce1d5-7db5-4363-91e3-e2876474af91|\"Andrew Sparks\"    |28 |Albania    |NULL       |5                  |320       |48.6              |\n",
      "|70dbe948-ffb6-49fc-87a9-4497cb508cdf|\"Bob Carter\"       |80 |Algeria    |NULL       |1                  |320       |52.166666666666664|\n",
      "|a264a0ff-d4c0-457e-bf53-389a42378659|\"Joshua Smith\"     |73 |Algeria    |NULL       |2                  |320       |52.166666666666664|\n",
      "+------------------------------------+-------------------+---+-----------+-----------+-------------------+----------+------------------+\n",
      "\n",
      "\n",
      "=== Cumulative Statistics with VARIANT ===\n",
      "\n"
     ]
    },
    {
     "data": {
      "application/vnd.jupyter.widget-view+json": {
       "model_id": "93c86442e68e4a238646c24422dd7c42",
       "version_major": 2,
       "version_minor": 0
      },
      "text/plain": [
       "HBox(children=(IntProgress(value=0, bar_style='success'), Label(value='')))"
      ]
     },
     "metadata": {},
     "output_type": "display_data"
    },
    {
     "name": "stdout",
     "output_type": "stream",
     "text": [
      "+------------------------------------+--------------------+--------------------------+-----------+-------------+-----------------+-----------------+\n",
      "|user_id                             |name                |created_time              |login_count|posts_created|moving_avg_logins|max_logins_so_far|\n",
      "+------------------------------------+--------------------+--------------------------+-----------+-------------+-----------------+-----------------+\n",
      "|df8008bb-5823-48bb-8a3b-11980a517afd|\"Melissa Meyers\"    |2020-09-30 17:07:18.263333|NULL       |NULL         |NULL             |NULL             |\n",
      "|b44e7a64-d8ee-4c85-91e3-9cd9996c66a9|\"Linda Thornton\"    |2020-09-30 17:30:59.910271|551        |228          |551.0            |551              |\n",
      "|3d3b2e2b-97a6-41ef-8dad-a4ac13bb3e5c|\"Traci Reynolds\"    |2020-10-05 17:24:56.081185|NULL       |NULL         |551.0            |551              |\n",
      "|17505a65-a830-4a3c-bb9b-3ce6c14edab6|\"Christina Gordon\"  |2020-10-06 04:15:00.734922|908        |427          |729.5            |908              |\n",
      "|8ffc6281-6305-4464-891a-3c471954e971|\"Catherine Marshall\"|2020-10-08 02:30:37.814789|34         |240          |471.0            |908              |\n",
      "|625424df-fb72-4da0-ab05-2657da74435b|\"Nicole Sampson\"    |2020-10-08 05:02:41.577112|626        |323          |522.6666666666666|908              |\n",
      "|a9a177ce-0b65-4058-83d5-b93425107587|\"Judy Brown\"        |2020-10-08 19:27:49.385134|900        |125          |520.0            |908              |\n",
      "|9cccc43a-4aaf-4170-bab9-c69cc5cf7007|\"Ronnie Smith\"      |2020-10-10 02:41:51.378061|NULL       |NULL         |763.0            |908              |\n",
      "|8a0d0c66-2ea0-4c08-a037-cc4ae0be2948|\"Johnny Larsen\"     |2020-10-12 08:23:35.688765|NULL       |NULL         |900.0            |908              |\n",
      "|0945f0b4-bdfd-47ad-8ad8-caf07333be52|\"Paige Collins\"     |2020-10-12 13:55:50.946102|NULL       |NULL         |NULL             |908              |\n",
      "+------------------------------------+--------------------+--------------------------+-----------+-------------+-----------------+-----------------+\n",
      "\n"
     ]
    }
   ],
   "source": [
    "# Window functions with VARIANT data\n",
    "print(\"=== Window Functions on VARIANT Data ===\\n\")\n",
    "\n",
    "spark.sql(\"\"\"\n",
    "    SELECT \n",
    "        user_id,\n",
    "        user_data:name as name,\n",
    "        user_data:age as age,\n",
    "        CAST(user_data:address.country AS STRING) as country,\n",
    "        CAST(user_data:metrics.login_count AS INT) as login_count,\n",
    "        RANK() OVER (PARTITION BY CAST(user_data:address.country AS STRING) ORDER BY CAST(user_data:age AS INT) DESC) as age_rank_in_country,\n",
    "        DENSE_RANK() OVER (ORDER BY CAST(user_data:metrics.login_count AS INT) DESC) as login_rank,\n",
    "        AVG(CAST(user_data:age AS INT)) OVER (PARTITION BY CAST(user_data:address.country AS STRING)) as country_avg_age\n",
    "    FROM users_variant\n",
    "    WHERE NOT IS_VARIANT_NULL(user_data:metrics.login_count)\n",
    "        AND NOT IS_VARIANT_NULL(user_data:address.country)\n",
    "    ORDER BY country, age_rank_in_country\n",
    "    LIMIT 15\n",
    "\"\"\").show(truncate=False)\n",
    "\n",
    "# Running totals and cumulative stats\n",
    "print(\"\\n=== Cumulative Statistics with VARIANT ===\\n\")\n",
    "\n",
    "spark.sql(\"\"\"\n",
    "    WITH user_activity AS (\n",
    "        SELECT \n",
    "            user_id,\n",
    "            user_data:name as name,\n",
    "            CAST(user_data:created_at AS TIMESTAMP) as created_time,\n",
    "            CAST(user_data:metrics.login_count AS INT) as login_count,\n",
    "            CAST(user_data:metrics.posts_created AS INT) as posts_created\n",
    "        FROM users_variant\n",
    "        WHERE NOT IS_VARIANT_NULL(user_data:metrics.login_count)\n",
    "            AND NOT IS_VARIANT_NULL(user_data:created_at)\n",
    "    )\n",
    "    SELECT \n",
    "        user_id,\n",
    "        name,\n",
    "        created_time,\n",
    "        login_count,\n",
    "        posts_created,\n",
    "        AVG(login_count) OVER (\n",
    "            ORDER BY created_time \n",
    "            ROWS BETWEEN 2 PRECEDING AND CURRENT ROW\n",
    "        ) as moving_avg_logins,\n",
    "        MAX(login_count) OVER (\n",
    "            ORDER BY created_time\n",
    "        ) as max_logins_so_far\n",
    "    FROM user_activity\n",
    "    ORDER BY created_time\n",
    "    LIMIT 10\n",
    "\"\"\").show(truncate=False)\n"
   ]
  },
  {
   "cell_type": "markdown",
   "id": "d57b5872",
   "metadata": {},
   "source": [
    "## 10. JOINs with VARIANT Data\n",
    "\n",
    "Demonstrating how to join tables containing VARIANT columns.\n"
   ]
  },
  {
   "cell_type": "code",
   "execution_count": 21,
   "id": "92a69c12",
   "metadata": {},
   "outputs": [
    {
     "name": "stdout",
     "output_type": "stream",
     "text": [
      "=== Self-Join on VARIANT Data ===\n",
      "\n"
     ]
    },
    {
     "data": {
      "application/vnd.jupyter.widget-view+json": {
       "model_id": "85631f6f5a6e456d8cf6a992ff5f0dc4",
       "version_major": 2,
       "version_minor": 0
      },
      "text/plain": [
       "HBox(children=(IntProgress(value=0, bar_style='success'), Label(value='')))"
      ]
     },
     "metadata": {},
     "output_type": "display_data"
    },
    {
     "name": "stdout",
     "output_type": "stream",
     "text": [
      "+------------------------------------+------------------+-------------------+------------------------------------+----------------+-------------------+\n",
      "|user1_id                            |user1_name        |user1_city         |user2_id                            |user2_name      |user2_city         |\n",
      "+------------------------------------+------------------+-------------------+------------------------------------+----------------+-------------------+\n",
      "|a9faa793-1c28-4be5-8532-5f6b5f7c1ec7|\"Courtney Wheeler\"|Jamesmouth         |ca81eb6f-e1c8-44d2-a4b6-ba8d9256b36d|\"Megan Hicks\"   |Jamesmouth         |\n",
      "|0dfd4b3d-b4d8-4344-b257-1f6f20ad8d26|\"Richard Benjamin\"|Christopherberg    |846dbb36-8c54-4b68-b60c-76882bc47801|\"Justin Howe\"   |Christopherberg    |\n",
      "|c4cda5a1-943c-4fb5-a67b-26c557273981|\"Ann Robinson\"    |Port Jennifer      |c74e5218-9b02-4e74-a8f4-fd7677a3fbf1|\"Michele Lang\"  |Port Jennifer      |\n",
      "|90c6a049-9fa6-441a-a1ff-3aee19a5e7b1|\"Kim Johnson\"     |Lake Michaelberg   |da49cc84-827f-4dfc-a526-35b91e239e21|\"Eric Alexander\"|Lake Michaelberg   |\n",
      "|16a133d2-f933-4d83-8218-b996e3228801|\"Tammy Brown\"     |Wilsonburgh        |ba8f9fe1-5de5-467c-b6b8-05e0ea57c9d0|\"Tammy Campbell\"|Wilsonburgh        |\n",
      "|b6877c6d-ba36-40c3-9cfa-724af0413e96|\"Melissa Williams\"|Danielland         |e2a62ebe-85ee-49b1-8fd0-c2cb4c46bd3b|\"Tiffany Ho\"    |Danielland         |\n",
      "|363d2267-be3c-4b93-82db-72c88fe5ffd5|\"Carlos Doyle\"    |Davidmouth         |bbf3d67e-c22d-493f-8e9a-021bb7912bd3|\"Michelle Davis\"|Davidmouth         |\n",
      "|195807c9-bfba-47cd-b821-7c8843d991db|\"Shawna Petersen\" |South Gary         |1b42e37e-279a-4939-a4eb-e93635b7a7e3|\"Diana Perry\"   |South Gary         |\n",
      "|233da3c6-377d-4f92-b67c-a0b0d4271ab8|\"Amanda Melendez\" |Lake William       |bbc621e4-1589-417c-b267-f7a00b861a97|\"Krystal Reed\"  |Lake William       |\n",
      "|0802e5d6-6765-447e-a72c-c402b9d2cf6d|\"Mckenzie Jensen\" |South Michellemouth|82467a61-3876-486f-a7ff-4b0c4345a09c|\"Scott Daniels\" |South Michellemouth|\n",
      "+------------------------------------+------------------+-------------------+------------------------------------+----------------+-------------------+\n",
      "\n",
      "\n",
      "=== Join with Extracted Table for Performance ===\n",
      "\n"
     ]
    },
    {
     "data": {
      "application/vnd.jupyter.widget-view+json": {
       "model_id": "9682b806fe744b739d067327774a73c3",
       "version_major": 2,
       "version_minor": 0
      },
      "text/plain": [
       "HBox(children=(IntProgress(value=0, bar_style='success'), Label(value='')))"
      ]
     },
     "metadata": {},
     "output_type": "display_data"
    },
    {
     "name": "stdout",
     "output_type": "stream",
     "text": [
      "+------------------------------------+------------------+---+------------------+-----------------+----------------+-------------+------------------+\n",
      "|user_id                             |name              |age|city              |subscription_tier|extracted_name  |extracted_age|extracted_city    |\n",
      "+------------------------------------+------------------+---+------------------+-----------------+----------------+-------------+------------------+\n",
      "|656bfd74-052b-45e6-b4bc-7b41b03cb9fe|\"Cheryl Anderson\" |59 |East Michelleville|NULL             |Cheryl Anderson |59           |East Michelleville|\n",
      "|5eb0f011-ae02-4556-b96c-ab800913e18a|\"John Chase\"      |32 |Josephton         |NULL             |John Chase      |32           |Josephton         |\n",
      "|f91577de-bb69-4271-8bc1-972b188506d6|\"Brendan Martinez\"|37 |Lake Whitney      |NULL             |Brendan Martinez|37           |Lake Whitney      |\n",
      "|b0d48cd5-df44-45f7-b65f-fcbcbd6ba7da|\"Stephen Meadows\" |57 |East Stephanie    |NULL             |Stephen Meadows |57           |East Stephanie    |\n",
      "|2163b1ef-1b60-47a4-86e5-832ec5ac1677|\"Brent Fernandez\" |62 |Kimside           |NULL             |Brent Fernandez |62           |Kimside           |\n",
      "+------------------------------------+------------------+---+------------------+-----------------+----------------+-------------+------------------+\n",
      "\n"
     ]
    }
   ],
   "source": [
    "# Self-join on VARIANT data\n",
    "print(\"=== Self-Join on VARIANT Data ===\\n\")\n",
    "\n",
    "spark.sql(\"\"\"\n",
    "    SELECT \n",
    "        u1.user_id as user1_id,\n",
    "        u1.user_data:name as user1_name,\n",
    "        CAST(u1.user_data:address.city AS STRING) as user1_city,\n",
    "        u2.user_id as user2_id,\n",
    "        u2.user_data:name as user2_name,\n",
    "        CAST(u2.user_data:address.city AS STRING) as user2_city\n",
    "    FROM users_variant u1\n",
    "    JOIN users_variant u2\n",
    "        ON CAST(u1.user_data:address.city AS STRING) = CAST(u2.user_data:address.city AS STRING)\n",
    "        AND u1.user_id < u2.user_id\n",
    "    WHERE NOT IS_VARIANT_NULL(u1.user_data:address.city)\n",
    "    LIMIT 10\n",
    "\"\"\").show(truncate=False)\n",
    "\n",
    "# Join with extracted table for performance\n",
    "print(\"\\n=== Join with Extracted Table for Performance ===\\n\")\n",
    "\n",
    "spark.sql(\"\"\"\n",
    "    WITH user_analysis AS (\n",
    "        SELECT \n",
    "            v.user_id,\n",
    "            v.user_data:name as name,\n",
    "            v.user_data:age as age,\n",
    "            CAST(v.user_data:address.city AS STRING) as city,\n",
    "            CAST(v.user_data:subscription.tier AS STRING) as subscription_tier,\n",
    "            e.name as extracted_name,\n",
    "            e.age as extracted_age,\n",
    "            e.city as extracted_city\n",
    "        FROM users_variant v\n",
    "        LEFT JOIN users_extracted e\n",
    "            ON v.user_id = e.user_id\n",
    "        WHERE NOT IS_VARIANT_NULL(v.user_data:subscription.tier)\n",
    "    )\n",
    "    SELECT * FROM user_analysis\n",
    "    WHERE name IS NOT NULL\n",
    "    LIMIT 5\n",
    "\"\"\").show(truncate=False)\n"
   ]
  },
  {
   "cell_type": "markdown",
   "id": "d63a189d",
   "metadata": {},
   "source": [
    "## 11. Advanced VARIANT Use Cases\n",
    "\n",
    "Let's explore some advanced use cases and patterns.\n"
   ]
  },
  {
   "cell_type": "code",
   "execution_count": 22,
   "id": "aaacd05c",
   "metadata": {},
   "outputs": [
    {
     "name": "stdout",
     "output_type": "stream",
     "text": [
      "=== Demonstrating Schema Evolution with VARIANT ===\n",
      "\n",
      "Schema Evolution in our user data:\n",
      "- First 30% of users: Basic schema\n",
      "- Next 30% of users: Added social_media fields\n",
      "- Last 40% of users: Added subscription and metrics fields\n",
      "\n"
     ]
    },
    {
     "data": {
      "application/vnd.jupyter.widget-view+json": {
       "model_id": "1081a3c813bd47f4bc19f34a7b288a04",
       "version_major": 2,
       "version_minor": 0
      },
      "text/plain": [
       "HBox(children=(IntProgress(value=0, bar_style='success'), Label(value='')))"
      ]
     },
     "metadata": {},
     "output_type": "display_data"
    },
    {
     "name": "stdout",
     "output_type": "stream",
     "text": [
      "+------------------------------------+-----------------+---------------------------+-----+-----------+-----------------+-----------+\n",
      "|user_id                             |name             |email                      |phone|twitter    |subscription_tier|login_count|\n",
      "+------------------------------------+-----------------+---------------------------+-----+-----------+-----------------+-----------+\n",
      "|e3327f3b-fc93-44fd-bf54-7fa56224bf85|\"David Middleton\"|\"scottmichael@example.org\" |NULL |NULL       |NULL             |NULL       |\n",
      "|52571204-ab39-47d5-ba0a-2943f6c5ebfc|\"Robert Costa\"   |\"caleb28@example.com\"      |NULL |null       |NULL             |NULL       |\n",
      "|60f2478a-6657-43ee-a560-7c8be1f621a1|\"Jeremy Burke\"   |\"gregorywatson@example.org\"|NULL |\"@kmercado\"|\"free\"           |283        |\n",
      "+------------------------------------+-----------------+---------------------------+-----+-----------+-----------------+-----------+\n",
      "\n",
      "\n",
      "✅ VARIANT seamlessly handles schema evolution - old and new fields coexist!\n"
     ]
    }
   ],
   "source": [
    "# Dynamic schema evolution handling\n",
    "print(\"=== Demonstrating Schema Evolution with VARIANT ===\\n\")\n",
    "\n",
    "# The data we generated already simulates schema evolution\n",
    "# Let's query to show how VARIANT handles different schema versions seamlessly\n",
    "\n",
    "print(\"Schema Evolution in our user data:\")\n",
    "print(\"- First 30% of users: Basic schema\")\n",
    "print(\"- Next 30% of users: Added social_media fields\")\n",
    "print(\"- Last 40% of users: Added subscription and metrics fields\\n\")\n",
    "\n",
    "# Query showing all schema versions work together\n",
    "spark.sql(\"\"\"\n",
    "    SELECT \n",
    "        user_id,\n",
    "        user_data:name as name,\n",
    "        user_data:email as email,\n",
    "        user_data:phone as phone,  -- Optional field\n",
    "        user_data:social_media.twitter as twitter,  -- Added in v2\n",
    "        user_data:subscription.tier as subscription_tier,  -- Added in v3\n",
    "        user_data:metrics.login_count as login_count  -- Added in v3\n",
    "    FROM users_variant\n",
    "    WHERE user_id IN (\n",
    "        (SELECT user_id FROM users_variant LIMIT 1 OFFSET 100)\n",
    "        UNION ALL\n",
    "        (SELECT user_id FROM users_variant LIMIT 1 OFFSET 500)\n",
    "        UNION ALL\n",
    "        (SELECT user_id FROM users_variant LIMIT 1 OFFSET 900)\n",
    "    )\n",
    "\"\"\").show(truncate=False)\n",
    "\n",
    "print(\"\\n✅ VARIANT seamlessly handles schema evolution - old and new fields coexist!\")\n"
   ]
  },
  {
   "cell_type": "code",
   "execution_count": 23,
   "id": "ae497cfe",
   "metadata": {},
   "outputs": [
    {
     "name": "stdout",
     "output_type": "stream",
     "text": [
      "=== Pivoting VARIANT Data ===\n",
      "\n"
     ]
    },
    {
     "data": {
      "application/vnd.jupyter.widget-view+json": {
       "model_id": "ac198d16e27d4553964e92dbf0a095e2",
       "version_major": 2,
       "version_minor": 0
      },
      "text/plain": [
       "HBox(children=(IntProgress(value=0, bar_style='success'), Label(value='')))"
      ]
     },
     "metadata": {},
     "output_type": "display_data"
    },
    {
     "name": "stdout",
     "output_type": "stream",
     "text": [
      "+--------------------+----+-----+-------+----------+\n",
      "|             country|free|basic|premium|enterprise|\n",
      "+--------------------+----+-----+-------+----------+\n",
      "|         Afghanistan|NULL| NULL|   NULL|         2|\n",
      "|             Albania|   2| NULL|   NULL|      NULL|\n",
      "|             Algeria|NULL|    1|      1|         1|\n",
      "|      American Samoa|NULL|    1|      1|      NULL|\n",
      "|             Andorra|NULL| NULL|   NULL|      NULL|\n",
      "|              Angola|   1|    1|   NULL|      NULL|\n",
      "|            Anguilla|NULL| NULL|      1|         2|\n",
      "|Antarctica (the t...|NULL|    1|      1|         1|\n",
      "| Antigua and Barbuda|NULL| NULL|   NULL|      NULL|\n",
      "|           Argentina|   2| NULL|      1|         1|\n",
      "+--------------------+----+-----+-------+----------+\n",
      "\n",
      "\n",
      "=== Creating Structured View from VARIANT ===\n",
      "\n",
      "✅ Created structured view from VARIANT data\n"
     ]
    },
    {
     "data": {
      "application/vnd.jupyter.widget-view+json": {
       "model_id": "6f19cd82c56c47b4a4cd5c329b2a9592",
       "version_major": 2,
       "version_minor": 0
      },
      "text/plain": [
       "HBox(children=(IntProgress(value=0, bar_style='success'), Label(value='')))"
      ]
     },
     "metadata": {},
     "output_type": "display_data"
    },
    {
     "name": "stdout",
     "output_type": "stream",
     "text": [
      "+--------------------+----------------+--------------------+---+------------------+--------------------+-----------------+--------------------+--------------+\n",
      "|             user_id|            name|               email|age|              city|             country|newsletter_opt_in|        created_date|interest_count|\n",
      "+--------------------+----------------+--------------------+---+------------------+--------------------+-----------------+--------------------+--------------+\n",
      "|656bfd74-052b-45e...| Cheryl Anderson|harrislee@example...| 59|East Michelleville|                Oman|            false|2024-01-21 22:46:...|             5|\n",
      "|5eb0f011-ae02-455...|      John Chase| wtaylor@example.com| 32|         Josephton|               Tonga|            false|2022-03-07 08:04:...|             5|\n",
      "|f91577de-bb69-427...|Brendan Martinez|logananderson@exa...| 37|      Lake Whitney|            Dominica|            false|2021-06-16 08:01:...|             5|\n",
      "|b0d48cd5-df44-45f...| Stephen Meadows|michael55@example...| 57|    East Stephanie|Lao People's Demo...|             true|2021-09-02 13:32:...|             1|\n",
      "|2163b1ef-1b60-47a...| Brent Fernandez|donnamccoy@exampl...| 62|           Kimside|Syrian Arab Republic|            false|2021-11-27 00:27:...|             4|\n",
      "+--------------------+----------------+--------------------+---+------------------+--------------------+-----------------+--------------------+--------------+\n",
      "\n"
     ]
    }
   ],
   "source": [
    "# Pivoting VARIANT data\n",
    "print(\"=== Pivoting VARIANT Data ===\\n\")\n",
    "\n",
    "spark.sql(\"\"\"\n",
    "    WITH subscription_counts AS (\n",
    "        SELECT \n",
    "            CAST(user_data:address.country AS STRING) as country,\n",
    "            CAST(user_data:subscription.tier AS STRING) as subscription_tier,\n",
    "            COUNT(*) as user_count\n",
    "        FROM users_variant\n",
    "        WHERE NOT IS_VARIANT_NULL(user_data:subscription.tier)\n",
    "            AND NOT IS_VARIANT_NULL(user_data:address.country)\n",
    "        GROUP BY country, subscription_tier\n",
    "    )\n",
    "    SELECT * FROM subscription_counts\n",
    "    PIVOT (\n",
    "        SUM(user_count)\n",
    "        FOR subscription_tier IN ('free', 'basic', 'premium', 'enterprise')\n",
    "    )\n",
    "    ORDER BY country\n",
    "    LIMIT 10\n",
    "\"\"\").show()\n",
    "\n",
    "# Creating materialized views from VARIANT data\n",
    "print(\"\\n=== Creating Structured View from VARIANT ===\\n\")\n",
    "\n",
    "spark.sql(\"\"\"\n",
    "    CREATE OR REPLACE TEMPORARY VIEW user_details AS\n",
    "    SELECT \n",
    "        user_id,\n",
    "        CAST(user_data:name AS STRING) as name,\n",
    "        CAST(user_data:email AS STRING) as email,\n",
    "        CAST(user_data:age AS INT) as age,\n",
    "        CAST(user_data:address.city AS STRING) as city,\n",
    "        CAST(user_data:address.country AS STRING) as country,\n",
    "        CAST(user_data:preferences.newsletter AS BOOLEAN) as newsletter_opt_in,\n",
    "        CAST(user_data:created_at AS TIMESTAMP) as created_date,\n",
    "        SIZE(CAST(user_data:profile.interests AS ARRAY<STRING>)) as interest_count\n",
    "    FROM users_variant\n",
    "\"\"\")\n",
    "\n",
    "print(\"✅ Created structured view from VARIANT data\")\n",
    "\n",
    "spark.sql(\"SELECT * FROM user_details LIMIT 5\").show()\n"
   ]
  },
  {
   "cell_type": "markdown",
   "id": "3f02f207",
   "metadata": {},
   "source": [
    "## 12. Cleanup Script\n",
    "\n",
    "This section provides a comprehensive cleanup script to remove all resources created during this exploration.\n"
   ]
  },
  {
   "cell_type": "code",
   "execution_count": 24,
   "id": "39dcdac8",
   "metadata": {},
   "outputs": [
    {
     "name": "stdout",
     "output_type": "stream",
     "text": [
      "🧹 Cleaning up VARIANT exploration resources...\n",
      "✅ Dropped table: users_variant\n",
      "✅ Dropped table: users_extracted\n",
      "✅ Dropped table: variant_optimized\n",
      "✅ Dropped view: user_details\n",
      "✅ Cleaned volume files\n",
      "✅ Reset to main catalog, default schema\n",
      "\n",
      "🎉 Cleanup complete!\n"
     ]
    }
   ],
   "source": [
    "# Cleanup Script - Removes all resources created during VARIANT exploration\n",
    "\n",
    "def cleanup():\n",
    "    \"\"\"Simple cleanup function to remove all created resources\"\"\"\n",
    "    print(\"🧹 Cleaning up VARIANT exploration resources...\")\n",
    "    \n",
    "    # Drop tables\n",
    "    tables = ['users_variant', 'users_extracted', 'variant_optimized']\n",
    "    for table in tables:\n",
    "        spark.sql(f\"DROP TABLE IF EXISTS {table}\")\n",
    "        print(f\"✅ Dropped table: {table}\")\n",
    "    \n",
    "    # Drop views\n",
    "    spark.sql(\"DROP VIEW IF EXISTS user_details\")\n",
    "    print(\"✅ Dropped view: user_details\")\n",
    "    \n",
    "    # Clean volume files\n",
    "    users_folder = f\"/Volumes/{CATALOG}/{SCHEMA}/{VOLUME}/users\"\n",
    "    try:\n",
    "        dbutils.fs.rm(users_folder, recurse=True)\n",
    "        print(\"✅ Cleaned volume files\")\n",
    "    except:\n",
    "        print(\"⚠️  Volume files may not exist\")\n",
    "    \n",
    "    # Reset to default catalog/schema\n",
    "    spark.sql(\"USE CATALOG main\")\n",
    "    spark.sql(\"USE SCHEMA default\")\n",
    "    print(\"✅ Reset to main catalog, default schema\")\n",
    "    \n",
    "    print(\"\\n🎉 Cleanup complete!\")\n",
    "\n",
    "# Run cleanup\n",
    "cleanup()\n"
   ]
  },
  {
   "cell_type": "code",
   "execution_count": 25,
   "id": "49e7acf8",
   "metadata": {},
   "outputs": [],
   "source": [
    "# Optional: Individual cleanup functions\n",
    "\n",
    "# def drop_tables_only():\n",
    "#     \"\"\"Drop only the tables\"\"\"\n",
    "#     tables = ['users_variant', 'users_extracted', 'variant_optimized']\n",
    "#     for table in tables:\n",
    "#         spark.sql(f\"DROP TABLE IF EXISTS {table}\")\n",
    "#         print(f\"✅ Dropped {table}\")\n",
    "\n",
    "# def clean_volume_only():\n",
    "#     \"\"\"Clean only the volume files\"\"\"\n",
    "#     dbutils.fs.rm(f\"/Volumes/{CATALOG}/{SCHEMA}/{VOLUME}/users\", recurse=True)\n",
    "#     print(\"✅ Cleaned volume files\")\n",
    "\n",
    "# Usage:\n",
    "# cleanup()           # Full cleanup (already run above)\n",
    "# drop_tables_only()  # Drop only tables\n",
    "# clean_volume_only() # Clean only volume files\n"
   ]
  }
 ],
 "metadata": {
  "kernelspec": {
   "display_name": "base",
   "language": "python",
   "name": "python3"
  },
  "language_info": {
   "codemirror_mode": {
    "name": "ipython",
    "version": 3
   },
   "file_extension": ".py",
   "mimetype": "text/x-python",
   "name": "python",
   "nbconvert_exporter": "python",
   "pygments_lexer": "ipython3",
   "version": "3.12.7"
  }
 },
 "nbformat": 4,
 "nbformat_minor": 5
}
